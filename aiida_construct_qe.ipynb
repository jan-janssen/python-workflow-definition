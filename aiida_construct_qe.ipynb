{
 "cells": [
  {
   "cell_type": "code",
   "execution_count": null,
   "metadata": {},
   "outputs": [
    {
     "data": {
      "application/vnd.jupyter.widget-view+json": {
       "model_id": "6ceb52a0b9214de581db029e348d7ba4",
       "version_major": 2,
       "version_minor": 1
      },
      "text/plain": [
       "NodeGraphWidget(settings={'minimap': True}, style={'width': '90%', 'height': '600px'}, value={'name': 'WorkGra…"
      ]
     },
     "execution_count": 2,
     "metadata": {},
     "output_type": "execute_result"
    }
   ],
   "source": [
    "# import json\n",
    "# from aiida import load_profile\n",
    "# from quantum_espresso_workflow import (\n",
    "#     get_bulk_structure,\n",
    "#     calculate_qe,\n",
    "#     plot_energy_volume_curve,\n",
    "# )\n",
    "\n",
    "# # from python_workflow_definition.pyiron_base import  get_dict\n",
    "# from aiida_workgraph import WorkGraph, task\n",
    "# from typing import Any\n",
    "\n",
    "# load_profile()\n",
    "\n",
    "\n",
    "# # from python_workflow_definition.base\n",
    "# @task.pythonjob()\n",
    "# def get_list(**kwargs):\n",
    "#     return list(kwargs.values())\n",
    "\n",
    "\n",
    "# # from python_workflow_definition.base\n",
    "# @task.pythonjob()\n",
    "# def get_dict(**kwargs):\n",
    "#     return {k: v for k, v in kwargs.items()}\n",
    "\n",
    "\n",
    "# # -------------------------------------------------------------\n",
    "# # These is the helper functions for the WorkGraph onlly\n",
    "# @task.pythonjob()\n",
    "# def pickle_node(value):\n",
    "#     \"\"\"Handle data nodes\"\"\"\n",
    "#     return value\n",
    "\n",
    "\n",
    "# get_bulk_structure_task = task.pythonjob()(get_bulk_structure)\n",
    "# generate_structures_task = task.pythonjob()(generate_structures)\n",
    "# calculate_qe_task = task.pythonjob(outputs=[\"energy\", \"volume\", \"structure\"])(\n",
    "#     calculate_qe\n",
    "# )\n",
    "# plot_energy_volume_curve_task = task.pythonjob()(plot_energy_volume_curve)\n",
    "\n",
    "# strain_lst = [0.9, 0.95, 1.0, 1.05, 1.1]\n",
    "# wg = WorkGraph()\n",
    "# wg.add_task(\n",
    "#     get_bulk_structure_task,\n",
    "#     name=\"bulk\",\n",
    "#     element=\"Al\",\n",
    "#     a=4.05,\n",
    "#     cubic=True,\n",
    "#     register_pickle_by_value=True,\n",
    "# )\n",
    "# wg.add_task(pickle_node, name=\"calculation\", value=\"vc-relax\")\n",
    "# wg.add_task(pickle_node, name=\"kpts\", value=[3, 3, 3])\n",
    "# wg.add_task(\n",
    "#     pickle_node, name=\"pseudopotentials\", value={\"Al\": \"Al.pbe-n-kjpaw_psl.1.0.0.UPF\"}\n",
    "# )\n",
    "# wg.add_task(pickle_node, name=\"smearing\", value=0.02)\n",
    "# wg.add_task(\n",
    "#     get_dict,\n",
    "#     name=\"get_dict\",\n",
    "#     structure=wg.tasks.bulk.outputs.result,\n",
    "#     calculation=wg.tasks.calculation.outputs.result,\n",
    "#     kpts=wg.tasks.kpts.outputs.result,\n",
    "#     pseudopotentials=wg.tasks.pseudopotentials.outputs.result,\n",
    "#     smearing=wg.tasks.smearing.outputs.result,\n",
    "#     register_pickle_by_value=True,\n",
    "# )\n",
    "# wg.add_task(\n",
    "#     calculate_qe_task,\n",
    "#     name=f\"relax\",\n",
    "#     input_dict=wg.tasks.get_dict.outputs.result,\n",
    "#     working_directory=\"mini\",\n",
    "#     register_pickle_by_value=True,\n",
    "# )\n",
    "# wg.add_task(\n",
    "#     generate_structures_task,\n",
    "#     name=\"generate_structures\",\n",
    "#     structure=wg.tasks.relax.outputs.structure,\n",
    "#     strain_lst=strain_lst,\n",
    "#     register_pickle_by_value=True,\n",
    "# )\n",
    "# # here we add the structure outputs based on the number of strains\n",
    "# del wg.tasks.generate_structures.outputs[\"result\"]\n",
    "# for i in range(len(strain_lst)):\n",
    "#     wg.tasks.generate_structures.add_output(\"workgraph.any\", f\"s_{i}\")\n",
    "# wg.add_task(get_list, name=\"get_energies\", register_pickle_by_value=True)\n",
    "# wg.add_task(get_list, name=\"get_volumes\", register_pickle_by_value=True)\n",
    "# wg.add_task(pickle_node, name=\"calculation_scf\", value=\"scf\")\n",
    "# for i, strain in enumerate(strain_lst):\n",
    "#     get_dict_task = wg.add_task(\n",
    "#         get_dict,\n",
    "#         name=f\"get_dict_{i}\",\n",
    "#         calculation=wg.tasks.calculation_scf.outputs.result,\n",
    "#         structure=wg.tasks.generate_structures.outputs[f\"s_{i}\"],\n",
    "#         kpts=wg.tasks.kpts.outputs.result,\n",
    "#         pseudopotentials=wg.tasks.pseudopotentials.outputs.result,\n",
    "#         smearing=wg.tasks.smearing.outputs.result,\n",
    "#         register_pickle_by_value=True,\n",
    "#     )\n",
    "#     qe_task = wg.add_task(\n",
    "#         calculate_qe_task,\n",
    "#         name=f\"qe_{i}\",\n",
    "#         input_dict=get_dict_task.outputs.result,\n",
    "#         working_directory=f\"strain_{i}\",\n",
    "#         register_pickle_by_value=True,\n",
    "#     )\n",
    "#     # collect energy and volume\n",
    "#     wg.add_link(qe_task.outputs.energy, wg.tasks.get_energies.inputs.kwargs)\n",
    "#     wg.add_link(qe_task.outputs.volume, wg.tasks.get_volumes.inputs.kwargs)\n",
    "\n",
    "# wg.add_task(\n",
    "#     plot_energy_volume_curve_task,\n",
    "#     volume_lst=wg.tasks.get_volumes.outputs.result,\n",
    "#     energy_lst=wg.tasks.get_energies.outputs.result,\n",
    "#     register_pickle_by_value=True,\n",
    "# )\n",
    "# wg\n",
    "# # wg.to_html()\n"
   ]
  },
  {
   "cell_type": "code",
   "execution_count": null,
   "metadata": {},
   "outputs": [
    {
     "data": {
      "application/vnd.jupyter.widget-view+json": {
       "model_id": "45ee1d0b9e64462889172452b33d44ab",
       "version_major": 2,
       "version_minor": 1
      },
      "text/plain": [
       "NodeGraphWidget(settings={'minimap': True}, style={'width': '90%', 'height': '600px'}, value={'name': 'WorkGra…"
      ]
     },
     "execution_count": 1,
     "metadata": {},
     "output_type": "execute_result"
    }
   ],
   "source": [
    "from aiida import load_profile\n",
    "from quantum_espresso_workflow import (\n",
    "    generate_structures,\n",
    "    get_bulk_structure,\n",
    "    calculate_qe,\n",
    "    plot_energy_volume_curve,\n",
    ")\n",
    "\n",
    "from python_workflow_definition.aiida import get_list, get_dict, pickle_node, construct_wg_qe\n",
    "\n",
    "# from python_workflow_definition.pyiron_base import  get_dict\n",
    "from aiida_workgraph import WorkGraph, task\n",
    "from typing import Any\n",
    "\n",
    "load_profile()\n",
    "\n",
    "get_list_task = task.pythonjob(get_list)\n",
    "get_dict_task = task.pythonjob(get_dict)\n",
    "pickle_node_task = task.pythonjob(pickle_node)\n",
    "get_bulk_structure_task = task.pythonjob()(get_bulk_structure)\n",
    "generate_structures_task = task.pythonjob()(generate_structures)\n",
    "calculate_qe_task = task.pythonjob(outputs=[\"energy\", \"volume\", \"structure\"])(\n",
    "    calculate_qe\n",
    ")\n",
    "plot_energy_volume_curve_task = task.pythonjob()(plot_energy_volume_curve)\n",
    "\n",
    "strain_lst = [0.9, 0.95, 1.0, 1.05, 1.1]\n",
    "\n",
    "wg = construct_wg_qe(\n",
    "    get_dict_task=get_dict_task,\n",
    "    get_list_task=get_list_task,\n",
    "    pickle_node_task=pickle_node_task,\n",
    "    get_bulk_structure_task=get_bulk_structure_task,\n",
    "    calculate_qe_task=calculate_qe_task,\n",
    "    generate_structures_task=generate_structures_task,\n",
    "    plot_energy_volume_curve_task=plot_energy_volume_curve_task,\n",
    "    strain_lst=strain_lst\n",
    ")\n",
    "\n",
    "wg\n",
    "# wg.to_html()\n"
   ]
  },
  {
   "cell_type": "code",
   "execution_count": 3,
   "metadata": {},
   "outputs": [
    {
     "name": "stderr",
     "output_type": "stream",
     "text": [
      "/home/geiger_j/.aiida_venvs/adis/lib/python3.10/site-packages/aiida/storage/psql_dos/orm/querybuilder/main.py:182: SAWarning: Object of type <DbNode> not in session, add operation along 'DbUser.dbnodes' will not proceed (This warning originated from the Session 'autoflush' process, which was invoked automatically in response to a user-initiated operation.)\n",
      "  result = build.query.count()\n",
      "03/17/2025 06:48:22 AM <3377989> aiida.orm.nodes.process.workflow.workchain.WorkChainNode: [REPORT] [8137|WorkGraphEngine|continue_workgraph]: Continue workgraph.\n",
      "03/17/2025 06:48:23 AM <3377989> aiida.orm.nodes.process.workflow.workchain.WorkChainNode: [REPORT] [8137|WorkGraphEngine|continue_workgraph]: tasks ready to run: bulk,kpts,smearing,calculation,calculation_scf,pseudopotentials\n",
      "03/17/2025 06:48:23 AM <3377989> aiida.orm.nodes.process.workflow.workchain.WorkChainNode: [REPORT] [8137|WorkGraphEngine|run_tasks]: Run task: bulk, type: PYTHONJOB\n",
      "/home/geiger_j/.aiida_venvs/adis/lib/python3.10/site-packages/aiida/storage/psql_dos/backend.py:271: SAWarning: Object of type <DbNode> not in session, add operation along 'DbUser.dbnodes' will not proceed\n",
      "  with session.begin_nested() as savepoint:\n",
      "/home/geiger_j/.aiida_venvs/adis/lib/python3.10/site-packages/aiida/storage/psql_dos/orm/utils.py:84: SAWarning: Object of type <DbNode> not in session, add operation along 'DbUser.dbnodes' will not proceed (This warning originated from the Session 'autoflush' process, which was invoked automatically in response to a user-initiated operation.)\n",
      "  return getattr(self._model, item)\n",
      "/home/geiger_j/.aiida_venvs/adis/lib/python3.10/site-packages/aiida/storage/psql_dos/backend.py:271: SAWarning: Object of type <DbNode> not in session, add operation along 'DbUser.dbnodes' will not proceed\n",
      "  with session.begin_nested() as savepoint:\n"
     ]
    },
    {
     "name": "stdout",
     "output_type": "stream",
     "text": [
      "------------------------------------------------------------\n",
      "kwargs:  {'a': 4.05, 'cubic': True, 'element': 'Al', 'register_pickle_by_value': True}\n"
     ]
    },
    {
     "name": "stderr",
     "output_type": "stream",
     "text": [
      "/home/geiger_j/.aiida_venvs/adis/lib/python3.10/site-packages/aiida/storage/psql_dos/orm/nodes.py:224: SAWarning: Object of type <DbNode> not in session, add operation along 'DbComputer.dbnodes' will not proceed\n",
      "  session.commit()\n",
      "03/17/2025 06:48:25 AM <3377989> aiida.orm.nodes.process.workflow.workchain.WorkChainNode: [REPORT] [8137|WorkGraphEngine|run_tasks]: Run task: kpts, type: PYTHONJOB\n"
     ]
    },
    {
     "name": "stdout",
     "output_type": "stream",
     "text": [
      "------------------------------------------------------------\n",
      "kwargs:  {'value': [3, 3, 3]}\n"
     ]
    },
    {
     "name": "stderr",
     "output_type": "stream",
     "text": [
      "/home/geiger_j/.aiida_venvs/adis/lib/python3.10/site-packages/aiida/storage/psql_dos/backend.py:271: SAWarning: Object of type <DbNode> not in session, add operation along 'DbUser.dbnodes' will not proceed\n",
      "  with session.begin_nested() as savepoint:\n",
      "/home/geiger_j/.aiida_venvs/adis/lib/python3.10/site-packages/aiida/storage/psql_dos/orm/utils.py:84: SAWarning: Object of type <DbNode> not in session, add operation along 'DbUser.dbnodes' will not proceed (This warning originated from the Session 'autoflush' process, which was invoked automatically in response to a user-initiated operation.)\n",
      "  return getattr(self._model, item)\n",
      "/home/geiger_j/.aiida_venvs/adis/lib/python3.10/site-packages/aiida/storage/psql_dos/backend.py:271: SAWarning: Object of type <DbNode> not in session, add operation along 'DbUser.dbnodes' will not proceed\n",
      "  with session.begin_nested() as savepoint:\n",
      "/home/geiger_j/.aiida_venvs/adis/lib/python3.10/site-packages/aiida/storage/psql_dos/orm/nodes.py:224: SAWarning: Object of type <DbNode> not in session, add operation along 'DbComputer.dbnodes' will not proceed\n",
      "  session.commit()\n",
      "03/17/2025 06:48:26 AM <3377989> aiida.orm.nodes.process.workflow.workchain.WorkChainNode: [REPORT] [8137|WorkGraphEngine|run_tasks]: Run task: smearing, type: PYTHONJOB\n"
     ]
    },
    {
     "name": "stdout",
     "output_type": "stream",
     "text": [
      "------------------------------------------------------------\n",
      "kwargs:  {'value': 0.02}\n"
     ]
    },
    {
     "name": "stderr",
     "output_type": "stream",
     "text": [
      "/home/geiger_j/.aiida_venvs/adis/lib/python3.10/site-packages/aiida/storage/psql_dos/backend.py:271: SAWarning: Object of type <DbNode> not in session, add operation along 'DbUser.dbnodes' will not proceed\n",
      "  with session.begin_nested() as savepoint:\n",
      "/home/geiger_j/.aiida_venvs/adis/lib/python3.10/site-packages/aiida/storage/psql_dos/orm/utils.py:84: SAWarning: Object of type <DbNode> not in session, add operation along 'DbUser.dbnodes' will not proceed (This warning originated from the Session 'autoflush' process, which was invoked automatically in response to a user-initiated operation.)\n",
      "  return getattr(self._model, item)\n",
      "/home/geiger_j/.aiida_venvs/adis/lib/python3.10/site-packages/aiida/storage/psql_dos/backend.py:271: SAWarning: Object of type <DbNode> not in session, add operation along 'DbUser.dbnodes' will not proceed\n",
      "  with session.begin_nested() as savepoint:\n",
      "/home/geiger_j/.aiida_venvs/adis/lib/python3.10/site-packages/aiida/storage/psql_dos/orm/nodes.py:224: SAWarning: Object of type <DbNode> not in session, add operation along 'DbComputer.dbnodes' will not proceed\n",
      "  session.commit()\n",
      "03/17/2025 06:48:27 AM <3377989> aiida.orm.nodes.process.workflow.workchain.WorkChainNode: [REPORT] [8137|WorkGraphEngine|run_tasks]: Run task: calculation, type: PYTHONJOB\n"
     ]
    },
    {
     "name": "stdout",
     "output_type": "stream",
     "text": [
      "------------------------------------------------------------\n",
      "kwargs:  {'value': 'vc-relax'}\n"
     ]
    },
    {
     "name": "stderr",
     "output_type": "stream",
     "text": [
      "/home/geiger_j/.aiida_venvs/adis/lib/python3.10/site-packages/aiida/storage/psql_dos/backend.py:271: SAWarning: Object of type <DbNode> not in session, add operation along 'DbUser.dbnodes' will not proceed\n",
      "  with session.begin_nested() as savepoint:\n",
      "/home/geiger_j/.aiida_venvs/adis/lib/python3.10/site-packages/aiida/storage/psql_dos/orm/utils.py:84: SAWarning: Object of type <DbNode> not in session, add operation along 'DbUser.dbnodes' will not proceed (This warning originated from the Session 'autoflush' process, which was invoked automatically in response to a user-initiated operation.)\n",
      "  return getattr(self._model, item)\n",
      "/home/geiger_j/.aiida_venvs/adis/lib/python3.10/site-packages/aiida/storage/psql_dos/backend.py:271: SAWarning: Object of type <DbNode> not in session, add operation along 'DbUser.dbnodes' will not proceed\n",
      "  with session.begin_nested() as savepoint:\n",
      "/home/geiger_j/.aiida_venvs/adis/lib/python3.10/site-packages/aiida/storage/psql_dos/orm/nodes.py:224: SAWarning: Object of type <DbNode> not in session, add operation along 'DbComputer.dbnodes' will not proceed\n",
      "  session.commit()\n",
      "03/17/2025 06:48:29 AM <3377989> aiida.orm.nodes.process.workflow.workchain.WorkChainNode: [REPORT] [8137|WorkGraphEngine|run_tasks]: Run task: calculation_scf, type: PYTHONJOB\n"
     ]
    },
    {
     "name": "stdout",
     "output_type": "stream",
     "text": [
      "------------------------------------------------------------\n",
      "kwargs:  {'value': 'scf'}\n"
     ]
    },
    {
     "name": "stderr",
     "output_type": "stream",
     "text": [
      "/home/geiger_j/.aiida_venvs/adis/lib/python3.10/site-packages/aiida/storage/psql_dos/backend.py:271: SAWarning: Object of type <DbNode> not in session, add operation along 'DbUser.dbnodes' will not proceed\n",
      "  with session.begin_nested() as savepoint:\n",
      "/home/geiger_j/.aiida_venvs/adis/lib/python3.10/site-packages/aiida/storage/psql_dos/orm/utils.py:84: SAWarning: Object of type <DbNode> not in session, add operation along 'DbUser.dbnodes' will not proceed (This warning originated from the Session 'autoflush' process, which was invoked automatically in response to a user-initiated operation.)\n",
      "  return getattr(self._model, item)\n",
      "/home/geiger_j/.aiida_venvs/adis/lib/python3.10/site-packages/aiida/storage/psql_dos/backend.py:271: SAWarning: Object of type <DbNode> not in session, add operation along 'DbUser.dbnodes' will not proceed\n",
      "  with session.begin_nested() as savepoint:\n",
      "/home/geiger_j/.aiida_venvs/adis/lib/python3.10/site-packages/aiida/storage/psql_dos/orm/nodes.py:224: SAWarning: Object of type <DbNode> not in session, add operation along 'DbComputer.dbnodes' will not proceed\n",
      "  session.commit()\n",
      "03/17/2025 06:48:30 AM <3377989> aiida.orm.nodes.process.workflow.workchain.WorkChainNode: [REPORT] [8137|WorkGraphEngine|run_tasks]: Run task: pseudopotentials, type: PYTHONJOB\n"
     ]
    },
    {
     "name": "stdout",
     "output_type": "stream",
     "text": [
      "------------------------------------------------------------\n",
      "kwargs:  {'value': {'Al': 'Al.pbe-n-kjpaw_psl.1.0.0.UPF'}}\n"
     ]
    },
    {
     "name": "stderr",
     "output_type": "stream",
     "text": [
      "/home/geiger_j/.aiida_venvs/adis/lib/python3.10/site-packages/aiida/storage/psql_dos/backend.py:271: SAWarning: Object of type <DbNode> not in session, add operation along 'DbUser.dbnodes' will not proceed\n",
      "  with session.begin_nested() as savepoint:\n",
      "/home/geiger_j/.aiida_venvs/adis/lib/python3.10/site-packages/aiida/storage/psql_dos/orm/utils.py:84: SAWarning: Object of type <DbNode> not in session, add operation along 'DbUser.dbnodes' will not proceed (This warning originated from the Session 'autoflush' process, which was invoked automatically in response to a user-initiated operation.)\n",
      "  return getattr(self._model, item)\n",
      "/home/geiger_j/.aiida_venvs/adis/lib/python3.10/site-packages/aiida/storage/psql_dos/backend.py:271: SAWarning: Object of type <DbNode> not in session, add operation along 'DbUser.dbnodes' will not proceed\n",
      "  with session.begin_nested() as savepoint:\n",
      "/home/geiger_j/.aiida_venvs/adis/lib/python3.10/site-packages/aiida/storage/psql_dos/orm/nodes.py:224: SAWarning: Object of type <DbNode> not in session, add operation along 'DbComputer.dbnodes' will not proceed\n",
      "  session.commit()\n",
      "03/17/2025 06:48:32 AM <3377989> aiida.orm.nodes.process.workflow.workchain.WorkChainNode: [REPORT] [8137|WorkGraphEngine|on_wait]: Process status: Waiting for child processes: 8147, 8155, 8163, 8171, 8179, 8187\n",
      "/home/geiger_j/.aiida_venvs/adis/lib/python3.10/site-packages/aiida/storage/psql_dos/orm/utils.py:84: SAWarning: Object of type <DbNode> not in session, add operation along 'DbUser.dbnodes' will not proceed (This warning originated from the Session 'autoflush' process, which was invoked automatically in response to a user-initiated operation.)\n",
      "  return getattr(self._model, item)\n",
      "/home/geiger_j/.aiida_venvs/adis/lib/python3.10/site-packages/aiida/storage/psql_dos/orm/utils.py:84: SAWarning: Object of type <DbNode> not in session, add operation along 'DbComputer.dbnodes' will not proceed (This warning originated from the Session 'autoflush' process, which was invoked automatically in response to a user-initiated operation.)\n",
      "  return getattr(self._model, item)\n",
      "/home/geiger_j/.aiida_venvs/adis/lib/python3.10/site-packages/aiida/storage/psql_dos/orm/utils.py:84: SAWarning: Object of type <DbNode> not in session, add operation along 'DbUser.dbnodes' will not proceed (This warning originated from the Session 'autoflush' process, which was invoked automatically in response to a user-initiated operation.)\n",
      "  return getattr(self._model, item)\n",
      "/home/geiger_j/.aiida_venvs/adis/lib/python3.10/site-packages/aiida/storage/psql_dos/orm/utils.py:84: SAWarning: Object of type <DbNode> not in session, add operation along 'DbComputer.dbnodes' will not proceed (This warning originated from the Session 'autoflush' process, which was invoked automatically in response to a user-initiated operation.)\n",
      "  return getattr(self._model, item)\n",
      "/home/geiger_j/.aiida_venvs/adis/lib/python3.10/site-packages/aiida/storage/psql_dos/orm/utils.py:84: SAWarning: Object of type <DbNode> not in session, add operation along 'DbUser.dbnodes' will not proceed (This warning originated from the Session 'autoflush' process, which was invoked automatically in response to a user-initiated operation.)\n",
      "  return getattr(self._model, item)\n",
      "/home/geiger_j/.aiida_venvs/adis/lib/python3.10/site-packages/aiida/storage/psql_dos/orm/utils.py:84: SAWarning: Object of type <DbNode> not in session, add operation along 'DbComputer.dbnodes' will not proceed (This warning originated from the Session 'autoflush' process, which was invoked automatically in response to a user-initiated operation.)\n",
      "  return getattr(self._model, item)\n",
      "/home/geiger_j/.aiida_venvs/adis/lib/python3.10/site-packages/aiida/storage/psql_dos/orm/utils.py:84: SAWarning: Object of type <DbNode> not in session, add operation along 'DbUser.dbnodes' will not proceed (This warning originated from the Session 'autoflush' process, which was invoked automatically in response to a user-initiated operation.)\n",
      "  return getattr(self._model, item)\n",
      "/home/geiger_j/.aiida_venvs/adis/lib/python3.10/site-packages/aiida/storage/psql_dos/orm/utils.py:84: SAWarning: Object of type <DbNode> not in session, add operation along 'DbComputer.dbnodes' will not proceed (This warning originated from the Session 'autoflush' process, which was invoked automatically in response to a user-initiated operation.)\n",
      "  return getattr(self._model, item)\n",
      "/home/geiger_j/.aiida_venvs/adis/lib/python3.10/site-packages/aiida/storage/psql_dos/orm/utils.py:84: SAWarning: Object of type <DbNode> not in session, add operation along 'DbUser.dbnodes' will not proceed (This warning originated from the Session 'autoflush' process, which was invoked automatically in response to a user-initiated operation.)\n",
      "  return getattr(self._model, item)\n",
      "/home/geiger_j/.aiida_venvs/adis/lib/python3.10/site-packages/aiida/storage/psql_dos/orm/utils.py:84: SAWarning: Object of type <DbNode> not in session, add operation along 'DbComputer.dbnodes' will not proceed (This warning originated from the Session 'autoflush' process, which was invoked automatically in response to a user-initiated operation.)\n",
      "  return getattr(self._model, item)\n",
      "/home/geiger_j/.aiida_venvs/adis/lib/python3.10/site-packages/aiida/storage/psql_dos/orm/utils.py:84: SAWarning: Object of type <DbNode> not in session, add operation along 'DbUser.dbnodes' will not proceed (This warning originated from the Session 'autoflush' process, which was invoked automatically in response to a user-initiated operation.)\n",
      "  return getattr(self._model, item)\n",
      "/home/geiger_j/.aiida_venvs/adis/lib/python3.10/site-packages/aiida/storage/psql_dos/orm/utils.py:84: SAWarning: Object of type <DbNode> not in session, add operation along 'DbComputer.dbnodes' will not proceed (This warning originated from the Session 'autoflush' process, which was invoked automatically in response to a user-initiated operation.)\n",
      "  return getattr(self._model, item)\n",
      "/home/geiger_j/.aiida_venvs/adis/lib/python3.10/site-packages/aiida/storage/psql_dos/orm/utils.py:84: SAWarning: Object of type <DbNode> not in session, add operation along 'DbUser.dbnodes' will not proceed (This warning originated from the Session 'autoflush' process, which was invoked automatically in response to a user-initiated operation.)\n",
      "  return getattr(self._model, item)\n",
      "03/17/2025 06:48:42 AM <3377989> aiida.orm.nodes.process.workflow.workchain.WorkChainNode: [REPORT] [8137|WorkGraphEngine|update_task_state]: Task: bulk finished.\n",
      "03/17/2025 06:48:46 AM <3377989> aiida.orm.nodes.process.workflow.workchain.WorkChainNode: [REPORT] [8137|WorkGraphEngine|continue_workgraph]: Continue workgraph.\n",
      "03/17/2025 06:48:47 AM <3377989> aiida.orm.nodes.process.workflow.workchain.WorkChainNode: [REPORT] [8137|WorkGraphEngine|continue_workgraph]: tasks ready to run: \n",
      "03/17/2025 06:48:48 AM <3377989> aiida.orm.nodes.process.workflow.workchain.WorkChainNode: [REPORT] [8137|WorkGraphEngine|on_wait]: Process status: Waiting for child processes: 8155, 8163, 8171, 8179, 8187\n",
      "/home/geiger_j/.aiida_venvs/adis/lib/python3.10/site-packages/aiida/storage/psql_dos/orm/utils.py:84: SAWarning: Object of type <DbNode> not in session, add operation along 'DbUser.dbnodes' will not proceed (This warning originated from the Session 'autoflush' process, which was invoked automatically in response to a user-initiated operation.)\n",
      "  return getattr(self._model, item)\n",
      "/home/geiger_j/.aiida_venvs/adis/lib/python3.10/site-packages/aiida/storage/psql_dos/orm/utils.py:84: SAWarning: Object of type <DbNode> not in session, add operation along 'DbUser.dbnodes' will not proceed (This warning originated from the Session 'autoflush' process, which was invoked automatically in response to a user-initiated operation.)\n",
      "  return getattr(self._model, item)\n",
      "/home/geiger_j/.aiida_venvs/adis/lib/python3.10/site-packages/aiida/storage/psql_dos/orm/utils.py:84: SAWarning: Object of type <DbNode> not in session, add operation along 'DbUser.dbnodes' will not proceed (This warning originated from the Session 'autoflush' process, which was invoked automatically in response to a user-initiated operation.)\n",
      "  return getattr(self._model, item)\n",
      "/home/geiger_j/.aiida_venvs/adis/lib/python3.10/site-packages/aiida/storage/psql_dos/orm/utils.py:84: SAWarning: Object of type <DbNode> not in session, add operation along 'DbUser.dbnodes' will not proceed (This warning originated from the Session 'autoflush' process, which was invoked automatically in response to a user-initiated operation.)\n",
      "  return getattr(self._model, item)\n",
      "/home/geiger_j/.aiida_venvs/adis/lib/python3.10/site-packages/aiida/storage/psql_dos/orm/utils.py:84: SAWarning: Object of type <DbNode> not in session, add operation along 'DbUser.dbnodes' will not proceed (This warning originated from the Session 'autoflush' process, which was invoked automatically in response to a user-initiated operation.)\n",
      "  return getattr(self._model, item)\n",
      "03/17/2025 06:48:55 AM <3377989> aiida.orm.nodes.process.workflow.workchain.WorkChainNode: [REPORT] [8137|WorkGraphEngine|update_task_state]: Task: kpts finished.\n",
      "03/17/2025 06:48:56 AM <3377989> aiida.orm.nodes.process.workflow.workchain.WorkChainNode: [REPORT] [8137|WorkGraphEngine|update_task_state]: Task: smearing finished.\n",
      "03/17/2025 06:48:57 AM <3377989> aiida.orm.nodes.process.workflow.workchain.WorkChainNode: [REPORT] [8137|WorkGraphEngine|update_task_state]: Task: calculation finished.\n",
      "03/17/2025 06:48:57 AM <3377989> aiida.orm.nodes.process.workflow.workchain.WorkChainNode: [REPORT] [8137|WorkGraphEngine|update_task_state]: Task: calculation_scf finished.\n",
      "03/17/2025 06:48:58 AM <3377989> aiida.orm.nodes.process.workflow.workchain.WorkChainNode: [REPORT] [8137|WorkGraphEngine|update_task_state]: Task: pseudopotentials finished.\n",
      "03/17/2025 06:49:02 AM <3377989> aiida.orm.nodes.process.workflow.workchain.WorkChainNode: [REPORT] [8137|WorkGraphEngine|continue_workgraph]: Continue workgraph.\n",
      "03/17/2025 06:49:03 AM <3377989> aiida.orm.nodes.process.workflow.workchain.WorkChainNode: [REPORT] [8137|WorkGraphEngine|continue_workgraph]: tasks ready to run: get_dict\n",
      "03/17/2025 06:49:03 AM <3377989> aiida.orm.nodes.process.workflow.workchain.WorkChainNode: [REPORT] [8137|WorkGraphEngine|run_tasks]: Run task: get_dict, type: PYTHONJOB\n"
     ]
    },
    {
     "name": "stdout",
     "output_type": "stream",
     "text": [
      "------------------------------------------------------------\n",
      "kwargs:  {'calculation': <Str: uuid: ac22a9cc-c71f-404a-a4b3-535f6af90a61 (pk: 8209) value: vc-relax>, 'kpts': <List: uuid: 3f244364-fb14-48b6-ac6d-8ccf286ac17c (pk: 8207) value: [3, 3, 3]>, 'pseudopotentials': <PickledData: uuid: 9c1dac2e-66bc-4bfd-a2e8-a10a124f9103 (pk: 8211) : {'Al': 'Al.pbe-n-kjpaw_psl.1.0.0.UPF'}>, 'register_pickle_by_value': True, 'smearing': <Float: uuid: eb8d9278-42a5-4bc3-a7af-ba92a8475c2a (pk: 8208) value: 0.02>, 'structure': <PickledData: uuid: ce60d01d-2157-459e-a9c5-553fb20a3ab5 (pk: 8201) : {'numbers': [13, 13, 13, 13], 'positions': [[0.0, 0.0, 0.0], [0.0, 2.025, 2.025], [2.025, 0.0, 2.025], [2.025, 2.025, 0.0]], 'cell': [[4.05, 0.0, 0.0], [0.0, 4.05, 0.0], [0.0, 0.0, 4.05]], 'pbc': [True, True, True]}>}\n"
     ]
    },
    {
     "name": "stderr",
     "output_type": "stream",
     "text": [
      "/home/geiger_j/.aiida_venvs/adis/lib/python3.10/site-packages/aiida/storage/psql_dos/backend.py:271: SAWarning: Object of type <DbNode> not in session, add operation along 'DbUser.dbnodes' will not proceed\n",
      "  with session.begin_nested() as savepoint:\n",
      "/home/geiger_j/.aiida_venvs/adis/lib/python3.10/site-packages/aiida/storage/psql_dos/orm/utils.py:84: SAWarning: Object of type <DbNode> not in session, add operation along 'DbUser.dbnodes' will not proceed (This warning originated from the Session 'autoflush' process, which was invoked automatically in response to a user-initiated operation.)\n",
      "  return getattr(self._model, item)\n",
      "/home/geiger_j/.aiida_venvs/adis/lib/python3.10/site-packages/aiida/storage/psql_dos/backend.py:271: SAWarning: Object of type <DbNode> not in session, add operation along 'DbUser.dbnodes' will not proceed\n",
      "  with session.begin_nested() as savepoint:\n",
      "/home/geiger_j/.aiida_venvs/adis/lib/python3.10/site-packages/aiida/storage/psql_dos/orm/nodes.py:224: SAWarning: Object of type <DbNode> not in session, add operation along 'DbComputer.dbnodes' will not proceed\n",
      "  session.commit()\n",
      "03/17/2025 06:49:06 AM <3377989> aiida.orm.nodes.process.workflow.workchain.WorkChainNode: [REPORT] [8137|WorkGraphEngine|on_wait]: Process status: Waiting for child processes: 8218\n",
      "/home/geiger_j/.aiida_venvs/adis/lib/python3.10/site-packages/aiida/storage/psql_dos/orm/utils.py:84: SAWarning: Object of type <DbNode> not in session, add operation along 'DbUser.dbnodes' will not proceed (This warning originated from the Session 'autoflush' process, which was invoked automatically in response to a user-initiated operation.)\n",
      "  return getattr(self._model, item)\n",
      "/home/geiger_j/.aiida_venvs/adis/lib/python3.10/site-packages/aiida/storage/psql_dos/orm/utils.py:84: SAWarning: Object of type <DbNode> not in session, add operation along 'DbComputer.dbnodes' will not proceed (This warning originated from the Session 'autoflush' process, which was invoked automatically in response to a user-initiated operation.)\n",
      "  return getattr(self._model, item)\n",
      "/home/geiger_j/.aiida_venvs/adis/lib/python3.10/site-packages/aiida/storage/psql_dos/orm/utils.py:84: SAWarning: Object of type <DbNode> not in session, add operation along 'DbUser.dbnodes' will not proceed (This warning originated from the Session 'autoflush' process, which was invoked automatically in response to a user-initiated operation.)\n",
      "  return getattr(self._model, item)\n",
      "03/17/2025 06:49:12 AM <3377989> aiida.orm.nodes.process.workflow.workchain.WorkChainNode: [REPORT] [8137|WorkGraphEngine|update_task_state]: Task: get_dict finished.\n",
      "03/17/2025 06:49:16 AM <3377989> aiida.orm.nodes.process.workflow.workchain.WorkChainNode: [REPORT] [8137|WorkGraphEngine|continue_workgraph]: Continue workgraph.\n",
      "03/17/2025 06:49:17 AM <3377989> aiida.orm.nodes.process.workflow.workchain.WorkChainNode: [REPORT] [8137|WorkGraphEngine|continue_workgraph]: tasks ready to run: relax\n",
      "03/17/2025 06:49:17 AM <3377989> aiida.orm.nodes.process.workflow.workchain.WorkChainNode: [REPORT] [8137|WorkGraphEngine|run_tasks]: Run task: relax, type: PYTHONJOB\n",
      "/home/geiger_j/.aiida_venvs/adis/lib/python3.10/site-packages/aiida/storage/psql_dos/backend.py:271: SAWarning: Object of type <DbNode> not in session, add operation along 'DbUser.dbnodes' will not proceed\n",
      "  with session.begin_nested() as savepoint:\n",
      "/home/geiger_j/.aiida_venvs/adis/lib/python3.10/site-packages/aiida/storage/psql_dos/orm/utils.py:84: SAWarning: Object of type <DbNode> not in session, add operation along 'DbUser.dbnodes' will not proceed (This warning originated from the Session 'autoflush' process, which was invoked automatically in response to a user-initiated operation.)\n",
      "  return getattr(self._model, item)\n",
      "/home/geiger_j/.aiida_venvs/adis/lib/python3.10/site-packages/aiida/storage/psql_dos/backend.py:271: SAWarning: Object of type <DbNode> not in session, add operation along 'DbUser.dbnodes' will not proceed\n",
      "  with session.begin_nested() as savepoint:\n"
     ]
    },
    {
     "name": "stdout",
     "output_type": "stream",
     "text": [
      "------------------------------------------------------------\n",
      "kwargs:  {'input_dict': <PickledData: uuid: 88e1e2c6-8886-48f1-8399-b3ba97f8fab0 (pk: 8222) : {'calculation': 'vc-relax', 'kpts': [3, 3, 3], 'pseudopotentials': {'Al': 'Al.pbe-n-kjpaw_psl.1.0.0.UPF'}, 'smearing': 0.02, 'structure': {'numbers': [13, 13, 13, 13], 'positions': [[0.0, 0.0, 0.0], [0.0, 2.025, 2.025], [2.025, 0.0, 2.025], [2.025, 2.025, 0.0]], 'cell': [[4.05, 0.0, 0.0], [0.0, 4.05, 0.0], [0.0, 0.0, 4.05]], 'pbc': [True, True, True]}}>, 'register_pickle_by_value': True, 'working_directory': 'mini'}\n"
     ]
    },
    {
     "name": "stderr",
     "output_type": "stream",
     "text": [
      "/home/geiger_j/.aiida_venvs/adis/lib/python3.10/site-packages/aiida/storage/psql_dos/orm/nodes.py:224: SAWarning: Object of type <DbNode> not in session, add operation along 'DbComputer.dbnodes' will not proceed\n",
      "  session.commit()\n",
      "03/17/2025 06:49:20 AM <3377989> aiida.orm.nodes.process.workflow.workchain.WorkChainNode: [REPORT] [8137|WorkGraphEngine|on_wait]: Process status: Waiting for child processes: 8230\n",
      "/home/geiger_j/.aiida_venvs/adis/lib/python3.10/site-packages/aiida/storage/psql_dos/orm/utils.py:84: SAWarning: Object of type <DbNode> not in session, add operation along 'DbUser.dbnodes' will not proceed (This warning originated from the Session 'autoflush' process, which was invoked automatically in response to a user-initiated operation.)\n",
      "  return getattr(self._model, item)\n",
      "/home/geiger_j/.aiida_venvs/adis/lib/python3.10/site-packages/aiida/storage/psql_dos/orm/utils.py:84: SAWarning: Object of type <DbNode> not in session, add operation along 'DbComputer.dbnodes' will not proceed (This warning originated from the Session 'autoflush' process, which was invoked automatically in response to a user-initiated operation.)\n",
      "  return getattr(self._model, item)\n",
      "/home/geiger_j/.aiida_venvs/adis/lib/python3.10/site-packages/aiida/storage/psql_dos/orm/utils.py:84: SAWarning: Object of type <DbNode> not in session, add operation along 'DbUser.dbnodes' will not proceed (This warning originated from the Session 'autoflush' process, which was invoked automatically in response to a user-initiated operation.)\n",
      "  return getattr(self._model, item)\n",
      "03/17/2025 06:49:54 AM <3377989> aiida.orm.nodes.process.workflow.workchain.WorkChainNode: [REPORT] [8137|WorkGraphEngine|update_task_state]: Task: relax finished.\n",
      "03/17/2025 06:49:58 AM <3377989> aiida.orm.nodes.process.workflow.workchain.WorkChainNode: [REPORT] [8137|WorkGraphEngine|continue_workgraph]: Continue workgraph.\n",
      "03/17/2025 06:49:59 AM <3377989> aiida.orm.nodes.process.workflow.workchain.WorkChainNode: [REPORT] [8137|WorkGraphEngine|continue_workgraph]: tasks ready to run: generate_structures\n",
      "03/17/2025 06:49:59 AM <3377989> aiida.orm.nodes.process.workflow.workchain.WorkChainNode: [REPORT] [8137|WorkGraphEngine|run_tasks]: Run task: generate_structures, type: PYTHONJOB\n",
      "/home/geiger_j/.aiida_venvs/adis/lib/python3.10/site-packages/aiida/storage/psql_dos/backend.py:271: SAWarning: Object of type <DbNode> not in session, add operation along 'DbUser.dbnodes' will not proceed\n",
      "  with session.begin_nested() as savepoint:\n",
      "/home/geiger_j/.aiida_venvs/adis/lib/python3.10/site-packages/aiida/storage/psql_dos/orm/utils.py:84: SAWarning: Object of type <DbNode> not in session, add operation along 'DbUser.dbnodes' will not proceed (This warning originated from the Session 'autoflush' process, which was invoked automatically in response to a user-initiated operation.)\n",
      "  return getattr(self._model, item)\n",
      "/home/geiger_j/.aiida_venvs/adis/lib/python3.10/site-packages/aiida/storage/psql_dos/backend.py:271: SAWarning: Object of type <DbNode> not in session, add operation along 'DbUser.dbnodes' will not proceed\n",
      "  with session.begin_nested() as savepoint:\n"
     ]
    },
    {
     "name": "stdout",
     "output_type": "stream",
     "text": [
      "------------------------------------------------------------\n",
      "kwargs:  {'register_pickle_by_value': True, 'strain_lst': [0.9, 0.95, 1.0, 1.05, 1.1], 'structure': <PickledData: uuid: cc71e876-2c6e-4ff3-ac13-1fc2ef433828 (pk: 8235) : {'numbers': array([13, 13, 13, 13]), 'positions': array([[0.       , 0.       , 0.       ],\n",
      "       [0.       , 2.0228187, 2.0228187],\n",
      "       [2.0228187, 0.       , 2.0228187],\n",
      "       [2.0228187, 2.0228187, 0.       ]]), 'cell': array([[4.04563739, 0.        , 0.        ],\n",
      "       [0.        , 4.04563739, 0.        ],\n",
      "       [0.        , 0.        , 4.04563739]]), 'pbc': array([ True,  True,  True])}>}\n"
     ]
    },
    {
     "name": "stderr",
     "output_type": "stream",
     "text": [
      "/home/geiger_j/.aiida_venvs/adis/lib/python3.10/site-packages/aiida/storage/psql_dos/orm/nodes.py:224: SAWarning: Object of type <DbNode> not in session, add operation along 'DbComputer.dbnodes' will not proceed\n",
      "  session.commit()\n",
      "03/17/2025 06:50:02 AM <3377989> aiida.orm.nodes.process.workflow.workchain.WorkChainNode: [REPORT] [8137|WorkGraphEngine|on_wait]: Process status: Waiting for child processes: 8244\n",
      "/home/geiger_j/.aiida_venvs/adis/lib/python3.10/site-packages/aiida/storage/psql_dos/orm/utils.py:84: SAWarning: Object of type <DbNode> not in session, add operation along 'DbUser.dbnodes' will not proceed (This warning originated from the Session 'autoflush' process, which was invoked automatically in response to a user-initiated operation.)\n",
      "  return getattr(self._model, item)\n",
      "/home/geiger_j/.aiida_venvs/adis/lib/python3.10/site-packages/aiida/storage/psql_dos/orm/utils.py:84: SAWarning: Object of type <DbNode> not in session, add operation along 'DbComputer.dbnodes' will not proceed (This warning originated from the Session 'autoflush' process, which was invoked automatically in response to a user-initiated operation.)\n",
      "  return getattr(self._model, item)\n",
      "/home/geiger_j/.aiida_venvs/adis/lib/python3.10/site-packages/aiida/storage/psql_dos/orm/utils.py:84: SAWarning: Object of type <DbNode> not in session, add operation along 'DbUser.dbnodes' will not proceed (This warning originated from the Session 'autoflush' process, which was invoked automatically in response to a user-initiated operation.)\n",
      "  return getattr(self._model, item)\n",
      "03/17/2025 06:50:08 AM <3377989> aiida.orm.nodes.process.workflow.workchain.WorkChainNode: [REPORT] [8137|WorkGraphEngine|update_task_state]: Task: generate_structures finished.\n",
      "03/17/2025 06:50:11 AM <3377989> aiida.orm.nodes.process.workflow.workchain.WorkChainNode: [REPORT] [8137|WorkGraphEngine|continue_workgraph]: Continue workgraph.\n",
      "03/17/2025 06:50:13 AM <3377989> aiida.orm.nodes.process.workflow.workchain.WorkChainNode: [REPORT] [8137|WorkGraphEngine|continue_workgraph]: tasks ready to run: get_dict_0,get_dict_1,get_dict_2,get_dict_3,get_dict_4\n",
      "03/17/2025 06:50:13 AM <3377989> aiida.orm.nodes.process.workflow.workchain.WorkChainNode: [REPORT] [8137|WorkGraphEngine|run_tasks]: Run task: get_dict_0, type: PYTHONJOB\n"
     ]
    },
    {
     "name": "stdout",
     "output_type": "stream",
     "text": [
      "------------------------------------------------------------\n",
      "kwargs:  {'calculation': <Str: uuid: 64fe22a9-38ae-4089-b2ab-0a5a2f9c7f62 (pk: 8210) value: scf>, 'kpts': <List: uuid: 3f244364-fb14-48b6-ac6d-8ccf286ac17c (pk: 8207) value: [3, 3, 3]>, 'pseudopotentials': <PickledData: uuid: 9c1dac2e-66bc-4bfd-a2e8-a10a124f9103 (pk: 8211) : {'Al': 'Al.pbe-n-kjpaw_psl.1.0.0.UPF'}>, 'register_pickle_by_value': True, 'smearing': <Float: uuid: eb8d9278-42a5-4bc3-a7af-ba92a8475c2a (pk: 8208) value: 0.02>, 'structure': <PickledData: uuid: f777b5e5-7f0c-44e8-aa05-e681f4b2389a (pk: 8248) : {'numbers': [13, 13, 13, 13], 'positions': [[0.0, 0.0, 0.0], [0.0, 1.953009977629255, 1.953009977629255], [1.953009977629255, 0.0, 1.953009977629255], [1.953009977629255, 1.953009977629255, 0.0]], 'cell': [[3.906019955258512, 0.0, 0.0], [0.0, 3.906019955258512, 0.0], [0.0, 0.0, 3.906019955258512]], 'pbc': [True, True, True]}>}\n"
     ]
    },
    {
     "name": "stderr",
     "output_type": "stream",
     "text": [
      "/home/geiger_j/.aiida_venvs/adis/lib/python3.10/site-packages/aiida/storage/psql_dos/backend.py:271: SAWarning: Object of type <DbNode> not in session, add operation along 'DbUser.dbnodes' will not proceed\n",
      "  with session.begin_nested() as savepoint:\n",
      "/home/geiger_j/.aiida_venvs/adis/lib/python3.10/site-packages/aiida/storage/psql_dos/orm/utils.py:84: SAWarning: Object of type <DbNode> not in session, add operation along 'DbUser.dbnodes' will not proceed (This warning originated from the Session 'autoflush' process, which was invoked automatically in response to a user-initiated operation.)\n",
      "  return getattr(self._model, item)\n",
      "/home/geiger_j/.aiida_venvs/adis/lib/python3.10/site-packages/aiida/storage/psql_dos/backend.py:271: SAWarning: Object of type <DbNode> not in session, add operation along 'DbUser.dbnodes' will not proceed\n",
      "  with session.begin_nested() as savepoint:\n",
      "/home/geiger_j/.aiida_venvs/adis/lib/python3.10/site-packages/aiida/storage/psql_dos/orm/nodes.py:224: SAWarning: Object of type <DbNode> not in session, add operation along 'DbComputer.dbnodes' will not proceed\n",
      "  session.commit()\n",
      "03/17/2025 06:50:14 AM <3377989> aiida.orm.nodes.process.workflow.workchain.WorkChainNode: [REPORT] [8137|WorkGraphEngine|run_tasks]: Run task: get_dict_1, type: PYTHONJOB\n"
     ]
    },
    {
     "name": "stdout",
     "output_type": "stream",
     "text": [
      "------------------------------------------------------------\n",
      "kwargs:  {'calculation': <Str: uuid: 64fe22a9-38ae-4089-b2ab-0a5a2f9c7f62 (pk: 8210) value: scf>, 'kpts': <List: uuid: 3f244364-fb14-48b6-ac6d-8ccf286ac17c (pk: 8207) value: [3, 3, 3]>, 'pseudopotentials': <PickledData: uuid: 9c1dac2e-66bc-4bfd-a2e8-a10a124f9103 (pk: 8211) : {'Al': 'Al.pbe-n-kjpaw_psl.1.0.0.UPF'}>, 'register_pickle_by_value': True, 'smearing': <Float: uuid: eb8d9278-42a5-4bc3-a7af-ba92a8475c2a (pk: 8208) value: 0.02>, 'structure': <PickledData: uuid: 655f6a62-03e0-4aef-abd4-136eb016a703 (pk: 8249) : {'numbers': [13, 13, 13, 13], 'positions': [[0.0, 0.0, 0.0], [0.0, 1.9885270083465998, 1.9885270083465998], [1.9885270083465998, 0.0, 1.9885270083465998], [1.9885270083465998, 1.9885270083465998, 0.0]], 'cell': [[3.977054016693201, 0.0, 0.0], [0.0, 3.977054016693201, 0.0], [0.0, 0.0, 3.977054016693201]], 'pbc': [True, True, True]}>}\n"
     ]
    },
    {
     "name": "stderr",
     "output_type": "stream",
     "text": [
      "/home/geiger_j/.aiida_venvs/adis/lib/python3.10/site-packages/aiida/storage/psql_dos/backend.py:271: SAWarning: Object of type <DbNode> not in session, add operation along 'DbUser.dbnodes' will not proceed\n",
      "  with session.begin_nested() as savepoint:\n",
      "/home/geiger_j/.aiida_venvs/adis/lib/python3.10/site-packages/aiida/storage/psql_dos/orm/utils.py:84: SAWarning: Object of type <DbNode> not in session, add operation along 'DbUser.dbnodes' will not proceed (This warning originated from the Session 'autoflush' process, which was invoked automatically in response to a user-initiated operation.)\n",
      "  return getattr(self._model, item)\n",
      "/home/geiger_j/.aiida_venvs/adis/lib/python3.10/site-packages/aiida/storage/psql_dos/backend.py:271: SAWarning: Object of type <DbNode> not in session, add operation along 'DbUser.dbnodes' will not proceed\n",
      "  with session.begin_nested() as savepoint:\n",
      "/home/geiger_j/.aiida_venvs/adis/lib/python3.10/site-packages/aiida/storage/psql_dos/orm/nodes.py:224: SAWarning: Object of type <DbNode> not in session, add operation along 'DbComputer.dbnodes' will not proceed\n",
      "  session.commit()\n",
      "03/17/2025 06:50:16 AM <3377989> aiida.orm.nodes.process.workflow.workchain.WorkChainNode: [REPORT] [8137|WorkGraphEngine|run_tasks]: Run task: get_dict_2, type: PYTHONJOB\n"
     ]
    },
    {
     "name": "stdout",
     "output_type": "stream",
     "text": [
      "------------------------------------------------------------\n",
      "kwargs:  {'calculation': <Str: uuid: 64fe22a9-38ae-4089-b2ab-0a5a2f9c7f62 (pk: 8210) value: scf>, 'kpts': <List: uuid: 3f244364-fb14-48b6-ac6d-8ccf286ac17c (pk: 8207) value: [3, 3, 3]>, 'pseudopotentials': <PickledData: uuid: 9c1dac2e-66bc-4bfd-a2e8-a10a124f9103 (pk: 8211) : {'Al': 'Al.pbe-n-kjpaw_psl.1.0.0.UPF'}>, 'register_pickle_by_value': True, 'smearing': <Float: uuid: eb8d9278-42a5-4bc3-a7af-ba92a8475c2a (pk: 8208) value: 0.02>, 'structure': <PickledData: uuid: 2d34a0a8-fe39-446c-a5e6-16d28df7cbe0 (pk: 8250) : {'numbers': [13, 13, 13, 13], 'positions': [[0.0, 0.0, 0.0], [0.0, 2.0228186956472802, 2.0228186956472802], [2.0228186956472802, 0.0, 2.0228186956472802], [2.0228186956472802, 2.0228186956472802, 0.0]], 'cell': [[4.045637391294562, 0.0, 0.0], [0.0, 4.045637391294562, 0.0], [0.0, 0.0, 4.045637391294562]], 'pbc': [True, True, True]}>}\n"
     ]
    },
    {
     "name": "stderr",
     "output_type": "stream",
     "text": [
      "/home/geiger_j/.aiida_venvs/adis/lib/python3.10/site-packages/aiida/storage/psql_dos/backend.py:271: SAWarning: Object of type <DbNode> not in session, add operation along 'DbUser.dbnodes' will not proceed\n",
      "  with session.begin_nested() as savepoint:\n",
      "/home/geiger_j/.aiida_venvs/adis/lib/python3.10/site-packages/aiida/storage/psql_dos/orm/utils.py:84: SAWarning: Object of type <DbNode> not in session, add operation along 'DbUser.dbnodes' will not proceed (This warning originated from the Session 'autoflush' process, which was invoked automatically in response to a user-initiated operation.)\n",
      "  return getattr(self._model, item)\n",
      "/home/geiger_j/.aiida_venvs/adis/lib/python3.10/site-packages/aiida/storage/psql_dos/backend.py:271: SAWarning: Object of type <DbNode> not in session, add operation along 'DbUser.dbnodes' will not proceed\n",
      "  with session.begin_nested() as savepoint:\n",
      "/home/geiger_j/.aiida_venvs/adis/lib/python3.10/site-packages/aiida/storage/psql_dos/orm/nodes.py:224: SAWarning: Object of type <DbNode> not in session, add operation along 'DbComputer.dbnodes' will not proceed\n",
      "  session.commit()\n",
      "03/17/2025 06:50:17 AM <3377989> aiida.orm.nodes.process.workflow.workchain.WorkChainNode: [REPORT] [8137|WorkGraphEngine|run_tasks]: Run task: get_dict_3, type: PYTHONJOB\n"
     ]
    },
    {
     "name": "stdout",
     "output_type": "stream",
     "text": [
      "------------------------------------------------------------\n",
      "kwargs:  {'calculation': <Str: uuid: 64fe22a9-38ae-4089-b2ab-0a5a2f9c7f62 (pk: 8210) value: scf>, 'kpts': <List: uuid: 3f244364-fb14-48b6-ac6d-8ccf286ac17c (pk: 8207) value: [3, 3, 3]>, 'pseudopotentials': <PickledData: uuid: 9c1dac2e-66bc-4bfd-a2e8-a10a124f9103 (pk: 8211) : {'Al': 'Al.pbe-n-kjpaw_psl.1.0.0.UPF'}>, 'register_pickle_by_value': True, 'smearing': <Float: uuid: eb8d9278-42a5-4bc3-a7af-ba92a8475c2a (pk: 8208) value: 0.02>, 'structure': <PickledData: uuid: caf138b6-0adf-46ce-a469-c4c42fb52cdb (pk: 8251) : {'numbers': [13, 13, 13, 13], 'positions': [[0.0, 0.0, 0.0], [0.0, 2.0559855527528694, 2.0559855527528694], [2.0559855527528694, 0.0, 2.0559855527528694], [2.0559855527528694, 2.0559855527528694, 0.0]], 'cell': [[4.111971105505741, 0.0, 0.0], [0.0, 4.111971105505741, 0.0], [0.0, 0.0, 4.111971105505741]], 'pbc': [True, True, True]}>}\n"
     ]
    },
    {
     "name": "stderr",
     "output_type": "stream",
     "text": [
      "/home/geiger_j/.aiida_venvs/adis/lib/python3.10/site-packages/aiida/storage/psql_dos/backend.py:271: SAWarning: Object of type <DbNode> not in session, add operation along 'DbUser.dbnodes' will not proceed\n",
      "  with session.begin_nested() as savepoint:\n",
      "/home/geiger_j/.aiida_venvs/adis/lib/python3.10/site-packages/aiida/storage/psql_dos/orm/utils.py:84: SAWarning: Object of type <DbNode> not in session, add operation along 'DbUser.dbnodes' will not proceed (This warning originated from the Session 'autoflush' process, which was invoked automatically in response to a user-initiated operation.)\n",
      "  return getattr(self._model, item)\n",
      "/home/geiger_j/.aiida_venvs/adis/lib/python3.10/site-packages/aiida/storage/psql_dos/backend.py:271: SAWarning: Object of type <DbNode> not in session, add operation along 'DbUser.dbnodes' will not proceed\n",
      "  with session.begin_nested() as savepoint:\n",
      "/home/geiger_j/.aiida_venvs/adis/lib/python3.10/site-packages/aiida/storage/psql_dos/orm/nodes.py:224: SAWarning: Object of type <DbNode> not in session, add operation along 'DbComputer.dbnodes' will not proceed\n",
      "  session.commit()\n",
      "03/17/2025 06:50:19 AM <3377989> aiida.orm.nodes.process.workflow.workchain.WorkChainNode: [REPORT] [8137|WorkGraphEngine|run_tasks]: Run task: get_dict_4, type: PYTHONJOB\n"
     ]
    },
    {
     "name": "stdout",
     "output_type": "stream",
     "text": [
      "------------------------------------------------------------\n",
      "kwargs:  {'calculation': <Str: uuid: 64fe22a9-38ae-4089-b2ab-0a5a2f9c7f62 (pk: 8210) value: scf>, 'kpts': <List: uuid: 3f244364-fb14-48b6-ac6d-8ccf286ac17c (pk: 8207) value: [3, 3, 3]>, 'pseudopotentials': <PickledData: uuid: 9c1dac2e-66bc-4bfd-a2e8-a10a124f9103 (pk: 8211) : {'Al': 'Al.pbe-n-kjpaw_psl.1.0.0.UPF'}>, 'register_pickle_by_value': True, 'smearing': <Float: uuid: eb8d9278-42a5-4bc3-a7af-ba92a8475c2a (pk: 8208) value: 0.02>, 'structure': <PickledData: uuid: b7759466-c58e-43a6-a57f-a2a69e254f3e (pk: 8252) : {'numbers': [13, 13, 13, 13], 'positions': [[0.0, 0.0, 0.0], [0.0, 2.0881155166900727, 2.0881155166900727], [2.0881155166900727, 0.0, 2.0881155166900727], [2.0881155166900727, 2.0881155166900727, 0.0]], 'cell': [[4.176231033380147, 0.0, 0.0], [0.0, 4.176231033380147, 0.0], [0.0, 0.0, 4.176231033380147]], 'pbc': [True, True, True]}>}\n"
     ]
    },
    {
     "name": "stderr",
     "output_type": "stream",
     "text": [
      "/home/geiger_j/.aiida_venvs/adis/lib/python3.10/site-packages/aiida/storage/psql_dos/backend.py:271: SAWarning: Object of type <DbNode> not in session, add operation along 'DbUser.dbnodes' will not proceed\n",
      "  with session.begin_nested() as savepoint:\n",
      "/home/geiger_j/.aiida_venvs/adis/lib/python3.10/site-packages/aiida/storage/psql_dos/orm/utils.py:84: SAWarning: Object of type <DbNode> not in session, add operation along 'DbUser.dbnodes' will not proceed (This warning originated from the Session 'autoflush' process, which was invoked automatically in response to a user-initiated operation.)\n",
      "  return getattr(self._model, item)\n",
      "/home/geiger_j/.aiida_venvs/adis/lib/python3.10/site-packages/aiida/storage/psql_dos/backend.py:271: SAWarning: Object of type <DbNode> not in session, add operation along 'DbUser.dbnodes' will not proceed\n",
      "  with session.begin_nested() as savepoint:\n",
      "/home/geiger_j/.aiida_venvs/adis/lib/python3.10/site-packages/aiida/storage/psql_dos/orm/nodes.py:224: SAWarning: Object of type <DbNode> not in session, add operation along 'DbComputer.dbnodes' will not proceed\n",
      "  session.commit()\n",
      "03/17/2025 06:50:22 AM <3377989> aiida.orm.nodes.process.workflow.workchain.WorkChainNode: [REPORT] [8137|WorkGraphEngine|on_wait]: Process status: Waiting for child processes: 8259, 8266, 8273, 8280, 8287\n",
      "/home/geiger_j/.aiida_venvs/adis/lib/python3.10/site-packages/aiida/storage/psql_dos/orm/utils.py:84: SAWarning: Object of type <DbNode> not in session, add operation along 'DbComputer.dbnodes' will not proceed (This warning originated from the Session 'autoflush' process, which was invoked automatically in response to a user-initiated operation.)\n",
      "  return getattr(self._model, item)\n",
      "/home/geiger_j/.aiida_venvs/adis/lib/python3.10/site-packages/aiida/storage/psql_dos/orm/utils.py:84: SAWarning: Object of type <DbNode> not in session, add operation along 'DbUser.dbnodes' will not proceed (This warning originated from the Session 'autoflush' process, which was invoked automatically in response to a user-initiated operation.)\n",
      "  return getattr(self._model, item)\n",
      "/home/geiger_j/.aiida_venvs/adis/lib/python3.10/site-packages/aiida/storage/psql_dos/orm/utils.py:84: SAWarning: Object of type <DbNode> not in session, add operation along 'DbComputer.dbnodes' will not proceed (This warning originated from the Session 'autoflush' process, which was invoked automatically in response to a user-initiated operation.)\n",
      "  return getattr(self._model, item)\n",
      "/home/geiger_j/.aiida_venvs/adis/lib/python3.10/site-packages/aiida/storage/psql_dos/orm/utils.py:84: SAWarning: Object of type <DbNode> not in session, add operation along 'DbUser.dbnodes' will not proceed (This warning originated from the Session 'autoflush' process, which was invoked automatically in response to a user-initiated operation.)\n",
      "  return getattr(self._model, item)\n",
      "/home/geiger_j/.aiida_venvs/adis/lib/python3.10/site-packages/aiida/storage/psql_dos/orm/utils.py:84: SAWarning: Object of type <DbNode> not in session, add operation along 'DbComputer.dbnodes' will not proceed (This warning originated from the Session 'autoflush' process, which was invoked automatically in response to a user-initiated operation.)\n",
      "  return getattr(self._model, item)\n",
      "/home/geiger_j/.aiida_venvs/adis/lib/python3.10/site-packages/aiida/storage/psql_dos/orm/utils.py:84: SAWarning: Object of type <DbNode> not in session, add operation along 'DbUser.dbnodes' will not proceed (This warning originated from the Session 'autoflush' process, which was invoked automatically in response to a user-initiated operation.)\n",
      "  return getattr(self._model, item)\n",
      "/home/geiger_j/.aiida_venvs/adis/lib/python3.10/site-packages/aiida/storage/psql_dos/orm/utils.py:84: SAWarning: Object of type <DbNode> not in session, add operation along 'DbComputer.dbnodes' will not proceed (This warning originated from the Session 'autoflush' process, which was invoked automatically in response to a user-initiated operation.)\n",
      "  return getattr(self._model, item)\n",
      "/home/geiger_j/.aiida_venvs/adis/lib/python3.10/site-packages/aiida/storage/psql_dos/orm/utils.py:84: SAWarning: Object of type <DbNode> not in session, add operation along 'DbUser.dbnodes' will not proceed (This warning originated from the Session 'autoflush' process, which was invoked automatically in response to a user-initiated operation.)\n",
      "  return getattr(self._model, item)\n",
      "/home/geiger_j/.aiida_venvs/adis/lib/python3.10/site-packages/aiida/storage/psql_dos/orm/utils.py:84: SAWarning: Object of type <DbNode> not in session, add operation along 'DbComputer.dbnodes' will not proceed (This warning originated from the Session 'autoflush' process, which was invoked automatically in response to a user-initiated operation.)\n",
      "  return getattr(self._model, item)\n",
      "/home/geiger_j/.aiida_venvs/adis/lib/python3.10/site-packages/aiida/storage/psql_dos/orm/utils.py:84: SAWarning: Object of type <DbNode> not in session, add operation along 'DbUser.dbnodes' will not proceed (This warning originated from the Session 'autoflush' process, which was invoked automatically in response to a user-initiated operation.)\n",
      "  return getattr(self._model, item)\n",
      "/home/geiger_j/.aiida_venvs/adis/lib/python3.10/site-packages/aiida/storage/psql_dos/orm/utils.py:84: SAWarning: Object of type <DbNode> not in session, add operation along 'DbUser.dbnodes' will not proceed (This warning originated from the Session 'autoflush' process, which was invoked automatically in response to a user-initiated operation.)\n",
      "  return getattr(self._model, item)\n",
      "/home/geiger_j/.aiida_venvs/adis/lib/python3.10/site-packages/aiida/storage/psql_dos/orm/utils.py:84: SAWarning: Object of type <DbNode> not in session, add operation along 'DbUser.dbnodes' will not proceed (This warning originated from the Session 'autoflush' process, which was invoked automatically in response to a user-initiated operation.)\n",
      "  return getattr(self._model, item)\n",
      "/home/geiger_j/.aiida_venvs/adis/lib/python3.10/site-packages/aiida/storage/psql_dos/orm/utils.py:84: SAWarning: Object of type <DbNode> not in session, add operation along 'DbUser.dbnodes' will not proceed (This warning originated from the Session 'autoflush' process, which was invoked automatically in response to a user-initiated operation.)\n",
      "  return getattr(self._model, item)\n",
      "/home/geiger_j/.aiida_venvs/adis/lib/python3.10/site-packages/aiida/storage/psql_dos/orm/utils.py:84: SAWarning: Object of type <DbNode> not in session, add operation along 'DbUser.dbnodes' will not proceed (This warning originated from the Session 'autoflush' process, which was invoked automatically in response to a user-initiated operation.)\n",
      "  return getattr(self._model, item)\n",
      "/home/geiger_j/.aiida_venvs/adis/lib/python3.10/site-packages/aiida/storage/psql_dos/orm/utils.py:84: SAWarning: Object of type <DbNode> not in session, add operation along 'DbUser.dbnodes' will not proceed (This warning originated from the Session 'autoflush' process, which was invoked automatically in response to a user-initiated operation.)\n",
      "  return getattr(self._model, item)\n",
      "03/17/2025 06:50:33 AM <3377989> aiida.orm.nodes.process.workflow.workchain.WorkChainNode: [REPORT] [8137|WorkGraphEngine|update_task_state]: Task: get_dict_0 finished.\n",
      "03/17/2025 06:50:33 AM <3377989> aiida.orm.nodes.process.workflow.workchain.WorkChainNode: [REPORT] [8137|WorkGraphEngine|update_task_state]: Task: get_dict_1 finished.\n",
      "03/17/2025 06:50:34 AM <3377989> aiida.orm.nodes.process.workflow.workchain.WorkChainNode: [REPORT] [8137|WorkGraphEngine|update_task_state]: Task: get_dict_2 finished.\n",
      "03/17/2025 06:50:35 AM <3377989> aiida.orm.nodes.process.workflow.workchain.WorkChainNode: [REPORT] [8137|WorkGraphEngine|update_task_state]: Task: get_dict_3 finished.\n",
      "03/17/2025 06:50:35 AM <3377989> aiida.orm.nodes.process.workflow.workchain.WorkChainNode: [REPORT] [8137|WorkGraphEngine|update_task_state]: Task: get_dict_4 finished.\n",
      "03/17/2025 06:50:39 AM <3377989> aiida.orm.nodes.process.workflow.workchain.WorkChainNode: [REPORT] [8137|WorkGraphEngine|continue_workgraph]: Continue workgraph.\n",
      "03/17/2025 06:50:40 AM <3377989> aiida.orm.nodes.process.workflow.workchain.WorkChainNode: [REPORT] [8137|WorkGraphEngine|continue_workgraph]: tasks ready to run: qe_0,qe_1,qe_2,qe_3,qe_4\n",
      "03/17/2025 06:50:40 AM <3377989> aiida.orm.nodes.process.workflow.workchain.WorkChainNode: [REPORT] [8137|WorkGraphEngine|run_tasks]: Run task: qe_0, type: PYTHONJOB\n",
      "/home/geiger_j/.aiida_venvs/adis/lib/python3.10/site-packages/aiida/storage/psql_dos/backend.py:271: SAWarning: Object of type <DbNode> not in session, add operation along 'DbUser.dbnodes' will not proceed\n",
      "  with session.begin_nested() as savepoint:\n",
      "/home/geiger_j/.aiida_venvs/adis/lib/python3.10/site-packages/aiida/storage/psql_dos/orm/utils.py:84: SAWarning: Object of type <DbNode> not in session, add operation along 'DbUser.dbnodes' will not proceed (This warning originated from the Session 'autoflush' process, which was invoked automatically in response to a user-initiated operation.)\n",
      "  return getattr(self._model, item)\n",
      "/home/geiger_j/.aiida_venvs/adis/lib/python3.10/site-packages/aiida/storage/psql_dos/backend.py:271: SAWarning: Object of type <DbNode> not in session, add operation along 'DbUser.dbnodes' will not proceed\n",
      "  with session.begin_nested() as savepoint:\n"
     ]
    },
    {
     "name": "stdout",
     "output_type": "stream",
     "text": [
      "------------------------------------------------------------\n",
      "kwargs:  {'input_dict': <PickledData: uuid: 796faf4f-d0ea-41fe-943a-c6b6cd56e6c5 (pk: 8303) : {'calculation': 'scf', 'kpts': [3, 3, 3], 'pseudopotentials': {'Al': 'Al.pbe-n-kjpaw_psl.1.0.0.UPF'}, 'smearing': 0.02, 'structure': {'numbers': [13, 13, 13, 13], 'positions': [[0.0, 0.0, 0.0], [0.0, 1.953009977629255, 1.953009977629255], [1.953009977629255, 0.0, 1.953009977629255], [1.953009977629255, 1.953009977629255, 0.0]], 'cell': [[3.906019955258512, 0.0, 0.0], [0.0, 3.906019955258512, 0.0], [0.0, 0.0, 3.906019955258512]], 'pbc': [True, True, True]}}>, 'register_pickle_by_value': True, 'working_directory': 'strain_0'}\n"
     ]
    },
    {
     "name": "stderr",
     "output_type": "stream",
     "text": [
      "/home/geiger_j/.aiida_venvs/adis/lib/python3.10/site-packages/aiida/storage/psql_dos/orm/nodes.py:224: SAWarning: Object of type <DbNode> not in session, add operation along 'DbComputer.dbnodes' will not proceed\n",
      "  session.commit()\n",
      "03/17/2025 06:50:41 AM <3377989> aiida.orm.nodes.process.workflow.workchain.WorkChainNode: [REPORT] [8137|WorkGraphEngine|run_tasks]: Run task: qe_1, type: PYTHONJOB\n"
     ]
    },
    {
     "name": "stdout",
     "output_type": "stream",
     "text": [
      "------------------------------------------------------------\n",
      "kwargs:  {'input_dict': <PickledData: uuid: c346487c-9af4-4d2d-baae-dd476ae13906 (pk: 8304) : {'calculation': 'scf', 'kpts': [3, 3, 3], 'pseudopotentials': {'Al': 'Al.pbe-n-kjpaw_psl.1.0.0.UPF'}, 'smearing': 0.02, 'structure': {'numbers': [13, 13, 13, 13], 'positions': [[0.0, 0.0, 0.0], [0.0, 1.9885270083465998, 1.9885270083465998], [1.9885270083465998, 0.0, 1.9885270083465998], [1.9885270083465998, 1.9885270083465998, 0.0]], 'cell': [[3.977054016693201, 0.0, 0.0], [0.0, 3.977054016693201, 0.0], [0.0, 0.0, 3.977054016693201]], 'pbc': [True, True, True]}}>, 'register_pickle_by_value': True, 'working_directory': 'strain_1'}\n"
     ]
    },
    {
     "name": "stderr",
     "output_type": "stream",
     "text": [
      "/home/geiger_j/.aiida_venvs/adis/lib/python3.10/site-packages/aiida/storage/psql_dos/backend.py:271: SAWarning: Object of type <DbNode> not in session, add operation along 'DbUser.dbnodes' will not proceed\n",
      "  with session.begin_nested() as savepoint:\n",
      "/home/geiger_j/.aiida_venvs/adis/lib/python3.10/site-packages/aiida/storage/psql_dos/orm/utils.py:84: SAWarning: Object of type <DbNode> not in session, add operation along 'DbUser.dbnodes' will not proceed (This warning originated from the Session 'autoflush' process, which was invoked automatically in response to a user-initiated operation.)\n",
      "  return getattr(self._model, item)\n",
      "/home/geiger_j/.aiida_venvs/adis/lib/python3.10/site-packages/aiida/storage/psql_dos/backend.py:271: SAWarning: Object of type <DbNode> not in session, add operation along 'DbUser.dbnodes' will not proceed\n",
      "  with session.begin_nested() as savepoint:\n",
      "/home/geiger_j/.aiida_venvs/adis/lib/python3.10/site-packages/aiida/storage/psql_dos/orm/nodes.py:224: SAWarning: Object of type <DbNode> not in session, add operation along 'DbComputer.dbnodes' will not proceed\n",
      "  session.commit()\n",
      "03/17/2025 06:50:42 AM <3377989> aiida.orm.nodes.process.workflow.workchain.WorkChainNode: [REPORT] [8137|WorkGraphEngine|run_tasks]: Run task: qe_2, type: PYTHONJOB\n"
     ]
    },
    {
     "name": "stdout",
     "output_type": "stream",
     "text": [
      "------------------------------------------------------------\n",
      "kwargs:  {'input_dict': <PickledData: uuid: 15a475ff-9900-46d6-a742-200154a77dc9 (pk: 8305) : {'calculation': 'scf', 'kpts': [3, 3, 3], 'pseudopotentials': {'Al': 'Al.pbe-n-kjpaw_psl.1.0.0.UPF'}, 'smearing': 0.02, 'structure': {'numbers': [13, 13, 13, 13], 'positions': [[0.0, 0.0, 0.0], [0.0, 2.0228186956472802, 2.0228186956472802], [2.0228186956472802, 0.0, 2.0228186956472802], [2.0228186956472802, 2.0228186956472802, 0.0]], 'cell': [[4.045637391294562, 0.0, 0.0], [0.0, 4.045637391294562, 0.0], [0.0, 0.0, 4.045637391294562]], 'pbc': [True, True, True]}}>, 'register_pickle_by_value': True, 'working_directory': 'strain_2'}\n"
     ]
    },
    {
     "name": "stderr",
     "output_type": "stream",
     "text": [
      "/home/geiger_j/.aiida_venvs/adis/lib/python3.10/site-packages/aiida/storage/psql_dos/backend.py:271: SAWarning: Object of type <DbNode> not in session, add operation along 'DbUser.dbnodes' will not proceed\n",
      "  with session.begin_nested() as savepoint:\n",
      "/home/geiger_j/.aiida_venvs/adis/lib/python3.10/site-packages/aiida/storage/psql_dos/orm/utils.py:84: SAWarning: Object of type <DbNode> not in session, add operation along 'DbUser.dbnodes' will not proceed (This warning originated from the Session 'autoflush' process, which was invoked automatically in response to a user-initiated operation.)\n",
      "  return getattr(self._model, item)\n",
      "/home/geiger_j/.aiida_venvs/adis/lib/python3.10/site-packages/aiida/storage/psql_dos/backend.py:271: SAWarning: Object of type <DbNode> not in session, add operation along 'DbUser.dbnodes' will not proceed\n",
      "  with session.begin_nested() as savepoint:\n",
      "/home/geiger_j/.aiida_venvs/adis/lib/python3.10/site-packages/aiida/storage/psql_dos/orm/nodes.py:224: SAWarning: Object of type <DbNode> not in session, add operation along 'DbComputer.dbnodes' will not proceed\n",
      "  session.commit()\n",
      "03/17/2025 06:50:44 AM <3377989> aiida.orm.nodes.process.workflow.workchain.WorkChainNode: [REPORT] [8137|WorkGraphEngine|run_tasks]: Run task: qe_3, type: PYTHONJOB\n"
     ]
    },
    {
     "name": "stdout",
     "output_type": "stream",
     "text": [
      "------------------------------------------------------------\n",
      "kwargs:  {'input_dict': <PickledData: uuid: 1b9b95c9-e90c-4ccc-aa3f-d9f129983d6a (pk: 8306) : {'calculation': 'scf', 'kpts': [3, 3, 3], 'pseudopotentials': {'Al': 'Al.pbe-n-kjpaw_psl.1.0.0.UPF'}, 'smearing': 0.02, 'structure': {'numbers': [13, 13, 13, 13], 'positions': [[0.0, 0.0, 0.0], [0.0, 2.0559855527528694, 2.0559855527528694], [2.0559855527528694, 0.0, 2.0559855527528694], [2.0559855527528694, 2.0559855527528694, 0.0]], 'cell': [[4.111971105505741, 0.0, 0.0], [0.0, 4.111971105505741, 0.0], [0.0, 0.0, 4.111971105505741]], 'pbc': [True, True, True]}}>, 'register_pickle_by_value': True, 'working_directory': 'strain_3'}\n"
     ]
    },
    {
     "name": "stderr",
     "output_type": "stream",
     "text": [
      "/home/geiger_j/.aiida_venvs/adis/lib/python3.10/site-packages/aiida/storage/psql_dos/backend.py:271: SAWarning: Object of type <DbNode> not in session, add operation along 'DbUser.dbnodes' will not proceed\n",
      "  with session.begin_nested() as savepoint:\n",
      "/home/geiger_j/.aiida_venvs/adis/lib/python3.10/site-packages/aiida/storage/psql_dos/orm/utils.py:84: SAWarning: Object of type <DbNode> not in session, add operation along 'DbUser.dbnodes' will not proceed (This warning originated from the Session 'autoflush' process, which was invoked automatically in response to a user-initiated operation.)\n",
      "  return getattr(self._model, item)\n",
      "/home/geiger_j/.aiida_venvs/adis/lib/python3.10/site-packages/aiida/storage/psql_dos/backend.py:271: SAWarning: Object of type <DbNode> not in session, add operation along 'DbUser.dbnodes' will not proceed\n",
      "  with session.begin_nested() as savepoint:\n",
      "/home/geiger_j/.aiida_venvs/adis/lib/python3.10/site-packages/aiida/storage/psql_dos/orm/nodes.py:224: SAWarning: Object of type <DbNode> not in session, add operation along 'DbComputer.dbnodes' will not proceed\n",
      "  session.commit()\n",
      "03/17/2025 06:50:45 AM <3377989> aiida.orm.nodes.process.workflow.workchain.WorkChainNode: [REPORT] [8137|WorkGraphEngine|run_tasks]: Run task: qe_4, type: PYTHONJOB\n"
     ]
    },
    {
     "name": "stdout",
     "output_type": "stream",
     "text": [
      "------------------------------------------------------------\n",
      "kwargs:  {'input_dict': <PickledData: uuid: cbe8019f-4333-4151-a103-aac5a1f6947a (pk: 8307) : {'calculation': 'scf', 'kpts': [3, 3, 3], 'pseudopotentials': {'Al': 'Al.pbe-n-kjpaw_psl.1.0.0.UPF'}, 'smearing': 0.02, 'structure': {'numbers': [13, 13, 13, 13], 'positions': [[0.0, 0.0, 0.0], [0.0, 2.0881155166900727, 2.0881155166900727], [2.0881155166900727, 0.0, 2.0881155166900727], [2.0881155166900727, 2.0881155166900727, 0.0]], 'cell': [[4.176231033380147, 0.0, 0.0], [0.0, 4.176231033380147, 0.0], [0.0, 0.0, 4.176231033380147]], 'pbc': [True, True, True]}}>, 'register_pickle_by_value': True, 'working_directory': 'strain_4'}\n"
     ]
    },
    {
     "name": "stderr",
     "output_type": "stream",
     "text": [
      "/home/geiger_j/.aiida_venvs/adis/lib/python3.10/site-packages/aiida/storage/psql_dos/backend.py:271: SAWarning: Object of type <DbNode> not in session, add operation along 'DbUser.dbnodes' will not proceed\n",
      "  with session.begin_nested() as savepoint:\n",
      "/home/geiger_j/.aiida_venvs/adis/lib/python3.10/site-packages/aiida/storage/psql_dos/orm/utils.py:84: SAWarning: Object of type <DbNode> not in session, add operation along 'DbUser.dbnodes' will not proceed (This warning originated from the Session 'autoflush' process, which was invoked automatically in response to a user-initiated operation.)\n",
      "  return getattr(self._model, item)\n",
      "/home/geiger_j/.aiida_venvs/adis/lib/python3.10/site-packages/aiida/storage/psql_dos/backend.py:271: SAWarning: Object of type <DbNode> not in session, add operation along 'DbUser.dbnodes' will not proceed\n",
      "  with session.begin_nested() as savepoint:\n",
      "/home/geiger_j/.aiida_venvs/adis/lib/python3.10/site-packages/aiida/storage/psql_dos/orm/nodes.py:224: SAWarning: Object of type <DbNode> not in session, add operation along 'DbComputer.dbnodes' will not proceed\n",
      "  session.commit()\n",
      "03/17/2025 06:50:48 AM <3377989> aiida.orm.nodes.process.workflow.workchain.WorkChainNode: [REPORT] [8137|WorkGraphEngine|on_wait]: Process status: Waiting for child processes: 8315, 8323, 8331, 8339, 8347\n",
      "/home/geiger_j/.aiida_venvs/adis/lib/python3.10/site-packages/aiida/storage/psql_dos/orm/utils.py:84: SAWarning: Object of type <DbNode> not in session, add operation along 'DbComputer.dbnodes' will not proceed (This warning originated from the Session 'autoflush' process, which was invoked automatically in response to a user-initiated operation.)\n",
      "  return getattr(self._model, item)\n",
      "/home/geiger_j/.aiida_venvs/adis/lib/python3.10/site-packages/aiida/storage/psql_dos/orm/utils.py:84: SAWarning: Object of type <DbNode> not in session, add operation along 'DbUser.dbnodes' will not proceed (This warning originated from the Session 'autoflush' process, which was invoked automatically in response to a user-initiated operation.)\n",
      "  return getattr(self._model, item)\n",
      "/home/geiger_j/.aiida_venvs/adis/lib/python3.10/site-packages/aiida/storage/psql_dos/orm/utils.py:84: SAWarning: Object of type <DbNode> not in session, add operation along 'DbComputer.dbnodes' will not proceed (This warning originated from the Session 'autoflush' process, which was invoked automatically in response to a user-initiated operation.)\n",
      "  return getattr(self._model, item)\n",
      "/home/geiger_j/.aiida_venvs/adis/lib/python3.10/site-packages/aiida/storage/psql_dos/orm/utils.py:84: SAWarning: Object of type <DbNode> not in session, add operation along 'DbUser.dbnodes' will not proceed (This warning originated from the Session 'autoflush' process, which was invoked automatically in response to a user-initiated operation.)\n",
      "  return getattr(self._model, item)\n",
      "/home/geiger_j/.aiida_venvs/adis/lib/python3.10/site-packages/aiida/storage/psql_dos/orm/utils.py:84: SAWarning: Object of type <DbNode> not in session, add operation along 'DbComputer.dbnodes' will not proceed (This warning originated from the Session 'autoflush' process, which was invoked automatically in response to a user-initiated operation.)\n",
      "  return getattr(self._model, item)\n",
      "/home/geiger_j/.aiida_venvs/adis/lib/python3.10/site-packages/aiida/storage/psql_dos/orm/utils.py:84: SAWarning: Object of type <DbNode> not in session, add operation along 'DbUser.dbnodes' will not proceed (This warning originated from the Session 'autoflush' process, which was invoked automatically in response to a user-initiated operation.)\n",
      "  return getattr(self._model, item)\n",
      "/home/geiger_j/.aiida_venvs/adis/lib/python3.10/site-packages/aiida/storage/psql_dos/orm/utils.py:84: SAWarning: Object of type <DbNode> not in session, add operation along 'DbComputer.dbnodes' will not proceed (This warning originated from the Session 'autoflush' process, which was invoked automatically in response to a user-initiated operation.)\n",
      "  return getattr(self._model, item)\n",
      "/home/geiger_j/.aiida_venvs/adis/lib/python3.10/site-packages/aiida/storage/psql_dos/orm/utils.py:84: SAWarning: Object of type <DbNode> not in session, add operation along 'DbUser.dbnodes' will not proceed (This warning originated from the Session 'autoflush' process, which was invoked automatically in response to a user-initiated operation.)\n",
      "  return getattr(self._model, item)\n",
      "/home/geiger_j/.aiida_venvs/adis/lib/python3.10/site-packages/aiida/storage/psql_dos/orm/utils.py:84: SAWarning: Object of type <DbNode> not in session, add operation along 'DbComputer.dbnodes' will not proceed (This warning originated from the Session 'autoflush' process, which was invoked automatically in response to a user-initiated operation.)\n",
      "  return getattr(self._model, item)\n",
      "/home/geiger_j/.aiida_venvs/adis/lib/python3.10/site-packages/aiida/storage/psql_dos/orm/utils.py:84: SAWarning: Object of type <DbNode> not in session, add operation along 'DbUser.dbnodes' will not proceed (This warning originated from the Session 'autoflush' process, which was invoked automatically in response to a user-initiated operation.)\n",
      "  return getattr(self._model, item)\n",
      "/home/geiger_j/.aiida_venvs/adis/lib/python3.10/site-packages/aiida/storage/psql_dos/orm/utils.py:84: SAWarning: Object of type <DbNode> not in session, add operation along 'DbUser.dbnodes' will not proceed (This warning originated from the Session 'autoflush' process, which was invoked automatically in response to a user-initiated operation.)\n",
      "  return getattr(self._model, item)\n",
      "03/17/2025 06:52:23 AM <3377989> aiida.orm.nodes.process.workflow.workchain.WorkChainNode: [REPORT] [8137|WorkGraphEngine|update_task_state]: Task: qe_0 finished.\n",
      "03/17/2025 06:52:27 AM <3377989> aiida.orm.nodes.process.workflow.workchain.WorkChainNode: [REPORT] [8137|WorkGraphEngine|continue_workgraph]: Continue workgraph.\n",
      "03/17/2025 06:52:27 AM <3377989> aiida.orm.nodes.process.workflow.workchain.WorkChainNode: [REPORT] [8137|WorkGraphEngine|continue_workgraph]: tasks ready to run: \n",
      "03/17/2025 06:52:29 AM <3377989> aiida.orm.nodes.process.workflow.workchain.WorkChainNode: [REPORT] [8137|WorkGraphEngine|on_wait]: Process status: Waiting for child processes: 8323, 8331, 8339, 8347\n",
      "/home/geiger_j/.aiida_venvs/adis/lib/python3.10/site-packages/aiida/storage/psql_dos/orm/utils.py:84: SAWarning: Object of type <DbNode> not in session, add operation along 'DbUser.dbnodes' will not proceed (This warning originated from the Session 'autoflush' process, which was invoked automatically in response to a user-initiated operation.)\n",
      "  return getattr(self._model, item)\n",
      "/home/geiger_j/.aiida_venvs/adis/lib/python3.10/site-packages/aiida/storage/psql_dos/orm/utils.py:84: SAWarning: Object of type <DbNode> not in session, add operation along 'DbUser.dbnodes' will not proceed (This warning originated from the Session 'autoflush' process, which was invoked automatically in response to a user-initiated operation.)\n",
      "  return getattr(self._model, item)\n",
      "/home/geiger_j/.aiida_venvs/adis/lib/python3.10/site-packages/aiida/storage/psql_dos/orm/utils.py:84: SAWarning: Object of type <DbNode> not in session, add operation along 'DbUser.dbnodes' will not proceed (This warning originated from the Session 'autoflush' process, which was invoked automatically in response to a user-initiated operation.)\n",
      "  return getattr(self._model, item)\n",
      "03/17/2025 06:52:35 AM <3377989> aiida.orm.nodes.process.workflow.workchain.WorkChainNode: [REPORT] [8137|WorkGraphEngine|update_task_state]: Task: qe_1 finished.\n",
      "03/17/2025 06:52:36 AM <3377989> aiida.orm.nodes.process.workflow.workchain.WorkChainNode: [REPORT] [8137|WorkGraphEngine|update_task_state]: Task: qe_2 finished.\n",
      "03/17/2025 06:52:36 AM <3377989> aiida.orm.nodes.process.workflow.workchain.WorkChainNode: [REPORT] [8137|WorkGraphEngine|update_task_state]: Task: qe_4 finished.\n",
      "03/17/2025 06:52:40 AM <3377989> aiida.orm.nodes.process.workflow.workchain.WorkChainNode: [REPORT] [8137|WorkGraphEngine|continue_workgraph]: Continue workgraph.\n",
      "03/17/2025 06:52:41 AM <3377989> aiida.orm.nodes.process.workflow.workchain.WorkChainNode: [REPORT] [8137|WorkGraphEngine|continue_workgraph]: tasks ready to run: \n",
      "03/17/2025 06:52:42 AM <3377989> aiida.orm.nodes.process.workflow.workchain.WorkChainNode: [REPORT] [8137|WorkGraphEngine|on_wait]: Process status: Waiting for child processes: 8339\n",
      "/home/geiger_j/.aiida_venvs/adis/lib/python3.10/site-packages/aiida/storage/psql_dos/orm/utils.py:84: SAWarning: Object of type <DbNode> not in session, add operation along 'DbUser.dbnodes' will not proceed (This warning originated from the Session 'autoflush' process, which was invoked automatically in response to a user-initiated operation.)\n",
      "  return getattr(self._model, item)\n",
      "03/17/2025 06:52:47 AM <3377989> aiida.orm.nodes.process.workflow.workchain.WorkChainNode: [REPORT] [8137|WorkGraphEngine|update_task_state]: Task: qe_3 finished.\n",
      "03/17/2025 06:52:51 AM <3377989> aiida.orm.nodes.process.workflow.workchain.WorkChainNode: [REPORT] [8137|WorkGraphEngine|continue_workgraph]: Continue workgraph.\n",
      "03/17/2025 06:52:52 AM <3377989> aiida.orm.nodes.process.workflow.workchain.WorkChainNode: [REPORT] [8137|WorkGraphEngine|continue_workgraph]: tasks ready to run: get_volumes,get_energies\n",
      "03/17/2025 06:52:52 AM <3377989> aiida.orm.nodes.process.workflow.workchain.WorkChainNode: [REPORT] [8137|WorkGraphEngine|run_tasks]: Run task: get_volumes, type: PYTHONJOB\n",
      "/home/geiger_j/.aiida_venvs/adis/lib/python3.10/site-packages/aiida/storage/psql_dos/backend.py:271: SAWarning: Object of type <DbNode> not in session, add operation along 'DbUser.dbnodes' will not proceed\n",
      "  with session.begin_nested() as savepoint:\n",
      "/home/geiger_j/.aiida_venvs/adis/lib/python3.10/site-packages/aiida/storage/psql_dos/orm/utils.py:84: SAWarning: Object of type <DbNode> not in session, add operation along 'DbUser.dbnodes' will not proceed (This warning originated from the Session 'autoflush' process, which was invoked automatically in response to a user-initiated operation.)\n",
      "  return getattr(self._model, item)\n",
      "/home/geiger_j/.aiida_venvs/adis/lib/python3.10/site-packages/aiida/storage/psql_dos/backend.py:271: SAWarning: Object of type <DbNode> not in session, add operation along 'DbUser.dbnodes' will not proceed\n",
      "  with session.begin_nested() as savepoint:\n"
     ]
    },
    {
     "name": "stdout",
     "output_type": "stream",
     "text": [
      "------------------------------------------------------------\n",
      "kwargs:  {'register_pickle_by_value': True}\n"
     ]
    },
    {
     "name": "stderr",
     "output_type": "stream",
     "text": [
      "/home/geiger_j/.aiida_venvs/adis/lib/python3.10/site-packages/aiida/storage/psql_dos/orm/nodes.py:224: SAWarning: Object of type <DbNode> not in session, add operation along 'DbComputer.dbnodes' will not proceed\n",
      "  session.commit()\n",
      "03/17/2025 06:52:53 AM <3377989> aiida.orm.nodes.process.workflow.workchain.WorkChainNode: [REPORT] [8137|WorkGraphEngine|run_tasks]: Run task: get_energies, type: PYTHONJOB\n"
     ]
    },
    {
     "name": "stdout",
     "output_type": "stream",
     "text": [
      "------------------------------------------------------------\n",
      "kwargs:  {'register_pickle_by_value': True}\n"
     ]
    },
    {
     "name": "stderr",
     "output_type": "stream",
     "text": [
      "/home/geiger_j/.aiida_venvs/adis/lib/python3.10/site-packages/aiida/storage/psql_dos/backend.py:271: SAWarning: Object of type <DbNode> not in session, add operation along 'DbUser.dbnodes' will not proceed\n",
      "  with session.begin_nested() as savepoint:\n",
      "/home/geiger_j/.aiida_venvs/adis/lib/python3.10/site-packages/aiida/storage/psql_dos/orm/utils.py:84: SAWarning: Object of type <DbNode> not in session, add operation along 'DbUser.dbnodes' will not proceed (This warning originated from the Session 'autoflush' process, which was invoked automatically in response to a user-initiated operation.)\n",
      "  return getattr(self._model, item)\n",
      "/home/geiger_j/.aiida_venvs/adis/lib/python3.10/site-packages/aiida/storage/psql_dos/backend.py:271: SAWarning: Object of type <DbNode> not in session, add operation along 'DbUser.dbnodes' will not proceed\n",
      "  with session.begin_nested() as savepoint:\n",
      "/home/geiger_j/.aiida_venvs/adis/lib/python3.10/site-packages/aiida/storage/psql_dos/orm/nodes.py:224: SAWarning: Object of type <DbNode> not in session, add operation along 'DbComputer.dbnodes' will not proceed\n",
      "  session.commit()\n",
      "03/17/2025 06:52:56 AM <3377989> aiida.orm.nodes.process.workflow.workchain.WorkChainNode: [REPORT] [8137|WorkGraphEngine|on_wait]: Process status: Waiting for child processes: 8384, 8391\n",
      "/home/geiger_j/.aiida_venvs/adis/lib/python3.10/site-packages/aiida/storage/psql_dos/orm/utils.py:84: SAWarning: Object of type <DbNode> not in session, add operation along 'DbUser.dbnodes' will not proceed (This warning originated from the Session 'autoflush' process, which was invoked automatically in response to a user-initiated operation.)\n",
      "  return getattr(self._model, item)\n",
      "/home/geiger_j/.aiida_venvs/adis/lib/python3.10/site-packages/aiida/storage/psql_dos/orm/utils.py:84: SAWarning: Object of type <DbNode> not in session, add operation along 'DbComputer.dbnodes' will not proceed (This warning originated from the Session 'autoflush' process, which was invoked automatically in response to a user-initiated operation.)\n",
      "  return getattr(self._model, item)\n",
      "/home/geiger_j/.aiida_venvs/adis/lib/python3.10/site-packages/aiida/storage/psql_dos/orm/utils.py:84: SAWarning: Object of type <DbNode> not in session, add operation along 'DbUser.dbnodes' will not proceed (This warning originated from the Session 'autoflush' process, which was invoked automatically in response to a user-initiated operation.)\n",
      "  return getattr(self._model, item)\n",
      "/home/geiger_j/.aiida_venvs/adis/lib/python3.10/site-packages/aiida/storage/psql_dos/orm/utils.py:84: SAWarning: Object of type <DbNode> not in session, add operation along 'DbComputer.dbnodes' will not proceed (This warning originated from the Session 'autoflush' process, which was invoked automatically in response to a user-initiated operation.)\n",
      "  return getattr(self._model, item)\n",
      "/home/geiger_j/.aiida_venvs/adis/lib/python3.10/site-packages/aiida/storage/psql_dos/orm/utils.py:84: SAWarning: Object of type <DbNode> not in session, add operation along 'DbUser.dbnodes' will not proceed (This warning originated from the Session 'autoflush' process, which was invoked automatically in response to a user-initiated operation.)\n",
      "  return getattr(self._model, item)\n",
      "/home/geiger_j/.aiida_venvs/adis/lib/python3.10/site-packages/aiida/storage/psql_dos/orm/utils.py:84: SAWarning: Object of type <DbNode> not in session, add operation along 'DbUser.dbnodes' will not proceed (This warning originated from the Session 'autoflush' process, which was invoked automatically in response to a user-initiated operation.)\n",
      "  return getattr(self._model, item)\n",
      "03/17/2025 06:53:03 AM <3377989> aiida.orm.nodes.process.workflow.workchain.WorkChainNode: [REPORT] [8137|WorkGraphEngine|update_task_state]: Task: get_volumes finished.\n",
      "03/17/2025 06:53:04 AM <3377989> aiida.orm.nodes.process.workflow.workchain.WorkChainNode: [REPORT] [8137|WorkGraphEngine|update_task_state]: Task: get_energies finished.\n",
      "03/17/2025 06:53:07 AM <3377989> aiida.orm.nodes.process.workflow.workchain.WorkChainNode: [REPORT] [8137|WorkGraphEngine|continue_workgraph]: Continue workgraph.\n",
      "03/17/2025 06:53:08 AM <3377989> aiida.orm.nodes.process.workflow.workchain.WorkChainNode: [REPORT] [8137|WorkGraphEngine|continue_workgraph]: tasks ready to run: plot_energy_volume_curve22\n",
      "03/17/2025 06:53:08 AM <3377989> aiida.orm.nodes.process.workflow.workchain.WorkChainNode: [REPORT] [8137|WorkGraphEngine|run_tasks]: Run task: plot_energy_volume_curve22, type: PYTHONJOB\n",
      "/home/geiger_j/.aiida_venvs/adis/lib/python3.10/site-packages/aiida/storage/psql_dos/backend.py:271: SAWarning: Object of type <DbNode> not in session, add operation along 'DbUser.dbnodes' will not proceed\n",
      "  with session.begin_nested() as savepoint:\n",
      "/home/geiger_j/.aiida_venvs/adis/lib/python3.10/site-packages/aiida/storage/psql_dos/orm/utils.py:84: SAWarning: Object of type <DbNode> not in session, add operation along 'DbUser.dbnodes' will not proceed (This warning originated from the Session 'autoflush' process, which was invoked automatically in response to a user-initiated operation.)\n",
      "  return getattr(self._model, item)\n",
      "/home/geiger_j/.aiida_venvs/adis/lib/python3.10/site-packages/aiida/storage/psql_dos/backend.py:271: SAWarning: Object of type <DbNode> not in session, add operation along 'DbUser.dbnodes' will not proceed\n",
      "  with session.begin_nested() as savepoint:\n"
     ]
    },
    {
     "name": "stdout",
     "output_type": "stream",
     "text": [
      "------------------------------------------------------------\n",
      "kwargs:  {'energy_lst': <List: uuid: 6966fa72-9f11-461d-a144-924d4016a218 (pk: 8399) value: [-1074.8457448491, -1074.916148965, -1074.9365241649, -1074.9192859118, -1074.8737903054]>, 'register_pickle_by_value': True, 'volume_lst': <List: uuid: dfa296a3-559e-46ff-b998-f21ea56cbb8a (pk: 8398) value: [59.594114001539, 62.904898112736, 66.215682223933, 69.526466335129, 72.837250446326]>}\n"
     ]
    },
    {
     "name": "stderr",
     "output_type": "stream",
     "text": [
      "/home/geiger_j/.aiida_venvs/adis/lib/python3.10/site-packages/aiida/storage/psql_dos/orm/nodes.py:224: SAWarning: Object of type <DbNode> not in session, add operation along 'DbComputer.dbnodes' will not proceed\n",
      "  session.commit()\n",
      "03/17/2025 06:53:11 AM <3377989> aiida.orm.nodes.process.workflow.workchain.WorkChainNode: [REPORT] [8137|WorkGraphEngine|on_wait]: Process status: Waiting for child processes: 8406\n",
      "/home/geiger_j/.aiida_venvs/adis/lib/python3.10/site-packages/aiida/storage/psql_dos/orm/utils.py:84: SAWarning: Object of type <DbNode> not in session, add operation along 'DbUser.dbnodes' will not proceed (This warning originated from the Session 'autoflush' process, which was invoked automatically in response to a user-initiated operation.)\n",
      "  return getattr(self._model, item)\n",
      "/home/geiger_j/.aiida_venvs/adis/lib/python3.10/site-packages/aiida/storage/psql_dos/orm/utils.py:84: SAWarning: Object of type <DbNode> not in session, add operation along 'DbComputer.dbnodes' will not proceed (This warning originated from the Session 'autoflush' process, which was invoked automatically in response to a user-initiated operation.)\n",
      "  return getattr(self._model, item)\n",
      "/home/geiger_j/.aiida_venvs/adis/lib/python3.10/site-packages/aiida/storage/psql_dos/orm/utils.py:84: SAWarning: Object of type <DbNode> not in session, add operation along 'DbUser.dbnodes' will not proceed (This warning originated from the Session 'autoflush' process, which was invoked automatically in response to a user-initiated operation.)\n",
      "  return getattr(self._model, item)\n",
      "03/17/2025 06:53:18 AM <3377989> aiida.orm.nodes.process.workflow.workchain.WorkChainNode: [REPORT] [8137|WorkGraphEngine|update_task_state]: Task: plot_energy_volume_curve22 finished.\n",
      "03/17/2025 06:53:21 AM <3377989> aiida.orm.nodes.process.workflow.workchain.WorkChainNode: [REPORT] [8137|WorkGraphEngine|continue_workgraph]: Continue workgraph.\n",
      "03/17/2025 06:53:22 AM <3377989> aiida.orm.nodes.process.workflow.workchain.WorkChainNode: [REPORT] [8137|WorkGraphEngine|continue_workgraph]: tasks ready to run: \n",
      "03/17/2025 06:53:24 AM <3377989> aiida.orm.nodes.process.workflow.workchain.WorkChainNode: [REPORT] [8137|WorkGraphEngine|finalize]: Finalize workgraph.\n"
     ]
    },
    {
     "name": "stdout",
     "output_type": "stream",
     "text": [
      "group_outputs []\n",
      "group_outputs:  {}\n"
     ]
    },
    {
     "data": {
      "text/plain": [
       "{'execution_count': <Int: uuid: 14eeea98-1270-4e8d-9ff8-4afac350fa00 (pk: 8411) value: 1>}"
      ]
     },
     "execution_count": 3,
     "metadata": {},
     "output_type": "execute_result"
    }
   ],
   "source": [
    "wg.run()"
   ]
  }
 ],
 "metadata": {
  "kernelspec": {
   "display_name": "ADIS",
   "language": "python",
   "name": "python3"
  },
  "language_info": {
   "codemirror_mode": {
    "name": "ipython",
    "version": 3
   },
   "file_extension": ".py",
   "mimetype": "text/x-python",
   "name": "python",
   "nbconvert_exporter": "python",
   "pygments_lexer": "ipython3",
   "version": "3.10.12"
  }
 },
 "nbformat": 4,
 "nbformat_minor": 2
}
