{
 "cells": [
  {
   "cell_type": "code",
   "execution_count": 5,
   "metadata": {},
   "outputs": [],
   "source": [
    "from python_workflow_definition.aiida import write_workflow_json, construct_wg_qe\n",
    "from python_workflow_definition.jobflow import load_workflow_json\n",
    "from jobflow.managers.local import run_locally\n",
    "\n",
    "from aiida import load_profile\n",
    "load_profile()\n",
    "\n",
    "workflow_json_filename =  \"workflow_qe_aiida.json\""
   ]
  },
  {
   "cell_type": "code",
   "execution_count": 6,
   "metadata": {},
   "outputs": [
    {
     "data": {
      "text/html": [
       "\n",
       "        <iframe\n",
       "            width=\"100%\"\n",
       "            height=\"600px\"\n",
       "            src=\"wg-aiida-fix.html\"\n",
       "            frameborder=\"0\"\n",
       "            allowfullscreen\n",
       "            \n",
       "        ></iframe>\n",
       "        "
      ],
      "text/plain": [
       "<IPython.lib.display.IFrame at 0x7f649f7e6770>"
      ]
     },
     "execution_count": 6,
     "metadata": {},
     "output_type": "execute_result"
    }
   ],
   "source": [
    "from quantum_espresso_workflow import (\n",
    "    generate_structures,\n",
    "    get_bulk_structure,\n",
    "    calculate_qe,\n",
    "    plot_energy_volume_curve,\n",
    ")\n",
    "\n",
    "from python_workflow_definition.aiida import pickle_node, construct_wg_qe\n",
    "from python_workflow_definition.shared import get_list, get_dict\n",
    "\n",
    "# from python_workflow_definition.pyiron_base import  get_dict\n",
    "from aiida_workgraph import WorkGraph, task\n",
    "from typing import Any\n",
    "\n",
    "load_profile()\n",
    "\n",
    "get_list_task = task.pythonjob(get_list)\n",
    "get_dict_task = task.pythonjob(get_dict)\n",
    "pickle_node_task = task.pythonjob(pickle_node)\n",
    "get_bulk_structure_task = task.pythonjob()(get_bulk_structure)\n",
    "generate_structures_task = task.pythonjob()(generate_structures)\n",
    "calculate_qe_task = task.pythonjob(outputs=[\"energy\", \"volume\", \"structure\"])(\n",
    "    calculate_qe\n",
    ")\n",
    "plot_energy_volume_curve_task = task.pythonjob()(plot_energy_volume_curve)\n",
    "\n",
    "strain_lst = [0.9, 0.95, 1.0, 1.05, 1.1]\n",
    "\n",
    "wg = construct_wg_qe(\n",
    "    get_dict_task=get_dict_task,\n",
    "    get_list_task=get_list_task,\n",
    "    pickle_node_task=pickle_node_task,\n",
    "    get_bulk_structure_task=get_bulk_structure_task,\n",
    "    calculate_qe_task=calculate_qe_task,\n",
    "    generate_structures_task=generate_structures_task,\n",
    "    plot_energy_volume_curve_task=plot_energy_volume_curve_task,\n",
    "    strain_lst=strain_lst\n",
    ")\n",
    "\n",
    "wg\n",
    "wg.to_html(\"wg-aiida-fix.html\")"
   ]
  },
  {
   "cell_type": "code",
   "execution_count": 7,
   "metadata": {},
   "outputs": [],
   "source": [
    "_ = write_workflow_json(wg=wg, file_name=workflow_json_filename)\n"
   ]
  },
  {
   "cell_type": "code",
   "execution_count": 8,
   "metadata": {},
   "outputs": [
    {
     "ename": "KeyError",
     "evalue": "0",
     "output_type": "error",
     "traceback": [
      "\u001b[0;31m---------------------------------------------------------------------------\u001b[0m",
      "\u001b[0;31mKeyError\u001b[0m                                  Traceback (most recent call last)",
      "Cell \u001b[0;32mIn[8], line 1\u001b[0m\n\u001b[0;32m----> 1\u001b[0m flow \u001b[38;5;241m=\u001b[39m \u001b[43mload_workflow_json\u001b[49m\u001b[43m(\u001b[49m\u001b[43mfile_name\u001b[49m\u001b[38;5;241;43m=\u001b[39;49m\u001b[43mworkflow_json_filename\u001b[49m\u001b[43m)\u001b[49m\n",
      "File \u001b[0;32m~/aiida_projects/adis/git-repos/python-workflow-definition/python_workflow_definition/src/python_workflow_definition/jobflow.py:188\u001b[0m, in \u001b[0;36mload_workflow_json\u001b[0;34m(file_name)\u001b[0m\n\u001b[1;32m    186\u001b[0m input_dict \u001b[38;5;241m=\u001b[39m _get_input_dict(nodes_dict\u001b[38;5;241m=\u001b[39mnodes_new_dict)\n\u001b[1;32m    187\u001b[0m new_total_dict \u001b[38;5;241m=\u001b[39m _resort_total_lst(total_dict\u001b[38;5;241m=\u001b[39mtotal_dict, nodes_dict\u001b[38;5;241m=\u001b[39mnodes_new_dict)\n\u001b[0;32m--> 188\u001b[0m task_lst \u001b[38;5;241m=\u001b[39m \u001b[43m_get_workflow\u001b[49m\u001b[43m(\u001b[49m\n\u001b[1;32m    189\u001b[0m \u001b[43m    \u001b[49m\u001b[43mnodes_dict\u001b[49m\u001b[38;5;241;43m=\u001b[39;49m\u001b[43mnodes_new_dict\u001b[49m\u001b[43m,\u001b[49m\n\u001b[1;32m    190\u001b[0m \u001b[43m    \u001b[49m\u001b[43minput_dict\u001b[49m\u001b[38;5;241;43m=\u001b[39;49m\u001b[43minput_dict\u001b[49m\u001b[43m,\u001b[49m\n\u001b[1;32m    191\u001b[0m \u001b[43m    \u001b[49m\u001b[43mtotal_dict\u001b[49m\u001b[38;5;241;43m=\u001b[39;49m\u001b[43mnew_total_dict\u001b[49m\u001b[43m,\u001b[49m\n\u001b[1;32m    192\u001b[0m \u001b[43m    \u001b[49m\u001b[43msource_handles_dict\u001b[49m\u001b[38;5;241;43m=\u001b[39;49m\u001b[43msource_handles_dict\u001b[49m\u001b[43m,\u001b[49m\n\u001b[1;32m    193\u001b[0m \u001b[43m\u001b[49m\u001b[43m)\u001b[49m\n\u001b[1;32m    194\u001b[0m \u001b[38;5;28;01mreturn\u001b[39;00m Flow(task_lst)\n",
      "File \u001b[0;32m~/aiida_projects/adis/git-repos/python-workflow-definition/python_workflow_definition/src/python_workflow_definition/jobflow.py:141\u001b[0m, in \u001b[0;36m_get_workflow\u001b[0;34m(nodes_dict, input_dict, total_dict, source_handles_dict)\u001b[0m\n\u001b[1;32m    139\u001b[0m         \u001b[38;5;28;01melse\u001b[39;00m:\n\u001b[1;32m    140\u001b[0m             fn \u001b[38;5;241m=\u001b[39m job(method\u001b[38;5;241m=\u001b[39mv)\n\u001b[0;32m--> 141\u001b[0m         kwargs \u001b[38;5;241m=\u001b[39m {\n\u001b[1;32m    142\u001b[0m             kw: input_dict[vw[\u001b[38;5;124m'\u001b[39m\u001b[38;5;124msource\u001b[39m\u001b[38;5;124m'\u001b[39m]] \u001b[38;5;28;01mif\u001b[39;00m vw[\u001b[38;5;124m'\u001b[39m\u001b[38;5;124msource\u001b[39m\u001b[38;5;124m'\u001b[39m] \u001b[38;5;129;01min\u001b[39;00m input_dict \u001b[38;5;28;01melse\u001b[39;00m get_attr_helper(\n\u001b[1;32m    143\u001b[0m                 obj\u001b[38;5;241m=\u001b[39mmemory_dict[vw[\u001b[38;5;124m'\u001b[39m\u001b[38;5;124msource\u001b[39m\u001b[38;5;124m'\u001b[39m]], source_handle\u001b[38;5;241m=\u001b[39mvw[\u001b[38;5;124m'\u001b[39m\u001b[38;5;124msourceHandle\u001b[39m\u001b[38;5;124m'\u001b[39m])\n\u001b[1;32m    144\u001b[0m             \u001b[38;5;28;01mfor\u001b[39;00m kw, vw \u001b[38;5;129;01min\u001b[39;00m total_dict[k]\u001b[38;5;241m.\u001b[39mitems()\n\u001b[1;32m    145\u001b[0m         }\n\u001b[1;32m    146\u001b[0m         memory_dict[k] \u001b[38;5;241m=\u001b[39m fn(\u001b[38;5;241m*\u001b[39m\u001b[38;5;241m*\u001b[39mkwargs)\n\u001b[1;32m    147\u001b[0m \u001b[38;5;28;01mreturn\u001b[39;00m \u001b[38;5;28mlist\u001b[39m(memory_dict\u001b[38;5;241m.\u001b[39mvalues())\n",
      "File \u001b[0;32m~/aiida_projects/adis/git-repos/python-workflow-definition/python_workflow_definition/src/python_workflow_definition/jobflow.py:143\u001b[0m, in \u001b[0;36m<dictcomp>\u001b[0;34m(.0)\u001b[0m\n\u001b[1;32m    139\u001b[0m         \u001b[38;5;28;01melse\u001b[39;00m:\n\u001b[1;32m    140\u001b[0m             fn \u001b[38;5;241m=\u001b[39m job(method\u001b[38;5;241m=\u001b[39mv)\n\u001b[1;32m    141\u001b[0m         kwargs \u001b[38;5;241m=\u001b[39m {\n\u001b[1;32m    142\u001b[0m             kw: input_dict[vw[\u001b[38;5;124m'\u001b[39m\u001b[38;5;124msource\u001b[39m\u001b[38;5;124m'\u001b[39m]] \u001b[38;5;28;01mif\u001b[39;00m vw[\u001b[38;5;124m'\u001b[39m\u001b[38;5;124msource\u001b[39m\u001b[38;5;124m'\u001b[39m] \u001b[38;5;129;01min\u001b[39;00m input_dict \u001b[38;5;28;01melse\u001b[39;00m get_attr_helper(\n\u001b[0;32m--> 143\u001b[0m                 obj\u001b[38;5;241m=\u001b[39m\u001b[43mmemory_dict\u001b[49m\u001b[43m[\u001b[49m\u001b[43mvw\u001b[49m\u001b[43m[\u001b[49m\u001b[38;5;124;43m'\u001b[39;49m\u001b[38;5;124;43msource\u001b[39;49m\u001b[38;5;124;43m'\u001b[39;49m\u001b[43m]\u001b[49m\u001b[43m]\u001b[49m, source_handle\u001b[38;5;241m=\u001b[39mvw[\u001b[38;5;124m'\u001b[39m\u001b[38;5;124msourceHandle\u001b[39m\u001b[38;5;124m'\u001b[39m])\n\u001b[1;32m    144\u001b[0m             \u001b[38;5;28;01mfor\u001b[39;00m kw, vw \u001b[38;5;129;01min\u001b[39;00m total_dict[k]\u001b[38;5;241m.\u001b[39mitems()\n\u001b[1;32m    145\u001b[0m         }\n\u001b[1;32m    146\u001b[0m         memory_dict[k] \u001b[38;5;241m=\u001b[39m fn(\u001b[38;5;241m*\u001b[39m\u001b[38;5;241m*\u001b[39mkwargs)\n\u001b[1;32m    147\u001b[0m \u001b[38;5;28;01mreturn\u001b[39;00m \u001b[38;5;28mlist\u001b[39m(memory_dict\u001b[38;5;241m.\u001b[39mvalues())\n",
      "\u001b[0;31mKeyError\u001b[0m: 0"
     ]
    }
   ],
   "source": [
    "\n",
    "flow = load_workflow_json(file_name=workflow_json_filename)"
   ]
  },
  {
   "cell_type": "code",
   "execution_count": null,
   "metadata": {},
   "outputs": [
    {
     "name": "stdout",
     "output_type": "stream",
     "text": [
      "2025-03-15 11:21:45,872 INFO Started executing jobs locally\n",
      "2025-03-15 11:21:46,028 INFO Starting job - add_x_and_y (31bed0f7-49cd-4e63-9a53-8c9679e74dd2)\n",
      "2025-03-15 11:21:46,030 INFO Finished job - add_x_and_y (31bed0f7-49cd-4e63-9a53-8c9679e74dd2)\n",
      "2025-03-15 11:21:46,031 INFO Starting job - add_x_and_y_and_z (7d74164e-3d5b-40d0-b72b-4fc5434a98e1)\n",
      "2025-03-15 11:21:46,033 INFO Finished job - add_x_and_y_and_z (7d74164e-3d5b-40d0-b72b-4fc5434a98e1)\n",
      "2025-03-15 11:21:46,033 INFO Finished executing jobs locally\n"
     ]
    },
    {
     "data": {
      "text/plain": [
       "{'31bed0f7-49cd-4e63-9a53-8c9679e74dd2': {1: Response(output={'x': 1, 'y': 2, 'z': 3}, detour=None, addition=None, replace=None, stored_data=None, stop_children=False, stop_jobflow=False, job_dir=PosixPath('/home/geiger_j/aiida_projects/adis/git-repos/python-workflow-definition'))},\n",
       " '7d74164e-3d5b-40d0-b72b-4fc5434a98e1': {1: Response(output=6, detour=None, addition=None, replace=None, stored_data=None, stop_children=False, stop_jobflow=False, job_dir=PosixPath('/home/geiger_j/aiida_projects/adis/git-repos/python-workflow-definition'))}}"
      ]
     },
     "execution_count": 6,
     "metadata": {},
     "output_type": "execute_result"
    }
   ],
   "source": [
    "result = run_locally(flow)\n",
    "result"
   ]
  }
 ],
 "metadata": {
  "kernelspec": {
   "display_name": "ADIS",
   "language": "python",
   "name": "python3"
  },
  "language_info": {
   "codemirror_mode": {
    "name": "ipython",
    "version": 3
   },
   "file_extension": ".py",
   "mimetype": "text/x-python",
   "name": "python",
   "nbconvert_exporter": "python",
   "pygments_lexer": "ipython3",
   "version": "3.10.12"
  }
 },
 "nbformat": 4,
 "nbformat_minor": 2
}
