{
 "cells": [
  {
   "cell_type": "code",
   "execution_count": 1,
   "metadata": {},
   "outputs": [
    {
     "name": "stderr",
     "output_type": "stream",
     "text": [
      "/home/geiger_j/.aiida_venvs/adis/lib/python3.10/site-packages/paramiko/pkey.py:82: CryptographyDeprecationWarning: TripleDES has been moved to cryptography.hazmat.decrepit.ciphers.algorithms.TripleDES and will be removed from this module in 48.0.0.\n",
      "  \"cipher\": algorithms.TripleDES,\n",
      "/home/geiger_j/.aiida_venvs/adis/lib/python3.10/site-packages/paramiko/transport.py:253: CryptographyDeprecationWarning: TripleDES has been moved to cryptography.hazmat.decrepit.ciphers.algorithms.TripleDES and will be removed from this module in 48.0.0.\n",
      "  \"class\": algorithms.TripleDES,\n"
     ]
    }
   ],
   "source": [
    "from python_workflow_definition.aiida import write_workflow_json, construct_wg_qe\n",
    "from python_workflow_definition.jobflow import load_workflow_json\n",
    "from jobflow.managers.local import run_locally\n",
    "\n",
    "from aiida import load_profile\n",
    "load_profile()\n",
    "\n",
    "workflow_json_filename =  \"workflow_qe_aiida.json\""
   ]
  },
  {
   "cell_type": "code",
   "execution_count": 2,
   "metadata": {},
   "outputs": [
    {
     "data": {
      "text/html": [
       "\n",
       "        <iframe\n",
       "            width=\"100%\"\n",
       "            height=\"600px\"\n",
       "            src=\"wg-aiida-fix.html\"\n",
       "            frameborder=\"0\"\n",
       "            allowfullscreen\n",
       "            \n",
       "        ></iframe>\n",
       "        "
      ],
      "text/plain": [
       "<IPython.lib.display.IFrame at 0x7fef4c99d390>"
      ]
     },
     "execution_count": 2,
     "metadata": {},
     "output_type": "execute_result"
    }
   ],
   "source": [
    "from quantum_espresso_workflow import (\n",
    "    generate_structures,\n",
    "    get_bulk_structure,\n",
    "    calculate_qe,\n",
    "    plot_energy_volume_curve,\n",
    ")\n",
    "\n",
    "from python_workflow_definition.aiida import pickle_node, construct_wg_qe\n",
    "from python_workflow_definition.shared import get_list, get_dict\n",
    "\n",
    "# from python_workflow_definition.pyiron_base import  get_dict\n",
    "from aiida_workgraph import WorkGraph, task\n",
    "from typing import Any\n",
    "\n",
    "load_profile()\n",
    "\n",
    "get_list_task = task.pythonjob(get_list)\n",
    "get_dict_task = task.pythonjob(get_dict)\n",
    "pickle_node_task = task.pythonjob(pickle_node)\n",
    "get_bulk_structure_task = task.pythonjob()(get_bulk_structure)\n",
    "generate_structures_task = task.pythonjob()(generate_structures)\n",
    "calculate_qe_task = task.pythonjob(outputs=[\"energy\", \"volume\", \"structure\"])(\n",
    "    calculate_qe\n",
    ")\n",
    "plot_energy_volume_curve_task = task.pythonjob()(plot_energy_volume_curve)\n",
    "\n",
    "strain_lst = [0.9, 0.95, 1.0, 1.05, 1.1]\n",
    "\n",
    "wg = construct_wg_qe(\n",
    "    get_dict_task=get_dict_task,\n",
    "    get_list_task=get_list_task,\n",
    "    pickle_node_task=pickle_node_task,\n",
    "    get_bulk_structure_task=get_bulk_structure_task,\n",
    "    calculate_qe_task=calculate_qe_task,\n",
    "    generate_structures_task=generate_structures_task,\n",
    "    plot_energy_volume_curve_task=plot_energy_volume_curve_task,\n",
    "    strain_lst=strain_lst\n",
    ")\n",
    "\n",
    "wg\n",
    "wg.to_html(\"wg-aiida-fix.html\")"
   ]
  },
  {
   "cell_type": "code",
   "execution_count": 3,
   "metadata": {},
   "outputs": [],
   "source": [
    "_ = write_workflow_json(wg=wg, file_name=workflow_json_filename)\n"
   ]
  },
  {
   "cell_type": "code",
   "execution_count": 4,
   "metadata": {},
   "outputs": [],
   "source": [
    "\n",
    "flow = load_workflow_json(file_name=workflow_json_filename)"
   ]
  },
  {
   "cell_type": "code",
   "execution_count": 5,
   "metadata": {},
   "outputs": [
    {
     "name": "stdout",
     "output_type": "stream",
     "text": [
      "2025-03-17 13:03:08,254 INFO Started executing jobs locally\n",
      "2025-03-17 13:03:08,350 INFO Starting job - get_bulk_structure (2752a57d-0f42-46d2-b030-a2061311d315)\n",
      "2025-03-17 13:03:08,506 INFO Finished job - get_bulk_structure (2752a57d-0f42-46d2-b030-a2061311d315)\n",
      "2025-03-17 13:03:08,507 INFO Starting job - get_dict (798cca09-0626-4cf6-8236-c5c6f5340458)\n",
      "> \u001b[0;32m/home/geiger_j/.aiida_venvs/adis/lib/python3.10/site-packages/jobflow/core/reference.py\u001b[0m(189)\u001b[0;36mresolve\u001b[0;34m()\u001b[0m\n",
      "\u001b[0;32m    188 \u001b[0;31m                \u001b[0mdata\u001b[0m\u001b[0;34m[\u001b[0m\u001b[0mattr\u001b[0m\u001b[0;34m]\u001b[0m\u001b[0;34m\u001b[0m\u001b[0;34m\u001b[0m\u001b[0m\n",
      "\u001b[0m\u001b[0;32m--> 189 \u001b[0;31m                \u001b[0;32mif\u001b[0m \u001b[0mattr_type\u001b[0m \u001b[0;34m==\u001b[0m \u001b[0;34m\"i\"\u001b[0m \u001b[0;32mor\u001b[0m \u001b[0misinstance\u001b[0m\u001b[0;34m(\u001b[0m\u001b[0mdata\u001b[0m\u001b[0;34m,\u001b[0m \u001b[0mdict\u001b[0m\u001b[0;34m)\u001b[0m\u001b[0;34m\u001b[0m\u001b[0;34m\u001b[0m\u001b[0m\n",
      "\u001b[0m\u001b[0;32m    190 \u001b[0;31m                \u001b[0;32melse\u001b[0m \u001b[0mgetattr\u001b[0m\u001b[0;34m(\u001b[0m\u001b[0mdata\u001b[0m\u001b[0;34m,\u001b[0m \u001b[0mattr\u001b[0m\u001b[0;34m)\u001b[0m\u001b[0;34m\u001b[0m\u001b[0;34m\u001b[0m\u001b[0m\n",
      "\u001b[0m\n",
      "--KeyboardInterrupt--\n",
      "\n",
      "KeyboardInterrupt: Interrupted by user\n",
      "2025-03-17 13:04:08,108 INFO get_dict failed with exception:\n",
      "Traceback (most recent call last):\n",
      "  File \"/home/geiger_j/.aiida_venvs/adis/lib/python3.10/site-packages/jobflow/managers/local.py\", line 117, in _run_job\n",
      "    response = job.run(store=store)\n",
      "  File \"/home/geiger_j/.aiida_venvs/adis/lib/python3.10/site-packages/jobflow/core/job.py\", line 593, in run\n",
      "    self.resolve_args(store=store)\n",
      "  File \"/home/geiger_j/.aiida_venvs/adis/lib/python3.10/site-packages/jobflow/core/job.py\", line 709, in resolve_args\n",
      "    resolved_kwargs = find_and_resolve_references(\n",
      "  File \"/home/geiger_j/.aiida_venvs/adis/lib/python3.10/site-packages/jobflow/core/reference.py\", line 474, in find_and_resolve_references\n",
      "    resolved_references = resolve_references(\n",
      "  File \"/home/geiger_j/.aiida_venvs/adis/lib/python3.10/site-packages/jobflow/core/reference.py\", line 362, in resolve_references\n",
      "    resolved_references[ref] = ref.resolve(\n",
      "  File \"/home/geiger_j/.aiida_venvs/adis/lib/python3.10/site-packages/jobflow/core/reference.py\", line 188, in resolve\n",
      "    data[attr]\n",
      "KeyError: 'result'\n",
      "\n",
      "2025-03-17 13:04:08,109 INFO Finished executing jobs locally\n"
     ]
    },
    {
     "data": {
      "text/plain": [
       "{'2752a57d-0f42-46d2-b030-a2061311d315': {1: Response(output={'numbers': [13, 13, 13, 13], 'positions': [[0.0, 0.0, 0.0], [0.0, 2.025, 2.025], [2.025, 0.0, 2.025], [2.025, 2.025, 0.0]], 'cell': [[4.05, 0.0, 0.0], [0.0, 4.05, 0.0], [0.0, 0.0, 4.05]], 'pbc': [True, True, True]}, detour=None, addition=None, replace=None, stored_data=None, stop_children=False, stop_jobflow=False, job_dir=PosixPath('/home/geiger_j/aiida_projects/adis/git-repos/python-workflow-definition'))}}"
      ]
     },
     "execution_count": 5,
     "metadata": {},
     "output_type": "execute_result"
    }
   ],
   "source": [
    "result = run_locally(flow)\n",
    "result"
   ]
  }
 ],
 "metadata": {
  "kernelspec": {
   "display_name": "ADIS",
   "language": "python",
   "name": "python3"
  },
  "language_info": {
   "codemirror_mode": {
    "name": "ipython",
    "version": 3
   },
   "file_extension": ".py",
   "mimetype": "text/x-python",
   "name": "python",
   "nbconvert_exporter": "python",
   "pygments_lexer": "ipython3",
   "version": "3.10.12"
  }
 },
 "nbformat": 4,
 "nbformat_minor": 2
}
