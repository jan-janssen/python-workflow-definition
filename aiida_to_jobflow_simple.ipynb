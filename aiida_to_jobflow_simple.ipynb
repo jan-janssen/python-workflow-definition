{
 "cells": [
  {
   "cell_type": "code",
   "execution_count": 7,
   "metadata": {},
   "outputs": [],
   "source": [
    "from python_workflow_definition.aiida import write_workflow_json\n",
    "from python_workflow_definition.jobflow import load_workflow_json\n",
    "from aiida_workgraph import task, WorkGraph\n",
    "from jobflow.managers.local import run_locally\n",
    "\n",
    "from aiida import load_profile\n",
    "load_profile()\n",
    "\n",
    "workflow_json_filename =  \"workflow_simple_aiida.json\""
   ]
  },
  {
   "cell_type": "code",
   "execution_count": 8,
   "metadata": {},
   "outputs": [],
   "source": [
    "from simple_workflow import (\n",
    "    add_x_and_y as _add_x_and_y, \n",
    "    add_x_and_y_and_z as _add_x_and_y_and_z,\n",
    ")"
   ]
  },
  {
   "cell_type": "code",
   "execution_count": 9,
   "metadata": {},
   "outputs": [
    {
     "name": "stdout",
     "output_type": "stream",
     "text": [
      "outputs [{'identifier': 'workgraph.any', 'name': 'result'}]\n"
     ]
    },
    {
     "data": {
      "application/vnd.jupyter.widget-view+json": {
       "model_id": "826872d2011e4daaaf3f173b38bf49dc",
       "version_major": 2,
       "version_minor": 1
      },
      "text/plain": [
       "NodeGraphWidget(settings={'minimap': True}, style={'width': '90%', 'height': '600px'}, value={'name': 'wg-simp…"
      ]
     },
     "execution_count": 9,
     "metadata": {},
     "output_type": "execute_result"
    }
   ],
   "source": [
    "def pickle_node(value):\n",
    "    \"\"\"Handle data nodes\"\"\"\n",
    "    return value\n",
    "\n",
    "helper_1 = task.pythonjob()(pickle_node)\n",
    "helper_2 = task.pythonjob()(pickle_node)\n",
    "\n",
    "add_x_and_y = task.pythonjob(outputs=[\"x\", \"y\", \"z\"])(_add_x_and_y)\n",
    "add_x_and_y_and_z = task.pythonjob()(_add_x_and_y_and_z)\n",
    "\n",
    "# workgraph = write_workflow_json(filename='workflow_simple.json')\n",
    "\n",
    "# TODO: Create inputs rather than tasks out of data nodes\n",
    "wg = WorkGraph('wg-simple')\n",
    "\n",
    "helper_task1 = wg.add_task(\n",
    "    helper_1,\n",
    "    name=\"x\",\n",
    "    value=1\n",
    ")\n",
    "\n",
    "helper_task2 = wg.add_task(\n",
    "    helper_2,\n",
    "    name=\"y\",\n",
    "    value=2\n",
    ")\n",
    "\n",
    "add_x_and_y_task = wg.add_task(\n",
    "    add_x_and_y,\n",
    "    name='add_x_and_y',\n",
    "    x=helper_task1.outputs.result,\n",
    "    y=helper_task2.outputs.result,\n",
    ")\n",
    "\n",
    "add_x_and_y_and_z_task = wg.add_task(\n",
    "    add_x_and_y_and_z,\n",
    "    name='add_x_and_y_and_z',\n",
    "    x=add_x_and_y_task.outputs.x,\n",
    "    y=add_x_and_y_task.outputs.y,\n",
    "    z=add_x_and_y_task.outputs.z,\n",
    ")\n",
    "\n",
    "wg"
   ]
  },
  {
   "cell_type": "code",
   "execution_count": 10,
   "metadata": {},
   "outputs": [
    {
     "data": {
      "text/plain": [
       "{'nodes': {0: 1,\n",
       "  1: 2,\n",
       "  2: 'simple_workflow.add_x_and_y',\n",
       "  3: 'simple_workflow.add_x_and_y_and_z'},\n",
       " 'edges': [{'source': 0,\n",
       "   'target': 2,\n",
       "   'sourceHandle': None,\n",
       "   'targetHandle': 'x'},\n",
       "  {'source': 1, 'target': 2, 'sourceHandle': None, 'targetHandle': 'y'},\n",
       "  {'source': 2, 'target': 3, 'sourceHandle': 'x', 'targetHandle': 'x'},\n",
       "  {'source': 2, 'target': 3, 'sourceHandle': 'y', 'targetHandle': 'y'},\n",
       "  {'source': 2, 'target': 3, 'sourceHandle': 'z', 'targetHandle': 'z'}]}"
      ]
     },
     "execution_count": 10,
     "metadata": {},
     "output_type": "execute_result"
    }
   ],
   "source": [
    "write_workflow_json(wg=wg, file_name=workflow_json_filename)\n"
   ]
  },
  {
   "cell_type": "code",
   "execution_count": 11,
   "metadata": {},
   "outputs": [],
   "source": [
    "\n",
    "flow = load_workflow_json(file_name=workflow_json_filename)"
   ]
  },
  {
   "cell_type": "code",
   "execution_count": 12,
   "metadata": {},
   "outputs": [
    {
     "name": "stdout",
     "output_type": "stream",
     "text": [
      "2025-03-15 11:14:35,722 INFO Started executing jobs locally\n",
      "2025-03-15 11:14:35,874 INFO Starting job - add_x_and_y (0ea991be-405e-4c9f-8ac7-0c34e7b40d03)\n",
      "2025-03-15 11:14:35,878 INFO Finished job - add_x_and_y (0ea991be-405e-4c9f-8ac7-0c34e7b40d03)\n",
      "2025-03-15 11:14:35,879 INFO Starting job - add_x_and_y_and_z (0a4613e0-432b-49fe-b0cc-48a057667532)\n",
      "2025-03-15 11:14:35,881 INFO Finished job - add_x_and_y_and_z (0a4613e0-432b-49fe-b0cc-48a057667532)\n",
      "2025-03-15 11:14:35,882 INFO Finished executing jobs locally\n"
     ]
    },
    {
     "data": {
      "text/plain": [
       "{'0ea991be-405e-4c9f-8ac7-0c34e7b40d03': {1: Response(output={'x': 1, 'y': 2, 'z': 3}, detour=None, addition=None, replace=None, stored_data=None, stop_children=False, stop_jobflow=False, job_dir=PosixPath('/home/geiger_j/aiida_projects/adis/git-repos/python-workflow-definition'))},\n",
       " '0a4613e0-432b-49fe-b0cc-48a057667532': {1: Response(output=6, detour=None, addition=None, replace=None, stored_data=None, stop_children=False, stop_jobflow=False, job_dir=PosixPath('/home/geiger_j/aiida_projects/adis/git-repos/python-workflow-definition'))}}"
      ]
     },
     "execution_count": 12,
     "metadata": {},
     "output_type": "execute_result"
    }
   ],
   "source": [
    "result = run_locally(flow)\n",
    "result"
   ]
  }
 ],
 "metadata": {
  "kernelspec": {
   "display_name": "ADIS",
   "language": "python",
   "name": "python3"
  },
  "language_info": {
   "codemirror_mode": {
    "name": "ipython",
    "version": 3
   },
   "file_extension": ".py",
   "mimetype": "text/x-python",
   "name": "python",
   "nbconvert_exporter": "python",
   "pygments_lexer": "ipython3",
   "version": "3.10.12"
  }
 },
 "nbformat": 4,
 "nbformat_minor": 2
}
