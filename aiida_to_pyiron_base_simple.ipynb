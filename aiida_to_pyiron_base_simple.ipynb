{
 "cells": [
  {
   "cell_type": "code",
   "execution_count": null,
   "metadata": {},
   "outputs": [],
   "source": [
    "from python_workflow_definition.aiida import write_workflow_json, construct_wg_simple\n",
    "from python_workflow_definition.pyiron_base import load_workflow_json\n",
    "\n",
    "from aiida import load_profile\n",
    "load_profile()\n",
    "\n",
    "workflow_json_filename =  \"aiida_to_pyiron_base_simple.json\""
   ]
  },
  {
   "cell_type": "code",
   "execution_count": 2,
   "metadata": {},
   "outputs": [],
   "source": [
    "from simple_workflow import add_x_and_y, add_x_and_y_and_z"
   ]
  },
  {
   "cell_type": "code",
   "execution_count": 3,
   "metadata": {},
   "outputs": [],
   "source": [
    "wg = construct_wg_simple(\n",
    "    add_x_and_y_func=add_x_and_y, add_x_and_y_and_z_func=add_x_and_y_and_z\n",
    ")"
   ]
  },
  {
   "cell_type": "code",
   "execution_count": 4,
   "metadata": {},
   "outputs": [
    {
     "data": {
      "text/plain": [
       "{'nodes': {0: 1,\n",
       "  1: 2,\n",
       "  2: 'simple_workflow.add_x_and_y',\n",
       "  3: 'simple_workflow.add_x_and_y_and_z'},\n",
       " 'edges': [{'source': 0,\n",
       "   'target': 2,\n",
       "   'sourceHandle': None,\n",
       "   'targetHandle': 'x'},\n",
       "  {'source': 1, 'target': 2, 'sourceHandle': None, 'targetHandle': 'y'},\n",
       "  {'source': 2, 'target': 3, 'sourceHandle': 'x', 'targetHandle': 'x'},\n",
       "  {'source': 2, 'target': 3, 'sourceHandle': 'y', 'targetHandle': 'y'},\n",
       "  {'source': 2, 'target': 3, 'sourceHandle': 'z', 'targetHandle': 'z'}]}"
      ]
     },
     "execution_count": 4,
     "metadata": {},
     "output_type": "execute_result"
    }
   ],
   "source": [
    "write_workflow_json(wg=wg, file_name=workflow_json_filename)\n"
   ]
  },
  {
   "cell_type": "code",
   "execution_count": 2,
   "metadata": {},
   "outputs": [],
   "source": [
    "from pyiron_base import Project\n"
   ]
  },
  {
   "cell_type": "code",
   "execution_count": 3,
   "metadata": {},
   "outputs": [
    {
     "data": {
      "application/vnd.jupyter.widget-view+json": {
       "model_id": "e6ffcc6726e74a4cbf6d14109cf2a3d9",
       "version_major": 2,
       "version_minor": 0
      },
      "text/plain": [
       "  0%|          | 0/2 [00:00<?, ?it/s]"
      ]
     },
     "metadata": {},
     "output_type": "display_data"
    },
    {
     "data": {
      "image/svg+xml": [
       "<svg xmlns=\"http://www.w3.org/2000/svg\" xmlns:xlink=\"http://www.w3.org/1999/xlink\" width=\"1736pt\" height=\"188pt\" viewBox=\"0.00 0.00 1736.15 188.00\">\n",
       "<g id=\"graph0\" class=\"graph\" transform=\"scale(1 1) rotate(0) translate(4 184)\">\n",
       "<polygon fill=\"white\" stroke=\"transparent\" points=\"-4,4 -4,-184 1732.15,-184 1732.15,4 -4,4\"/>\n",
       "<!-- create_function_job_c7d5a2eaf006faed5e048478186e5006 -->\n",
       "<g id=\"node1\" class=\"node\">\n",
       "<title>create_function_job_c7d5a2eaf006faed5e048478186e5006</title>\n",
       "<ellipse fill=\"none\" stroke=\"black\" cx=\"864.07\" cy=\"-18\" rx=\"348.24\" ry=\"18\"/>\n",
       "<text text-anchor=\"middle\" x=\"864.07\" y=\"-14.3\" font-family=\"Times,serif\" font-size=\"14.00\">create_function_job=&lt;pyiron_base.project.delayed.DelayedObject object at 0x723b62b84b80&gt;</text>\n",
       "</g>\n",
       "<!-- x_72c4a551025d57f72dca17727aef044e -->\n",
       "<g id=\"node2\" class=\"node\">\n",
       "<title>x_72c4a551025d57f72dca17727aef044e</title>\n",
       "<ellipse fill=\"none\" stroke=\"black\" cx=\"282.07\" cy=\"-90\" rx=\"282.15\" ry=\"18\"/>\n",
       "<text text-anchor=\"middle\" x=\"282.07\" y=\"-86.3\" font-family=\"Times,serif\" font-size=\"14.00\">x=&lt;pyiron_base.project.delayed.DelayedObject object at 0x723b62b84550&gt;</text>\n",
       "</g>\n",
       "<!-- x_72c4a551025d57f72dca17727aef044e&#45;&gt;create_function_job_c7d5a2eaf006faed5e048478186e5006 -->\n",
       "<g id=\"edge1\" class=\"edge\">\n",
       "<title>x_72c4a551025d57f72dca17727aef044e-&gt;create_function_job_c7d5a2eaf006faed5e048478186e5006</title>\n",
       "<path fill=\"none\" stroke=\"black\" d=\"M408,-73.85C500.89,-62.68 627.32,-47.48 723.5,-35.91\"/>\n",
       "<polygon fill=\"black\" stroke=\"black\" points=\"724.08,-39.36 733.59,-34.69 723.25,-32.41 724.08,-39.36\"/>\n",
       "</g>\n",
       "<!-- x_1d847da32ecaabf6731c38f798c3d4ce -->\n",
       "<g id=\"node3\" class=\"node\">\n",
       "<title>x_1d847da32ecaabf6731c38f798c3d4ce</title>\n",
       "<ellipse fill=\"none\" stroke=\"black\" cx=\"828.07\" cy=\"-162\" rx=\"27\" ry=\"18\"/>\n",
       "<text text-anchor=\"middle\" x=\"828.07\" y=\"-158.3\" font-family=\"Times,serif\" font-size=\"14.00\">x=1</text>\n",
       "</g>\n",
       "<!-- x_1d847da32ecaabf6731c38f798c3d4ce&#45;&gt;x_72c4a551025d57f72dca17727aef044e -->\n",
       "<g id=\"edge2\" class=\"edge\">\n",
       "<title>x_1d847da32ecaabf6731c38f798c3d4ce-&gt;x_72c4a551025d57f72dca17727aef044e</title>\n",
       "<path fill=\"none\" stroke=\"black\" d=\"M801.74,-157.62C732.5,-148.75 541.74,-124.29 411.66,-107.61\"/>\n",
       "<polygon fill=\"black\" stroke=\"black\" points=\"411.98,-104.13 401.62,-106.33 411.09,-111.07 411.98,-104.13\"/>\n",
       "</g>\n",
       "<!-- y_454d7f4e4b54021d3386dcdafb7344ee -->\n",
       "<g id=\"node4\" class=\"node\">\n",
       "<title>y_454d7f4e4b54021d3386dcdafb7344ee</title>\n",
       "<ellipse fill=\"none\" stroke=\"black\" cx=\"864.07\" cy=\"-90\" rx=\"282.15\" ry=\"18\"/>\n",
       "<text text-anchor=\"middle\" x=\"864.07\" y=\"-86.3\" font-family=\"Times,serif\" font-size=\"14.00\">y=&lt;pyiron_base.project.delayed.DelayedObject object at 0x723b62b84580&gt;</text>\n",
       "</g>\n",
       "<!-- x_1d847da32ecaabf6731c38f798c3d4ce&#45;&gt;y_454d7f4e4b54021d3386dcdafb7344ee -->\n",
       "<g id=\"edge3\" class=\"edge\">\n",
       "<title>x_1d847da32ecaabf6731c38f798c3d4ce-&gt;y_454d7f4e4b54021d3386dcdafb7344ee</title>\n",
       "<path fill=\"none\" stroke=\"black\" d=\"M836.42,-144.76C840.62,-136.61 845.8,-126.53 850.55,-117.31\"/>\n",
       "<polygon fill=\"black\" stroke=\"black\" points=\"853.81,-118.62 855.27,-108.12 847.58,-115.42 853.81,-118.62\"/>\n",
       "</g>\n",
       "<!-- z_7b1d0ad3687984f980950fa9864be0fd -->\n",
       "<g id=\"node5\" class=\"node\">\n",
       "<title>z_7b1d0ad3687984f980950fa9864be0fd</title>\n",
       "<ellipse fill=\"none\" stroke=\"black\" cx=\"1446.07\" cy=\"-90\" rx=\"282.15\" ry=\"18\"/>\n",
       "<text text-anchor=\"middle\" x=\"1446.07\" y=\"-86.3\" font-family=\"Times,serif\" font-size=\"14.00\">z=&lt;pyiron_base.project.delayed.DelayedObject object at 0x723b62b84370&gt;</text>\n",
       "</g>\n",
       "<!-- x_1d847da32ecaabf6731c38f798c3d4ce&#45;&gt;z_7b1d0ad3687984f980950fa9864be0fd -->\n",
       "<g id=\"edge4\" class=\"edge\">\n",
       "<title>x_1d847da32ecaabf6731c38f798c3d4ce-&gt;z_7b1d0ad3687984f980950fa9864be0fd</title>\n",
       "<path fill=\"none\" stroke=\"black\" d=\"M848.54,-149.83C853.5,-147.55 858.87,-145.42 864.07,-144 931.05,-125.75 1092.68,-111.87 1228.67,-102.9\"/>\n",
       "<polygon fill=\"black\" stroke=\"black\" points=\"1229.07,-106.38 1238.82,-102.24 1228.62,-99.4 1229.07,-106.38\"/>\n",
       "</g>\n",
       "<!-- y_454d7f4e4b54021d3386dcdafb7344ee&#45;&gt;create_function_job_c7d5a2eaf006faed5e048478186e5006 -->\n",
       "<g id=\"edge8\" class=\"edge\">\n",
       "<title>y_454d7f4e4b54021d3386dcdafb7344ee-&gt;create_function_job_c7d5a2eaf006faed5e048478186e5006</title>\n",
       "<path fill=\"none\" stroke=\"black\" d=\"M864.07,-71.7C864.07,-63.98 864.07,-54.71 864.07,-46.11\"/>\n",
       "<polygon fill=\"black\" stroke=\"black\" points=\"867.58,-46.1 864.07,-36.1 860.58,-46.1 867.58,-46.1\"/>\n",
       "</g>\n",
       "<!-- z_7b1d0ad3687984f980950fa9864be0fd&#45;&gt;create_function_job_c7d5a2eaf006faed5e048478186e5006 -->\n",
       "<g id=\"edge9\" class=\"edge\">\n",
       "<title>z_7b1d0ad3687984f980950fa9864be0fd-&gt;create_function_job_c7d5a2eaf006faed5e048478186e5006</title>\n",
       "<path fill=\"none\" stroke=\"black\" d=\"M1320.15,-73.85C1227.26,-62.68 1100.83,-47.48 1004.65,-35.91\"/>\n",
       "<polygon fill=\"black\" stroke=\"black\" points=\"1004.9,-32.41 994.56,-34.69 1004.07,-39.36 1004.9,-32.41\"/>\n",
       "</g>\n",
       "<!-- y_a9ec4f5f33f0d64e74ed5d9900bceac6 -->\n",
       "<g id=\"node6\" class=\"node\">\n",
       "<title>y_a9ec4f5f33f0d64e74ed5d9900bceac6</title>\n",
       "<ellipse fill=\"none\" stroke=\"black\" cx=\"900.07\" cy=\"-162\" rx=\"27\" ry=\"18\"/>\n",
       "<text text-anchor=\"middle\" x=\"900.07\" y=\"-158.3\" font-family=\"Times,serif\" font-size=\"14.00\">y=2</text>\n",
       "</g>\n",
       "<!-- y_a9ec4f5f33f0d64e74ed5d9900bceac6&#45;&gt;x_72c4a551025d57f72dca17727aef044e -->\n",
       "<g id=\"edge5\" class=\"edge\">\n",
       "<title>y_a9ec4f5f33f0d64e74ed5d9900bceac6-&gt;x_72c4a551025d57f72dca17727aef044e</title>\n",
       "<path fill=\"none\" stroke=\"black\" d=\"M879.61,-149.83C874.65,-147.55 869.28,-145.42 864.07,-144 797.1,-125.75 635.47,-111.87 499.48,-102.9\"/>\n",
       "<polygon fill=\"black\" stroke=\"black\" points=\"499.53,-99.4 489.33,-102.24 499.08,-106.38 499.53,-99.4\"/>\n",
       "</g>\n",
       "<!-- y_a9ec4f5f33f0d64e74ed5d9900bceac6&#45;&gt;y_454d7f4e4b54021d3386dcdafb7344ee -->\n",
       "<g id=\"edge6\" class=\"edge\">\n",
       "<title>y_a9ec4f5f33f0d64e74ed5d9900bceac6-&gt;y_454d7f4e4b54021d3386dcdafb7344ee</title>\n",
       "<path fill=\"none\" stroke=\"black\" d=\"M891.73,-144.76C887.53,-136.61 882.35,-126.53 877.6,-117.31\"/>\n",
       "<polygon fill=\"black\" stroke=\"black\" points=\"880.57,-115.42 872.88,-108.12 874.34,-118.62 880.57,-115.42\"/>\n",
       "</g>\n",
       "<!-- y_a9ec4f5f33f0d64e74ed5d9900bceac6&#45;&gt;z_7b1d0ad3687984f980950fa9864be0fd -->\n",
       "<g id=\"edge7\" class=\"edge\">\n",
       "<title>y_a9ec4f5f33f0d64e74ed5d9900bceac6-&gt;z_7b1d0ad3687984f980950fa9864be0fd</title>\n",
       "<path fill=\"none\" stroke=\"black\" d=\"M926.41,-157.62C995.65,-148.75 1186.41,-124.29 1316.49,-107.61\"/>\n",
       "<polygon fill=\"black\" stroke=\"black\" points=\"1317.06,-111.07 1326.53,-106.33 1316.17,-104.13 1317.06,-111.07\"/>\n",
       "</g>\n",
       "</g>\n",
       "</svg>"
      ],
      "text/plain": [
       "<IPython.core.display.SVG object>"
      ]
     },
     "metadata": {},
     "output_type": "display_data"
    }
   ],
   "source": [
    "pr = Project(\"test\")\n",
    "pr.remove_jobs(recursive=True, silently=True)\n",
    "\n",
    "\n",
    "delayed_object = load_workflow_json(project=pr, file_name=workflow_json_filename)\n",
    "delayed_object.draw()"
   ]
  },
  {
   "cell_type": "code",
   "execution_count": 4,
   "metadata": {},
   "outputs": [
    {
     "name": "stdout",
     "output_type": "stream",
     "text": [
      "The job add_x_and_y_68901482a2c5221cc845f828aabebd27 was saved and received the ID: 2\n",
      "The job add_x_and_y_and_z_b671e81aaa4670d81d7eee509650af8d was saved and received the ID: 3\n"
     ]
    },
    {
     "data": {
      "text/plain": [
       "6"
      ]
     },
     "execution_count": 4,
     "metadata": {},
     "output_type": "execute_result"
    }
   ],
   "source": [
    "delayed_object.pull()"
   ]
  }
 ],
 "metadata": {
  "kernelspec": {
   "display_name": "ADIS",
   "language": "python",
   "name": "python3"
  },
  "language_info": {
   "codemirror_mode": {
    "name": "ipython",
    "version": 3
   },
   "file_extension": ".py",
   "mimetype": "text/x-python",
   "name": "python",
   "nbconvert_exporter": "python",
   "pygments_lexer": "ipython3",
   "version": "3.10.12"
  }
 },
 "nbformat": 4,
 "nbformat_minor": 2
}
