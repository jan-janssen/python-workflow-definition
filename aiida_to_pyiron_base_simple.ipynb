{
 "cells": [
  {
   "cell_type": "code",
   "execution_count": 1,
   "metadata": {},
   "outputs": [],
   "source": [
    "from python_workflow_definition.aiida import write_workflow_json, construct_wg_simple\n",
    "from python_workflow_definition.pyiron_base import load_workflow_json\n",
    "\n",
    "from aiida import load_profile\n",
    "load_profile()\n",
    "\n",
    "workflow_json_filename =  \"workflow_simple_aiida.json\""
   ]
  },
  {
   "cell_type": "code",
   "execution_count": 2,
   "metadata": {},
   "outputs": [],
   "source": [
    "from simple_workflow import add_x_and_y, add_x_and_y_and_z"
   ]
  },
  {
   "cell_type": "code",
   "execution_count": 3,
   "metadata": {},
   "outputs": [],
   "source": [
    "wg = construct_wg_simple(\n",
    "    add_x_and_y_func=add_x_and_y, add_x_and_y_and_z_func=add_x_and_y_and_z\n",
    ")"
   ]
  },
  {
   "cell_type": "code",
   "execution_count": 4,
   "metadata": {},
   "outputs": [
    {
     "data": {
      "text/plain": [
       "{'nodes': {0: 1,\n",
       "  1: 2,\n",
       "  2: 'simple_workflow.add_x_and_y',\n",
       "  3: 'simple_workflow.add_x_and_y_and_z'},\n",
       " 'edges': [{'source': 0,\n",
       "   'target': 2,\n",
       "   'sourceHandle': None,\n",
       "   'targetHandle': 'x'},\n",
       "  {'source': 1, 'target': 2, 'sourceHandle': None, 'targetHandle': 'y'},\n",
       "  {'source': 2, 'target': 3, 'sourceHandle': 'x', 'targetHandle': 'x'},\n",
       "  {'source': 2, 'target': 3, 'sourceHandle': 'y', 'targetHandle': 'y'},\n",
       "  {'source': 2, 'target': 3, 'sourceHandle': 'z', 'targetHandle': 'z'}]}"
      ]
     },
     "execution_count": 4,
     "metadata": {},
     "output_type": "execute_result"
    }
   ],
   "source": [
    "write_workflow_json(wg=wg, file_name=workflow_json_filename)\n"
   ]
  },
  {
   "cell_type": "code",
   "execution_count": 5,
   "metadata": {},
   "outputs": [],
   "source": [
    "from pyiron_base import Project\n"
   ]
  },
  {
   "cell_type": "code",
   "execution_count": 6,
   "metadata": {},
   "outputs": [
    {
     "data": {
      "application/vnd.jupyter.widget-view+json": {
       "model_id": "5224cdccd7954029a99f8029f279a6a5",
       "version_major": 2,
       "version_minor": 0
      },
      "text/plain": [
       "0it [00:00, ?it/s]"
      ]
     },
     "metadata": {},
     "output_type": "display_data"
    },
    {
     "data": {
      "image/svg+xml": [
       "<svg xmlns=\"http://www.w3.org/2000/svg\" xmlns:xlink=\"http://www.w3.org/1999/xlink\" width=\"1733pt\" height=\"188pt\" viewBox=\"0.00 0.00 1732.50 188.00\">\n",
       "<g id=\"graph0\" class=\"graph\" transform=\"scale(1 1) rotate(0) translate(4 184)\">\n",
       "<polygon fill=\"white\" stroke=\"transparent\" points=\"-4,4 -4,-184 1728.5,-184 1728.5,4 -4,4\"/>\n",
       "<!-- create_function_job_b6104bc5adcd545b8727a9623cbe2aa7 -->\n",
       "<g id=\"node1\" class=\"node\">\n",
       "<title>create_function_job_b6104bc5adcd545b8727a9623cbe2aa7</title>\n",
       "<ellipse fill=\"none\" stroke=\"black\" cx=\"863.07\" cy=\"-18\" rx=\"347.94\" ry=\"18\"/>\n",
       "<text text-anchor=\"middle\" x=\"863.07\" y=\"-14.3\" font-family=\"Times,serif\" font-size=\"14.00\">create_function_job=&lt;pyiron_base.project.delayed.DelayedObject object at 0x73b9133e3550&gt;</text>\n",
       "</g>\n",
       "<!-- x_892ed8949aca86a67a858b3de7871f13 -->\n",
       "<g id=\"node2\" class=\"node\">\n",
       "<title>x_892ed8949aca86a67a858b3de7871f13</title>\n",
       "<ellipse fill=\"none\" stroke=\"black\" cx=\"282.07\" cy=\"-90\" rx=\"282.15\" ry=\"18\"/>\n",
       "<text text-anchor=\"middle\" x=\"282.07\" y=\"-86.3\" font-family=\"Times,serif\" font-size=\"14.00\">x=&lt;pyiron_base.project.delayed.DelayedObject object at 0x73b9133e1750&gt;</text>\n",
       "</g>\n",
       "<!-- x_892ed8949aca86a67a858b3de7871f13&#45;&gt;create_function_job_b6104bc5adcd545b8727a9623cbe2aa7 -->\n",
       "<g id=\"edge1\" class=\"edge\">\n",
       "<title>x_892ed8949aca86a67a858b3de7871f13-&gt;create_function_job_b6104bc5adcd545b8727a9623cbe2aa7</title>\n",
       "<path fill=\"none\" stroke=\"black\" d=\"M407.79,-73.85C500.52,-62.68 626.72,-47.48 722.74,-35.91\"/>\n",
       "<polygon fill=\"black\" stroke=\"black\" points=\"723.31,-39.36 732.82,-34.69 722.47,-32.41 723.31,-39.36\"/>\n",
       "</g>\n",
       "<!-- x_1d847da32ecaabf6731c38f798c3d4ce -->\n",
       "<g id=\"node3\" class=\"node\">\n",
       "<title>x_1d847da32ecaabf6731c38f798c3d4ce</title>\n",
       "<ellipse fill=\"none\" stroke=\"black\" cx=\"827.07\" cy=\"-162\" rx=\"27\" ry=\"18\"/>\n",
       "<text text-anchor=\"middle\" x=\"827.07\" y=\"-158.3\" font-family=\"Times,serif\" font-size=\"14.00\">x=1</text>\n",
       "</g>\n",
       "<!-- x_1d847da32ecaabf6731c38f798c3d4ce&#45;&gt;x_892ed8949aca86a67a858b3de7871f13 -->\n",
       "<g id=\"edge2\" class=\"edge\">\n",
       "<title>x_1d847da32ecaabf6731c38f798c3d4ce-&gt;x_892ed8949aca86a67a858b3de7871f13</title>\n",
       "<path fill=\"none\" stroke=\"black\" d=\"M800.79,-157.62C731.68,-148.75 541.27,-124.29 411.42,-107.61\"/>\n",
       "<polygon fill=\"black\" stroke=\"black\" points=\"411.76,-104.13 401.4,-106.33 410.87,-111.07 411.76,-104.13\"/>\n",
       "</g>\n",
       "<!-- y_af79c0628d2bda94bf2f9b9ec8d1600d -->\n",
       "<g id=\"node4\" class=\"node\">\n",
       "<title>y_af79c0628d2bda94bf2f9b9ec8d1600d</title>\n",
       "<ellipse fill=\"none\" stroke=\"black\" cx=\"863.07\" cy=\"-90\" rx=\"280.55\" ry=\"18\"/>\n",
       "<text text-anchor=\"middle\" x=\"863.07\" y=\"-86.3\" font-family=\"Times,serif\" font-size=\"14.00\">y=&lt;pyiron_base.project.delayed.DelayedObject object at 0x73b9133e1cc0&gt;</text>\n",
       "</g>\n",
       "<!-- x_1d847da32ecaabf6731c38f798c3d4ce&#45;&gt;y_af79c0628d2bda94bf2f9b9ec8d1600d -->\n",
       "<g id=\"edge3\" class=\"edge\">\n",
       "<title>x_1d847da32ecaabf6731c38f798c3d4ce-&gt;y_af79c0628d2bda94bf2f9b9ec8d1600d</title>\n",
       "<path fill=\"none\" stroke=\"black\" d=\"M835.42,-144.76C839.62,-136.61 844.8,-126.53 849.55,-117.31\"/>\n",
       "<polygon fill=\"black\" stroke=\"black\" points=\"852.81,-118.62 854.27,-108.12 846.58,-115.42 852.81,-118.62\"/>\n",
       "</g>\n",
       "<!-- z_37a89c8d2308d7c74a34554bdf2e8b52 -->\n",
       "<g id=\"node5\" class=\"node\">\n",
       "<title>z_37a89c8d2308d7c74a34554bdf2e8b52</title>\n",
       "<ellipse fill=\"none\" stroke=\"black\" cx=\"1443.07\" cy=\"-90\" rx=\"281.35\" ry=\"18\"/>\n",
       "<text text-anchor=\"middle\" x=\"1443.07\" y=\"-86.3\" font-family=\"Times,serif\" font-size=\"14.00\">z=&lt;pyiron_base.project.delayed.DelayedObject object at 0x73b9133e2320&gt;</text>\n",
       "</g>\n",
       "<!-- x_1d847da32ecaabf6731c38f798c3d4ce&#45;&gt;z_37a89c8d2308d7c74a34554bdf2e8b52 -->\n",
       "<g id=\"edge4\" class=\"edge\">\n",
       "<title>x_1d847da32ecaabf6731c38f798c3d4ce-&gt;z_37a89c8d2308d7c74a34554bdf2e8b52</title>\n",
       "<path fill=\"none\" stroke=\"black\" d=\"M847.54,-149.83C852.5,-147.55 857.87,-145.42 863.07,-144 929.81,-125.81 1090.9,-111.92 1226.41,-102.93\"/>\n",
       "<polygon fill=\"black\" stroke=\"black\" points=\"1226.79,-106.42 1236.54,-102.27 1226.33,-99.43 1226.79,-106.42\"/>\n",
       "</g>\n",
       "<!-- y_af79c0628d2bda94bf2f9b9ec8d1600d&#45;&gt;create_function_job_b6104bc5adcd545b8727a9623cbe2aa7 -->\n",
       "<g id=\"edge8\" class=\"edge\">\n",
       "<title>y_af79c0628d2bda94bf2f9b9ec8d1600d-&gt;create_function_job_b6104bc5adcd545b8727a9623cbe2aa7</title>\n",
       "<path fill=\"none\" stroke=\"black\" d=\"M863.07,-71.7C863.07,-63.98 863.07,-54.71 863.07,-46.11\"/>\n",
       "<polygon fill=\"black\" stroke=\"black\" points=\"866.58,-46.1 863.07,-36.1 859.58,-46.1 866.58,-46.1\"/>\n",
       "</g>\n",
       "<!-- z_37a89c8d2308d7c74a34554bdf2e8b52&#45;&gt;create_function_job_b6104bc5adcd545b8727a9623cbe2aa7 -->\n",
       "<g id=\"edge9\" class=\"edge\">\n",
       "<title>z_37a89c8d2308d7c74a34554bdf2e8b52-&gt;create_function_job_b6104bc5adcd545b8727a9623cbe2aa7</title>\n",
       "<path fill=\"none\" stroke=\"black\" d=\"M1317.58,-73.85C1225.09,-62.69 1099.24,-47.5 1003.42,-35.94\"/>\n",
       "<polygon fill=\"black\" stroke=\"black\" points=\"1003.71,-32.45 993.36,-34.72 1002.87,-39.4 1003.71,-32.45\"/>\n",
       "</g>\n",
       "<!-- y_a9ec4f5f33f0d64e74ed5d9900bceac6 -->\n",
       "<g id=\"node6\" class=\"node\">\n",
       "<title>y_a9ec4f5f33f0d64e74ed5d9900bceac6</title>\n",
       "<ellipse fill=\"none\" stroke=\"black\" cx=\"899.07\" cy=\"-162\" rx=\"27\" ry=\"18\"/>\n",
       "<text text-anchor=\"middle\" x=\"899.07\" y=\"-158.3\" font-family=\"Times,serif\" font-size=\"14.00\">y=2</text>\n",
       "</g>\n",
       "<!-- y_a9ec4f5f33f0d64e74ed5d9900bceac6&#45;&gt;x_892ed8949aca86a67a858b3de7871f13 -->\n",
       "<g id=\"edge5\" class=\"edge\">\n",
       "<title>y_a9ec4f5f33f0d64e74ed5d9900bceac6-&gt;x_892ed8949aca86a67a858b3de7871f13</title>\n",
       "<path fill=\"none\" stroke=\"black\" d=\"M878.61,-149.83C873.65,-147.55 868.28,-145.42 863.07,-144 796.22,-125.78 634.86,-111.9 499.11,-102.92\"/>\n",
       "<polygon fill=\"black\" stroke=\"black\" points=\"499.18,-99.41 488.97,-102.25 498.72,-106.4 499.18,-99.41\"/>\n",
       "</g>\n",
       "<!-- y_a9ec4f5f33f0d64e74ed5d9900bceac6&#45;&gt;y_af79c0628d2bda94bf2f9b9ec8d1600d -->\n",
       "<g id=\"edge6\" class=\"edge\">\n",
       "<title>y_a9ec4f5f33f0d64e74ed5d9900bceac6-&gt;y_af79c0628d2bda94bf2f9b9ec8d1600d</title>\n",
       "<path fill=\"none\" stroke=\"black\" d=\"M890.73,-144.76C886.53,-136.61 881.35,-126.53 876.6,-117.31\"/>\n",
       "<polygon fill=\"black\" stroke=\"black\" points=\"879.57,-115.42 871.88,-108.12 873.34,-118.62 879.57,-115.42\"/>\n",
       "</g>\n",
       "<!-- y_a9ec4f5f33f0d64e74ed5d9900bceac6&#45;&gt;z_37a89c8d2308d7c74a34554bdf2e8b52 -->\n",
       "<g id=\"edge7\" class=\"edge\">\n",
       "<title>y_a9ec4f5f33f0d64e74ed5d9900bceac6-&gt;z_37a89c8d2308d7c74a34554bdf2e8b52</title>\n",
       "<path fill=\"none\" stroke=\"black\" d=\"M925.31,-157.62C994.3,-148.75 1184.36,-124.29 1313.97,-107.61\"/>\n",
       "<polygon fill=\"black\" stroke=\"black\" points=\"1314.5,-111.07 1323.97,-106.33 1313.61,-104.13 1314.5,-111.07\"/>\n",
       "</g>\n",
       "</g>\n",
       "</svg>"
      ],
      "text/plain": [
       "<IPython.core.display.SVG object>"
      ]
     },
     "metadata": {},
     "output_type": "display_data"
    }
   ],
   "source": [
    "pr = Project(\"test\")\n",
    "pr.remove_jobs(recursive=True, silently=True)\n",
    "\n",
    "\n",
    "delayed_object = load_workflow_json(project=pr, file_name=workflow_json_filename)\n",
    "delayed_object.draw()"
   ]
  },
  {
   "cell_type": "code",
   "execution_count": 7,
   "metadata": {},
   "outputs": [
    {
     "name": "stdout",
     "output_type": "stream",
     "text": [
      "The job add_x_and_y_68901482a2c5221cc845f828aabebd27 was saved and received the ID: 2\n",
      "The job add_x_and_y_and_z_b671e81aaa4670d81d7eee509650af8d was saved and received the ID: 3\n"
     ]
    },
    {
     "data": {
      "text/plain": [
       "6"
      ]
     },
     "execution_count": 7,
     "metadata": {},
     "output_type": "execute_result"
    }
   ],
   "source": [
    "delayed_object.pull()"
   ]
  }
 ],
 "metadata": {
  "kernelspec": {
   "display_name": "ADIS",
   "language": "python",
   "name": "python3"
  },
  "language_info": {
   "codemirror_mode": {
    "name": "ipython",
    "version": 3
   },
   "file_extension": ".py",
   "mimetype": "text/x-python",
   "name": "python",
   "nbconvert_exporter": "python",
   "pygments_lexer": "ipython3",
   "version": "3.10.12"
  }
 },
 "nbformat": 4,
 "nbformat_minor": 2
}
