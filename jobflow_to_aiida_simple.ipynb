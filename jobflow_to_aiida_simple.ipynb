{
 "cells": [
  {
   "cell_type": "code",
   "execution_count": 10,
   "id": "000bbd4a-f53c-4eea-9d85-76f0aa2ca10b",
   "metadata": {
    "trusted": true
   },
   "outputs": [],
   "source": [
    "from jobflow import job, Flow"
   ]
  },
  {
   "cell_type": "code",
   "execution_count": 11,
   "id": "b4a78447-e87c-4fb4-8d17-d9a280eb7254",
   "metadata": {
    "trusted": true
   },
   "outputs": [],
   "source": [
    "from pyiron_base import Project"
   ]
  },
  {
   "cell_type": "code",
   "execution_count": 12,
   "id": "06c2bd9e-b2ac-4b88-9158-fa37331c3418",
   "metadata": {
    "trusted": true
   },
   "outputs": [],
   "source": [
    "from python_workflow_definition.jobflow import write_workflow_json"
   ]
  },
  {
   "cell_type": "code",
   "execution_count": 13,
   "id": "fb6dbdaa-8cab-48b2-8307-448003eca3f5",
   "metadata": {
    "trusted": true
   },
   "outputs": [],
   "source": [
    "from python_workflow_definition.aiida import load_workflow_json"
   ]
  },
  {
   "cell_type": "code",
   "execution_count": 14,
   "id": "fb847d49-7bf9-4839-9b99-c116d1b0e9ee",
   "metadata": {
    "trusted": true
   },
   "outputs": [],
   "source": [
    "from simple_workflow import (\n",
    "    add_x_and_y as _add_x_and_y, \n",
    "    add_x_and_y_and_z as _add_x_and_y_and_z,\n",
    ")"
   ]
  },
  {
   "cell_type": "code",
   "execution_count": 15,
   "id": "8f95244e",
   "metadata": {},
   "outputs": [],
   "source": [
    "workflow_json_filename = \"workflow_simple_jobflow.json\""
   ]
  },
  {
   "cell_type": "code",
   "execution_count": 16,
   "id": "07598344-0f75-433b-8902-bea21a42088c",
   "metadata": {
    "trusted": true
   },
   "outputs": [],
   "source": [
    "add_x_and_y = job(_add_x_and_y, data=[\"x\", \"y\", \"z\"])\n",
    "add_x_and_y_and_z = job(_add_x_and_y_and_z)"
   ]
  },
  {
   "cell_type": "code",
   "execution_count": 17,
   "id": "ecef1ed5-a8d3-48c3-9e01-4a40e55c1153",
   "metadata": {
    "trusted": true
   },
   "outputs": [],
   "source": [
    "obj = add_x_and_y(x=1, y=2)"
   ]
  },
  {
   "cell_type": "code",
   "execution_count": 18,
   "id": "2b88a30a-e26b-4802-89b7-79ca08cc0af9",
   "metadata": {
    "trusted": true
   },
   "outputs": [],
   "source": [
    "w = add_x_and_y_and_z(x=obj.output.x, y=obj.output.y, z=obj.output.z)"
   ]
  },
  {
   "cell_type": "code",
   "execution_count": 19,
   "id": "a5e5ca63-2906-47c9-bac6-adebf8643cba",
   "metadata": {
    "trusted": true
   },
   "outputs": [],
   "source": [
    "flow = Flow([obj, w])"
   ]
  },
  {
   "cell_type": "code",
   "execution_count": 20,
   "id": "e464da97-16a1-4772-9a07-0a47f152781d",
   "metadata": {
    "trusted": true
   },
   "outputs": [],
   "source": [
    "write_workflow_json(flow=flow, file_name=workflow_json_filename)"
   ]
  },
  {
   "cell_type": "code",
   "execution_count": 21,
   "id": "bca646b2-0a9a-4271-966a-e5903a8c9031",
   "metadata": {
    "trusted": true
   },
   "outputs": [
    {
     "name": "stdout",
     "output_type": "stream",
     "text": [
      "\u001b[38;5;238m───────┬────────────────────────────────────────────────────────────────────────\u001b[0m\n",
      "       \u001b[38;5;238m│ \u001b[0mFile: \u001b[1mworkflow_simple_jobflow.json\u001b[0m\n",
      "\u001b[38;5;238m───────┼────────────────────────────────────────────────────────────────────────\u001b[0m\n",
      "\u001b[38;5;238m   1\u001b[0m   \u001b[38;5;238m│\u001b[0m \u001b[38;5;231m{\u001b[0m\u001b[38;5;208m\"\u001b[0m\u001b[38;5;208mnodes\u001b[0m\u001b[38;5;208m\"\u001b[0m\u001b[38;5;231m:\u001b[0m\u001b[38;5;231m \u001b[0m\u001b[38;5;231m{\u001b[0m\u001b[38;5;208m\"\u001b[0m\u001b[38;5;208m0\u001b[0m\u001b[38;5;208m\"\u001b[0m\u001b[38;5;231m:\u001b[0m\u001b[38;5;231m \u001b[0m\u001b[38;5;186m\"\u001b[0m\u001b[38;5;186msimple_workflow.add_x_and_y\u001b[0m\u001b[38;5;186m\"\u001b[0m\u001b[38;5;231m,\u001b[0m\u001b[38;5;231m \u001b[0m\u001b[38;5;208m\"\u001b[0m\u001b[38;5;208m1\u001b[0m\u001b[38;5;208m\"\u001b[0m\u001b[38;5;231m:\u001b[0m\u001b[38;5;231m \u001b[0m\u001b[38;5;186m\"\u001b[0m\u001b[38;5;186msimple_workflow.ad\u001b[0m\n",
      "\u001b[38;5;238m    \u001b[0m   \u001b[38;5;238m│\u001b[0m \u001b[38;5;186md_x_and_y_and_z\u001b[0m\u001b[38;5;186m\"\u001b[0m\u001b[38;5;231m,\u001b[0m\u001b[38;5;231m \u001b[0m\u001b[38;5;208m\"\u001b[0m\u001b[38;5;208m2\u001b[0m\u001b[38;5;208m\"\u001b[0m\u001b[38;5;231m:\u001b[0m\u001b[38;5;231m \u001b[0m\u001b[38;5;141m1\u001b[0m\u001b[38;5;231m,\u001b[0m\u001b[38;5;231m \u001b[0m\u001b[38;5;208m\"\u001b[0m\u001b[38;5;208m3\u001b[0m\u001b[38;5;208m\"\u001b[0m\u001b[38;5;231m:\u001b[0m\u001b[38;5;231m \u001b[0m\u001b[38;5;141m2\u001b[0m\u001b[38;5;231m}\u001b[0m\u001b[38;5;231m,\u001b[0m\u001b[38;5;231m \u001b[0m\u001b[38;5;208m\"\u001b[0m\u001b[38;5;208medges\u001b[0m\u001b[38;5;208m\"\u001b[0m\u001b[38;5;231m:\u001b[0m\u001b[38;5;231m \u001b[0m\u001b[38;5;231m[\u001b[0m\u001b[38;5;231m{\u001b[0m\u001b[38;5;208m\"\u001b[0m\u001b[38;5;208mtarget\u001b[0m\u001b[38;5;208m\"\u001b[0m\u001b[38;5;231m:\u001b[0m\u001b[38;5;231m \u001b[0m\u001b[38;5;141m0\u001b[0m\u001b[38;5;231m,\u001b[0m\u001b[38;5;231m \u001b[0m\u001b[38;5;208m\"\u001b[0m\u001b[38;5;208mtargetHandl\u001b[0m\n",
      "\u001b[38;5;238m    \u001b[0m   \u001b[38;5;238m│\u001b[0m \u001b[38;5;208me\u001b[0m\u001b[38;5;208m\"\u001b[0m\u001b[38;5;231m:\u001b[0m\u001b[38;5;231m \u001b[0m\u001b[38;5;186m\"\u001b[0m\u001b[38;5;186mx\u001b[0m\u001b[38;5;186m\"\u001b[0m\u001b[38;5;231m,\u001b[0m\u001b[38;5;231m \u001b[0m\u001b[38;5;208m\"\u001b[0m\u001b[38;5;208msource\u001b[0m\u001b[38;5;208m\"\u001b[0m\u001b[38;5;231m:\u001b[0m\u001b[38;5;231m \u001b[0m\u001b[38;5;141m2\u001b[0m\u001b[38;5;231m,\u001b[0m\u001b[38;5;231m \u001b[0m\u001b[38;5;208m\"\u001b[0m\u001b[38;5;208msourceHandle\u001b[0m\u001b[38;5;208m\"\u001b[0m\u001b[38;5;231m:\u001b[0m\u001b[38;5;231m \u001b[0m\u001b[38;5;141mnull\u001b[0m\u001b[38;5;231m}\u001b[0m\u001b[38;5;231m,\u001b[0m\u001b[38;5;231m \u001b[0m\u001b[38;5;231m{\u001b[0m\u001b[38;5;208m\"\u001b[0m\u001b[38;5;208mtarget\u001b[0m\u001b[38;5;208m\"\u001b[0m\u001b[38;5;231m:\u001b[0m\u001b[38;5;231m \u001b[0m\u001b[38;5;141m0\u001b[0m\u001b[38;5;231m,\u001b[0m\u001b[38;5;231m \u001b[0m\u001b[38;5;208m\"\u001b[0m\u001b[38;5;208mtargetHandl\u001b[0m\n",
      "\u001b[38;5;238m    \u001b[0m   \u001b[38;5;238m│\u001b[0m \u001b[38;5;208me\u001b[0m\u001b[38;5;208m\"\u001b[0m\u001b[38;5;231m:\u001b[0m\u001b[38;5;231m \u001b[0m\u001b[38;5;186m\"\u001b[0m\u001b[38;5;186my\u001b[0m\u001b[38;5;186m\"\u001b[0m\u001b[38;5;231m,\u001b[0m\u001b[38;5;231m \u001b[0m\u001b[38;5;208m\"\u001b[0m\u001b[38;5;208msource\u001b[0m\u001b[38;5;208m\"\u001b[0m\u001b[38;5;231m:\u001b[0m\u001b[38;5;231m \u001b[0m\u001b[38;5;141m3\u001b[0m\u001b[38;5;231m,\u001b[0m\u001b[38;5;231m \u001b[0m\u001b[38;5;208m\"\u001b[0m\u001b[38;5;208msourceHandle\u001b[0m\u001b[38;5;208m\"\u001b[0m\u001b[38;5;231m:\u001b[0m\u001b[38;5;231m \u001b[0m\u001b[38;5;141mnull\u001b[0m\u001b[38;5;231m}\u001b[0m\u001b[38;5;231m,\u001b[0m\u001b[38;5;231m \u001b[0m\u001b[38;5;231m{\u001b[0m\u001b[38;5;208m\"\u001b[0m\u001b[38;5;208mtarget\u001b[0m\u001b[38;5;208m\"\u001b[0m\u001b[38;5;231m:\u001b[0m\u001b[38;5;231m \u001b[0m\u001b[38;5;141m1\u001b[0m\u001b[38;5;231m,\u001b[0m\u001b[38;5;231m \u001b[0m\u001b[38;5;208m\"\u001b[0m\u001b[38;5;208mtargetHandl\u001b[0m\n",
      "\u001b[38;5;238m    \u001b[0m   \u001b[38;5;238m│\u001b[0m \u001b[38;5;208me\u001b[0m\u001b[38;5;208m\"\u001b[0m\u001b[38;5;231m:\u001b[0m\u001b[38;5;231m \u001b[0m\u001b[38;5;186m\"\u001b[0m\u001b[38;5;186mx\u001b[0m\u001b[38;5;186m\"\u001b[0m\u001b[38;5;231m,\u001b[0m\u001b[38;5;231m \u001b[0m\u001b[38;5;208m\"\u001b[0m\u001b[38;5;208msource\u001b[0m\u001b[38;5;208m\"\u001b[0m\u001b[38;5;231m:\u001b[0m\u001b[38;5;231m \u001b[0m\u001b[38;5;141m0\u001b[0m\u001b[38;5;231m,\u001b[0m\u001b[38;5;231m \u001b[0m\u001b[38;5;208m\"\u001b[0m\u001b[38;5;208msourceHandle\u001b[0m\u001b[38;5;208m\"\u001b[0m\u001b[38;5;231m:\u001b[0m\u001b[38;5;231m \u001b[0m\u001b[38;5;186m\"\u001b[0m\u001b[38;5;186mx\u001b[0m\u001b[38;5;186m\"\u001b[0m\u001b[38;5;231m}\u001b[0m\u001b[38;5;231m,\u001b[0m\u001b[38;5;231m \u001b[0m\u001b[38;5;231m{\u001b[0m\u001b[38;5;208m\"\u001b[0m\u001b[38;5;208mtarget\u001b[0m\u001b[38;5;208m\"\u001b[0m\u001b[38;5;231m:\u001b[0m\u001b[38;5;231m \u001b[0m\u001b[38;5;141m1\u001b[0m\u001b[38;5;231m,\u001b[0m\u001b[38;5;231m \u001b[0m\u001b[38;5;208m\"\u001b[0m\u001b[38;5;208mtargetHandle\u001b[0m\n",
      "\u001b[38;5;238m    \u001b[0m   \u001b[38;5;238m│\u001b[0m \u001b[38;5;208m\"\u001b[0m\u001b[38;5;231m:\u001b[0m\u001b[38;5;231m \u001b[0m\u001b[38;5;186m\"\u001b[0m\u001b[38;5;186my\u001b[0m\u001b[38;5;186m\"\u001b[0m\u001b[38;5;231m,\u001b[0m\u001b[38;5;231m \u001b[0m\u001b[38;5;208m\"\u001b[0m\u001b[38;5;208msource\u001b[0m\u001b[38;5;208m\"\u001b[0m\u001b[38;5;231m:\u001b[0m\u001b[38;5;231m \u001b[0m\u001b[38;5;141m0\u001b[0m\u001b[38;5;231m,\u001b[0m\u001b[38;5;231m \u001b[0m\u001b[38;5;208m\"\u001b[0m\u001b[38;5;208msourceHandle\u001b[0m\u001b[38;5;208m\"\u001b[0m\u001b[38;5;231m:\u001b[0m\u001b[38;5;231m \u001b[0m\u001b[38;5;186m\"\u001b[0m\u001b[38;5;186my\u001b[0m\u001b[38;5;186m\"\u001b[0m\u001b[38;5;231m}\u001b[0m\u001b[38;5;231m,\u001b[0m\u001b[38;5;231m \u001b[0m\u001b[38;5;231m{\u001b[0m\u001b[38;5;208m\"\u001b[0m\u001b[38;5;208mtarget\u001b[0m\u001b[38;5;208m\"\u001b[0m\u001b[38;5;231m:\u001b[0m\u001b[38;5;231m \u001b[0m\u001b[38;5;141m1\u001b[0m\u001b[38;5;231m,\u001b[0m\u001b[38;5;231m \u001b[0m\u001b[38;5;208m\"\u001b[0m\u001b[38;5;208mtargetHandle\u001b[0m\u001b[38;5;208m\"\u001b[0m\n",
      "\u001b[38;5;238m    \u001b[0m   \u001b[38;5;238m│\u001b[0m \u001b[38;5;231m:\u001b[0m\u001b[38;5;231m \u001b[0m\u001b[38;5;186m\"\u001b[0m\u001b[38;5;186mz\u001b[0m\u001b[38;5;186m\"\u001b[0m\u001b[38;5;231m,\u001b[0m\u001b[38;5;231m \u001b[0m\u001b[38;5;208m\"\u001b[0m\u001b[38;5;208msource\u001b[0m\u001b[38;5;208m\"\u001b[0m\u001b[38;5;231m:\u001b[0m\u001b[38;5;231m \u001b[0m\u001b[38;5;141m0\u001b[0m\u001b[38;5;231m,\u001b[0m\u001b[38;5;231m \u001b[0m\u001b[38;5;208m\"\u001b[0m\u001b[38;5;208msourceHandle\u001b[0m\u001b[38;5;208m\"\u001b[0m\u001b[38;5;231m:\u001b[0m\u001b[38;5;231m \u001b[0m\u001b[38;5;186m\"\u001b[0m\u001b[38;5;186mz\u001b[0m\u001b[38;5;186m\"\u001b[0m\u001b[38;5;231m}\u001b[0m\u001b[38;5;231m]\u001b[0m\u001b[38;5;231m}\u001b[0m\n",
      "\u001b[38;5;238m───────┴────────────────────────────────────────────────────────────────────────\u001b[0m\n"
     ]
    }
   ],
   "source": [
    "!cat {workflow_json_filename}"
   ]
  },
  {
   "cell_type": "code",
   "execution_count": 23,
   "id": "8f2a621d-b533-4ddd-8bcd-c22db2f922ec",
   "metadata": {
    "trusted": true
   },
   "outputs": [
    {
     "data": {
      "application/vnd.jupyter.widget-view+json": {
       "model_id": "6d262da7512d4dd5b25be162da9f2e41",
       "version_major": 2,
       "version_minor": 1
      },
      "text/plain": [
       "NodeGraphWidget(settings={'minimap': True}, style={'width': '90%', 'height': '600px'}, value={'name': 'WorkGra…"
      ]
     },
     "execution_count": 23,
     "metadata": {},
     "output_type": "execute_result"
    }
   ],
   "source": [
    "wg = load_workflow_json(filename=workflow_json_filename)\n",
    "wg"
   ]
  },
  {
   "cell_type": "code",
   "execution_count": 25,
   "id": "cf80267d-c2b0-4236-bf1d-a57596985fc1",
   "metadata": {
    "trusted": true
   },
   "outputs": [
    {
     "name": "stderr",
     "output_type": "stream",
     "text": [
      "03/17/2025 10:49:39 AM <4010610> aiida.orm.nodes.process.workflow.workchain.WorkChainNode: [REPORT] [8551|WorkGraphEngine|continue_workgraph]: Continue workgraph.\n",
      "03/17/2025 10:49:39 AM <4010610> aiida.orm.nodes.process.workflow.workchain.WorkChainNode: [REPORT] [8551|WorkGraphEngine|continue_workgraph]: tasks ready to run: 2,3\n",
      "03/17/2025 10:49:39 AM <4010610> aiida.orm.nodes.process.workflow.workchain.WorkChainNode: [REPORT] [8551|WorkGraphEngine|run_tasks]: Run task: 2, type: Normal\n",
      "03/17/2025 10:49:39 AM <4010610> aiida.orm.nodes.process.workflow.workchain.WorkChainNode: [REPORT] [8551|WorkGraphEngine|update_normal_task_state]: Task: 2 finished.\n",
      "03/17/2025 10:49:39 AM <4010610> aiida.orm.nodes.process.workflow.workchain.WorkChainNode: [REPORT] [8551|WorkGraphEngine|continue_workgraph]: Continue workgraph.\n",
      "03/17/2025 10:49:39 AM <4010610> aiida.orm.nodes.process.workflow.workchain.WorkChainNode: [REPORT] [8551|WorkGraphEngine|continue_workgraph]: tasks ready to run: 3\n",
      "03/17/2025 10:49:39 AM <4010610> aiida.orm.nodes.process.workflow.workchain.WorkChainNode: [REPORT] [8551|WorkGraphEngine|run_tasks]: Run task: 3, type: Normal\n",
      "03/17/2025 10:49:39 AM <4010610> aiida.orm.nodes.process.workflow.workchain.WorkChainNode: [REPORT] [8551|WorkGraphEngine|update_normal_task_state]: Task: 3 finished.\n",
      "03/17/2025 10:49:39 AM <4010610> aiida.orm.nodes.process.workflow.workchain.WorkChainNode: [REPORT] [8551|WorkGraphEngine|continue_workgraph]: Continue workgraph.\n"
     ]
    },
    {
     "name": "stdout",
     "output_type": "stream",
     "text": [
      "------------------------------------------------------------\n",
      "kwargs:  {'value': 1}\n",
      "------------------------------------------------------------\n",
      "kwargs:  {'value': 2}\n"
     ]
    },
    {
     "name": "stderr",
     "output_type": "stream",
     "text": [
      "03/17/2025 10:49:39 AM <4010610> aiida.orm.nodes.process.workflow.workchain.WorkChainNode: [REPORT] [8551|WorkGraphEngine|continue_workgraph]: tasks ready to run: add_x_and_y\n",
      "03/17/2025 10:49:39 AM <4010610> aiida.orm.nodes.process.workflow.workchain.WorkChainNode: [REPORT] [8551|WorkGraphEngine|run_tasks]: Run task: add_x_and_y, type: PYTHONJOB\n"
     ]
    },
    {
     "name": "stdout",
     "output_type": "stream",
     "text": [
      "------------------------------------------------------------\n",
      "kwargs:  {'register_pickle_by_value': True, 'x': 1, 'y': 2}\n"
     ]
    },
    {
     "name": "stderr",
     "output_type": "stream",
     "text": [
      "03/17/2025 10:49:40 AM <4010610> aiida.orm.nodes.process.workflow.workchain.WorkChainNode: [REPORT] [8551|WorkGraphEngine|on_wait]: Process status: Waiting for child processes: 8560\n",
      "03/17/2025 10:49:42 AM <4010610> aiida.orm.nodes.process.workflow.workchain.WorkChainNode: [REPORT] [8551|WorkGraphEngine|update_task_state]: Task: add_x_and_y finished.\n",
      "03/17/2025 10:49:42 AM <4010610> aiida.orm.nodes.process.workflow.workchain.WorkChainNode: [REPORT] [8551|WorkGraphEngine|continue_workgraph]: Continue workgraph.\n",
      "03/17/2025 10:49:42 AM <4010610> aiida.orm.nodes.process.workflow.workchain.WorkChainNode: [REPORT] [8551|WorkGraphEngine|continue_workgraph]: tasks ready to run: add_x_and_y_and_z\n",
      "03/17/2025 10:49:42 AM <4010610> aiida.orm.nodes.process.workflow.workchain.WorkChainNode: [REPORT] [8551|WorkGraphEngine|run_tasks]: Run task: add_x_and_y_and_z, type: PYTHONJOB\n"
     ]
    },
    {
     "name": "stdout",
     "output_type": "stream",
     "text": [
      "------------------------------------------------------------\n",
      "kwargs:  {'register_pickle_by_value': True, 'x': <Int: uuid: 641fb31a-ade5-4268-8792-60467c4fb196 (pk: 8564) value: 1>, 'y': <Int: uuid: f9fb98d9-4800-445e-a386-73b3bd64d49f (pk: 8565) value: 2>, 'z': <Int: uuid: 11c56b8d-25d3-4c30-9afa-1f0bbfca15a3 (pk: 8566) value: 3>}\n"
     ]
    },
    {
     "name": "stderr",
     "output_type": "stream",
     "text": [
      "03/17/2025 10:49:43 AM <4010610> aiida.orm.nodes.process.workflow.workchain.WorkChainNode: [REPORT] [8551|WorkGraphEngine|on_wait]: Process status: Waiting for child processes: 8573\n",
      "03/17/2025 10:49:45 AM <4010610> aiida.orm.nodes.process.workflow.workchain.WorkChainNode: [REPORT] [8551|WorkGraphEngine|update_task_state]: Task: add_x_and_y_and_z finished.\n",
      "03/17/2025 10:49:45 AM <4010610> aiida.orm.nodes.process.workflow.workchain.WorkChainNode: [REPORT] [8551|WorkGraphEngine|continue_workgraph]: Continue workgraph.\n",
      "03/17/2025 10:49:45 AM <4010610> aiida.orm.nodes.process.workflow.workchain.WorkChainNode: [REPORT] [8551|WorkGraphEngine|continue_workgraph]: tasks ready to run: \n",
      "03/17/2025 10:49:45 AM <4010610> aiida.orm.nodes.process.workflow.workchain.WorkChainNode: [REPORT] [8551|WorkGraphEngine|finalize]: Finalize workgraph.\n"
     ]
    },
    {
     "name": "stdout",
     "output_type": "stream",
     "text": [
      "group_outputs []\n",
      "group_outputs:  {}\n"
     ]
    },
    {
     "data": {
      "text/plain": [
       "{'execution_count': <Int: uuid: 30d6c319-3250-43a3-a4dd-72de32fa41a6 (pk: 8578) value: 1>}"
      ]
     },
     "execution_count": 25,
     "metadata": {},
     "output_type": "execute_result"
    }
   ],
   "source": [
    "from aiida import load_profile\n",
    "\n",
    "load_profile()\n",
    "\n",
    "wg.run()"
   ]
  }
 ],
 "metadata": {
  "kernelspec": {
   "display_name": "ADIS",
   "language": "python",
   "name": "python3"
  },
  "language_info": {
   "codemirror_mode": {
    "name": "ipython",
    "version": 3
   },
   "file_extension": ".py",
   "mimetype": "text/x-python",
   "name": "python",
   "nbconvert_exporter": "python",
   "pygments_lexer": "ipython3",
   "version": "3.10.12"
  }
 },
 "nbformat": 4,
 "nbformat_minor": 5
}
