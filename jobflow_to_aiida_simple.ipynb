{
 "cells": [
  {
   "cell_type": "code",
   "execution_count": 1,
   "id": "000bbd4a-f53c-4eea-9d85-76f0aa2ca10b",
   "metadata": {
    "trusted": true
   },
   "outputs": [
    {
     "name": "stderr",
     "output_type": "stream",
     "text": [
      "/home/geiger_j/.aiida_venvs/adis/lib/python3.10/site-packages/paramiko/pkey.py:82: CryptographyDeprecationWarning: TripleDES has been moved to cryptography.hazmat.decrepit.ciphers.algorithms.TripleDES and will be removed from this module in 48.0.0.\n",
      "  \"cipher\": algorithms.TripleDES,\n",
      "/home/geiger_j/.aiida_venvs/adis/lib/python3.10/site-packages/paramiko/transport.py:253: CryptographyDeprecationWarning: TripleDES has been moved to cryptography.hazmat.decrepit.ciphers.algorithms.TripleDES and will be removed from this module in 48.0.0.\n",
      "  \"class\": algorithms.TripleDES,\n"
     ]
    },
    {
     "data": {
      "text/plain": [
       "Profile<uuid='d106cde233334800a702a20040a6b629' name='adis'>"
      ]
     },
     "execution_count": 1,
     "metadata": {},
     "output_type": "execute_result"
    }
   ],
   "source": [
    "from aiida import load_profile\n",
    "from jobflow import job, Flow\n",
    "\n",
    "load_profile()"
   ]
  },
  {
   "cell_type": "code",
   "execution_count": 2,
   "id": "b4a78447-e87c-4fb4-8d17-d9a280eb7254",
   "metadata": {
    "trusted": true
   },
   "outputs": [],
   "source": [
    "from pyiron_base import Project"
   ]
  },
  {
   "cell_type": "code",
   "execution_count": 3,
   "id": "06c2bd9e-b2ac-4b88-9158-fa37331c3418",
   "metadata": {
    "trusted": true
   },
   "outputs": [],
   "source": [
    "from python_workflow_definition.jobflow import write_workflow_json"
   ]
  },
  {
   "cell_type": "code",
   "execution_count": 4,
   "id": "fb6dbdaa-8cab-48b2-8307-448003eca3f5",
   "metadata": {
    "trusted": true
   },
   "outputs": [],
   "source": [
    "from python_workflow_definition.aiida import load_workflow_json"
   ]
  },
  {
   "cell_type": "code",
   "execution_count": 5,
   "id": "fb847d49-7bf9-4839-9b99-c116d1b0e9ee",
   "metadata": {
    "trusted": true
   },
   "outputs": [],
   "source": [
    "from simple_workflow import (\n",
    "    add_x_and_y as _add_x_and_y, \n",
    "    add_x_and_y_and_z as _add_x_and_y_and_z,\n",
    ")"
   ]
  },
  {
   "cell_type": "code",
   "execution_count": 6,
   "id": "8f95244e",
   "metadata": {},
   "outputs": [],
   "source": [
    "workflow_json_filename = \"workflow_simple_jobflow.json\""
   ]
  },
  {
   "cell_type": "code",
   "execution_count": 7,
   "id": "07598344-0f75-433b-8902-bea21a42088c",
   "metadata": {
    "trusted": true
   },
   "outputs": [],
   "source": [
    "add_x_and_y = job(_add_x_and_y, data=[\"x\", \"y\", \"z\"])\n",
    "add_x_and_y_and_z = job(_add_x_and_y_and_z)"
   ]
  },
  {
   "cell_type": "code",
   "execution_count": 8,
   "id": "ecef1ed5-a8d3-48c3-9e01-4a40e55c1153",
   "metadata": {
    "trusted": true
   },
   "outputs": [],
   "source": [
    "obj = add_x_and_y(x=1, y=2)"
   ]
  },
  {
   "cell_type": "code",
   "execution_count": 9,
   "id": "2b88a30a-e26b-4802-89b7-79ca08cc0af9",
   "metadata": {
    "trusted": true
   },
   "outputs": [],
   "source": [
    "w = add_x_and_y_and_z(x=obj.output.x, y=obj.output.y, z=obj.output.z)"
   ]
  },
  {
   "cell_type": "code",
   "execution_count": 10,
   "id": "a5e5ca63-2906-47c9-bac6-adebf8643cba",
   "metadata": {
    "trusted": true
   },
   "outputs": [],
   "source": [
    "flow = Flow([obj, w])"
   ]
  },
  {
   "cell_type": "code",
   "execution_count": 11,
   "id": "e464da97-16a1-4772-9a07-0a47f152781d",
   "metadata": {
    "trusted": true
   },
   "outputs": [],
   "source": [
    "write_workflow_json(flow=flow, file_name=workflow_json_filename)"
   ]
  },
  {
   "cell_type": "code",
   "execution_count": 12,
   "id": "bca646b2-0a9a-4271-966a-e5903a8c9031",
   "metadata": {
    "trusted": true
   },
   "outputs": [
    {
     "name": "stdout",
     "output_type": "stream",
     "text": [
      "\u001b[38;5;238m───────┬────────────────────────────────────────────────────────────────────────\u001b[0m\n",
      "       \u001b[38;5;238m│ \u001b[0mFile: \u001b[1mworkflow_simple_jobflow.json\u001b[0m\n",
      "\u001b[38;5;238m───────┼────────────────────────────────────────────────────────────────────────\u001b[0m\n",
      "\u001b[38;5;238m   1\u001b[0m   \u001b[38;5;238m│\u001b[0m \u001b[38;5;231m{\u001b[0m\u001b[38;5;208m\"\u001b[0m\u001b[38;5;208mnodes\u001b[0m\u001b[38;5;208m\"\u001b[0m\u001b[38;5;231m:\u001b[0m\u001b[38;5;231m \u001b[0m\u001b[38;5;231m{\u001b[0m\u001b[38;5;208m\"\u001b[0m\u001b[38;5;208m0\u001b[0m\u001b[38;5;208m\"\u001b[0m\u001b[38;5;231m:\u001b[0m\u001b[38;5;231m \u001b[0m\u001b[38;5;186m\"\u001b[0m\u001b[38;5;186msimple_workflow.add_x_and_y\u001b[0m\u001b[38;5;186m\"\u001b[0m\u001b[38;5;231m,\u001b[0m\u001b[38;5;231m \u001b[0m\u001b[38;5;208m\"\u001b[0m\u001b[38;5;208m1\u001b[0m\u001b[38;5;208m\"\u001b[0m\u001b[38;5;231m:\u001b[0m\u001b[38;5;231m \u001b[0m\u001b[38;5;186m\"\u001b[0m\u001b[38;5;186msimple_workflow.ad\u001b[0m\n",
      "\u001b[38;5;238m    \u001b[0m   \u001b[38;5;238m│\u001b[0m \u001b[38;5;186md_x_and_y_and_z\u001b[0m\u001b[38;5;186m\"\u001b[0m\u001b[38;5;231m,\u001b[0m\u001b[38;5;231m \u001b[0m\u001b[38;5;208m\"\u001b[0m\u001b[38;5;208m2\u001b[0m\u001b[38;5;208m\"\u001b[0m\u001b[38;5;231m:\u001b[0m\u001b[38;5;231m \u001b[0m\u001b[38;5;141m1\u001b[0m\u001b[38;5;231m,\u001b[0m\u001b[38;5;231m \u001b[0m\u001b[38;5;208m\"\u001b[0m\u001b[38;5;208m3\u001b[0m\u001b[38;5;208m\"\u001b[0m\u001b[38;5;231m:\u001b[0m\u001b[38;5;231m \u001b[0m\u001b[38;5;141m2\u001b[0m\u001b[38;5;231m}\u001b[0m\u001b[38;5;231m,\u001b[0m\u001b[38;5;231m \u001b[0m\u001b[38;5;208m\"\u001b[0m\u001b[38;5;208medges\u001b[0m\u001b[38;5;208m\"\u001b[0m\u001b[38;5;231m:\u001b[0m\u001b[38;5;231m \u001b[0m\u001b[38;5;231m[\u001b[0m\u001b[38;5;231m{\u001b[0m\u001b[38;5;208m\"\u001b[0m\u001b[38;5;208mtarget\u001b[0m\u001b[38;5;208m\"\u001b[0m\u001b[38;5;231m:\u001b[0m\u001b[38;5;231m \u001b[0m\u001b[38;5;141m0\u001b[0m\u001b[38;5;231m,\u001b[0m\u001b[38;5;231m \u001b[0m\u001b[38;5;208m\"\u001b[0m\u001b[38;5;208mtargetHandl\u001b[0m\n",
      "\u001b[38;5;238m    \u001b[0m   \u001b[38;5;238m│\u001b[0m \u001b[38;5;208me\u001b[0m\u001b[38;5;208m\"\u001b[0m\u001b[38;5;231m:\u001b[0m\u001b[38;5;231m \u001b[0m\u001b[38;5;186m\"\u001b[0m\u001b[38;5;186mx\u001b[0m\u001b[38;5;186m\"\u001b[0m\u001b[38;5;231m,\u001b[0m\u001b[38;5;231m \u001b[0m\u001b[38;5;208m\"\u001b[0m\u001b[38;5;208msource\u001b[0m\u001b[38;5;208m\"\u001b[0m\u001b[38;5;231m:\u001b[0m\u001b[38;5;231m \u001b[0m\u001b[38;5;141m2\u001b[0m\u001b[38;5;231m,\u001b[0m\u001b[38;5;231m \u001b[0m\u001b[38;5;208m\"\u001b[0m\u001b[38;5;208msourceHandle\u001b[0m\u001b[38;5;208m\"\u001b[0m\u001b[38;5;231m:\u001b[0m\u001b[38;5;231m \u001b[0m\u001b[38;5;141mnull\u001b[0m\u001b[38;5;231m}\u001b[0m\u001b[38;5;231m,\u001b[0m\u001b[38;5;231m \u001b[0m\u001b[38;5;231m{\u001b[0m\u001b[38;5;208m\"\u001b[0m\u001b[38;5;208mtarget\u001b[0m\u001b[38;5;208m\"\u001b[0m\u001b[38;5;231m:\u001b[0m\u001b[38;5;231m \u001b[0m\u001b[38;5;141m0\u001b[0m\u001b[38;5;231m,\u001b[0m\u001b[38;5;231m \u001b[0m\u001b[38;5;208m\"\u001b[0m\u001b[38;5;208mtargetHandl\u001b[0m\n",
      "\u001b[38;5;238m    \u001b[0m   \u001b[38;5;238m│\u001b[0m \u001b[38;5;208me\u001b[0m\u001b[38;5;208m\"\u001b[0m\u001b[38;5;231m:\u001b[0m\u001b[38;5;231m \u001b[0m\u001b[38;5;186m\"\u001b[0m\u001b[38;5;186my\u001b[0m\u001b[38;5;186m\"\u001b[0m\u001b[38;5;231m,\u001b[0m\u001b[38;5;231m \u001b[0m\u001b[38;5;208m\"\u001b[0m\u001b[38;5;208msource\u001b[0m\u001b[38;5;208m\"\u001b[0m\u001b[38;5;231m:\u001b[0m\u001b[38;5;231m \u001b[0m\u001b[38;5;141m3\u001b[0m\u001b[38;5;231m,\u001b[0m\u001b[38;5;231m \u001b[0m\u001b[38;5;208m\"\u001b[0m\u001b[38;5;208msourceHandle\u001b[0m\u001b[38;5;208m\"\u001b[0m\u001b[38;5;231m:\u001b[0m\u001b[38;5;231m \u001b[0m\u001b[38;5;141mnull\u001b[0m\u001b[38;5;231m}\u001b[0m\u001b[38;5;231m,\u001b[0m\u001b[38;5;231m \u001b[0m\u001b[38;5;231m{\u001b[0m\u001b[38;5;208m\"\u001b[0m\u001b[38;5;208mtarget\u001b[0m\u001b[38;5;208m\"\u001b[0m\u001b[38;5;231m:\u001b[0m\u001b[38;5;231m \u001b[0m\u001b[38;5;141m1\u001b[0m\u001b[38;5;231m,\u001b[0m\u001b[38;5;231m \u001b[0m\u001b[38;5;208m\"\u001b[0m\u001b[38;5;208mtargetHandl\u001b[0m\n",
      "\u001b[38;5;238m    \u001b[0m   \u001b[38;5;238m│\u001b[0m \u001b[38;5;208me\u001b[0m\u001b[38;5;208m\"\u001b[0m\u001b[38;5;231m:\u001b[0m\u001b[38;5;231m \u001b[0m\u001b[38;5;186m\"\u001b[0m\u001b[38;5;186mx\u001b[0m\u001b[38;5;186m\"\u001b[0m\u001b[38;5;231m,\u001b[0m\u001b[38;5;231m \u001b[0m\u001b[38;5;208m\"\u001b[0m\u001b[38;5;208msource\u001b[0m\u001b[38;5;208m\"\u001b[0m\u001b[38;5;231m:\u001b[0m\u001b[38;5;231m \u001b[0m\u001b[38;5;141m0\u001b[0m\u001b[38;5;231m,\u001b[0m\u001b[38;5;231m \u001b[0m\u001b[38;5;208m\"\u001b[0m\u001b[38;5;208msourceHandle\u001b[0m\u001b[38;5;208m\"\u001b[0m\u001b[38;5;231m:\u001b[0m\u001b[38;5;231m \u001b[0m\u001b[38;5;186m\"\u001b[0m\u001b[38;5;186mx\u001b[0m\u001b[38;5;186m\"\u001b[0m\u001b[38;5;231m}\u001b[0m\u001b[38;5;231m,\u001b[0m\u001b[38;5;231m \u001b[0m\u001b[38;5;231m{\u001b[0m\u001b[38;5;208m\"\u001b[0m\u001b[38;5;208mtarget\u001b[0m\u001b[38;5;208m\"\u001b[0m\u001b[38;5;231m:\u001b[0m\u001b[38;5;231m \u001b[0m\u001b[38;5;141m1\u001b[0m\u001b[38;5;231m,\u001b[0m\u001b[38;5;231m \u001b[0m\u001b[38;5;208m\"\u001b[0m\u001b[38;5;208mtargetHandle\u001b[0m\n",
      "\u001b[38;5;238m    \u001b[0m   \u001b[38;5;238m│\u001b[0m \u001b[38;5;208m\"\u001b[0m\u001b[38;5;231m:\u001b[0m\u001b[38;5;231m \u001b[0m\u001b[38;5;186m\"\u001b[0m\u001b[38;5;186my\u001b[0m\u001b[38;5;186m\"\u001b[0m\u001b[38;5;231m,\u001b[0m\u001b[38;5;231m \u001b[0m\u001b[38;5;208m\"\u001b[0m\u001b[38;5;208msource\u001b[0m\u001b[38;5;208m\"\u001b[0m\u001b[38;5;231m:\u001b[0m\u001b[38;5;231m \u001b[0m\u001b[38;5;141m0\u001b[0m\u001b[38;5;231m,\u001b[0m\u001b[38;5;231m \u001b[0m\u001b[38;5;208m\"\u001b[0m\u001b[38;5;208msourceHandle\u001b[0m\u001b[38;5;208m\"\u001b[0m\u001b[38;5;231m:\u001b[0m\u001b[38;5;231m \u001b[0m\u001b[38;5;186m\"\u001b[0m\u001b[38;5;186my\u001b[0m\u001b[38;5;186m\"\u001b[0m\u001b[38;5;231m}\u001b[0m\u001b[38;5;231m,\u001b[0m\u001b[38;5;231m \u001b[0m\u001b[38;5;231m{\u001b[0m\u001b[38;5;208m\"\u001b[0m\u001b[38;5;208mtarget\u001b[0m\u001b[38;5;208m\"\u001b[0m\u001b[38;5;231m:\u001b[0m\u001b[38;5;231m \u001b[0m\u001b[38;5;141m1\u001b[0m\u001b[38;5;231m,\u001b[0m\u001b[38;5;231m \u001b[0m\u001b[38;5;208m\"\u001b[0m\u001b[38;5;208mtargetHandle\u001b[0m\u001b[38;5;208m\"\u001b[0m\n",
      "\u001b[38;5;238m    \u001b[0m   \u001b[38;5;238m│\u001b[0m \u001b[38;5;231m:\u001b[0m\u001b[38;5;231m \u001b[0m\u001b[38;5;186m\"\u001b[0m\u001b[38;5;186mz\u001b[0m\u001b[38;5;186m\"\u001b[0m\u001b[38;5;231m,\u001b[0m\u001b[38;5;231m \u001b[0m\u001b[38;5;208m\"\u001b[0m\u001b[38;5;208msource\u001b[0m\u001b[38;5;208m\"\u001b[0m\u001b[38;5;231m:\u001b[0m\u001b[38;5;231m \u001b[0m\u001b[38;5;141m0\u001b[0m\u001b[38;5;231m,\u001b[0m\u001b[38;5;231m \u001b[0m\u001b[38;5;208m\"\u001b[0m\u001b[38;5;208msourceHandle\u001b[0m\u001b[38;5;208m\"\u001b[0m\u001b[38;5;231m:\u001b[0m\u001b[38;5;231m \u001b[0m\u001b[38;5;186m\"\u001b[0m\u001b[38;5;186mz\u001b[0m\u001b[38;5;186m\"\u001b[0m\u001b[38;5;231m}\u001b[0m\u001b[38;5;231m]\u001b[0m\u001b[38;5;231m}\u001b[0m\n",
      "\u001b[38;5;238m───────┴────────────────────────────────────────────────────────────────────────\u001b[0m\n"
     ]
    }
   ],
   "source": [
    "!cat {workflow_json_filename}"
   ]
  },
  {
   "cell_type": "code",
   "execution_count": 13,
   "id": "8f2a621d-b533-4ddd-8bcd-c22db2f922ec",
   "metadata": {
    "trusted": true
   },
   "outputs": [
    {
     "data": {
      "application/vnd.jupyter.widget-view+json": {
       "model_id": "40090008ae2942cebbc0a5d428c25f97",
       "version_major": 2,
       "version_minor": 1
      },
      "text/plain": [
       "NodeGraphWidget(settings={'minimap': True}, style={'width': '90%', 'height': '600px'}, value={'name': 'WorkGra…"
      ]
     },
     "execution_count": 13,
     "metadata": {},
     "output_type": "execute_result"
    }
   ],
   "source": [
    "wg = load_workflow_json(filename=workflow_json_filename)\n",
    "wg"
   ]
  },
  {
   "cell_type": "code",
   "execution_count": 14,
   "id": "cf80267d-c2b0-4236-bf1d-a57596985fc1",
   "metadata": {
    "trusted": true
   },
   "outputs": [
    {
     "name": "stderr",
     "output_type": "stream",
     "text": [
      "03/21/2025 12:32:04 PM <3689673> aiida.orm.nodes.process.workflow.workchain.WorkChainNode: [REPORT] [12737|WorkGraphEngine|continue_workgraph]: Continue workgraph.\n",
      "03/21/2025 12:32:04 PM <3689673> aiida.orm.nodes.process.workflow.workchain.WorkChainNode: [REPORT] [12737|WorkGraphEngine|continue_workgraph]: tasks ready to run: pickle_node3,pickle_node4\n",
      "03/21/2025 12:32:04 PM <3689673> aiida.orm.nodes.process.workflow.workchain.WorkChainNode: [REPORT] [12737|WorkGraphEngine|run_tasks]: Run task: pickle_node3, type: PYTHONJOB\n"
     ]
    },
    {
     "name": "stdout",
     "output_type": "stream",
     "text": [
      "------------------------------------------------------------\n",
      "kwargs:  {'value': 1}\n"
     ]
    },
    {
     "name": "stderr",
     "output_type": "stream",
     "text": [
      "03/21/2025 12:32:04 PM <3689673> aiida.orm.nodes.process.workflow.workchain.WorkChainNode: [REPORT] [12737|WorkGraphEngine|run_tasks]: Run task: pickle_node4, type: PYTHONJOB\n"
     ]
    },
    {
     "name": "stdout",
     "output_type": "stream",
     "text": [
      "------------------------------------------------------------\n",
      "kwargs:  {'value': 2}\n"
     ]
    },
    {
     "name": "stderr",
     "output_type": "stream",
     "text": [
      "03/21/2025 12:32:05 PM <3689673> aiida.orm.nodes.process.workflow.workchain.WorkChainNode: [REPORT] [12737|WorkGraphEngine|on_wait]: Process status: Waiting for child processes: 12745, 12753\n",
      "03/21/2025 12:32:08 PM <3689673> aiida.orm.nodes.process.workflow.workchain.WorkChainNode: [REPORT] [12737|WorkGraphEngine|update_task_state]: Task: pickle_node3 finished.\n",
      "03/21/2025 12:32:09 PM <3689673> aiida.orm.nodes.process.workflow.workchain.WorkChainNode: [REPORT] [12737|WorkGraphEngine|update_task_state]: Task: pickle_node4 finished.\n",
      "03/21/2025 12:32:09 PM <3689673> aiida.orm.nodes.process.workflow.workchain.WorkChainNode: [REPORT] [12737|WorkGraphEngine|continue_workgraph]: Continue workgraph.\n",
      "03/21/2025 12:32:09 PM <3689673> aiida.orm.nodes.process.workflow.workchain.WorkChainNode: [REPORT] [12737|WorkGraphEngine|continue_workgraph]: tasks ready to run: add_x_and_y1\n",
      "03/21/2025 12:32:09 PM <3689673> aiida.orm.nodes.process.workflow.workchain.WorkChainNode: [REPORT] [12737|WorkGraphEngine|run_tasks]: Run task: add_x_and_y1, type: PYTHONJOB\n"
     ]
    },
    {
     "name": "stdout",
     "output_type": "stream",
     "text": [
      "------------------------------------------------------------\n",
      "kwargs:  {'register_pickle_by_value': True, 'x': <Int: uuid: cf353d09-ae92-439a-8c97-df9bf2eef4f0 (pk: 12760) value: 1>, 'y': <Int: uuid: cc43a896-0154-4ef1-bf8f-84a8a3f7c823 (pk: 12761) value: 2>}\n"
     ]
    },
    {
     "name": "stderr",
     "output_type": "stream",
     "text": [
      "03/21/2025 12:32:10 PM <3689673> aiida.orm.nodes.process.workflow.workchain.WorkChainNode: [REPORT] [12737|WorkGraphEngine|on_wait]: Process status: Waiting for child processes: 12768\n",
      "03/21/2025 12:32:12 PM <3689673> aiida.orm.nodes.process.workflow.workchain.WorkChainNode: [REPORT] [12737|WorkGraphEngine|update_task_state]: Task: add_x_and_y1 finished.\n",
      "03/21/2025 12:32:13 PM <3689673> aiida.orm.nodes.process.workflow.workchain.WorkChainNode: [REPORT] [12737|WorkGraphEngine|continue_workgraph]: Continue workgraph.\n",
      "03/21/2025 12:32:13 PM <3689673> aiida.orm.nodes.process.workflow.workchain.WorkChainNode: [REPORT] [12737|WorkGraphEngine|continue_workgraph]: tasks ready to run: add_x_and_y_and_z2\n",
      "03/21/2025 12:32:13 PM <3689673> aiida.orm.nodes.process.workflow.workchain.WorkChainNode: [REPORT] [12737|WorkGraphEngine|run_tasks]: Run task: add_x_and_y_and_z2, type: PYTHONJOB\n"
     ]
    },
    {
     "name": "stdout",
     "output_type": "stream",
     "text": [
      "------------------------------------------------------------\n",
      "kwargs:  {'register_pickle_by_value': True, 'x': <Int: uuid: 4b83d6e4-3182-4c73-afa6-0e4be3f4664d (pk: 12772) value: 1>, 'y': <Int: uuid: 3f731a30-ff61-4570-a1b5-f5eae65353ce (pk: 12773) value: 2>, 'z': <Int: uuid: 7943fabc-e035-4079-90c6-7e0738b43817 (pk: 12774) value: 3>}\n"
     ]
    },
    {
     "name": "stderr",
     "output_type": "stream",
     "text": [
      "03/21/2025 12:32:14 PM <3689673> aiida.orm.nodes.process.workflow.workchain.WorkChainNode: [REPORT] [12737|WorkGraphEngine|on_wait]: Process status: Waiting for child processes: 12781\n",
      "03/21/2025 12:32:16 PM <3689673> aiida.orm.nodes.process.workflow.workchain.WorkChainNode: [REPORT] [12737|WorkGraphEngine|update_task_state]: Task: add_x_and_y_and_z2 finished.\n",
      "03/21/2025 12:32:16 PM <3689673> aiida.orm.nodes.process.workflow.workchain.WorkChainNode: [REPORT] [12737|WorkGraphEngine|continue_workgraph]: Continue workgraph.\n",
      "03/21/2025 12:32:17 PM <3689673> aiida.orm.nodes.process.workflow.workchain.WorkChainNode: [REPORT] [12737|WorkGraphEngine|continue_workgraph]: tasks ready to run: \n",
      "03/21/2025 12:32:17 PM <3689673> aiida.orm.nodes.process.workflow.workchain.WorkChainNode: [REPORT] [12737|WorkGraphEngine|finalize]: Finalize workgraph.\n"
     ]
    },
    {
     "data": {
      "text/plain": [
       "{'execution_count': <Int: uuid: 3d2a822e-15e3-4a1f-aa3d-1fbc6020d7ae (pk: 12786) value: 1>}"
      ]
     },
     "execution_count": 14,
     "metadata": {},
     "output_type": "execute_result"
    }
   ],
   "source": [
    "\n",
    "wg.run()"
   ]
  },
  {
   "cell_type": "code",
   "execution_count": null,
   "id": "10c2a6c3",
   "metadata": {},
   "outputs": [],
   "source": []
  }
 ],
 "metadata": {
  "kernelspec": {
   "display_name": "ADIS",
   "language": "python",
   "name": "python3"
  },
  "language_info": {
   "codemirror_mode": {
    "name": "ipython",
    "version": 3
   },
   "file_extension": ".py",
   "mimetype": "text/x-python",
   "name": "python",
   "nbconvert_exporter": "python",
   "pygments_lexer": "ipython3",
   "version": "3.10.12"
  }
 },
 "nbformat": 4,
 "nbformat_minor": 5
}
