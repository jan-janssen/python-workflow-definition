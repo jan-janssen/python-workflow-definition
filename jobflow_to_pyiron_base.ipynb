{
 "cells": [
  {
   "cell_type": "code",
   "execution_count": null,
   "id": "000bbd4a-f53c-4eea-9d85-76f0aa2ca10b",
   "metadata": {},
   "outputs": [],
   "source": [
    "from jobflow import job, Flow"
   ]
  },
  {
   "cell_type": "code",
   "execution_count": null,
   "id": "b4a78447-e87c-4fb4-8d17-d9a280eb7254",
   "metadata": {},
   "outputs": [],
   "source": [
    "from pyiron_base import Project"
   ]
  },
  {
   "cell_type": "code",
   "execution_count": null,
   "id": "06c2bd9e-b2ac-4b88-9158-fa37331c3418",
   "metadata": {},
   "outputs": [],
   "source": [
    "from python_workflow_definition.jobflow import write_workflow_json"
   ]
  },
  {
   "cell_type": "code",
   "execution_count": null,
   "id": "fb6dbdaa-8cab-48b2-8307-448003eca3f5",
   "metadata": {},
   "outputs": [],
   "source": [
    "from python_workflow_definition.pyiron_base import load_workflow_json"
   ]
  },
  {
   "cell_type": "code",
   "execution_count": null,
   "id": "fb847d49-7bf9-4839-9b99-c116d1b0e9ee",
   "metadata": {},
   "outputs": [],
   "source": [
    "from quantum_espresso_workflow import (\n",
    "    calculate_qe as _calculate_qe, \n",
    "    generate_structures as _generate_structures, \n",
    "    get_bulk_structure as _get_bulk_structure, \n",
    "    plot_energy_volume_curve as _plot_energy_volume_curve,\n",
    ")"
   ]
  },
  {
   "cell_type": "code",
   "execution_count": null,
   "id": "07598344-0f75-433b-8902-bea21a42088c",
   "metadata": {},
   "outputs": [],
   "source": [
    "calculate_qe = job(_calculate_qe, data=[\"energy\", \"volume\", \"structure\"])\n",
    "generate_structures = job(_generate_structures, data=[\"i\" for i in range(100)])\n",
    "plot_energy_volume_curve = job(_plot_energy_volume_curve)\n",
    "get_bulk_structure = job(_get_bulk_structure)"
   ]
  },
  {
   "cell_type": "code",
   "execution_count": null,
   "id": "e1ce0a51-0ab9-456c-81f9-d39875c3b709",
   "metadata": {},
   "outputs": [],
   "source": [
    "pseudopotentials = {\"Al\": \"Al.pbe-n-kjpaw_psl.1.0.0.UPF\"}"
   ]
  },
  {
   "cell_type": "code",
   "execution_count": null,
   "id": "c03753c7-9936-4a80-9e4e-2ac56a7fc114",
   "metadata": {},
   "outputs": [],
   "source": [
    "structure = get_bulk_structure(\n",
    "    name=\"Al\",\n",
    "    a=4.05,\n",
    "    cubic=True,\n",
    ")"
   ]
  },
  {
   "cell_type": "code",
   "execution_count": null,
   "id": "ecef1ed5-a8d3-48c3-9e01-4a40e55c1153",
   "metadata": {},
   "outputs": [],
   "source": [
    "calc_mini = calculate_qe(\n",
    "    working_directory=\"mini\",\n",
    "    input_dict={\n",
    "        \"structure\": structure.output,\n",
    "        \"pseudopotentials\": pseudopotentials,\n",
    "        \"kpts\": (3, 3, 3),\n",
    "        \"calculation\": \"vc-relax\",\n",
    "        \"smearing\": 0.02,\n",
    "    },\n",
    ")"
   ]
  },
  {
   "cell_type": "code",
   "execution_count": null,
   "id": "2b88a30a-e26b-4802-89b7-79ca08cc0af9",
   "metadata": {},
   "outputs": [],
   "source": [
    "number_of_strains = 5\n",
    "structure_lst = generate_structures(\n",
    "    structure=calc_mini.output.structure,\n",
    "    strain_lst=np.linspace(0.9, 1.1, number_of_strains),\n",
    ")"
   ]
  },
  {
   "cell_type": "code",
   "execution_count": null,
   "id": "53e979ac-21db-4aa5-ae58-7cfc08dfa87b",
   "metadata": {},
   "outputs": [],
   "source": [
    "job_strain_lst = []\n",
    "for i in range(number_of_strains):\n",
    "    calc_strain = calculate_qe(\n",
    "        working_directory=\"strain_\" + str(i),\n",
    "        input_dict={\n",
    "            \"structure\": getattr(structure_lst.output, str(i)),\n",
    "            \"pseudopotentials\": pseudopotentials,\n",
    "            \"kpts\": (3, 3, 3),\n",
    "            \"calculation\": \"scf\",\n",
    "            \"smearing\": 0.02,\n",
    "        },\n",
    "    )\n",
    "    job_strain_lst.append(calc_strain)"
   ]
  },
  {
   "cell_type": "code",
   "execution_count": null,
   "id": "fbc5285c-7cc5-4318-acf8-06a48a4e2031",
   "metadata": {},
   "outputs": [],
   "source": [
    "plot = plot_energy_volume_curve(\n",
    "    volume_lst=[job.output.volume for job in job_strain_lst],\n",
    "    energy_lst=[job.output.energy for job in job_strain_lst],\n",
    ")"
   ]
  },
  {
   "cell_type": "code",
   "execution_count": null,
   "id": "299aef9c-7ae7-46f9-a66f-521b05b7fa1c",
   "metadata": {},
   "outputs": [],
   "source": [
    "flow = Flow([structure, calc_mini, structure_lst] + job_strain_lst + [plot])"
   ]
  },
  {
   "cell_type": "code",
   "execution_count": null,
   "id": "e464da97-16a1-4772-9a07-0a47f152781d",
   "metadata": {},
   "outputs": [],
   "source": [
    "write_workflow_json(flow=flow, file_name=\"workflow_jobflow.json\")"
   ]
  },
  {
   "cell_type": "code",
   "execution_count": null,
   "id": "bca646b2-0a9a-4271-966a-e5903a8c9031",
   "metadata": {},
   "outputs": [],
   "source": [
    "!cat workflow_jobflow.json"
   ]
  },
  {
   "cell_type": "code",
   "execution_count": null,
   "id": "f45684a8-2613-415a-ab0a-5cb2bafaffea",
   "metadata": {},
   "outputs": [],
   "source": [
    "pr = Project(\"test\")\n",
    "pr.remove_jobs(recursive=True, silently=True)"
   ]
  },
  {
   "cell_type": "code",
   "execution_count": null,
   "id": "8f2a621d-b533-4ddd-8bcd-c22db2f922ec",
   "metadata": {},
   "outputs": [],
   "source": [
    "delayed_object = load_workflow_json(project=pr, file_name=\"workflow_jobflow.json\")\n",
    "delayed_object.draw()"
   ]
  },
  {
   "cell_type": "code",
   "execution_count": null,
   "id": "cf80267d-c2b0-4236-bf1d-a57596985fc1",
   "metadata": {},
   "outputs": [],
   "source": [
    "delayed_object.pull()"
   ]
  }
 ],
 "metadata": {
  "kernelspec": {
   "display_name": "Python 3 (ipykernel)",
   "language": "python",
   "name": "python3"
  },
  "language_info": {
   "codemirror_mode": {
    "name": "ipython",
    "version": 3
   },
   "file_extension": ".py",
   "mimetype": "text/x-python",
   "name": "python",
   "nbconvert_exporter": "python",
   "pygments_lexer": "ipython3",
   "version": "3.12.5"
  }
 },
 "nbformat": 4,
 "nbformat_minor": 5
}
