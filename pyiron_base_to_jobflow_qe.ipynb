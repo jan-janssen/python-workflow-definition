{
 "cells": [
  {
   "cell_type": "code",
   "execution_count": 14,
   "id": "28d69730-d8cb-4174-ae3f-aa70da8a8108",
   "metadata": {
    "trusted": true
   },
   "outputs": [],
   "source": [
    "import numpy as np"
   ]
  },
  {
   "cell_type": "code",
   "execution_count": 15,
   "id": "cacaa0a8-27c8-44de-9e37-69cd3d13408b",
   "metadata": {
    "trusted": true
   },
   "outputs": [],
   "source": [
    "from jobflow.managers.local import run_locally"
   ]
  },
  {
   "cell_type": "code",
   "execution_count": 16,
   "id": "14d87342-706e-4120-99e6-b5363f724601",
   "metadata": {
    "trusted": true
   },
   "outputs": [],
   "source": [
    "from pyiron_base import Project, job"
   ]
  },
  {
   "cell_type": "code",
   "execution_count": 17,
   "id": "a2ed2608-9e1b-4a81-81cb-5079573ea2d1",
   "metadata": {
    "trusted": true
   },
   "outputs": [],
   "source": [
    "from python_workflow_definition.pyiron_base import write_workflow_json"
   ]
  },
  {
   "cell_type": "code",
   "execution_count": 18,
   "id": "444347b0-d5ba-4903-b8d4-a9d7fc35d268",
   "metadata": {
    "trusted": true
   },
   "outputs": [],
   "source": [
    "from python_workflow_definition.jobflow import load_workflow_json"
   ]
  },
  {
   "cell_type": "code",
   "execution_count": 19,
   "id": "b75c2530-9b89-4185-838f-a17e517fa68f",
   "metadata": {
    "trusted": true
   },
   "outputs": [],
   "source": [
    "from quantum_espresso_workflow import (\n",
    "    calculate_qe as _calculate_qe, \n",
    "    generate_structures as _generate_structures, \n",
    "    get_bulk_structure as _get_bulk_structure, \n",
    "    plot_energy_volume_curve as _plot_energy_volume_curve,\n",
    ")"
   ]
  },
  {
   "cell_type": "code",
   "execution_count": 20,
   "id": "07a950ca",
   "metadata": {},
   "outputs": [],
   "source": [
    "workflow_json_filename = \"pyiron_base_to_jobflow_qe.json\""
   ]
  },
  {
   "cell_type": "code",
   "execution_count": 21,
   "id": "208ddfb8-dfda-4227-aa1f-3dc29e34ea82",
   "metadata": {
    "trusted": true
   },
   "outputs": [],
   "source": [
    "calculate_qe = job(_calculate_qe, output_key_lst=[\"energy\", \"volume\", \"structure\"])\n",
    "generate_structures = job(_generate_structures)\n",
    "plot_energy_volume_curve = job(_plot_energy_volume_curve)\n",
    "get_bulk_structure = job(_get_bulk_structure)"
   ]
  },
  {
   "cell_type": "code",
   "execution_count": 22,
   "id": "5071d3a0-7c1f-44c5-85e0-dede1566c10c",
   "metadata": {
    "trusted": true
   },
   "outputs": [],
   "source": [
    "pseudopotentials = {\"Al\": \"Al.pbe-n-kjpaw_psl.1.0.0.UPF\"}"
   ]
  },
  {
   "cell_type": "code",
   "execution_count": 23,
   "id": "13debfcd-362d-4fd0-a91f-5ab33632fceb",
   "metadata": {
    "trusted": true
   },
   "outputs": [
    {
     "data": {
      "application/vnd.jupyter.widget-view+json": {
       "model_id": "0c30d907e2cc45ecb5447f75b42fb69d",
       "version_major": 2,
       "version_minor": 0
      },
      "text/plain": [
       "0it [00:00, ?it/s]"
      ]
     },
     "metadata": {},
     "output_type": "display_data"
    }
   ],
   "source": [
    "pr = Project(\"test\")\n",
    "pr.remove_jobs(recursive=True, silently=True)"
   ]
  },
  {
   "cell_type": "code",
   "execution_count": 24,
   "id": "1f1cb12f-4001-478d-8ea0-b369f4f2981a",
   "metadata": {
    "trusted": true
   },
   "outputs": [],
   "source": [
    "structure = get_bulk_structure(\n",
    "    element=\"Al\",\n",
    "    a=4.05,\n",
    "    cubic=True,\n",
    "    pyiron_project=pr,\n",
    ")"
   ]
  },
  {
   "cell_type": "code",
   "execution_count": 25,
   "id": "4140f07b-af54-41ef-be22-df6b5b53bf95",
   "metadata": {
    "trusted": true
   },
   "outputs": [],
   "source": [
    "calc_mini = calculate_qe(\n",
    "    working_directory=\"mini\",\n",
    "    input_dict={\n",
    "        \"structure\": structure,\n",
    "        \"pseudopotentials\": pseudopotentials,\n",
    "        \"kpts\": (3, 3, 3),\n",
    "        \"calculation\": \"vc-relax\",\n",
    "        \"smearing\": 0.02,\n",
    "    },\n",
    "    pyiron_project=pr,\n",
    ")"
   ]
  },
  {
   "cell_type": "code",
   "execution_count": 26,
   "id": "3c4dae11-8750-42d5-807c-cd19f2b65706",
   "metadata": {
    "trusted": true
   },
   "outputs": [],
   "source": [
    "number_of_strains = 5\n",
    "structure_lst = generate_structures(  # the generate_structures() function is not available in the workflow graph\n",
    "    structure=calc_mini.output.structure,\n",
    "    strain_lst=np.linspace(0.9, 1.1, number_of_strains),\n",
    "    pyiron_project=pr,\n",
    "    list_length=number_of_strains,\n",
    ")"
   ]
  },
  {
   "cell_type": "code",
   "execution_count": 27,
   "id": "fdf3b62d-6cce-4312-8a5b-057224e36aca",
   "metadata": {
    "trusted": true
   },
   "outputs": [],
   "source": [
    "job_strain_lst = []\n",
    "for i, structure_strain in enumerate(structure_lst):\n",
    "    calc_strain = calculate_qe(\n",
    "        working_directory=\"strain_\" + str(i),\n",
    "        input_dict={\n",
    "            \"structure\": structure_strain,\n",
    "            \"pseudopotentials\": pseudopotentials,\n",
    "            \"kpts\": (3, 3, 3),\n",
    "            \"calculation\": \"scf\",\n",
    "            \"smearing\": 0.02,\n",
    "        },\n",
    "        pyiron_project=pr,\n",
    "    )\n",
    "    job_strain_lst.append(calc_strain)"
   ]
  },
  {
   "cell_type": "code",
   "execution_count": 28,
   "id": "b2823306-0a8a-4ae6-bb1f-104e90e2fe41",
   "metadata": {
    "trusted": true
   },
   "outputs": [],
   "source": [
    "plot = plot_energy_volume_curve(\n",
    "    volume_lst=[job.output.volume for job in job_strain_lst],\n",
    "    energy_lst=[job.output.energy for job in job_strain_lst],\n",
    "    pyiron_project=pr,\n",
    ")"
   ]
  },
  {
   "cell_type": "code",
   "execution_count": 29,
   "id": "52646121-335f-48e6-bd5e-a1d69d00e8bc",
   "metadata": {
    "trusted": true
   },
   "outputs": [],
   "source": [
    "write_workflow_json(delayed_object=plot, file_name=workflow_json_filename)"
   ]
  },
  {
   "cell_type": "code",
   "execution_count": null,
   "id": "72c8e6e6-8e60-4a4f-81f3-968b4b5f36ee",
   "metadata": {
    "trusted": true
   },
   "outputs": [],
   "source": [
    "!cat {workflow_json_filename}"
   ]
  },
  {
   "cell_type": "code",
   "execution_count": 20,
   "id": "32fcd4b2-4f0a-442d-b098-827672823796",
   "metadata": {
    "trusted": true
   },
   "outputs": [],
   "source": [
    "flow = load_workflow_json(file_name=workflow_json_filename)"
   ]
  },
  {
   "cell_type": "code",
   "execution_count": 21,
   "id": "a80b59bd-fe30-49c6-92ca-35ef2d77a6fb",
   "metadata": {
    "trusted": true
   },
   "outputs": [
    {
     "name": "stdout",
     "output_type": "stream",
     "text": [
      "2025-03-17 09:50:21,792 INFO Started executing jobs locally\n",
      "2025-03-17 09:50:22,018 INFO Starting job - get_bulk_structure (4c9813a9-b659-4297-91fb-09afce5a7760)\n",
      "2025-03-17 09:50:22,021 INFO Finished job - get_bulk_structure (4c9813a9-b659-4297-91fb-09afce5a7760)\n",
      "2025-03-17 09:50:22,022 INFO Starting job - get_dict (3690ec2a-b248-407d-b66f-f851a7f17c0a)\n",
      "2025-03-17 09:50:22,024 INFO Finished job - get_dict (3690ec2a-b248-407d-b66f-f851a7f17c0a)\n",
      "2025-03-17 09:50:22,025 INFO Starting job - calculate_qe (af9fbdab-b34c-4e21-a8d5-399dc2d723f6)\n",
      "2025-03-17 09:50:51,064 INFO Finished job - calculate_qe (af9fbdab-b34c-4e21-a8d5-399dc2d723f6)\n",
      "2025-03-17 09:50:51,065 INFO Starting job - generate_structures (cf237605-9077-4f81-8e4d-06632fc8e485)\n",
      "2025-03-17 09:50:51,074 INFO Finished job - generate_structures (cf237605-9077-4f81-8e4d-06632fc8e485)\n",
      "2025-03-17 09:50:51,080 INFO Starting job - get_dict (ae13ecea-119c-4ca3-be88-0a5664375495)\n",
      "2025-03-17 09:50:51,090 INFO get_dict failed with exception:\n",
      "Traceback (most recent call last):\n",
      "  File \"/home/geiger_j/.aiida_venvs/adis/lib/python3.10/site-packages/jobflow/managers/local.py\", line 117, in _run_job\n",
      "    response = job.run(store=store)\n",
      "  File \"/home/geiger_j/.aiida_venvs/adis/lib/python3.10/site-packages/jobflow/core/job.py\", line 593, in run\n",
      "    self.resolve_args(store=store)\n",
      "  File \"/home/geiger_j/.aiida_venvs/adis/lib/python3.10/site-packages/jobflow/core/job.py\", line 709, in resolve_args\n",
      "    resolved_kwargs = find_and_resolve_references(\n",
      "  File \"/home/geiger_j/.aiida_venvs/adis/lib/python3.10/site-packages/jobflow/core/reference.py\", line 473, in find_and_resolve_references\n",
      "    resolved_references = resolve_references(\n",
      "  File \"/home/geiger_j/.aiida_venvs/adis/lib/python3.10/site-packages/jobflow/core/reference.py\", line 361, in resolve_references\n",
      "    resolved_references[ref] = ref.resolve(\n",
      "  File \"/home/geiger_j/.aiida_venvs/adis/lib/python3.10/site-packages/jobflow/core/reference.py\", line 187, in resolve\n",
      "    data[attr]\n",
      "KeyError: '1'\n",
      "\n",
      "2025-03-17 09:50:51,093 INFO Starting job - get_dict (fb1a9cb3-5213-4bec-8fb8-4cd00d492024)\n",
      "2025-03-17 09:50:51,099 INFO get_dict failed with exception:\n",
      "Traceback (most recent call last):\n",
      "  File \"/home/geiger_j/.aiida_venvs/adis/lib/python3.10/site-packages/jobflow/managers/local.py\", line 117, in _run_job\n",
      "    response = job.run(store=store)\n",
      "  File \"/home/geiger_j/.aiida_venvs/adis/lib/python3.10/site-packages/jobflow/core/job.py\", line 593, in run\n",
      "    self.resolve_args(store=store)\n",
      "  File \"/home/geiger_j/.aiida_venvs/adis/lib/python3.10/site-packages/jobflow/core/job.py\", line 709, in resolve_args\n",
      "    resolved_kwargs = find_and_resolve_references(\n",
      "  File \"/home/geiger_j/.aiida_venvs/adis/lib/python3.10/site-packages/jobflow/core/reference.py\", line 473, in find_and_resolve_references\n",
      "    resolved_references = resolve_references(\n",
      "  File \"/home/geiger_j/.aiida_venvs/adis/lib/python3.10/site-packages/jobflow/core/reference.py\", line 361, in resolve_references\n",
      "    resolved_references[ref] = ref.resolve(\n",
      "  File \"/home/geiger_j/.aiida_venvs/adis/lib/python3.10/site-packages/jobflow/core/reference.py\", line 187, in resolve\n",
      "    data[attr]\n",
      "KeyError: '2'\n",
      "\n",
      "2025-03-17 09:50:51,099 INFO Starting job - get_dict (1a266d19-b272-4061-995b-0a5f765d12b4)\n",
      "2025-03-17 09:50:51,103 INFO get_dict failed with exception:\n",
      "Traceback (most recent call last):\n",
      "  File \"/home/geiger_j/.aiida_venvs/adis/lib/python3.10/site-packages/jobflow/managers/local.py\", line 117, in _run_job\n",
      "    response = job.run(store=store)\n",
      "  File \"/home/geiger_j/.aiida_venvs/adis/lib/python3.10/site-packages/jobflow/core/job.py\", line 593, in run\n",
      "    self.resolve_args(store=store)\n",
      "  File \"/home/geiger_j/.aiida_venvs/adis/lib/python3.10/site-packages/jobflow/core/job.py\", line 709, in resolve_args\n",
      "    resolved_kwargs = find_and_resolve_references(\n",
      "  File \"/home/geiger_j/.aiida_venvs/adis/lib/python3.10/site-packages/jobflow/core/reference.py\", line 473, in find_and_resolve_references\n",
      "    resolved_references = resolve_references(\n",
      "  File \"/home/geiger_j/.aiida_venvs/adis/lib/python3.10/site-packages/jobflow/core/reference.py\", line 361, in resolve_references\n",
      "    resolved_references[ref] = ref.resolve(\n",
      "  File \"/home/geiger_j/.aiida_venvs/adis/lib/python3.10/site-packages/jobflow/core/reference.py\", line 187, in resolve\n",
      "    data[attr]\n",
      "KeyError: '3'\n",
      "\n",
      "2025-03-17 09:50:51,104 INFO Starting job - get_dict (5f9e5e45-5fa7-476f-9c6f-89bcf64383b2)\n",
      "2025-03-17 09:50:51,109 INFO get_dict failed with exception:\n",
      "Traceback (most recent call last):\n",
      "  File \"/home/geiger_j/.aiida_venvs/adis/lib/python3.10/site-packages/jobflow/managers/local.py\", line 117, in _run_job\n",
      "    response = job.run(store=store)\n",
      "  File \"/home/geiger_j/.aiida_venvs/adis/lib/python3.10/site-packages/jobflow/core/job.py\", line 593, in run\n",
      "    self.resolve_args(store=store)\n",
      "  File \"/home/geiger_j/.aiida_venvs/adis/lib/python3.10/site-packages/jobflow/core/job.py\", line 709, in resolve_args\n",
      "    resolved_kwargs = find_and_resolve_references(\n",
      "  File \"/home/geiger_j/.aiida_venvs/adis/lib/python3.10/site-packages/jobflow/core/reference.py\", line 473, in find_and_resolve_references\n",
      "    resolved_references = resolve_references(\n",
      "  File \"/home/geiger_j/.aiida_venvs/adis/lib/python3.10/site-packages/jobflow/core/reference.py\", line 361, in resolve_references\n",
      "    resolved_references[ref] = ref.resolve(\n",
      "  File \"/home/geiger_j/.aiida_venvs/adis/lib/python3.10/site-packages/jobflow/core/reference.py\", line 187, in resolve\n",
      "    data[attr]\n",
      "KeyError: '4'\n",
      "\n",
      "2025-03-17 09:50:51,110 INFO Starting job - get_dict (7a007848-6846-4caa-8842-797ac9a9cc05)\n",
      "2025-03-17 09:50:51,114 INFO get_dict failed with exception:\n",
      "Traceback (most recent call last):\n",
      "  File \"/home/geiger_j/.aiida_venvs/adis/lib/python3.10/site-packages/jobflow/managers/local.py\", line 117, in _run_job\n",
      "    response = job.run(store=store)\n",
      "  File \"/home/geiger_j/.aiida_venvs/adis/lib/python3.10/site-packages/jobflow/core/job.py\", line 593, in run\n",
      "    self.resolve_args(store=store)\n",
      "  File \"/home/geiger_j/.aiida_venvs/adis/lib/python3.10/site-packages/jobflow/core/job.py\", line 709, in resolve_args\n",
      "    resolved_kwargs = find_and_resolve_references(\n",
      "  File \"/home/geiger_j/.aiida_venvs/adis/lib/python3.10/site-packages/jobflow/core/reference.py\", line 473, in find_and_resolve_references\n",
      "    resolved_references = resolve_references(\n",
      "  File \"/home/geiger_j/.aiida_venvs/adis/lib/python3.10/site-packages/jobflow/core/reference.py\", line 361, in resolve_references\n",
      "    resolved_references[ref] = ref.resolve(\n",
      "  File \"/home/geiger_j/.aiida_venvs/adis/lib/python3.10/site-packages/jobflow/core/reference.py\", line 187, in resolve\n",
      "    data[attr]\n",
      "KeyError: '0'\n",
      "\n",
      "2025-03-17 09:50:51,118 INFO Finished executing jobs locally\n"
     ]
    },
    {
     "data": {
      "text/plain": [
       "{'4c9813a9-b659-4297-91fb-09afce5a7760': {1: Response(output={'numbers': [13, 13, 13, 13], 'positions': [[0.0, 0.0, 0.0], [0.0, 2.025, 2.025], [2.025, 0.0, 2.025], [2.025, 2.025, 0.0]], 'cell': [[4.05, 0.0, 0.0], [0.0, 4.05, 0.0], [0.0, 0.0, 4.05]], 'pbc': [True, True, True]}, detour=None, addition=None, replace=None, stored_data=None, stop_children=False, stop_jobflow=False, job_dir=PosixPath('/home/geiger_j/aiida_projects/adis/git-repos/python-workflow-definition'))},\n",
       " '3690ec2a-b248-407d-b66f-f851a7f17c0a': {1: Response(output={'structure': {'numbers': [13, 13, 13, 13], 'positions': [[0.0, 0.0, 0.0], [0.0, 2.025, 2.025], [2.025, 0.0, 2.025], [2.025, 2.025, 0.0]], 'cell': [[4.05, 0.0, 0.0], [0.0, 4.05, 0.0], [0.0, 0.0, 4.05]], 'pbc': [True, True, True]}, 'pseudopotentials': {'Al': 'Al.pbe-n-kjpaw_psl.1.0.0.UPF'}, 'kpts': [3, 3, 3], 'calculation': 'vc-relax', 'smearing': 0.02}, detour=None, addition=None, replace=None, stored_data=None, stop_children=False, stop_jobflow=False, job_dir=PosixPath('/home/geiger_j/aiida_projects/adis/git-repos/python-workflow-definition'))},\n",
       " 'af9fbdab-b34c-4e21-a8d5-399dc2d723f6': {1: Response(output={'structure': {'numbers': array([13, 13, 13, 13]), 'positions': array([[0.       , 0.       , 0.       ],\n",
       "         [0.       , 2.0228187, 2.0228187],\n",
       "         [2.0228187, 0.       , 2.0228187],\n",
       "         [2.0228187, 2.0228187, 0.       ]]), 'cell': array([[4.04563739, 0.        , 0.        ],\n",
       "         [0.        , 4.04563739, 0.        ],\n",
       "         [0.        , 0.        , 4.04563739]]), 'pbc': array([ True,  True,  True])}, 'energy': -1074.9365262239562, 'volume': 66.21568309221016}, detour=None, addition=None, replace=None, stored_data=None, stop_children=False, stop_jobflow=False, job_dir=PosixPath('/home/geiger_j/aiida_projects/adis/git-repos/python-workflow-definition'))},\n",
       " 'cf237605-9077-4f81-8e4d-06632fc8e485': {1: Response(output={'s_0': {'numbers': [13, 13, 13, 13], 'positions': [[0.0, 0.0, 0.0], [0.0, 1.9530099776292937, 1.9530099776292937], [1.9530099776292937, 0.0, 1.9530099776292937], [1.9530099776292937, 1.9530099776292937, 0.0]], 'cell': [[3.9060199552585884, 0.0, 0.0], [0.0, 3.9060199552585884, 0.0], [0.0, 0.0, 3.9060199552585884]], 'pbc': [True, True, True]}, 's_1': {'numbers': [13, 13, 13, 13], 'positions': [[0.0, 0.0, 0.0], [0.0, 1.988527008346639, 1.988527008346639], [1.988527008346639, 0.0, 1.988527008346639], [1.988527008346639, 1.988527008346639, 0.0]], 'cell': [[3.9770540166932786, 0.0, 0.0], [0.0, 3.9770540166932786, 0.0], [0.0, 0.0, 3.9770540166932786]], 'pbc': [True, True, True]}, 's_2': {'numbers': [13, 13, 13, 13], 'positions': [[0.0, 0.0, 0.0], [0.0, 2.02281869564732, 2.02281869564732], [2.02281869564732, 0.0, 2.02281869564732], [2.02281869564732, 2.02281869564732, 0.0]], 'cell': [[4.045637391294641, 0.0, 0.0], [0.0, 4.045637391294641, 0.0], [0.0, 0.0, 4.045637391294641]], 'pbc': [True, True, True]}, 's_3': {'numbers': [13, 13, 13, 13], 'positions': [[0.0, 0.0, 0.0], [0.0, 2.0559855527529103, 2.0559855527529103], [2.0559855527529103, 0.0, 2.0559855527529103], [2.0559855527529103, 2.0559855527529103, 0.0]], 'cell': [[4.1119711055058215, 0.0, 0.0], [0.0, 4.1119711055058215, 0.0], [0.0, 0.0, 4.1119711055058215]], 'pbc': [True, True, True]}, 's_4': {'numbers': [13, 13, 13, 13], 'positions': [[0.0, 0.0, 0.0], [0.0, 2.088115516690114, 2.088115516690114], [2.088115516690114, 0.0, 2.088115516690114], [2.088115516690114, 2.088115516690114, 0.0]], 'cell': [[4.176231033380229, 0.0, 0.0], [0.0, 4.176231033380229, 0.0], [0.0, 0.0, 4.176231033380229]], 'pbc': [True, True, True]}}, detour=None, addition=None, replace=None, stored_data=None, stop_children=False, stop_jobflow=False, job_dir=PosixPath('/home/geiger_j/aiida_projects/adis/git-repos/python-workflow-definition'))}}"
      ]
     },
     "execution_count": 21,
     "metadata": {},
     "output_type": "execute_result"
    }
   ],
   "source": [
    "result = run_locally(flow)\n",
    "result"
   ]
  },
  {
   "cell_type": "code",
   "execution_count": null,
   "id": "6a8d1a17-3698-4873-8937-616e9e7dc7ca",
   "metadata": {
    "trusted": true
   },
   "outputs": [],
   "source": []
  }
 ],
 "metadata": {
  "kernelspec": {
   "display_name": "ADIS",
   "language": "python",
   "name": "python3"
  },
  "language_info": {
   "codemirror_mode": {
    "name": "ipython",
    "version": 3
   },
   "file_extension": ".py",
   "mimetype": "text/x-python",
   "name": "python",
   "nbconvert_exporter": "python",
   "pygments_lexer": "ipython3",
   "version": "3.10.12"
  }
 },
 "nbformat": 4,
 "nbformat_minor": 5
}
