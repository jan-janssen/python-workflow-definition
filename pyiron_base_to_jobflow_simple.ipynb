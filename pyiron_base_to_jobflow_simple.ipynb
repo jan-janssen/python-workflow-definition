{
 "cells": [
  {
   "cell_type": "code",
   "execution_count": 14,
   "id": "cacaa0a8-27c8-44de-9e37-69cd3d13408b",
   "metadata": {
    "trusted": true
   },
   "outputs": [],
   "source": [
    "from jobflow.managers.local import run_locally"
   ]
  },
  {
   "cell_type": "code",
   "execution_count": 1,
   "id": "14d87342-706e-4120-99e6-b5363f724601",
   "metadata": {
    "trusted": true
   },
   "outputs": [],
   "source": [
    "from pyiron_base import Project, job"
   ]
  },
  {
   "cell_type": "code",
   "execution_count": 2,
   "id": "a2ed2608-9e1b-4a81-81cb-5079573ea2d1",
   "metadata": {
    "trusted": true
   },
   "outputs": [],
   "source": [
    "from python_workflow_definition.pyiron_base import write_workflow_json"
   ]
  },
  {
   "cell_type": "code",
   "execution_count": 3,
   "id": "444347b0-d5ba-4903-b8d4-a9d7fc35d268",
   "metadata": {
    "trusted": true
   },
   "outputs": [
    {
     "name": "stderr",
     "output_type": "stream",
     "text": [
      "/home/geiger_j/.aiida_venvs/adis/lib/python3.10/site-packages/paramiko/pkey.py:82: CryptographyDeprecationWarning: TripleDES has been moved to cryptography.hazmat.decrepit.ciphers.algorithms.TripleDES and will be removed from this module in 48.0.0.\n",
      "  \"cipher\": algorithms.TripleDES,\n",
      "/home/geiger_j/.aiida_venvs/adis/lib/python3.10/site-packages/paramiko/transport.py:253: CryptographyDeprecationWarning: TripleDES has been moved to cryptography.hazmat.decrepit.ciphers.algorithms.TripleDES and will be removed from this module in 48.0.0.\n",
      "  \"class\": algorithms.TripleDES,\n"
     ]
    }
   ],
   "source": [
    "from python_workflow_definition.jobflow import load_workflow_json"
   ]
  },
  {
   "cell_type": "code",
   "execution_count": 4,
   "id": "b75c2530-9b89-4185-838f-a17e517fa68f",
   "metadata": {
    "trusted": true
   },
   "outputs": [],
   "source": [
    "from simple_workflow import (\n",
    "    add_x_and_y as _add_x_and_y, \n",
    "    add_x_and_y_and_z as _add_x_and_y_and_z,\n",
    ")"
   ]
  },
  {
   "cell_type": "code",
   "execution_count": null,
   "id": "cd3a63cb",
   "metadata": {},
   "outputs": [],
   "source": [
    "workflow_json_filename = \"pyiron_base_to_jobflow_simple.json\""
   ]
  },
  {
   "cell_type": "code",
   "execution_count": 6,
   "id": "208ddfb8-dfda-4227-aa1f-3dc29e34ea82",
   "metadata": {
    "trusted": true
   },
   "outputs": [],
   "source": [
    "add_x_and_y = job(_add_x_and_y, output_key_lst=[\"x\", \"y\", \"z\"])\n",
    "add_x_and_y_and_z = job(_add_x_and_y_and_z)"
   ]
  },
  {
   "cell_type": "code",
   "execution_count": 7,
   "id": "13debfcd-362d-4fd0-a91f-5ab33632fceb",
   "metadata": {
    "trusted": true
   },
   "outputs": [
    {
     "data": {
      "application/vnd.jupyter.widget-view+json": {
       "model_id": "995ed2f66f824325acdc2b3886db0edc",
       "version_major": 2,
       "version_minor": 0
      },
      "text/plain": [
       "0it [00:00, ?it/s]"
      ]
     },
     "metadata": {},
     "output_type": "display_data"
    }
   ],
   "source": [
    "pr = Project(\"test\")\n",
    "pr.remove_jobs(recursive=True, silently=True)"
   ]
  },
  {
   "cell_type": "code",
   "execution_count": 8,
   "id": "1f1cb12f-4001-478d-8ea0-b369f4f2981a",
   "metadata": {
    "trusted": true
   },
   "outputs": [],
   "source": [
    "obj = add_x_and_y(x=1, y=2, pyiron_project=pr)"
   ]
  },
  {
   "cell_type": "code",
   "execution_count": 9,
   "id": "4140f07b-af54-41ef-be22-df6b5b53bf95",
   "metadata": {
    "trusted": true
   },
   "outputs": [],
   "source": [
    "w = add_x_and_y_and_z(x=obj.output.x, y=obj.output.y, z=obj.output.z, pyiron_project=pr)"
   ]
  },
  {
   "cell_type": "code",
   "execution_count": 10,
   "id": "52646121-335f-48e6-bd5e-a1d69d00e8bc",
   "metadata": {
    "trusted": true
   },
   "outputs": [],
   "source": [
    "write_workflow_json(delayed_object=w, file_name=workflow_json_filename)"
   ]
  },
  {
   "cell_type": "code",
   "execution_count": 11,
   "id": "72c8e6e6-8e60-4a4f-81f3-968b4b5f36ee",
   "metadata": {
    "trusted": true
   },
   "outputs": [
    {
     "name": "stdout",
     "output_type": "stream",
     "text": [
      "\u001b[38;5;238m───────┬────────────────────────────────────────────────────────────────────────\u001b[0m\n",
      "       \u001b[38;5;238m│ \u001b[0mFile: \u001b[1mworkflow_simple_pyiron_base.json\u001b[0m\n",
      "\u001b[38;5;238m───────┼────────────────────────────────────────────────────────────────────────\u001b[0m\n",
      "\u001b[38;5;238m   1\u001b[0m   \u001b[38;5;238m│\u001b[0m \u001b[38;5;231m{\u001b[0m\u001b[38;5;208m\"\u001b[0m\u001b[38;5;208mnodes\u001b[0m\u001b[38;5;208m\"\u001b[0m\u001b[38;5;231m:\u001b[0m\u001b[38;5;231m \u001b[0m\u001b[38;5;231m{\u001b[0m\u001b[38;5;208m\"\u001b[0m\u001b[38;5;208m0\u001b[0m\u001b[38;5;208m\"\u001b[0m\u001b[38;5;231m:\u001b[0m\u001b[38;5;231m \u001b[0m\u001b[38;5;186m\"\u001b[0m\u001b[38;5;186msimple_workflow.add_x_and_y_and_z\u001b[0m\u001b[38;5;186m\"\u001b[0m\u001b[38;5;231m,\u001b[0m\u001b[38;5;231m \u001b[0m\u001b[38;5;208m\"\u001b[0m\u001b[38;5;208m1\u001b[0m\u001b[38;5;208m\"\u001b[0m\u001b[38;5;231m:\u001b[0m\u001b[38;5;231m \u001b[0m\u001b[38;5;186m\"\u001b[0m\u001b[38;5;186msimple_workf\u001b[0m\n",
      "\u001b[38;5;238m    \u001b[0m   \u001b[38;5;238m│\u001b[0m \u001b[38;5;186mlow.add_x_and_y\u001b[0m\u001b[38;5;186m\"\u001b[0m\u001b[38;5;231m,\u001b[0m\u001b[38;5;231m \u001b[0m\u001b[38;5;208m\"\u001b[0m\u001b[38;5;208m2\u001b[0m\u001b[38;5;208m\"\u001b[0m\u001b[38;5;231m:\u001b[0m\u001b[38;5;231m \u001b[0m\u001b[38;5;141m1\u001b[0m\u001b[38;5;231m,\u001b[0m\u001b[38;5;231m \u001b[0m\u001b[38;5;208m\"\u001b[0m\u001b[38;5;208m3\u001b[0m\u001b[38;5;208m\"\u001b[0m\u001b[38;5;231m:\u001b[0m\u001b[38;5;231m \u001b[0m\u001b[38;5;141m2\u001b[0m\u001b[38;5;231m}\u001b[0m\u001b[38;5;231m,\u001b[0m\u001b[38;5;231m \u001b[0m\u001b[38;5;208m\"\u001b[0m\u001b[38;5;208medges\u001b[0m\u001b[38;5;208m\"\u001b[0m\u001b[38;5;231m:\u001b[0m\u001b[38;5;231m \u001b[0m\u001b[38;5;231m[\u001b[0m\u001b[38;5;231m{\u001b[0m\u001b[38;5;208m\"\u001b[0m\u001b[38;5;208mtarget\u001b[0m\u001b[38;5;208m\"\u001b[0m\u001b[38;5;231m:\u001b[0m\u001b[38;5;231m \u001b[0m\u001b[38;5;141m0\u001b[0m\u001b[38;5;231m,\u001b[0m\u001b[38;5;231m \u001b[0m\u001b[38;5;208m\"\u001b[0m\u001b[38;5;208mtargetHandl\u001b[0m\n",
      "\u001b[38;5;238m    \u001b[0m   \u001b[38;5;238m│\u001b[0m \u001b[38;5;208me\u001b[0m\u001b[38;5;208m\"\u001b[0m\u001b[38;5;231m:\u001b[0m\u001b[38;5;231m \u001b[0m\u001b[38;5;186m\"\u001b[0m\u001b[38;5;186mx\u001b[0m\u001b[38;5;186m\"\u001b[0m\u001b[38;5;231m,\u001b[0m\u001b[38;5;231m \u001b[0m\u001b[38;5;208m\"\u001b[0m\u001b[38;5;208msource\u001b[0m\u001b[38;5;208m\"\u001b[0m\u001b[38;5;231m:\u001b[0m\u001b[38;5;231m \u001b[0m\u001b[38;5;141m1\u001b[0m\u001b[38;5;231m,\u001b[0m\u001b[38;5;231m \u001b[0m\u001b[38;5;208m\"\u001b[0m\u001b[38;5;208msourceHandle\u001b[0m\u001b[38;5;208m\"\u001b[0m\u001b[38;5;231m:\u001b[0m\u001b[38;5;231m \u001b[0m\u001b[38;5;186m\"\u001b[0m\u001b[38;5;186mx\u001b[0m\u001b[38;5;186m\"\u001b[0m\u001b[38;5;231m}\u001b[0m\u001b[38;5;231m,\u001b[0m\u001b[38;5;231m \u001b[0m\u001b[38;5;231m{\u001b[0m\u001b[38;5;208m\"\u001b[0m\u001b[38;5;208mtarget\u001b[0m\u001b[38;5;208m\"\u001b[0m\u001b[38;5;231m:\u001b[0m\u001b[38;5;231m \u001b[0m\u001b[38;5;141m1\u001b[0m\u001b[38;5;231m,\u001b[0m\u001b[38;5;231m \u001b[0m\u001b[38;5;208m\"\u001b[0m\u001b[38;5;208mtargetHandle\u001b[0m\n",
      "\u001b[38;5;238m    \u001b[0m   \u001b[38;5;238m│\u001b[0m \u001b[38;5;208m\"\u001b[0m\u001b[38;5;231m:\u001b[0m\u001b[38;5;231m \u001b[0m\u001b[38;5;186m\"\u001b[0m\u001b[38;5;186mx\u001b[0m\u001b[38;5;186m\"\u001b[0m\u001b[38;5;231m,\u001b[0m\u001b[38;5;231m \u001b[0m\u001b[38;5;208m\"\u001b[0m\u001b[38;5;208msource\u001b[0m\u001b[38;5;208m\"\u001b[0m\u001b[38;5;231m:\u001b[0m\u001b[38;5;231m \u001b[0m\u001b[38;5;141m2\u001b[0m\u001b[38;5;231m,\u001b[0m\u001b[38;5;231m \u001b[0m\u001b[38;5;208m\"\u001b[0m\u001b[38;5;208msourceHandle\u001b[0m\u001b[38;5;208m\"\u001b[0m\u001b[38;5;231m:\u001b[0m\u001b[38;5;231m \u001b[0m\u001b[38;5;141mnull\u001b[0m\u001b[38;5;231m}\u001b[0m\u001b[38;5;231m,\u001b[0m\u001b[38;5;231m \u001b[0m\u001b[38;5;231m{\u001b[0m\u001b[38;5;208m\"\u001b[0m\u001b[38;5;208mtarget\u001b[0m\u001b[38;5;208m\"\u001b[0m\u001b[38;5;231m:\u001b[0m\u001b[38;5;231m \u001b[0m\u001b[38;5;141m1\u001b[0m\u001b[38;5;231m,\u001b[0m\u001b[38;5;231m \u001b[0m\u001b[38;5;208m\"\u001b[0m\u001b[38;5;208mtargetHandle\u001b[0m\n",
      "\u001b[38;5;238m    \u001b[0m   \u001b[38;5;238m│\u001b[0m \u001b[38;5;208m\"\u001b[0m\u001b[38;5;231m:\u001b[0m\u001b[38;5;231m \u001b[0m\u001b[38;5;186m\"\u001b[0m\u001b[38;5;186my\u001b[0m\u001b[38;5;186m\"\u001b[0m\u001b[38;5;231m,\u001b[0m\u001b[38;5;231m \u001b[0m\u001b[38;5;208m\"\u001b[0m\u001b[38;5;208msource\u001b[0m\u001b[38;5;208m\"\u001b[0m\u001b[38;5;231m:\u001b[0m\u001b[38;5;231m \u001b[0m\u001b[38;5;141m3\u001b[0m\u001b[38;5;231m,\u001b[0m\u001b[38;5;231m \u001b[0m\u001b[38;5;208m\"\u001b[0m\u001b[38;5;208msourceHandle\u001b[0m\u001b[38;5;208m\"\u001b[0m\u001b[38;5;231m:\u001b[0m\u001b[38;5;231m \u001b[0m\u001b[38;5;141mnull\u001b[0m\u001b[38;5;231m}\u001b[0m\u001b[38;5;231m,\u001b[0m\u001b[38;5;231m \u001b[0m\u001b[38;5;231m{\u001b[0m\u001b[38;5;208m\"\u001b[0m\u001b[38;5;208mtarget\u001b[0m\u001b[38;5;208m\"\u001b[0m\u001b[38;5;231m:\u001b[0m\u001b[38;5;231m \u001b[0m\u001b[38;5;141m0\u001b[0m\u001b[38;5;231m,\u001b[0m\u001b[38;5;231m \u001b[0m\u001b[38;5;208m\"\u001b[0m\u001b[38;5;208mtargetHandle\u001b[0m\n",
      "\u001b[38;5;238m    \u001b[0m   \u001b[38;5;238m│\u001b[0m \u001b[38;5;208m\"\u001b[0m\u001b[38;5;231m:\u001b[0m\u001b[38;5;231m \u001b[0m\u001b[38;5;186m\"\u001b[0m\u001b[38;5;186my\u001b[0m\u001b[38;5;186m\"\u001b[0m\u001b[38;5;231m,\u001b[0m\u001b[38;5;231m \u001b[0m\u001b[38;5;208m\"\u001b[0m\u001b[38;5;208msource\u001b[0m\u001b[38;5;208m\"\u001b[0m\u001b[38;5;231m:\u001b[0m\u001b[38;5;231m \u001b[0m\u001b[38;5;141m1\u001b[0m\u001b[38;5;231m,\u001b[0m\u001b[38;5;231m \u001b[0m\u001b[38;5;208m\"\u001b[0m\u001b[38;5;208msourceHandle\u001b[0m\u001b[38;5;208m\"\u001b[0m\u001b[38;5;231m:\u001b[0m\u001b[38;5;231m \u001b[0m\u001b[38;5;186m\"\u001b[0m\u001b[38;5;186my\u001b[0m\u001b[38;5;186m\"\u001b[0m\u001b[38;5;231m}\u001b[0m\u001b[38;5;231m,\u001b[0m\u001b[38;5;231m \u001b[0m\u001b[38;5;231m{\u001b[0m\u001b[38;5;208m\"\u001b[0m\u001b[38;5;208mtarget\u001b[0m\u001b[38;5;208m\"\u001b[0m\u001b[38;5;231m:\u001b[0m\u001b[38;5;231m \u001b[0m\u001b[38;5;141m0\u001b[0m\u001b[38;5;231m,\u001b[0m\u001b[38;5;231m \u001b[0m\u001b[38;5;208m\"\u001b[0m\u001b[38;5;208mtargetHandle\u001b[0m\u001b[38;5;208m\"\u001b[0m\n",
      "\u001b[38;5;238m    \u001b[0m   \u001b[38;5;238m│\u001b[0m \u001b[38;5;231m:\u001b[0m\u001b[38;5;231m \u001b[0m\u001b[38;5;186m\"\u001b[0m\u001b[38;5;186mz\u001b[0m\u001b[38;5;186m\"\u001b[0m\u001b[38;5;231m,\u001b[0m\u001b[38;5;231m \u001b[0m\u001b[38;5;208m\"\u001b[0m\u001b[38;5;208msource\u001b[0m\u001b[38;5;208m\"\u001b[0m\u001b[38;5;231m:\u001b[0m\u001b[38;5;231m \u001b[0m\u001b[38;5;141m1\u001b[0m\u001b[38;5;231m,\u001b[0m\u001b[38;5;231m \u001b[0m\u001b[38;5;208m\"\u001b[0m\u001b[38;5;208msourceHandle\u001b[0m\u001b[38;5;208m\"\u001b[0m\u001b[38;5;231m:\u001b[0m\u001b[38;5;231m \u001b[0m\u001b[38;5;186m\"\u001b[0m\u001b[38;5;186mz\u001b[0m\u001b[38;5;186m\"\u001b[0m\u001b[38;5;231m}\u001b[0m\u001b[38;5;231m]\u001b[0m\u001b[38;5;231m}\u001b[0m\n",
      "\u001b[38;5;238m───────┴────────────────────────────────────────────────────────────────────────\u001b[0m\n"
     ]
    }
   ],
   "source": [
    "!cat {workflow_json_filename}"
   ]
  },
  {
   "cell_type": "code",
   "execution_count": 12,
   "id": "32fcd4b2-4f0a-442d-b098-827672823796",
   "metadata": {
    "trusted": true
   },
   "outputs": [],
   "source": [
    "flow = load_workflow_json(file_name=workflow_json_filename)"
   ]
  },
  {
   "cell_type": "code",
   "execution_count": 13,
   "id": "a80b59bd-fe30-49c6-92ca-35ef2d77a6fb",
   "metadata": {
    "trusted": true
   },
   "outputs": [
    {
     "ename": "NameError",
     "evalue": "name 'run_locally' is not defined",
     "output_type": "error",
     "traceback": [
      "\u001b[0;31m---------------------------------------------------------------------------\u001b[0m",
      "\u001b[0;31mNameError\u001b[0m                                 Traceback (most recent call last)",
      "Cell \u001b[0;32mIn[13], line 1\u001b[0m\n\u001b[0;32m----> 1\u001b[0m result \u001b[38;5;241m=\u001b[39m \u001b[43mrun_locally\u001b[49m(flow)\n\u001b[1;32m      2\u001b[0m result\n",
      "\u001b[0;31mNameError\u001b[0m: name 'run_locally' is not defined"
     ]
    }
   ],
   "source": [
    "result = run_locally(flow)\n",
    "result"
   ]
  }
 ],
 "metadata": {
  "kernelspec": {
   "display_name": "ADIS",
   "language": "python",
   "name": "python3"
  },
  "language_info": {
   "codemirror_mode": {
    "name": "ipython",
    "version": 3
   },
   "file_extension": ".py",
   "mimetype": "text/x-python",
   "name": "python",
   "nbconvert_exporter": "python",
   "pygments_lexer": "ipython3",
   "version": "3.10.12"
  }
 },
 "nbformat": 4,
 "nbformat_minor": 5
}
