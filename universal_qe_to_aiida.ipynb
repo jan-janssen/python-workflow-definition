{
 "cells": [
  {
   "cell_type": "code",
   "execution_count": 1,
   "metadata": {},
   "outputs": [],
   "source": [
    "from python_workflow_definition.aiida import load_workflow_json"
   ]
  },
  {
   "cell_type": "code",
   "execution_count": 2,
   "metadata": {},
   "outputs": [],
   "source": [
    "workgraph = load_workflow_json(filename='workflow_qe.json')"
   ]
  },
  {
   "cell_type": "code",
   "execution_count": 3,
   "metadata": {},
   "outputs": [],
   "source": [
    "\n",
    "# TODO: Create inputs rather than tasks out of data nodes\n",
    "# workgraph"
   ]
  },
  {
   "cell_type": "code",
   "execution_count": 4,
   "metadata": {},
   "outputs": [
    {
     "data": {
      "text/plain": [
       "SocketAny(name='element', value=None)"
      ]
     },
     "execution_count": 4,
     "metadata": {},
     "output_type": "execute_result"
    }
   ],
   "source": [
    "workgraph.tasks.get_bulk_structure.inputs.element"
   ]
  },
  {
   "cell_type": "code",
   "execution_count": 6,
   "metadata": {},
   "outputs": [
    {
     "data": {
      "application/vnd.jupyter.widget-view+json": {
       "model_id": "31c83c352de943e788adb2182e26da3d",
       "version_major": 2,
       "version_minor": 1
      },
      "text/plain": [
       "NodeGraphWidget(settings={'minimap': True}, states={'9': 'FINISHED', '10': 'FINISHED', '11': 'FINISHED', '12':…"
      ]
     },
     "execution_count": 6,
     "metadata": {},
     "output_type": "execute_result"
    }
   ],
   "source": [
    "workgraph"
   ]
  },
  {
   "cell_type": "code",
   "execution_count": 5,
   "metadata": {},
   "outputs": [
    {
     "name": "stderr",
     "output_type": "stream",
     "text": [
      "03/17/2025 01:49:08 PM <358381> aiida.orm.nodes.process.workflow.workchain.WorkChainNode: [REPORT] [9174|WorkGraphEngine|continue_workgraph]: Continue workgraph.\n",
      "03/17/2025 01:49:09 PM <358381> aiida.orm.nodes.process.workflow.workchain.WorkChainNode: [REPORT] [9174|WorkGraphEngine|continue_workgraph]: tasks ready to run: 9,10,11,12,14,15,16,17,18,19,21,22,24,26,28\n",
      "03/17/2025 01:49:09 PM <358381> aiida.orm.nodes.process.workflow.workchain.WorkChainNode: [REPORT] [9174|WorkGraphEngine|run_tasks]: Run task: 9, type: Normal\n"
     ]
    },
    {
     "name": "stdout",
     "output_type": "stream",
     "text": [
      "------------------------------------------------------------\n",
      "kwargs:  {'value': 'Al'}\n"
     ]
    },
    {
     "name": "stderr",
     "output_type": "stream",
     "text": [
      "03/17/2025 01:49:10 PM <358381> aiida.orm.nodes.process.workflow.workchain.WorkChainNode: [REPORT] [9174|WorkGraphEngine|update_normal_task_state]: Task: 9 finished.\n",
      "03/17/2025 01:49:10 PM <358381> aiida.orm.nodes.process.workflow.workchain.WorkChainNode: [REPORT] [9174|WorkGraphEngine|continue_workgraph]: Continue workgraph.\n",
      "03/17/2025 01:49:11 PM <358381> aiida.orm.nodes.process.workflow.workchain.WorkChainNode: [REPORT] [9174|WorkGraphEngine|continue_workgraph]: tasks ready to run: 10,11,12,14,15,16,17,18,19,21,22,24,26,28\n",
      "03/17/2025 01:49:11 PM <358381> aiida.orm.nodes.process.workflow.workchain.WorkChainNode: [REPORT] [9174|WorkGraphEngine|run_tasks]: Run task: 10, type: Normal\n",
      "03/17/2025 01:49:11 PM <358381> aiida.orm.nodes.process.workflow.workchain.WorkChainNode: [REPORT] [9174|WorkGraphEngine|update_normal_task_state]: Task: 10 finished.\n"
     ]
    },
    {
     "name": "stdout",
     "output_type": "stream",
     "text": [
      "------------------------------------------------------------\n",
      "kwargs:  {'value': 4.05}\n"
     ]
    },
    {
     "name": "stderr",
     "output_type": "stream",
     "text": [
      "03/17/2025 01:49:11 PM <358381> aiida.orm.nodes.process.workflow.workchain.WorkChainNode: [REPORT] [9174|WorkGraphEngine|continue_workgraph]: Continue workgraph.\n",
      "03/17/2025 01:49:12 PM <358381> aiida.orm.nodes.process.workflow.workchain.WorkChainNode: [REPORT] [9174|WorkGraphEngine|continue_workgraph]: tasks ready to run: 11,12,14,15,16,17,18,19,21,22,24,26,28\n",
      "03/17/2025 01:49:12 PM <358381> aiida.orm.nodes.process.workflow.workchain.WorkChainNode: [REPORT] [9174|WorkGraphEngine|run_tasks]: Run task: 11, type: Normal\n",
      "03/17/2025 01:49:12 PM <358381> aiida.orm.nodes.process.workflow.workchain.WorkChainNode: [REPORT] [9174|WorkGraphEngine|update_normal_task_state]: Task: 11 finished.\n"
     ]
    },
    {
     "name": "stdout",
     "output_type": "stream",
     "text": [
      "------------------------------------------------------------\n",
      "kwargs:  {'value': True}\n"
     ]
    },
    {
     "name": "stderr",
     "output_type": "stream",
     "text": [
      "03/17/2025 01:49:12 PM <358381> aiida.orm.nodes.process.workflow.workchain.WorkChainNode: [REPORT] [9174|WorkGraphEngine|continue_workgraph]: Continue workgraph.\n",
      "03/17/2025 01:49:14 PM <358381> aiida.orm.nodes.process.workflow.workchain.WorkChainNode: [REPORT] [9174|WorkGraphEngine|continue_workgraph]: tasks ready to run: 12,14,15,16,17,18,19,21,22,24,26,28,get_bulk_structure\n",
      "03/17/2025 01:49:14 PM <358381> aiida.orm.nodes.process.workflow.workchain.WorkChainNode: [REPORT] [9174|WorkGraphEngine|run_tasks]: Run task: 12, type: Normal\n",
      "03/17/2025 01:49:14 PM <358381> aiida.orm.nodes.process.workflow.workchain.WorkChainNode: [REPORT] [9174|WorkGraphEngine|update_normal_task_state]: Task: 12 finished.\n"
     ]
    },
    {
     "name": "stdout",
     "output_type": "stream",
     "text": [
      "------------------------------------------------------------\n",
      "kwargs:  {'value': 'mini'}\n"
     ]
    },
    {
     "name": "stderr",
     "output_type": "stream",
     "text": [
      "03/17/2025 01:49:14 PM <358381> aiida.orm.nodes.process.workflow.workchain.WorkChainNode: [REPORT] [9174|WorkGraphEngine|continue_workgraph]: Continue workgraph.\n",
      "03/17/2025 01:49:15 PM <358381> aiida.orm.nodes.process.workflow.workchain.WorkChainNode: [REPORT] [9174|WorkGraphEngine|continue_workgraph]: tasks ready to run: 14,15,16,17,18,19,21,22,24,26,28,get_bulk_structure\n",
      "03/17/2025 01:49:15 PM <358381> aiida.orm.nodes.process.workflow.workchain.WorkChainNode: [REPORT] [9174|WorkGraphEngine|run_tasks]: Run task: 14, type: Normal\n",
      "03/17/2025 01:49:15 PM <358381> aiida.orm.nodes.process.workflow.workchain.WorkChainNode: [REPORT] [9174|WorkGraphEngine|update_normal_task_state]: Task: 14 finished.\n"
     ]
    },
    {
     "name": "stdout",
     "output_type": "stream",
     "text": [
      "------------------------------------------------------------\n",
      "kwargs:  {'value': {'Al': 'Al.pbe-n-kjpaw_psl.1.0.0.UPF'}}\n"
     ]
    },
    {
     "name": "stderr",
     "output_type": "stream",
     "text": [
      "03/17/2025 01:49:15 PM <358381> aiida.orm.nodes.process.workflow.workchain.WorkChainNode: [REPORT] [9174|WorkGraphEngine|continue_workgraph]: Continue workgraph.\n",
      "03/17/2025 01:49:17 PM <358381> aiida.orm.nodes.process.workflow.workchain.WorkChainNode: [REPORT] [9174|WorkGraphEngine|continue_workgraph]: tasks ready to run: 15,16,17,18,19,21,22,24,26,28,get_bulk_structure\n",
      "03/17/2025 01:49:17 PM <358381> aiida.orm.nodes.process.workflow.workchain.WorkChainNode: [REPORT] [9174|WorkGraphEngine|run_tasks]: Run task: 15, type: Normal\n",
      "03/17/2025 01:49:17 PM <358381> aiida.orm.nodes.process.workflow.workchain.WorkChainNode: [REPORT] [9174|WorkGraphEngine|update_normal_task_state]: Task: 15 finished.\n"
     ]
    },
    {
     "name": "stdout",
     "output_type": "stream",
     "text": [
      "------------------------------------------------------------\n",
      "kwargs:  {'value': [3, 3, 3]}\n"
     ]
    },
    {
     "name": "stderr",
     "output_type": "stream",
     "text": [
      "03/17/2025 01:49:17 PM <358381> aiida.orm.nodes.process.workflow.workchain.WorkChainNode: [REPORT] [9174|WorkGraphEngine|continue_workgraph]: Continue workgraph.\n",
      "03/17/2025 01:49:18 PM <358381> aiida.orm.nodes.process.workflow.workchain.WorkChainNode: [REPORT] [9174|WorkGraphEngine|continue_workgraph]: tasks ready to run: 16,17,18,19,21,22,24,26,28,get_bulk_structure\n",
      "03/17/2025 01:49:18 PM <358381> aiida.orm.nodes.process.workflow.workchain.WorkChainNode: [REPORT] [9174|WorkGraphEngine|run_tasks]: Run task: 16, type: Normal\n"
     ]
    },
    {
     "name": "stdout",
     "output_type": "stream",
     "text": [
      "------------------------------------------------------------\n",
      "kwargs:  {'value': 'vc-relax'}\n"
     ]
    },
    {
     "name": "stderr",
     "output_type": "stream",
     "text": [
      "03/17/2025 01:49:18 PM <358381> aiida.orm.nodes.process.workflow.workchain.WorkChainNode: [REPORT] [9174|WorkGraphEngine|update_normal_task_state]: Task: 16 finished.\n",
      "03/17/2025 01:49:18 PM <358381> aiida.orm.nodes.process.workflow.workchain.WorkChainNode: [REPORT] [9174|WorkGraphEngine|continue_workgraph]: Continue workgraph.\n",
      "03/17/2025 01:49:20 PM <358381> aiida.orm.nodes.process.workflow.workchain.WorkChainNode: [REPORT] [9174|WorkGraphEngine|continue_workgraph]: tasks ready to run: 17,18,19,21,22,24,26,28,get_bulk_structure\n",
      "03/17/2025 01:49:20 PM <358381> aiida.orm.nodes.process.workflow.workchain.WorkChainNode: [REPORT] [9174|WorkGraphEngine|run_tasks]: Run task: 17, type: Normal\n",
      "03/17/2025 01:49:20 PM <358381> aiida.orm.nodes.process.workflow.workchain.WorkChainNode: [REPORT] [9174|WorkGraphEngine|update_normal_task_state]: Task: 17 finished.\n"
     ]
    },
    {
     "name": "stdout",
     "output_type": "stream",
     "text": [
      "------------------------------------------------------------\n",
      "kwargs:  {'value': 0.02}\n"
     ]
    },
    {
     "name": "stderr",
     "output_type": "stream",
     "text": [
      "03/17/2025 01:49:20 PM <358381> aiida.orm.nodes.process.workflow.workchain.WorkChainNode: [REPORT] [9174|WorkGraphEngine|continue_workgraph]: Continue workgraph.\n",
      "03/17/2025 01:49:21 PM <358381> aiida.orm.nodes.process.workflow.workchain.WorkChainNode: [REPORT] [9174|WorkGraphEngine|continue_workgraph]: tasks ready to run: 18,19,21,22,24,26,28,get_bulk_structure\n",
      "03/17/2025 01:49:21 PM <358381> aiida.orm.nodes.process.workflow.workchain.WorkChainNode: [REPORT] [9174|WorkGraphEngine|run_tasks]: Run task: 18, type: Normal\n",
      "03/17/2025 01:49:21 PM <358381> aiida.orm.nodes.process.workflow.workchain.WorkChainNode: [REPORT] [9174|WorkGraphEngine|update_normal_task_state]: Task: 18 finished.\n"
     ]
    },
    {
     "name": "stdout",
     "output_type": "stream",
     "text": [
      "------------------------------------------------------------\n",
      "kwargs:  {'value': [0.9, 0.95, 1.0, 1.05, 1.1]}\n"
     ]
    },
    {
     "name": "stderr",
     "output_type": "stream",
     "text": [
      "03/17/2025 01:49:22 PM <358381> aiida.orm.nodes.process.workflow.workchain.WorkChainNode: [REPORT] [9174|WorkGraphEngine|continue_workgraph]: Continue workgraph.\n",
      "03/17/2025 01:49:23 PM <358381> aiida.orm.nodes.process.workflow.workchain.WorkChainNode: [REPORT] [9174|WorkGraphEngine|continue_workgraph]: tasks ready to run: 19,21,22,24,26,28,get_bulk_structure\n",
      "03/17/2025 01:49:23 PM <358381> aiida.orm.nodes.process.workflow.workchain.WorkChainNode: [REPORT] [9174|WorkGraphEngine|run_tasks]: Run task: 19, type: Normal\n",
      "03/17/2025 01:49:23 PM <358381> aiida.orm.nodes.process.workflow.workchain.WorkChainNode: [REPORT] [9174|WorkGraphEngine|update_normal_task_state]: Task: 19 finished.\n"
     ]
    },
    {
     "name": "stdout",
     "output_type": "stream",
     "text": [
      "------------------------------------------------------------\n",
      "kwargs:  {'value': 'strain_0'}\n"
     ]
    },
    {
     "name": "stderr",
     "output_type": "stream",
     "text": [
      "03/17/2025 01:49:23 PM <358381> aiida.orm.nodes.process.workflow.workchain.WorkChainNode: [REPORT] [9174|WorkGraphEngine|continue_workgraph]: Continue workgraph.\n",
      "03/17/2025 01:49:25 PM <358381> aiida.orm.nodes.process.workflow.workchain.WorkChainNode: [REPORT] [9174|WorkGraphEngine|continue_workgraph]: tasks ready to run: 21,22,24,26,28,get_bulk_structure\n",
      "03/17/2025 01:49:25 PM <358381> aiida.orm.nodes.process.workflow.workchain.WorkChainNode: [REPORT] [9174|WorkGraphEngine|run_tasks]: Run task: 21, type: Normal\n",
      "03/17/2025 01:49:25 PM <358381> aiida.orm.nodes.process.workflow.workchain.WorkChainNode: [REPORT] [9174|WorkGraphEngine|update_normal_task_state]: Task: 21 finished.\n"
     ]
    },
    {
     "name": "stdout",
     "output_type": "stream",
     "text": [
      "------------------------------------------------------------\n",
      "kwargs:  {'value': 'scf'}\n"
     ]
    },
    {
     "name": "stderr",
     "output_type": "stream",
     "text": [
      "03/17/2025 01:49:25 PM <358381> aiida.orm.nodes.process.workflow.workchain.WorkChainNode: [REPORT] [9174|WorkGraphEngine|continue_workgraph]: Continue workgraph.\n",
      "03/17/2025 01:49:26 PM <358381> aiida.orm.nodes.process.workflow.workchain.WorkChainNode: [REPORT] [9174|WorkGraphEngine|continue_workgraph]: tasks ready to run: 22,24,26,28,get_bulk_structure\n",
      "03/17/2025 01:49:27 PM <358381> aiida.orm.nodes.process.workflow.workchain.WorkChainNode: [REPORT] [9174|WorkGraphEngine|run_tasks]: Run task: 22, type: Normal\n",
      "03/17/2025 01:49:27 PM <358381> aiida.orm.nodes.process.workflow.workchain.WorkChainNode: [REPORT] [9174|WorkGraphEngine|update_normal_task_state]: Task: 22 finished.\n"
     ]
    },
    {
     "name": "stdout",
     "output_type": "stream",
     "text": [
      "------------------------------------------------------------\n",
      "kwargs:  {'value': 'strain_1'}\n"
     ]
    },
    {
     "name": "stderr",
     "output_type": "stream",
     "text": [
      "03/17/2025 01:49:27 PM <358381> aiida.orm.nodes.process.workflow.workchain.WorkChainNode: [REPORT] [9174|WorkGraphEngine|continue_workgraph]: Continue workgraph.\n",
      "03/17/2025 01:49:28 PM <358381> aiida.orm.nodes.process.workflow.workchain.WorkChainNode: [REPORT] [9174|WorkGraphEngine|continue_workgraph]: tasks ready to run: 24,26,28,get_bulk_structure\n",
      "03/17/2025 01:49:28 PM <358381> aiida.orm.nodes.process.workflow.workchain.WorkChainNode: [REPORT] [9174|WorkGraphEngine|run_tasks]: Run task: 24, type: Normal\n"
     ]
    },
    {
     "name": "stdout",
     "output_type": "stream",
     "text": [
      "------------------------------------------------------------\n",
      "kwargs:  {'value': 'strain_2'}\n"
     ]
    },
    {
     "name": "stderr",
     "output_type": "stream",
     "text": [
      "03/17/2025 01:49:29 PM <358381> aiida.orm.nodes.process.workflow.workchain.WorkChainNode: [REPORT] [9174|WorkGraphEngine|update_normal_task_state]: Task: 24 finished.\n",
      "03/17/2025 01:49:29 PM <358381> aiida.orm.nodes.process.workflow.workchain.WorkChainNode: [REPORT] [9174|WorkGraphEngine|continue_workgraph]: Continue workgraph.\n",
      "03/17/2025 01:49:30 PM <358381> aiida.orm.nodes.process.workflow.workchain.WorkChainNode: [REPORT] [9174|WorkGraphEngine|continue_workgraph]: tasks ready to run: 26,28,get_bulk_structure\n",
      "03/17/2025 01:49:30 PM <358381> aiida.orm.nodes.process.workflow.workchain.WorkChainNode: [REPORT] [9174|WorkGraphEngine|run_tasks]: Run task: 26, type: Normal\n",
      "03/17/2025 01:49:30 PM <358381> aiida.orm.nodes.process.workflow.workchain.WorkChainNode: [REPORT] [9174|WorkGraphEngine|update_normal_task_state]: Task: 26 finished.\n"
     ]
    },
    {
     "name": "stdout",
     "output_type": "stream",
     "text": [
      "------------------------------------------------------------\n",
      "kwargs:  {'value': 'strain_3'}\n"
     ]
    },
    {
     "name": "stderr",
     "output_type": "stream",
     "text": [
      "03/17/2025 01:49:30 PM <358381> aiida.orm.nodes.process.workflow.workchain.WorkChainNode: [REPORT] [9174|WorkGraphEngine|continue_workgraph]: Continue workgraph.\n",
      "03/17/2025 01:49:32 PM <358381> aiida.orm.nodes.process.workflow.workchain.WorkChainNode: [REPORT] [9174|WorkGraphEngine|continue_workgraph]: tasks ready to run: 28,get_bulk_structure\n",
      "03/17/2025 01:49:32 PM <358381> aiida.orm.nodes.process.workflow.workchain.WorkChainNode: [REPORT] [9174|WorkGraphEngine|run_tasks]: Run task: 28, type: Normal\n"
     ]
    },
    {
     "name": "stdout",
     "output_type": "stream",
     "text": [
      "------------------------------------------------------------\n",
      "kwargs:  {'value': 'strain_4'}\n"
     ]
    },
    {
     "name": "stderr",
     "output_type": "stream",
     "text": [
      "03/17/2025 01:49:32 PM <358381> aiida.orm.nodes.process.workflow.workchain.WorkChainNode: [REPORT] [9174|WorkGraphEngine|update_normal_task_state]: Task: 28 finished.\n",
      "03/17/2025 01:49:32 PM <358381> aiida.orm.nodes.process.workflow.workchain.WorkChainNode: [REPORT] [9174|WorkGraphEngine|continue_workgraph]: Continue workgraph.\n",
      "03/17/2025 01:49:33 PM <358381> aiida.orm.nodes.process.workflow.workchain.WorkChainNode: [REPORT] [9174|WorkGraphEngine|continue_workgraph]: tasks ready to run: get_bulk_structure\n",
      "03/17/2025 01:49:34 PM <358381> aiida.orm.nodes.process.workflow.workchain.WorkChainNode: [REPORT] [9174|WorkGraphEngine|run_tasks]: Run task: get_bulk_structure, type: PYTHONJOB\n"
     ]
    },
    {
     "name": "stdout",
     "output_type": "stream",
     "text": [
      "------------------------------------------------------------\n",
      "kwargs:  {'a': 4.05, 'cubic': True, 'element': 'Al', 'register_pickle_by_value': True}\n"
     ]
    },
    {
     "name": "stderr",
     "output_type": "stream",
     "text": [
      "03/17/2025 01:49:39 PM <358381> aiida.orm.nodes.process.workflow.workchain.WorkChainNode: [REPORT] [9174|WorkGraphEngine|on_wait]: Process status: Waiting for child processes: 9184\n",
      "03/17/2025 01:49:46 PM <358381> aiida.orm.nodes.process.workflow.workchain.WorkChainNode: [REPORT] [9174|WorkGraphEngine|update_task_state]: Task: get_bulk_structure finished.\n",
      "03/17/2025 01:49:49 PM <358381> aiida.orm.nodes.process.workflow.workchain.WorkChainNode: [REPORT] [9174|WorkGraphEngine|continue_workgraph]: Continue workgraph.\n",
      "03/17/2025 01:49:50 PM <358381> aiida.orm.nodes.process.workflow.workchain.WorkChainNode: [REPORT] [9174|WorkGraphEngine|continue_workgraph]: tasks ready to run: get_dict\n",
      "03/17/2025 01:49:50 PM <358381> aiida.orm.nodes.process.workflow.workchain.WorkChainNode: [REPORT] [9174|WorkGraphEngine|run_tasks]: Run task: get_dict, type: PYTHONJOB\n"
     ]
    },
    {
     "name": "stdout",
     "output_type": "stream",
     "text": [
      "------------------------------------------------------------\n",
      "kwargs:  {'calculation': 'vc-relax', 'kpts': [3, 3, 3], 'register_pickle_by_value': True, 'smearing': 0.02, 'structure': <PickledData: uuid: a87a852b-f399-4964-8772-17363b7e07a6 (pk: 9188) : {'numbers': [13, 13, 13, 13], 'positions': [[0.0, 0.0, 0.0], [0.0, 2.025, 2.025], [2.025, 0.0, 2.025], [2.025, 2.025, 0.0]], 'cell': [[4.05, 0.0, 0.0], [0.0, 4.05, 0.0], [0.0, 0.0, 4.05]], 'pbc': [True, True, True]}>}\n"
     ]
    },
    {
     "name": "stderr",
     "output_type": "stream",
     "text": [
      "03/17/2025 01:49:53 PM <358381> aiida.orm.nodes.process.workflow.workchain.WorkChainNode: [REPORT] [9174|WorkGraphEngine|on_wait]: Process status: Waiting for child processes: 9199\n",
      "03/17/2025 01:49:59 PM <358381> aiida.orm.nodes.process.workflow.workchain.WorkChainNode: [REPORT] [9174|WorkGraphEngine|update_task_state]: Task: get_dict finished.\n",
      "03/17/2025 01:50:02 PM <358381> aiida.orm.nodes.process.workflow.workchain.WorkChainNode: [REPORT] [9174|WorkGraphEngine|continue_workgraph]: Continue workgraph.\n",
      "03/17/2025 01:50:03 PM <358381> aiida.orm.nodes.process.workflow.workchain.WorkChainNode: [REPORT] [9174|WorkGraphEngine|continue_workgraph]: tasks ready to run: calculate_qe\n",
      "03/17/2025 01:50:03 PM <358381> aiida.orm.nodes.process.workflow.workchain.WorkChainNode: [REPORT] [9174|WorkGraphEngine|run_tasks]: Run task: calculate_qe, type: PYTHONJOB\n"
     ]
    },
    {
     "name": "stdout",
     "output_type": "stream",
     "text": [
      "------------------------------------------------------------\n",
      "kwargs:  {'input_dict': <PickledData: uuid: d4ff9832-bc89-4d62-8cc5-eaf95736c968 (pk: 9203) : {'calculation': 'vc-relax', 'kpts': [3, 3, 3], 'pseudopotentials': None, 'smearing': 0.02, 'structure': {'numbers': [13, 13, 13, 13], 'positions': [[0.0, 0.0, 0.0], [0.0, 2.025, 2.025], [2.025, 0.0, 2.025], [2.025, 2.025, 0.0]], 'cell': [[4.05, 0.0, 0.0], [0.0, 4.05, 0.0], [0.0, 0.0, 4.05]], 'pbc': [True, True, True]}}>, 'register_pickle_by_value': True, 'working_directory': 'mini'}\n"
     ]
    },
    {
     "name": "stderr",
     "output_type": "stream",
     "text": [
      "03/17/2025 01:50:06 PM <358381> aiida.orm.nodes.process.workflow.workchain.WorkChainNode: [REPORT] [9174|WorkGraphEngine|on_wait]: Process status: Waiting for child processes: 9211\n",
      "03/17/2025 01:50:12 PM <358381> aiida.orm.nodes.process.calculation.calcjob.CalcJobNode: [WARNING] output parser returned exit code<325>: Function execution failed.\n",
      "'Al'\n",
      "Traceback (most recent call last):\n",
      "  File \"<stdin>\", line 41, in main\n",
      "  File \"/home/geiger_j/aiida_projects/adis/git-repos/python-workflow-definition/quantum_espresso_workflow.py\", line 41, in calculate_qe\n",
      "    write_input(\n",
      "  File \"/home/geiger_j/aiida_projects/adis/git-repos/python-workflow-definition/quantum_espresso_workflow.py\", line 15, in write_input\n",
      "    write(\n",
      "  File \"/home/geiger_j/.aiida_venvs/adis/lib/python3.10/site-packages/ase/io/formats.py\", line 692, in write\n",
      "    return _write(filename, fd, format, io, images,\n",
      "  File \"/home/geiger_j/.aiida_venvs/adis/lib/python3.10/site-packages/ase/parallel.py\", line 271, in new_func\n",
      "    return func(*args, **kwargs)\n",
      "  File \"/home/geiger_j/.aiida_venvs/adis/lib/python3.10/site-packages/ase/io/formats.py\", line 728, in _write\n",
      "    return io.write(fd, images, **kwargs)\n",
      "  File \"/home/geiger_j/.aiida_venvs/adis/lib/python3.10/site-packages/ase/io/formats.py\", line 193, in _write_wrapper\n",
      "    return function(*args, **kwargs)\n",
      "  File \"/home/geiger_j/.aiida_venvs/adis/lib/python3.10/site-packages/ase/utils/__init__.py\", line 577, in iofunc\n",
      "    obj = func(fd, *args, **kwargs)\n",
      "  File \"/home/geiger_j/.aiida_venvs/adis/lib/python3.10/site-packages/ase/io/espresso.py\", line 1292, in write_espresso_in\n",
      "    pseudo = pseudopotentials[species]\n",
      "KeyError: 'Al'\n",
      "\n",
      "03/17/2025 01:50:15 PM <358381> aiida.orm.nodes.process.workflow.workchain.WorkChainNode: [REPORT] [9174|WorkGraphEngine|on_task_failed]: Task calculate_qe failed.\n",
      "03/17/2025 01:50:15 PM <358381> aiida.orm.nodes.process.workflow.workchain.WorkChainNode: [REPORT] [9174|WorkGraphEngine|run_error_handlers]: Run error handlers for calculate_qe\n",
      "03/17/2025 01:50:18 PM <358381> aiida.orm.nodes.process.workflow.workchain.WorkChainNode: [REPORT] [9174|WorkGraphEngine|continue_workgraph]: Continue workgraph.\n",
      "03/17/2025 01:50:19 PM <358381> aiida.orm.nodes.process.workflow.workchain.WorkChainNode: [REPORT] [9174|WorkGraphEngine|continue_workgraph]: tasks ready to run: \n",
      "03/17/2025 01:50:21 PM <358381> aiida.orm.nodes.process.workflow.workchain.WorkChainNode: [REPORT] [9174|WorkGraphEngine|is_workgraph_finished]: WorkGraph finished, but tasks: ['calculate_qe'] failed. Thus all their child tasks are skipped.\n"
     ]
    },
    {
     "data": {
      "text/plain": [
       "{}"
      ]
     },
     "execution_count": 5,
     "metadata": {},
     "output_type": "execute_result"
    }
   ],
   "source": [
    "from aiida import load_profile\n",
    "load_profile()\n",
    "\n",
    "workgraph.run()\n"
   ]
  },
  {
   "cell_type": "code",
   "execution_count": null,
   "metadata": {},
   "outputs": [],
   "source": []
  }
 ],
 "metadata": {
  "kernelspec": {
   "display_name": "ADIS",
   "language": "python",
   "name": "python3"
  },
  "language_info": {
   "codemirror_mode": {
    "name": "ipython",
    "version": 3
   },
   "file_extension": ".py",
   "mimetype": "text/x-python",
   "name": "python",
   "nbconvert_exporter": "python",
   "pygments_lexer": "ipython3",
   "version": "3.10.12"
  }
 },
 "nbformat": 4,
 "nbformat_minor": 2
}
