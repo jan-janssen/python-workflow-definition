{
 "cells": [
  {
   "cell_type": "code",
   "execution_count": 1,
   "metadata": {},
   "outputs": [],
   "source": [
    "\n",
    "from python_workflow_definition.aiida import load_workflow_json"
   ]
  },
  {
   "cell_type": "code",
   "execution_count": 2,
   "metadata": {},
   "outputs": [
    {
     "name": "stdout",
     "output_type": "stream",
     "text": [
      "outputs [{'identifier': 'workgraph.any', 'name': 'result'}]\n",
      "outputs [{'identifier': 'workgraph.any', 'name': 'result'}]\n",
      "outputs [{'identifier': 'workgraph.any', 'name': 'result'}]\n",
      "outputs [{'identifier': 'workgraph.any', 'name': 'result'}]\n",
      "outputs None\n",
      "outputs None\n",
      "outputs None\n",
      "outputs None\n",
      "outputs [{'identifier': 'workgraph.any', 'name': 'result'}]\n",
      "outputs None\n",
      "outputs None\n",
      "outputs None\n",
      "outputs None\n",
      "outputs None\n",
      "outputs None\n",
      "outputs None\n",
      "outputs None\n",
      "outputs None\n",
      "outputs None\n",
      "outputs None\n",
      "outputs [{'identifier': 'workgraph.any', 'name': 'result'}]\n"
     ]
    }
   ],
   "source": [
    "workgraph = load_workflow_json(filename='workflow_qe.json')"
   ]
  },
  {
   "cell_type": "code",
   "execution_count": 3,
   "metadata": {},
   "outputs": [
    {
     "data": {
      "application/vnd.jupyter.widget-view+json": {
       "model_id": "81c4d0a6e21042c7b82ccca0fdef201f",
       "version_major": 2,
       "version_minor": 1
      },
      "text/plain": [
       "NodeGraphWidget(settings={'minimap': True}, style={'width': '90%', 'height': '600px'}, value={'name': 'WorkGra…"
      ]
     },
     "execution_count": 3,
     "metadata": {},
     "output_type": "execute_result"
    }
   ],
   "source": [
    "\n",
    "# TODO: Create inputs rather than tasks out of data nodes\n",
    "workgraph"
   ]
  },
  {
   "cell_type": "code",
   "execution_count": null,
   "metadata": {},
   "outputs": [],
   "source": []
  }
 ],
 "metadata": {
  "kernelspec": {
   "display_name": "ADIS",
   "language": "python",
   "name": "python3"
  },
  "language_info": {
   "codemirror_mode": {
    "name": "ipython",
    "version": 3
   },
   "file_extension": ".py",
   "mimetype": "text/x-python",
   "name": "python",
   "nbconvert_exporter": "python",
   "pygments_lexer": "ipython3",
   "version": "3.10.12"
  }
 },
 "nbformat": 4,
 "nbformat_minor": 2
}
