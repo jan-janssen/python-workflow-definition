{
 "cells": [
  {
   "cell_type": "code",
   "execution_count": 2,
   "metadata": {},
   "outputs": [],
   "source": [
    "from python_workflow_definition.aiida import load_workflow_json"
   ]
  },
  {
   "cell_type": "code",
   "execution_count": 3,
   "metadata": {},
   "outputs": [
    {
     "name": "stdout",
     "output_type": "stream",
     "text": [
      "outputs [{'identifier': 'workgraph.any', 'name': 'result'}]\n",
      "outputs [{'identifier': 'workgraph.any', 'name': 'result'}]\n",
      "outputs [{'identifier': 'workgraph.any', 'name': 'result'}]\n",
      "outputs [{'identifier': 'workgraph.any', 'name': 'result'}]\n",
      "outputs None\n",
      "outputs None\n",
      "outputs None\n",
      "outputs None\n",
      "outputs [{'identifier': 'workgraph.any', 'name': 'result'}]\n",
      "outputs None\n",
      "outputs None\n",
      "outputs None\n",
      "outputs None\n",
      "outputs None\n",
      "outputs None\n",
      "outputs None\n",
      "outputs None\n",
      "outputs None\n",
      "outputs None\n",
      "outputs None\n",
      "outputs [{'identifier': 'workgraph.any', 'name': 'result'}]\n"
     ]
    }
   ],
   "source": [
    "workgraph = load_workflow_json(filename='workflow_qe.json')"
   ]
  },
  {
   "cell_type": "code",
   "execution_count": 4,
   "metadata": {},
   "outputs": [
    {
     "data": {
      "application/vnd.jupyter.widget-view+json": {
       "model_id": "c542e65df52e477b9cb1245bbc506a3d",
       "version_major": 2,
       "version_minor": 1
      },
      "text/plain": [
       "NodeGraphWidget(settings={'minimap': True}, style={'width': '90%', 'height': '600px'}, value={'name': 'WorkGra…"
      ]
     },
     "execution_count": 4,
     "metadata": {},
     "output_type": "execute_result"
    }
   ],
   "source": [
    "\n",
    "# TODO: Create inputs rather than tasks out of data nodes\n",
    "workgraph"
   ]
  },
  {
   "cell_type": "code",
   "execution_count": 5,
   "metadata": {},
   "outputs": [
    {
     "name": "stderr",
     "output_type": "stream",
     "text": [
      "03/15/2025 11:10:34 AM <1999609> aiida.orm.nodes.process.workflow.workchain.WorkChainNode: [REPORT] [8066|WorkGraphEngine|continue_workgraph]: Continue workgraph.\n",
      "03/15/2025 11:10:36 AM <1999609> aiida.orm.nodes.process.workflow.workchain.WorkChainNode: [REPORT] [8066|WorkGraphEngine|continue_workgraph]: tasks ready to run: 9,10,11,12,14,15,16,17,18,19,21,22,24,26,28\n",
      "03/15/2025 11:10:36 AM <1999609> aiida.orm.nodes.process.workflow.workchain.WorkChainNode: [REPORT] [8066|WorkGraphEngine|run_tasks]: Run task: 9, type: Normal\n",
      "03/15/2025 11:10:36 AM <1999609> aiida.orm.nodes.process.workflow.workchain.WorkChainNode: [REPORT] [8066|WorkGraphEngine|update_normal_task_state]: Task: 9 finished.\n"
     ]
    },
    {
     "name": "stdout",
     "output_type": "stream",
     "text": [
      "------------------------------------------------------------\n",
      "kwargs:  {'value': 'Al'}\n"
     ]
    },
    {
     "name": "stderr",
     "output_type": "stream",
     "text": [
      "03/15/2025 11:10:36 AM <1999609> aiida.orm.nodes.process.workflow.workchain.WorkChainNode: [REPORT] [8066|WorkGraphEngine|continue_workgraph]: Continue workgraph.\n",
      "03/15/2025 11:10:37 AM <1999609> aiida.orm.nodes.process.workflow.workchain.WorkChainNode: [REPORT] [8066|WorkGraphEngine|continue_workgraph]: tasks ready to run: 10,11,12,14,15,16,17,18,19,21,22,24,26,28\n",
      "03/15/2025 11:10:37 AM <1999609> aiida.orm.nodes.process.workflow.workchain.WorkChainNode: [REPORT] [8066|WorkGraphEngine|run_tasks]: Run task: 10, type: Normal\n",
      "03/15/2025 11:10:37 AM <1999609> aiida.orm.nodes.process.workflow.workchain.WorkChainNode: [REPORT] [8066|WorkGraphEngine|update_normal_task_state]: Task: 10 finished.\n"
     ]
    },
    {
     "name": "stdout",
     "output_type": "stream",
     "text": [
      "------------------------------------------------------------\n",
      "kwargs:  {'value': 4.05}\n"
     ]
    },
    {
     "name": "stderr",
     "output_type": "stream",
     "text": [
      "03/15/2025 11:10:37 AM <1999609> aiida.orm.nodes.process.workflow.workchain.WorkChainNode: [REPORT] [8066|WorkGraphEngine|continue_workgraph]: Continue workgraph.\n",
      "03/15/2025 11:10:38 AM <1999609> aiida.orm.nodes.process.workflow.workchain.WorkChainNode: [REPORT] [8066|WorkGraphEngine|continue_workgraph]: tasks ready to run: 11,12,14,15,16,17,18,19,21,22,24,26,28\n",
      "03/15/2025 11:10:38 AM <1999609> aiida.orm.nodes.process.workflow.workchain.WorkChainNode: [REPORT] [8066|WorkGraphEngine|run_tasks]: Run task: 11, type: Normal\n"
     ]
    },
    {
     "name": "stdout",
     "output_type": "stream",
     "text": [
      "------------------------------------------------------------\n",
      "kwargs:  {'value': True}\n"
     ]
    },
    {
     "name": "stderr",
     "output_type": "stream",
     "text": [
      "03/15/2025 11:10:39 AM <1999609> aiida.orm.nodes.process.workflow.workchain.WorkChainNode: [REPORT] [8066|WorkGraphEngine|update_normal_task_state]: Task: 11 finished.\n",
      "03/15/2025 11:10:39 AM <1999609> aiida.orm.nodes.process.workflow.workchain.WorkChainNode: [REPORT] [8066|WorkGraphEngine|continue_workgraph]: Continue workgraph.\n",
      "03/15/2025 11:10:40 AM <1999609> aiida.orm.nodes.process.workflow.workchain.WorkChainNode: [REPORT] [8066|WorkGraphEngine|continue_workgraph]: tasks ready to run: 12,14,15,16,17,18,19,21,22,24,26,28,get_bulk_structure\n",
      "03/15/2025 11:10:40 AM <1999609> aiida.orm.nodes.process.workflow.workchain.WorkChainNode: [REPORT] [8066|WorkGraphEngine|run_tasks]: Run task: 12, type: Normal\n",
      "03/15/2025 11:10:40 AM <1999609> aiida.orm.nodes.process.workflow.workchain.WorkChainNode: [REPORT] [8066|WorkGraphEngine|update_normal_task_state]: Task: 12 finished.\n"
     ]
    },
    {
     "name": "stdout",
     "output_type": "stream",
     "text": [
      "------------------------------------------------------------\n",
      "kwargs:  {'value': 'mini'}\n"
     ]
    },
    {
     "name": "stderr",
     "output_type": "stream",
     "text": [
      "03/15/2025 11:10:40 AM <1999609> aiida.orm.nodes.process.workflow.workchain.WorkChainNode: [REPORT] [8066|WorkGraphEngine|continue_workgraph]: Continue workgraph.\n",
      "03/15/2025 11:10:41 AM <1999609> aiida.orm.nodes.process.workflow.workchain.WorkChainNode: [REPORT] [8066|WorkGraphEngine|continue_workgraph]: tasks ready to run: 14,15,16,17,18,19,21,22,24,26,28,get_bulk_structure\n",
      "03/15/2025 11:10:41 AM <1999609> aiida.orm.nodes.process.workflow.workchain.WorkChainNode: [REPORT] [8066|WorkGraphEngine|run_tasks]: Run task: 14, type: Normal\n"
     ]
    },
    {
     "name": "stdout",
     "output_type": "stream",
     "text": [
      "------------------------------------------------------------\n",
      "kwargs:  {'value': {'Al': 'Al.pbe-n-kjpaw_psl.1.0.0.UPF'}}\n"
     ]
    },
    {
     "name": "stderr",
     "output_type": "stream",
     "text": [
      "03/15/2025 11:10:41 AM <1999609> aiida.orm.nodes.process.workflow.workchain.WorkChainNode: [REPORT] [8066|WorkGraphEngine|update_normal_task_state]: Task: 14 finished.\n",
      "03/15/2025 11:10:41 AM <1999609> aiida.orm.nodes.process.workflow.workchain.WorkChainNode: [REPORT] [8066|WorkGraphEngine|continue_workgraph]: Continue workgraph.\n",
      "03/15/2025 11:10:43 AM <1999609> aiida.orm.nodes.process.workflow.workchain.WorkChainNode: [REPORT] [8066|WorkGraphEngine|continue_workgraph]: tasks ready to run: 15,16,17,18,19,21,22,24,26,28,get_bulk_structure\n",
      "03/15/2025 11:10:43 AM <1999609> aiida.orm.nodes.process.workflow.workchain.WorkChainNode: [REPORT] [8066|WorkGraphEngine|run_tasks]: Run task: 15, type: Normal\n",
      "03/15/2025 11:10:43 AM <1999609> aiida.orm.nodes.process.workflow.workchain.WorkChainNode: [REPORT] [8066|WorkGraphEngine|update_normal_task_state]: Task: 15 finished.\n"
     ]
    },
    {
     "name": "stdout",
     "output_type": "stream",
     "text": [
      "------------------------------------------------------------\n",
      "kwargs:  {'value': [3, 3, 3]}\n"
     ]
    },
    {
     "name": "stderr",
     "output_type": "stream",
     "text": [
      "03/15/2025 11:10:43 AM <1999609> aiida.orm.nodes.process.workflow.workchain.WorkChainNode: [REPORT] [8066|WorkGraphEngine|continue_workgraph]: Continue workgraph.\n",
      "03/15/2025 11:10:44 AM <1999609> aiida.orm.nodes.process.workflow.workchain.WorkChainNode: [REPORT] [8066|WorkGraphEngine|continue_workgraph]: tasks ready to run: 16,17,18,19,21,22,24,26,28,get_bulk_structure\n",
      "03/15/2025 11:10:44 AM <1999609> aiida.orm.nodes.process.workflow.workchain.WorkChainNode: [REPORT] [8066|WorkGraphEngine|run_tasks]: Run task: 16, type: Normal\n",
      "03/15/2025 11:10:45 AM <1999609> aiida.orm.nodes.process.workflow.workchain.WorkChainNode: [REPORT] [8066|WorkGraphEngine|update_normal_task_state]: Task: 16 finished.\n"
     ]
    },
    {
     "name": "stdout",
     "output_type": "stream",
     "text": [
      "------------------------------------------------------------\n",
      "kwargs:  {'value': 'vc-relax'}\n"
     ]
    },
    {
     "name": "stderr",
     "output_type": "stream",
     "text": [
      "03/15/2025 11:10:45 AM <1999609> aiida.orm.nodes.process.workflow.workchain.WorkChainNode: [REPORT] [8066|WorkGraphEngine|continue_workgraph]: Continue workgraph.\n",
      "03/15/2025 11:10:46 AM <1999609> aiida.orm.nodes.process.workflow.workchain.WorkChainNode: [REPORT] [8066|WorkGraphEngine|continue_workgraph]: tasks ready to run: 17,18,19,21,22,24,26,28,get_bulk_structure\n",
      "03/15/2025 11:10:46 AM <1999609> aiida.orm.nodes.process.workflow.workchain.WorkChainNode: [REPORT] [8066|WorkGraphEngine|run_tasks]: Run task: 17, type: Normal\n",
      "03/15/2025 11:10:46 AM <1999609> aiida.orm.nodes.process.workflow.workchain.WorkChainNode: [REPORT] [8066|WorkGraphEngine|update_normal_task_state]: Task: 17 finished.\n"
     ]
    },
    {
     "name": "stdout",
     "output_type": "stream",
     "text": [
      "------------------------------------------------------------\n",
      "kwargs:  {'value': 0.02}\n"
     ]
    },
    {
     "name": "stderr",
     "output_type": "stream",
     "text": [
      "03/15/2025 11:10:46 AM <1999609> aiida.orm.nodes.process.workflow.workchain.WorkChainNode: [REPORT] [8066|WorkGraphEngine|continue_workgraph]: Continue workgraph.\n",
      "03/15/2025 11:10:48 AM <1999609> aiida.orm.nodes.process.workflow.workchain.WorkChainNode: [REPORT] [8066|WorkGraphEngine|continue_workgraph]: tasks ready to run: 18,19,21,22,24,26,28,get_bulk_structure\n",
      "03/15/2025 11:10:48 AM <1999609> aiida.orm.nodes.process.workflow.workchain.WorkChainNode: [REPORT] [8066|WorkGraphEngine|run_tasks]: Run task: 18, type: Normal\n",
      "03/15/2025 11:10:48 AM <1999609> aiida.orm.nodes.process.workflow.workchain.WorkChainNode: [REPORT] [8066|WorkGraphEngine|update_normal_task_state]: Task: 18 finished.\n"
     ]
    },
    {
     "name": "stdout",
     "output_type": "stream",
     "text": [
      "------------------------------------------------------------\n",
      "kwargs:  {'value': [0.9, 0.95, 1.0, 1.05, 1.1]}\n"
     ]
    },
    {
     "name": "stderr",
     "output_type": "stream",
     "text": [
      "03/15/2025 11:10:48 AM <1999609> aiida.orm.nodes.process.workflow.workchain.WorkChainNode: [REPORT] [8066|WorkGraphEngine|continue_workgraph]: Continue workgraph.\n",
      "03/15/2025 11:10:49 AM <1999609> aiida.orm.nodes.process.workflow.workchain.WorkChainNode: [REPORT] [8066|WorkGraphEngine|continue_workgraph]: tasks ready to run: 19,21,22,24,26,28,get_bulk_structure\n",
      "03/15/2025 11:10:49 AM <1999609> aiida.orm.nodes.process.workflow.workchain.WorkChainNode: [REPORT] [8066|WorkGraphEngine|run_tasks]: Run task: 19, type: Normal\n",
      "03/15/2025 11:10:50 AM <1999609> aiida.orm.nodes.process.workflow.workchain.WorkChainNode: [REPORT] [8066|WorkGraphEngine|update_normal_task_state]: Task: 19 finished.\n"
     ]
    },
    {
     "name": "stdout",
     "output_type": "stream",
     "text": [
      "------------------------------------------------------------\n",
      "kwargs:  {'value': 'strain_0'}\n"
     ]
    },
    {
     "name": "stderr",
     "output_type": "stream",
     "text": [
      "03/15/2025 11:10:50 AM <1999609> aiida.orm.nodes.process.workflow.workchain.WorkChainNode: [REPORT] [8066|WorkGraphEngine|continue_workgraph]: Continue workgraph.\n",
      "03/15/2025 11:10:51 AM <1999609> aiida.orm.nodes.process.workflow.workchain.WorkChainNode: [REPORT] [8066|WorkGraphEngine|continue_workgraph]: tasks ready to run: 21,22,24,26,28,get_bulk_structure\n",
      "03/15/2025 11:10:51 AM <1999609> aiida.orm.nodes.process.workflow.workchain.WorkChainNode: [REPORT] [8066|WorkGraphEngine|run_tasks]: Run task: 21, type: Normal\n",
      "03/15/2025 11:10:51 AM <1999609> aiida.orm.nodes.process.workflow.workchain.WorkChainNode: [REPORT] [8066|WorkGraphEngine|update_normal_task_state]: Task: 21 finished.\n"
     ]
    },
    {
     "name": "stdout",
     "output_type": "stream",
     "text": [
      "------------------------------------------------------------\n",
      "kwargs:  {'value': 'scf'}\n"
     ]
    },
    {
     "name": "stderr",
     "output_type": "stream",
     "text": [
      "03/15/2025 11:10:51 AM <1999609> aiida.orm.nodes.process.workflow.workchain.WorkChainNode: [REPORT] [8066|WorkGraphEngine|continue_workgraph]: Continue workgraph.\n",
      "03/15/2025 11:10:53 AM <1999609> aiida.orm.nodes.process.workflow.workchain.WorkChainNode: [REPORT] [8066|WorkGraphEngine|continue_workgraph]: tasks ready to run: 22,24,26,28,get_bulk_structure\n",
      "03/15/2025 11:10:53 AM <1999609> aiida.orm.nodes.process.workflow.workchain.WorkChainNode: [REPORT] [8066|WorkGraphEngine|run_tasks]: Run task: 22, type: Normal\n"
     ]
    },
    {
     "name": "stdout",
     "output_type": "stream",
     "text": [
      "------------------------------------------------------------\n",
      "kwargs:  {'value': 'strain_1'}\n"
     ]
    },
    {
     "name": "stderr",
     "output_type": "stream",
     "text": [
      "03/15/2025 11:10:53 AM <1999609> aiida.orm.nodes.process.workflow.workchain.WorkChainNode: [REPORT] [8066|WorkGraphEngine|update_normal_task_state]: Task: 22 finished.\n",
      "03/15/2025 11:10:53 AM <1999609> aiida.orm.nodes.process.workflow.workchain.WorkChainNode: [REPORT] [8066|WorkGraphEngine|continue_workgraph]: Continue workgraph.\n",
      "03/15/2025 11:10:54 AM <1999609> aiida.orm.nodes.process.workflow.workchain.WorkChainNode: [REPORT] [8066|WorkGraphEngine|continue_workgraph]: tasks ready to run: 24,26,28,get_bulk_structure\n",
      "03/15/2025 11:10:54 AM <1999609> aiida.orm.nodes.process.workflow.workchain.WorkChainNode: [REPORT] [8066|WorkGraphEngine|run_tasks]: Run task: 24, type: Normal\n"
     ]
    },
    {
     "name": "stdout",
     "output_type": "stream",
     "text": [
      "------------------------------------------------------------\n",
      "kwargs:  {'value': 'strain_2'}\n"
     ]
    },
    {
     "name": "stderr",
     "output_type": "stream",
     "text": [
      "03/15/2025 11:10:55 AM <1999609> aiida.orm.nodes.process.workflow.workchain.WorkChainNode: [REPORT] [8066|WorkGraphEngine|update_normal_task_state]: Task: 24 finished.\n",
      "03/15/2025 11:10:55 AM <1999609> aiida.orm.nodes.process.workflow.workchain.WorkChainNode: [REPORT] [8066|WorkGraphEngine|continue_workgraph]: Continue workgraph.\n",
      "03/15/2025 11:10:56 AM <1999609> aiida.orm.nodes.process.workflow.workchain.WorkChainNode: [REPORT] [8066|WorkGraphEngine|continue_workgraph]: tasks ready to run: 26,28,get_bulk_structure\n",
      "03/15/2025 11:10:56 AM <1999609> aiida.orm.nodes.process.workflow.workchain.WorkChainNode: [REPORT] [8066|WorkGraphEngine|run_tasks]: Run task: 26, type: Normal\n"
     ]
    },
    {
     "name": "stdout",
     "output_type": "stream",
     "text": [
      "------------------------------------------------------------\n",
      "kwargs:  {'value': 'strain_3'}\n"
     ]
    },
    {
     "name": "stderr",
     "output_type": "stream",
     "text": [
      "03/15/2025 11:10:56 AM <1999609> aiida.orm.nodes.process.workflow.workchain.WorkChainNode: [REPORT] [8066|WorkGraphEngine|update_normal_task_state]: Task: 26 finished.\n",
      "03/15/2025 11:10:57 AM <1999609> aiida.orm.nodes.process.workflow.workchain.WorkChainNode: [REPORT] [8066|WorkGraphEngine|continue_workgraph]: Continue workgraph.\n",
      "03/15/2025 11:10:58 AM <1999609> aiida.orm.nodes.process.workflow.workchain.WorkChainNode: [REPORT] [8066|WorkGraphEngine|continue_workgraph]: tasks ready to run: 28,get_bulk_structure\n",
      "03/15/2025 11:10:58 AM <1999609> aiida.orm.nodes.process.workflow.workchain.WorkChainNode: [REPORT] [8066|WorkGraphEngine|run_tasks]: Run task: 28, type: Normal\n",
      "03/15/2025 11:10:58 AM <1999609> aiida.orm.nodes.process.workflow.workchain.WorkChainNode: [REPORT] [8066|WorkGraphEngine|update_normal_task_state]: Task: 28 finished.\n"
     ]
    },
    {
     "name": "stdout",
     "output_type": "stream",
     "text": [
      "------------------------------------------------------------\n",
      "kwargs:  {'value': 'strain_4'}\n"
     ]
    },
    {
     "name": "stderr",
     "output_type": "stream",
     "text": [
      "03/15/2025 11:10:58 AM <1999609> aiida.orm.nodes.process.workflow.workchain.WorkChainNode: [REPORT] [8066|WorkGraphEngine|continue_workgraph]: Continue workgraph.\n",
      "03/15/2025 11:11:00 AM <1999609> aiida.orm.nodes.process.workflow.workchain.WorkChainNode: [REPORT] [8066|WorkGraphEngine|continue_workgraph]: tasks ready to run: get_bulk_structure\n",
      "03/15/2025 11:11:00 AM <1999609> aiida.orm.nodes.process.workflow.workchain.WorkChainNode: [REPORT] [8066|WorkGraphEngine|run_tasks]: Run task: get_bulk_structure, type: PYTHONJOB\n"
     ]
    },
    {
     "name": "stdout",
     "output_type": "stream",
     "text": [
      "------------------------------------------------------------\n",
      "kwargs:  {'a': 4.05, 'cubic': True, 'element': 'Al', 'register_pickle_by_value': True}\n"
     ]
    },
    {
     "name": "stderr",
     "output_type": "stream",
     "text": [
      "03/15/2025 11:11:05 AM <1999609> aiida.orm.nodes.process.workflow.workchain.WorkChainNode: [REPORT] [8066|WorkGraphEngine|on_wait]: Process status: Waiting for child processes: 8080\n",
      "03/15/2025 11:11:12 AM <1999609> aiida.orm.nodes.process.workflow.workchain.WorkChainNode: [REPORT] [8066|WorkGraphEngine|update_task_state]: Task: get_bulk_structure finished.\n",
      "03/15/2025 11:11:15 AM <1999609> aiida.orm.nodes.process.workflow.workchain.WorkChainNode: [REPORT] [8066|WorkGraphEngine|continue_workgraph]: Continue workgraph.\n",
      "03/15/2025 11:11:16 AM <1999609> aiida.orm.nodes.process.workflow.workchain.WorkChainNode: [REPORT] [8066|WorkGraphEngine|continue_workgraph]: tasks ready to run: get_dict\n",
      "03/15/2025 11:11:16 AM <1999609> aiida.orm.nodes.process.workflow.workchain.WorkChainNode: [REPORT] [8066|WorkGraphEngine|run_tasks]: Run task: get_dict, type: PYTHONJOB\n"
     ]
    },
    {
     "name": "stdout",
     "output_type": "stream",
     "text": [
      "------------------------------------------------------------\n",
      "kwargs:  {'calculation': 'vc-relax', 'kpts': [3, 3, 3], 'register_pickle_by_value': True, 'smearing': 0.02, 'structure': <PickledData: uuid: f45421c0-9a2b-442a-b05c-bd55b1fe50d6 (pk: 8084) : {'numbers': [13, 13, 13, 13], 'positions': [[0.0, 0.0, 0.0], [0.0, 2.025, 2.025], [2.025, 0.0, 2.025], [2.025, 2.025, 0.0]], 'cell': [[4.05, 0.0, 0.0], [0.0, 4.05, 0.0], [0.0, 0.0, 4.05]], 'pbc': [True, True, True]}>}\n"
     ]
    },
    {
     "name": "stderr",
     "output_type": "stream",
     "text": [
      "03/15/2025 11:11:19 AM <1999609> aiida.orm.nodes.process.workflow.workchain.WorkChainNode: [REPORT] [8066|WorkGraphEngine|on_wait]: Process status: Waiting for child processes: 8095\n",
      "03/15/2025 11:11:24 AM <1999609> aiida.orm.nodes.process.calculation.calcjob.CalcJobNode: [WARNING] output parser returned exit code<325>: Function execution failed.\n",
      "'kwargs'\n",
      "Traceback (most recent call last):\n",
      "  File \"<stdin>\", line 41, in main\n",
      "  File \"/home/geiger_j/aiida_projects/adis/git-repos/python-workflow-definition/python_workflow_definition/src/python_workflow_definition/pyiron_base.py\", line 86, in get_dict\n",
      "    return {k: v for k, v in kwargs[\"kwargs\"].items()}\n",
      "KeyError: 'kwargs'\n",
      "\n",
      "03/15/2025 11:11:26 AM <1999609> aiida.orm.nodes.process.workflow.workchain.WorkChainNode: [REPORT] [8066|WorkGraphEngine|on_task_failed]: Task get_dict failed.\n",
      "03/15/2025 11:11:26 AM <1999609> aiida.orm.nodes.process.workflow.workchain.WorkChainNode: [REPORT] [8066|WorkGraphEngine|run_error_handlers]: Run error handlers for get_dict\n",
      "03/15/2025 11:11:30 AM <1999609> aiida.orm.nodes.process.workflow.workchain.WorkChainNode: [REPORT] [8066|WorkGraphEngine|continue_workgraph]: Continue workgraph.\n",
      "03/15/2025 11:11:30 AM <1999609> aiida.orm.nodes.process.workflow.workchain.WorkChainNode: [REPORT] [8066|WorkGraphEngine|continue_workgraph]: tasks ready to run: \n",
      "03/15/2025 11:11:32 AM <1999609> aiida.orm.nodes.process.workflow.workchain.WorkChainNode: [REPORT] [8066|WorkGraphEngine|is_workgraph_finished]: WorkGraph finished, but tasks: ['get_dict'] failed. Thus all their child tasks are skipped.\n"
     ]
    },
    {
     "data": {
      "text/plain": [
       "{}"
      ]
     },
     "execution_count": 5,
     "metadata": {},
     "output_type": "execute_result"
    }
   ],
   "source": [
    "from aiida import load_profile\n",
    "load_profile()\n",
    "\n",
    "workgraph.run()\n"
   ]
  }
 ],
 "metadata": {
  "kernelspec": {
   "display_name": "ADIS",
   "language": "python",
   "name": "python3"
  },
  "language_info": {
   "codemirror_mode": {
    "name": "ipython",
    "version": 3
   },
   "file_extension": ".py",
   "mimetype": "text/x-python",
   "name": "python",
   "nbconvert_exporter": "python",
   "pygments_lexer": "ipython3",
   "version": "3.10.12"
  }
 },
 "nbformat": 4,
 "nbformat_minor": 2
}
