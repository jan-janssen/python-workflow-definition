{
 "cells": [
  {
   "cell_type": "code",
   "execution_count": 1,
   "metadata": {},
   "outputs": [],
   "source": [
    "from python_workflow_definition.aiida import load_workflow_json"
   ]
  },
  {
   "cell_type": "code",
   "execution_count": 2,
   "metadata": {},
   "outputs": [],
   "source": [
    "workgraph = load_workflow_json(filename='workflow_qe.json')"
   ]
  },
  {
   "cell_type": "code",
   "execution_count": 3,
   "metadata": {},
   "outputs": [],
   "source": [
    "\n",
    "# TODO: Create inputs rather than tasks out of data nodes\n",
    "# workgraph"
   ]
  },
  {
   "cell_type": "code",
   "execution_count": 4,
   "metadata": {},
   "outputs": [
    {
     "data": {
      "text/plain": [
       "SocketAny(name='element', value=None)"
      ]
     },
     "execution_count": 4,
     "metadata": {},
     "output_type": "execute_result"
    }
   ],
   "source": [
    "workgraph.tasks.get_bulk_structure.inputs.element"
   ]
  },
  {
   "cell_type": "code",
   "execution_count": null,
   "metadata": {},
   "outputs": [
    {
     "name": "stderr",
     "output_type": "stream",
     "text": [
      "03/17/2025 11:44:47 AM <54499> aiida.orm.nodes.process.workflow.workchain.WorkChainNode: [REPORT] [8668|WorkGraphEngine|continue_workgraph]: Continue workgraph.\n",
      "03/17/2025 11:44:48 AM <54499> aiida.orm.nodes.process.workflow.workchain.WorkChainNode: [REPORT] [8668|WorkGraphEngine|continue_workgraph]: tasks ready to run: 9,10,11,12,14,15,16,17,18,19,21,22,24,26,28\n",
      "03/17/2025 11:44:48 AM <54499> aiida.orm.nodes.process.workflow.workchain.WorkChainNode: [REPORT] [8668|WorkGraphEngine|run_tasks]: Run task: 9, type: Normal\n",
      "03/17/2025 11:44:48 AM <54499> aiida.orm.nodes.process.workflow.workchain.WorkChainNode: [REPORT] [8668|WorkGraphEngine|update_normal_task_state]: Task: 9 finished.\n"
     ]
    },
    {
     "name": "stdout",
     "output_type": "stream",
     "text": [
      "------------------------------------------------------------\n",
      "kwargs:  {'value': 'Al'}\n"
     ]
    },
    {
     "name": "stderr",
     "output_type": "stream",
     "text": [
      "03/17/2025 11:44:48 AM <54499> aiida.orm.nodes.process.workflow.workchain.WorkChainNode: [REPORT] [8668|WorkGraphEngine|continue_workgraph]: Continue workgraph.\n",
      "03/17/2025 11:44:49 AM <54499> aiida.orm.nodes.process.workflow.workchain.WorkChainNode: [REPORT] [8668|WorkGraphEngine|continue_workgraph]: tasks ready to run: 10,11,12,14,15,16,17,18,19,21,22,24,26,28\n",
      "03/17/2025 11:44:49 AM <54499> aiida.orm.nodes.process.workflow.workchain.WorkChainNode: [REPORT] [8668|WorkGraphEngine|run_tasks]: Run task: 10, type: Normal\n",
      "03/17/2025 11:44:49 AM <54499> aiida.orm.nodes.process.workflow.workchain.WorkChainNode: [REPORT] [8668|WorkGraphEngine|update_normal_task_state]: Task: 10 finished.\n"
     ]
    },
    {
     "name": "stdout",
     "output_type": "stream",
     "text": [
      "------------------------------------------------------------\n",
      "kwargs:  {'value': 4.05}\n"
     ]
    },
    {
     "name": "stderr",
     "output_type": "stream",
     "text": [
      "03/17/2025 11:44:49 AM <54499> aiida.orm.nodes.process.workflow.workchain.WorkChainNode: [REPORT] [8668|WorkGraphEngine|continue_workgraph]: Continue workgraph.\n",
      "03/17/2025 11:44:51 AM <54499> aiida.orm.nodes.process.workflow.workchain.WorkChainNode: [REPORT] [8668|WorkGraphEngine|continue_workgraph]: tasks ready to run: 11,12,14,15,16,17,18,19,21,22,24,26,28\n",
      "03/17/2025 11:44:51 AM <54499> aiida.orm.nodes.process.workflow.workchain.WorkChainNode: [REPORT] [8668|WorkGraphEngine|run_tasks]: Run task: 11, type: Normal\n"
     ]
    },
    {
     "name": "stdout",
     "output_type": "stream",
     "text": [
      "------------------------------------------------------------\n",
      "kwargs:  {'value': True}\n"
     ]
    },
    {
     "name": "stderr",
     "output_type": "stream",
     "text": [
      "03/17/2025 11:44:51 AM <54499> aiida.orm.nodes.process.workflow.workchain.WorkChainNode: [REPORT] [8668|WorkGraphEngine|update_normal_task_state]: Task: 11 finished.\n",
      "03/17/2025 11:44:51 AM <54499> aiida.orm.nodes.process.workflow.workchain.WorkChainNode: [REPORT] [8668|WorkGraphEngine|continue_workgraph]: Continue workgraph.\n",
      "03/17/2025 11:44:52 AM <54499> aiida.orm.nodes.process.workflow.workchain.WorkChainNode: [REPORT] [8668|WorkGraphEngine|continue_workgraph]: tasks ready to run: 12,14,15,16,17,18,19,21,22,24,26,28,get_bulk_structure\n",
      "03/17/2025 11:44:52 AM <54499> aiida.orm.nodes.process.workflow.workchain.WorkChainNode: [REPORT] [8668|WorkGraphEngine|run_tasks]: Run task: 12, type: Normal\n",
      "03/17/2025 11:44:52 AM <54499> aiida.orm.nodes.process.workflow.workchain.WorkChainNode: [REPORT] [8668|WorkGraphEngine|update_normal_task_state]: Task: 12 finished.\n"
     ]
    },
    {
     "name": "stdout",
     "output_type": "stream",
     "text": [
      "------------------------------------------------------------\n",
      "kwargs:  {'value': 'mini'}\n"
     ]
    },
    {
     "name": "stderr",
     "output_type": "stream",
     "text": [
      "03/17/2025 11:44:52 AM <54499> aiida.orm.nodes.process.workflow.workchain.WorkChainNode: [REPORT] [8668|WorkGraphEngine|continue_workgraph]: Continue workgraph.\n",
      "03/17/2025 11:44:54 AM <54499> aiida.orm.nodes.process.workflow.workchain.WorkChainNode: [REPORT] [8668|WorkGraphEngine|continue_workgraph]: tasks ready to run: 14,15,16,17,18,19,21,22,24,26,28,get_bulk_structure\n",
      "03/17/2025 11:44:54 AM <54499> aiida.orm.nodes.process.workflow.workchain.WorkChainNode: [REPORT] [8668|WorkGraphEngine|run_tasks]: Run task: 14, type: Normal\n",
      "03/17/2025 11:44:54 AM <54499> aiida.orm.nodes.process.workflow.workchain.WorkChainNode: [REPORT] [8668|WorkGraphEngine|update_normal_task_state]: Task: 14 finished.\n"
     ]
    },
    {
     "name": "stdout",
     "output_type": "stream",
     "text": [
      "------------------------------------------------------------\n",
      "kwargs:  {'value': {'Al': 'Al.pbe-n-kjpaw_psl.1.0.0.UPF'}}\n"
     ]
    },
    {
     "name": "stderr",
     "output_type": "stream",
     "text": [
      "03/17/2025 11:44:54 AM <54499> aiida.orm.nodes.process.workflow.workchain.WorkChainNode: [REPORT] [8668|WorkGraphEngine|continue_workgraph]: Continue workgraph.\n",
      "03/17/2025 11:44:55 AM <54499> aiida.orm.nodes.process.workflow.workchain.WorkChainNode: [REPORT] [8668|WorkGraphEngine|continue_workgraph]: tasks ready to run: 15,16,17,18,19,21,22,24,26,28,get_bulk_structure\n",
      "03/17/2025 11:44:55 AM <54499> aiida.orm.nodes.process.workflow.workchain.WorkChainNode: [REPORT] [8668|WorkGraphEngine|run_tasks]: Run task: 15, type: Normal\n",
      "03/17/2025 11:44:55 AM <54499> aiida.orm.nodes.process.workflow.workchain.WorkChainNode: [REPORT] [8668|WorkGraphEngine|update_normal_task_state]: Task: 15 finished.\n"
     ]
    },
    {
     "name": "stdout",
     "output_type": "stream",
     "text": [
      "------------------------------------------------------------\n",
      "kwargs:  {'value': [3, 3, 3]}\n"
     ]
    },
    {
     "name": "stderr",
     "output_type": "stream",
     "text": [
      "03/17/2025 11:44:55 AM <54499> aiida.orm.nodes.process.workflow.workchain.WorkChainNode: [REPORT] [8668|WorkGraphEngine|continue_workgraph]: Continue workgraph.\n",
      "03/17/2025 11:44:57 AM <54499> aiida.orm.nodes.process.workflow.workchain.WorkChainNode: [REPORT] [8668|WorkGraphEngine|continue_workgraph]: tasks ready to run: 16,17,18,19,21,22,24,26,28,get_bulk_structure\n",
      "03/17/2025 11:44:57 AM <54499> aiida.orm.nodes.process.workflow.workchain.WorkChainNode: [REPORT] [8668|WorkGraphEngine|run_tasks]: Run task: 16, type: Normal\n"
     ]
    },
    {
     "name": "stdout",
     "output_type": "stream",
     "text": [
      "------------------------------------------------------------\n",
      "kwargs:  {'value': 'vc-relax'}\n"
     ]
    },
    {
     "name": "stderr",
     "output_type": "stream",
     "text": [
      "03/17/2025 11:44:57 AM <54499> aiida.orm.nodes.process.workflow.workchain.WorkChainNode: [REPORT] [8668|WorkGraphEngine|update_normal_task_state]: Task: 16 finished.\n",
      "03/17/2025 11:44:57 AM <54499> aiida.orm.nodes.process.workflow.workchain.WorkChainNode: [REPORT] [8668|WorkGraphEngine|continue_workgraph]: Continue workgraph.\n",
      "03/17/2025 11:44:58 AM <54499> aiida.orm.nodes.process.workflow.workchain.WorkChainNode: [REPORT] [8668|WorkGraphEngine|continue_workgraph]: tasks ready to run: 17,18,19,21,22,24,26,28,get_bulk_structure\n",
      "03/17/2025 11:44:58 AM <54499> aiida.orm.nodes.process.workflow.workchain.WorkChainNode: [REPORT] [8668|WorkGraphEngine|run_tasks]: Run task: 17, type: Normal\n"
     ]
    },
    {
     "name": "stdout",
     "output_type": "stream",
     "text": [
      "------------------------------------------------------------\n",
      "kwargs:  {'value': 0.02}\n"
     ]
    },
    {
     "name": "stderr",
     "output_type": "stream",
     "text": [
      "03/17/2025 11:44:58 AM <54499> aiida.orm.nodes.process.workflow.workchain.WorkChainNode: [REPORT] [8668|WorkGraphEngine|update_normal_task_state]: Task: 17 finished.\n",
      "03/17/2025 11:44:58 AM <54499> aiida.orm.nodes.process.workflow.workchain.WorkChainNode: [REPORT] [8668|WorkGraphEngine|continue_workgraph]: Continue workgraph.\n",
      "03/17/2025 11:45:00 AM <54499> aiida.orm.nodes.process.workflow.workchain.WorkChainNode: [REPORT] [8668|WorkGraphEngine|continue_workgraph]: tasks ready to run: 18,19,21,22,24,26,28,get_bulk_structure\n",
      "03/17/2025 11:45:00 AM <54499> aiida.orm.nodes.process.workflow.workchain.WorkChainNode: [REPORT] [8668|WorkGraphEngine|run_tasks]: Run task: 18, type: Normal\n"
     ]
    },
    {
     "name": "stdout",
     "output_type": "stream",
     "text": [
      "------------------------------------------------------------\n",
      "kwargs:  {'value': [0.9, 0.95, 1.0, 1.05, 1.1]}\n"
     ]
    },
    {
     "name": "stderr",
     "output_type": "stream",
     "text": [
      "03/17/2025 11:45:00 AM <54499> aiida.orm.nodes.process.workflow.workchain.WorkChainNode: [REPORT] [8668|WorkGraphEngine|update_normal_task_state]: Task: 18 finished.\n",
      "03/17/2025 11:45:00 AM <54499> aiida.orm.nodes.process.workflow.workchain.WorkChainNode: [REPORT] [8668|WorkGraphEngine|continue_workgraph]: Continue workgraph.\n",
      "03/17/2025 11:45:01 AM <54499> aiida.orm.nodes.process.workflow.workchain.WorkChainNode: [REPORT] [8668|WorkGraphEngine|continue_workgraph]: tasks ready to run: 19,21,22,24,26,28,get_bulk_structure\n",
      "03/17/2025 11:45:01 AM <54499> aiida.orm.nodes.process.workflow.workchain.WorkChainNode: [REPORT] [8668|WorkGraphEngine|run_tasks]: Run task: 19, type: Normal\n"
     ]
    },
    {
     "name": "stdout",
     "output_type": "stream",
     "text": [
      "------------------------------------------------------------\n",
      "kwargs:  {'value': 'strain_0'}\n"
     ]
    },
    {
     "name": "stderr",
     "output_type": "stream",
     "text": [
      "03/17/2025 11:45:02 AM <54499> aiida.orm.nodes.process.workflow.workchain.WorkChainNode: [REPORT] [8668|WorkGraphEngine|update_normal_task_state]: Task: 19 finished.\n",
      "03/17/2025 11:45:02 AM <54499> aiida.orm.nodes.process.workflow.workchain.WorkChainNode: [REPORT] [8668|WorkGraphEngine|continue_workgraph]: Continue workgraph.\n",
      "03/17/2025 11:45:03 AM <54499> aiida.orm.nodes.process.workflow.workchain.WorkChainNode: [REPORT] [8668|WorkGraphEngine|continue_workgraph]: tasks ready to run: 21,22,24,26,28,get_bulk_structure\n",
      "03/17/2025 11:45:03 AM <54499> aiida.orm.nodes.process.workflow.workchain.WorkChainNode: [REPORT] [8668|WorkGraphEngine|run_tasks]: Run task: 21, type: Normal\n",
      "03/17/2025 11:45:03 AM <54499> aiida.orm.nodes.process.workflow.workchain.WorkChainNode: [REPORT] [8668|WorkGraphEngine|update_normal_task_state]: Task: 21 finished.\n"
     ]
    },
    {
     "name": "stdout",
     "output_type": "stream",
     "text": [
      "------------------------------------------------------------\n",
      "kwargs:  {'value': 'scf'}\n"
     ]
    },
    {
     "name": "stderr",
     "output_type": "stream",
     "text": [
      "03/17/2025 11:45:03 AM <54499> aiida.orm.nodes.process.workflow.workchain.WorkChainNode: [REPORT] [8668|WorkGraphEngine|continue_workgraph]: Continue workgraph.\n",
      "03/17/2025 11:45:05 AM <54499> aiida.orm.nodes.process.workflow.workchain.WorkChainNode: [REPORT] [8668|WorkGraphEngine|continue_workgraph]: tasks ready to run: 22,24,26,28,get_bulk_structure\n",
      "03/17/2025 11:45:05 AM <54499> aiida.orm.nodes.process.workflow.workchain.WorkChainNode: [REPORT] [8668|WorkGraphEngine|run_tasks]: Run task: 22, type: Normal\n",
      "03/17/2025 11:45:05 AM <54499> aiida.orm.nodes.process.workflow.workchain.WorkChainNode: [REPORT] [8668|WorkGraphEngine|update_normal_task_state]: Task: 22 finished.\n"
     ]
    },
    {
     "name": "stdout",
     "output_type": "stream",
     "text": [
      "------------------------------------------------------------\n",
      "kwargs:  {'value': 'strain_1'}\n"
     ]
    },
    {
     "name": "stderr",
     "output_type": "stream",
     "text": [
      "03/17/2025 11:45:05 AM <54499> aiida.orm.nodes.process.workflow.workchain.WorkChainNode: [REPORT] [8668|WorkGraphEngine|continue_workgraph]: Continue workgraph.\n",
      "03/17/2025 11:45:06 AM <54499> aiida.orm.nodes.process.workflow.workchain.WorkChainNode: [REPORT] [8668|WorkGraphEngine|continue_workgraph]: tasks ready to run: 24,26,28,get_bulk_structure\n",
      "03/17/2025 11:45:06 AM <54499> aiida.orm.nodes.process.workflow.workchain.WorkChainNode: [REPORT] [8668|WorkGraphEngine|run_tasks]: Run task: 24, type: Normal\n",
      "03/17/2025 11:45:07 AM <54499> aiida.orm.nodes.process.workflow.workchain.WorkChainNode: [REPORT] [8668|WorkGraphEngine|update_normal_task_state]: Task: 24 finished.\n"
     ]
    },
    {
     "name": "stdout",
     "output_type": "stream",
     "text": [
      "------------------------------------------------------------\n",
      "kwargs:  {'value': 'strain_2'}\n"
     ]
    },
    {
     "name": "stderr",
     "output_type": "stream",
     "text": [
      "03/17/2025 11:45:07 AM <54499> aiida.orm.nodes.process.workflow.workchain.WorkChainNode: [REPORT] [8668|WorkGraphEngine|continue_workgraph]: Continue workgraph.\n",
      "03/17/2025 11:45:08 AM <54499> aiida.orm.nodes.process.workflow.workchain.WorkChainNode: [REPORT] [8668|WorkGraphEngine|continue_workgraph]: tasks ready to run: 26,28,get_bulk_structure\n",
      "03/17/2025 11:45:08 AM <54499> aiida.orm.nodes.process.workflow.workchain.WorkChainNode: [REPORT] [8668|WorkGraphEngine|run_tasks]: Run task: 26, type: Normal\n",
      "03/17/2025 11:45:08 AM <54499> aiida.orm.nodes.process.workflow.workchain.WorkChainNode: [REPORT] [8668|WorkGraphEngine|update_normal_task_state]: Task: 26 finished.\n"
     ]
    },
    {
     "name": "stdout",
     "output_type": "stream",
     "text": [
      "------------------------------------------------------------\n",
      "kwargs:  {'value': 'strain_3'}\n"
     ]
    },
    {
     "name": "stderr",
     "output_type": "stream",
     "text": [
      "03/17/2025 11:45:08 AM <54499> aiida.orm.nodes.process.workflow.workchain.WorkChainNode: [REPORT] [8668|WorkGraphEngine|continue_workgraph]: Continue workgraph.\n",
      "03/17/2025 11:45:10 AM <54499> aiida.orm.nodes.process.workflow.workchain.WorkChainNode: [REPORT] [8668|WorkGraphEngine|continue_workgraph]: tasks ready to run: 28,get_bulk_structure\n",
      "03/17/2025 11:45:10 AM <54499> aiida.orm.nodes.process.workflow.workchain.WorkChainNode: [REPORT] [8668|WorkGraphEngine|run_tasks]: Run task: 28, type: Normal\n"
     ]
    },
    {
     "name": "stdout",
     "output_type": "stream",
     "text": [
      "------------------------------------------------------------\n",
      "kwargs:  {'value': 'strain_4'}\n"
     ]
    },
    {
     "name": "stderr",
     "output_type": "stream",
     "text": [
      "03/17/2025 11:45:10 AM <54499> aiida.orm.nodes.process.workflow.workchain.WorkChainNode: [REPORT] [8668|WorkGraphEngine|update_normal_task_state]: Task: 28 finished.\n",
      "03/17/2025 11:45:10 AM <54499> aiida.orm.nodes.process.workflow.workchain.WorkChainNode: [REPORT] [8668|WorkGraphEngine|continue_workgraph]: Continue workgraph.\n",
      "03/17/2025 11:45:12 AM <54499> aiida.orm.nodes.process.workflow.workchain.WorkChainNode: [REPORT] [8668|WorkGraphEngine|continue_workgraph]: tasks ready to run: get_bulk_structure\n",
      "03/17/2025 11:45:12 AM <54499> aiida.orm.nodes.process.workflow.workchain.WorkChainNode: [REPORT] [8668|WorkGraphEngine|run_tasks]: Run task: get_bulk_structure, type: PYTHONJOB\n"
     ]
    },
    {
     "name": "stdout",
     "output_type": "stream",
     "text": [
      "------------------------------------------------------------\n",
      "kwargs:  {'a': 4.05, 'cubic': True, 'element': 'Al', 'register_pickle_by_value': True}\n"
     ]
    },
    {
     "name": "stderr",
     "output_type": "stream",
     "text": [
      "03/17/2025 11:45:17 AM <54499> aiida.orm.nodes.process.workflow.workchain.WorkChainNode: [REPORT] [8668|WorkGraphEngine|on_wait]: Process status: Waiting for child processes: 8678\n"
     ]
    }
   ],
   "source": [
    "from aiida import load_profile\n",
    "load_profile()\n",
    "\n",
    "workgraph.run()\n"
   ]
  },
  {
   "cell_type": "code",
   "execution_count": null,
   "metadata": {},
   "outputs": [],
   "source": []
  }
 ],
 "metadata": {
  "kernelspec": {
   "display_name": "ADIS",
   "language": "python",
   "name": "python3"
  },
  "language_info": {
   "codemirror_mode": {
    "name": "ipython",
    "version": 3
   },
   "file_extension": ".py",
   "mimetype": "text/x-python",
   "name": "python",
   "nbconvert_exporter": "python",
   "pygments_lexer": "ipython3",
   "version": "3.10.12"
  }
 },
 "nbformat": 4,
 "nbformat_minor": 2
}
