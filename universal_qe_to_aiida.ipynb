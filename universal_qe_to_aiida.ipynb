{
 "cells": [
  {
   "cell_type": "code",
   "execution_count": 8,
   "metadata": {},
   "outputs": [
    {
     "data": {
      "text/plain": [
       "Profile<uuid='d106cde233334800a702a20040a6b629' name='adis'>"
      ]
     },
     "execution_count": 8,
     "metadata": {},
     "output_type": "execute_result"
    }
   ],
   "source": [
    "from python_workflow_definition.aiida import load_workflow_json\n",
    "from aiida import load_profile\n",
    "load_profile()"
   ]
  },
  {
   "cell_type": "code",
   "execution_count": 9,
   "metadata": {},
   "outputs": [],
   "source": [
    "workgraph = load_workflow_json(file_name='workflow_qe.json')"
   ]
  },
  {
   "cell_type": "code",
   "execution_count": 10,
   "metadata": {},
   "outputs": [
    {
     "data": {
      "application/vnd.jupyter.widget-view+json": {
       "model_id": "392da344802a414b86a03e1fce82369c",
       "version_major": 2,
       "version_minor": 1
      },
      "text/plain": [
       "NodeGraphWidget(settings={'minimap': True}, style={'width': '90%', 'height': '600px'}, value={'name': 'WorkGra…"
      ]
     },
     "execution_count": 10,
     "metadata": {},
     "output_type": "execute_result"
    }
   ],
   "source": [
    "workgraph"
   ]
  },
  {
   "cell_type": "code",
   "execution_count": 11,
   "metadata": {},
   "outputs": [
    {
     "name": "stderr",
     "output_type": "stream",
     "text": [
      "03/21/2025 01:43:53 PM <3868876> aiida.orm.nodes.process.workflow.workchain.WorkChainNode: [REPORT] [14125|WorkGraphEngine|continue_workgraph]: Continue workgraph.\n",
      "03/21/2025 01:43:54 PM <3868876> aiida.orm.nodes.process.workflow.workchain.WorkChainNode: [REPORT] [14125|WorkGraphEngine|continue_workgraph]: tasks ready to run: pickle_node10,pickle_node11,pickle_node12,pickle_node13,pickle_node15,pickle_node16,pickle_node17,pickle_node18,pickle_node19,pickle_node20,pickle_node22,pickle_node23,pickle_node25,pickle_node27,pickle_node29\n",
      "03/21/2025 01:43:54 PM <3868876> aiida.orm.nodes.process.workflow.workchain.WorkChainNode: [REPORT] [14125|WorkGraphEngine|run_tasks]: Run task: pickle_node10, type: PYTHONJOB\n"
     ]
    },
    {
     "name": "stdout",
     "output_type": "stream",
     "text": [
      "------------------------------------------------------------\n",
      "kwargs:  {'value': 'Al'}\n"
     ]
    },
    {
     "name": "stderr",
     "output_type": "stream",
     "text": [
      "03/21/2025 01:43:56 PM <3868876> aiida.orm.nodes.process.workflow.workchain.WorkChainNode: [REPORT] [14125|WorkGraphEngine|run_tasks]: Run task: pickle_node11, type: PYTHONJOB\n"
     ]
    },
    {
     "name": "stdout",
     "output_type": "stream",
     "text": [
      "------------------------------------------------------------\n",
      "kwargs:  {'value': 4.05}\n"
     ]
    },
    {
     "name": "stderr",
     "output_type": "stream",
     "text": [
      "03/21/2025 01:43:58 PM <3868876> aiida.orm.nodes.process.workflow.workchain.WorkChainNode: [REPORT] [14125|WorkGraphEngine|run_tasks]: Run task: pickle_node12, type: PYTHONJOB\n"
     ]
    },
    {
     "name": "stdout",
     "output_type": "stream",
     "text": [
      "------------------------------------------------------------\n",
      "kwargs:  {'value': True}\n"
     ]
    },
    {
     "name": "stderr",
     "output_type": "stream",
     "text": [
      "03/21/2025 01:43:59 PM <3868876> aiida.orm.nodes.process.workflow.workchain.WorkChainNode: [REPORT] [14125|WorkGraphEngine|run_tasks]: Run task: pickle_node13, type: PYTHONJOB\n"
     ]
    },
    {
     "name": "stdout",
     "output_type": "stream",
     "text": [
      "------------------------------------------------------------\n",
      "kwargs:  {'value': 'mini'}\n"
     ]
    },
    {
     "name": "stderr",
     "output_type": "stream",
     "text": [
      "03/21/2025 01:44:01 PM <3868876> aiida.orm.nodes.process.workflow.workchain.WorkChainNode: [REPORT] [14125|WorkGraphEngine|run_tasks]: Run task: pickle_node15, type: PYTHONJOB\n"
     ]
    },
    {
     "name": "stdout",
     "output_type": "stream",
     "text": [
      "------------------------------------------------------------\n",
      "kwargs:  {'value': {'Al': 'Al.pbe-n-kjpaw_psl.1.0.0.UPF'}}\n"
     ]
    },
    {
     "name": "stderr",
     "output_type": "stream",
     "text": [
      "03/21/2025 01:44:03 PM <3868876> aiida.orm.nodes.process.workflow.workchain.WorkChainNode: [REPORT] [14125|WorkGraphEngine|run_tasks]: Run task: pickle_node16, type: PYTHONJOB\n"
     ]
    },
    {
     "name": "stdout",
     "output_type": "stream",
     "text": [
      "------------------------------------------------------------\n",
      "kwargs:  {'value': [3, 3, 3]}\n"
     ]
    },
    {
     "name": "stderr",
     "output_type": "stream",
     "text": [
      "03/21/2025 01:44:05 PM <3868876> aiida.orm.nodes.process.workflow.workchain.WorkChainNode: [REPORT] [14125|WorkGraphEngine|run_tasks]: Run task: pickle_node17, type: PYTHONJOB\n"
     ]
    },
    {
     "name": "stdout",
     "output_type": "stream",
     "text": [
      "------------------------------------------------------------\n",
      "kwargs:  {'value': 'vc-relax'}\n"
     ]
    },
    {
     "name": "stderr",
     "output_type": "stream",
     "text": [
      "03/21/2025 01:44:06 PM <3868876> aiida.orm.nodes.process.workflow.workchain.WorkChainNode: [REPORT] [14125|WorkGraphEngine|run_tasks]: Run task: pickle_node18, type: PYTHONJOB\n"
     ]
    },
    {
     "name": "stdout",
     "output_type": "stream",
     "text": [
      "------------------------------------------------------------\n",
      "kwargs:  {'value': 0.02}\n"
     ]
    },
    {
     "name": "stderr",
     "output_type": "stream",
     "text": [
      "03/21/2025 01:44:08 PM <3868876> aiida.orm.nodes.process.workflow.workchain.WorkChainNode: [REPORT] [14125|WorkGraphEngine|run_tasks]: Run task: pickle_node19, type: PYTHONJOB\n"
     ]
    },
    {
     "name": "stdout",
     "output_type": "stream",
     "text": [
      "------------------------------------------------------------\n",
      "kwargs:  {'value': [0.9, 0.95, 1.0, 1.05, 1.1]}\n"
     ]
    },
    {
     "name": "stderr",
     "output_type": "stream",
     "text": [
      "03/21/2025 01:44:10 PM <3868876> aiida.orm.nodes.process.workflow.workchain.WorkChainNode: [REPORT] [14125|WorkGraphEngine|run_tasks]: Run task: pickle_node20, type: PYTHONJOB\n"
     ]
    },
    {
     "name": "stdout",
     "output_type": "stream",
     "text": [
      "------------------------------------------------------------\n",
      "kwargs:  {'value': 'strain_0'}\n"
     ]
    },
    {
     "name": "stderr",
     "output_type": "stream",
     "text": [
      "03/21/2025 01:44:11 PM <3868876> aiida.orm.nodes.process.workflow.workchain.WorkChainNode: [REPORT] [14125|WorkGraphEngine|run_tasks]: Run task: pickle_node22, type: PYTHONJOB\n"
     ]
    },
    {
     "name": "stdout",
     "output_type": "stream",
     "text": [
      "------------------------------------------------------------\n",
      "kwargs:  {'value': 'scf'}\n"
     ]
    },
    {
     "name": "stderr",
     "output_type": "stream",
     "text": [
      "03/21/2025 01:44:13 PM <3868876> aiida.orm.nodes.process.workflow.workchain.WorkChainNode: [REPORT] [14125|WorkGraphEngine|run_tasks]: Run task: pickle_node23, type: PYTHONJOB\n"
     ]
    },
    {
     "name": "stdout",
     "output_type": "stream",
     "text": [
      "------------------------------------------------------------\n",
      "kwargs:  {'value': 'strain_1'}\n"
     ]
    },
    {
     "name": "stderr",
     "output_type": "stream",
     "text": [
      "03/21/2025 01:44:15 PM <3868876> aiida.orm.nodes.process.workflow.workchain.WorkChainNode: [REPORT] [14125|WorkGraphEngine|run_tasks]: Run task: pickle_node25, type: PYTHONJOB\n"
     ]
    },
    {
     "name": "stdout",
     "output_type": "stream",
     "text": [
      "------------------------------------------------------------\n",
      "kwargs:  {'value': 'strain_2'}\n"
     ]
    },
    {
     "name": "stderr",
     "output_type": "stream",
     "text": [
      "03/21/2025 01:44:16 PM <3868876> aiida.orm.nodes.process.workflow.workchain.WorkChainNode: [REPORT] [14125|WorkGraphEngine|run_tasks]: Run task: pickle_node27, type: PYTHONJOB\n"
     ]
    },
    {
     "name": "stdout",
     "output_type": "stream",
     "text": [
      "------------------------------------------------------------\n",
      "kwargs:  {'value': 'strain_3'}\n"
     ]
    },
    {
     "name": "stderr",
     "output_type": "stream",
     "text": [
      "03/21/2025 01:44:18 PM <3868876> aiida.orm.nodes.process.workflow.workchain.WorkChainNode: [REPORT] [14125|WorkGraphEngine|run_tasks]: Run task: pickle_node29, type: PYTHONJOB\n"
     ]
    },
    {
     "name": "stdout",
     "output_type": "stream",
     "text": [
      "------------------------------------------------------------\n",
      "kwargs:  {'value': 'strain_4'}\n"
     ]
    },
    {
     "name": "stderr",
     "output_type": "stream",
     "text": [
      "03/21/2025 01:44:22 PM <3868876> aiida.orm.nodes.process.workflow.workchain.WorkChainNode: [REPORT] [14125|WorkGraphEngine|on_wait]: Process status: Waiting for child processes: 14133, 14141, 14149, 14157, 14165, 14173, 14181, 14189, 14197, 14205, 14213, 14221, 14229, 14237, 14245\n",
      "03/21/2025 01:44:47 PM <3868876> aiida.orm.nodes.process.workflow.workchain.WorkChainNode: [REPORT] [14125|WorkGraphEngine|update_task_state]: Task: pickle_node10 finished.\n",
      "03/21/2025 01:44:48 PM <3868876> aiida.orm.nodes.process.workflow.workchain.WorkChainNode: [REPORT] [14125|WorkGraphEngine|update_task_state]: Task: pickle_node11 finished.\n",
      "03/21/2025 01:44:49 PM <3868876> aiida.orm.nodes.process.workflow.workchain.WorkChainNode: [REPORT] [14125|WorkGraphEngine|update_task_state]: Task: pickle_node12 finished.\n",
      "03/21/2025 01:44:50 PM <3868876> aiida.orm.nodes.process.workflow.workchain.WorkChainNode: [REPORT] [14125|WorkGraphEngine|update_task_state]: Task: pickle_node13 finished.\n",
      "03/21/2025 01:44:51 PM <3868876> aiida.orm.nodes.process.workflow.workchain.WorkChainNode: [REPORT] [14125|WorkGraphEngine|update_task_state]: Task: pickle_node15 finished.\n",
      "03/21/2025 01:44:52 PM <3868876> aiida.orm.nodes.process.workflow.workchain.WorkChainNode: [REPORT] [14125|WorkGraphEngine|update_task_state]: Task: pickle_node16 finished.\n",
      "03/21/2025 01:44:53 PM <3868876> aiida.orm.nodes.process.workflow.workchain.WorkChainNode: [REPORT] [14125|WorkGraphEngine|update_task_state]: Task: pickle_node17 finished.\n",
      "03/21/2025 01:44:54 PM <3868876> aiida.orm.nodes.process.workflow.workchain.WorkChainNode: [REPORT] [14125|WorkGraphEngine|update_task_state]: Task: pickle_node18 finished.\n",
      "03/21/2025 01:44:54 PM <3868876> aiida.orm.nodes.process.workflow.workchain.WorkChainNode: [REPORT] [14125|WorkGraphEngine|update_task_state]: Task: pickle_node19 finished.\n",
      "03/21/2025 01:44:55 PM <3868876> aiida.orm.nodes.process.workflow.workchain.WorkChainNode: [REPORT] [14125|WorkGraphEngine|update_task_state]: Task: pickle_node20 finished.\n",
      "03/21/2025 01:44:56 PM <3868876> aiida.orm.nodes.process.workflow.workchain.WorkChainNode: [REPORT] [14125|WorkGraphEngine|update_task_state]: Task: pickle_node22 finished.\n",
      "03/21/2025 01:44:57 PM <3868876> aiida.orm.nodes.process.workflow.workchain.WorkChainNode: [REPORT] [14125|WorkGraphEngine|update_task_state]: Task: pickle_node23 finished.\n",
      "03/21/2025 01:44:58 PM <3868876> aiida.orm.nodes.process.workflow.workchain.WorkChainNode: [REPORT] [14125|WorkGraphEngine|update_task_state]: Task: pickle_node25 finished.\n",
      "03/21/2025 01:44:59 PM <3868876> aiida.orm.nodes.process.workflow.workchain.WorkChainNode: [REPORT] [14125|WorkGraphEngine|update_task_state]: Task: pickle_node27 finished.\n",
      "03/21/2025 01:45:00 PM <3868876> aiida.orm.nodes.process.workflow.workchain.WorkChainNode: [REPORT] [14125|WorkGraphEngine|update_task_state]: Task: pickle_node29 finished.\n",
      "03/21/2025 01:45:05 PM <3868876> aiida.orm.nodes.process.workflow.workchain.WorkChainNode: [REPORT] [14125|WorkGraphEngine|continue_workgraph]: Continue workgraph.\n",
      "03/21/2025 01:45:07 PM <3868876> aiida.orm.nodes.process.workflow.workchain.WorkChainNode: [REPORT] [14125|WorkGraphEngine|continue_workgraph]: tasks ready to run: get_bulk_structure1\n",
      "03/21/2025 01:45:07 PM <3868876> aiida.orm.nodes.process.workflow.workchain.WorkChainNode: [REPORT] [14125|WorkGraphEngine|run_tasks]: Run task: get_bulk_structure1, type: PYTHONJOB\n"
     ]
    },
    {
     "name": "stdout",
     "output_type": "stream",
     "text": [
      "------------------------------------------------------------\n",
      "kwargs:  {'a': <Float: uuid: b974f43d-9a3b-4087-b37d-6e1afbea8846 (pk: 14292) value: 4.05>, 'cubic': <Bool: uuid: a936f26c-defc-4131-b56e-d56eecb2b621 (pk: 14293) value: True>, 'element': <Str: uuid: f3feea0e-6416-4d8a-868c-d9d6271c449e (pk: 14291) value: Al>, 'register_pickle_by_value': True}\n"
     ]
    },
    {
     "name": "stderr",
     "output_type": "stream",
     "text": [
      "03/21/2025 01:45:11 PM <3868876> aiida.orm.nodes.process.workflow.workchain.WorkChainNode: [REPORT] [14125|WorkGraphEngine|on_wait]: Process status: Waiting for child processes: 14312\n",
      "03/21/2025 01:45:25 PM <3868876> aiida.orm.nodes.process.workflow.workchain.WorkChainNode: [REPORT] [14125|WorkGraphEngine|continue_workgraph]: Continue workgraph.\n",
      "03/21/2025 01:45:27 PM <3868876> aiida.orm.nodes.process.workflow.workchain.WorkChainNode: [REPORT] [14125|WorkGraphEngine|continue_workgraph]: tasks ready to run: get_dict14\n",
      "03/21/2025 01:45:27 PM <3868876> aiida.orm.nodes.process.workflow.workchain.WorkChainNode: [REPORT] [14125|WorkGraphEngine|run_tasks]: Run task: get_dict14, type: PYTHONJOB\n"
     ]
    },
    {
     "name": "stdout",
     "output_type": "stream",
     "text": [
      "------------------------------------------------------------\n",
      "kwargs:  {'calculation': <Str: uuid: 25f57fbe-3726-412d-815e-eab5735f0b8c (pk: 14297) value: vc-relax>, 'kpts': <List: uuid: d5b08e06-be60-461c-85ef-47cf1c6067c7 (pk: 14296) value: [3, 3, 3]>, 'pseudopotentials': <PickledData: uuid: 2b1c886d-b10d-4e75-a8eb-c885d5dc4a46 (pk: 14295) : {'Al': 'Al.pbe-n-kjpaw_psl.1.0.0.UPF'}>, 'register_pickle_by_value': True, 'smearing': <Float: uuid: 511922ee-f01b-4f76-9e68-19ee2d8c3cbe (pk: 14298) value: 0.02>, 'structure': <Str: uuid: 1b3ebbd7-1ff4-44b4-b77a-e3c18baafd8b (pk: 14316) value: {\"immutable_id\": null, \"last_modified\": null, \"elements\": [\"Al\"], \"nelements\": 1, \"elements_ratios\": [1.0], \"chemical_formula_descriptive\": \"Al4\", \"chemical_formula_reduced\": \"Al\", \"chemical_formula_hill\": null, \"chemical_formula_anonymous\": \"A\", \"dimension_types\": [1, 1, 1], \"nperiodic_dimensions\": 3, \"lattice_vectors\": [[4.05, 0.0, 0.0], [0.0, 4.05, 0.0], [0.0, 0.0, 4.05]], \"space_group_symmetry_operations_xyz\": null, \"space_group_symbol_hall\": null, \"space_group_symbol_hermann_mauguin\": null, \"space_group_symbol_hermann_mauguin_extended\": null, \"space_group_it_number\": null, \"cartesian_site_positions\": [[0.0, 0.0, 0.0], [0.0, 2.025, 2.025], [2.025, 0.0, 2.025], [2.025, 2.025, 0.0]], \"nsites\": 4, \"species\": [{\"name\": \"Al\", \"chemical_symbols\": [\"Al\"], \"concentration\": [1.0], \"mass\": null, \"original_name\": null, \"attached\": null, \"nattached\": null}], \"species_at_sites\": [\"Al\", \"Al\", \"Al\", \"Al\"], \"assemblies\": null, \"structure_features\": []}>}\n"
     ]
    },
    {
     "name": "stderr",
     "output_type": "stream",
     "text": [
      "03/21/2025 01:45:32 PM <3868876> aiida.orm.nodes.process.workflow.workchain.WorkChainNode: [REPORT] [14125|WorkGraphEngine|on_wait]: Process status: Waiting for child processes: 14323\n",
      "03/21/2025 01:45:44 PM <3868876> aiida.orm.nodes.process.workflow.workchain.WorkChainNode: [REPORT] [14125|WorkGraphEngine|continue_workgraph]: Continue workgraph.\n",
      "03/21/2025 01:45:46 PM <3868876> aiida.orm.nodes.process.workflow.workchain.WorkChainNode: [REPORT] [14125|WorkGraphEngine|continue_workgraph]: tasks ready to run: calculate_qe2\n",
      "03/21/2025 01:45:46 PM <3868876> aiida.orm.nodes.process.workflow.workchain.WorkChainNode: [REPORT] [14125|WorkGraphEngine|run_tasks]: Run task: calculate_qe2, type: PYTHONJOB\n"
     ]
    },
    {
     "name": "stdout",
     "output_type": "stream",
     "text": [
      "------------------------------------------------------------\n",
      "kwargs:  {'input_dict': <PickledData: uuid: cd83406d-0282-4c44-8b93-69c4bfbd0217 (pk: 14327) : {'calculation': 'vc-relax', 'kpts': [3, 3, 3], 'pseudopotentials': {'Al': 'Al.pbe-n-kjpaw_psl.1.0.0.UPF'}, 'smearing': 0.02, 'structure': '{\"immutable_id\": null, \"last_modified\": null, \"elements\": [\"Al\"], \"nelements\": 1, \"elements_ratios\": [1.0], \"chemical_formula_descriptive\": \"Al4\", \"chemical_formula_reduced\": \"Al\", \"chemical_formula_hill\": null, \"chemical_formula_anonymous\": \"A\", \"dimension_types\": [1, 1, 1], \"nperiodic_dimensions\": 3, \"lattice_vectors\": [[4.05, 0.0, 0.0], [0.0, 4.05, 0.0], [0.0, 0.0, 4.05]], \"space_group_symmetry_operations_xyz\": null, \"space_group_symbol_hall\": null, \"space_group_symbol_hermann_mauguin\": null, \"space_group_symbol_hermann_mauguin_extended\": null, \"space_group_it_number\": null, \"cartesian_site_positions\": [[0.0, 0.0, 0.0], [0.0, 2.025, 2.025], [2.025, 0.0, 2.025], [2.025, 2.025, 0.0]], \"nsites\": 4, \"species\": [{\"name\": \"Al\", \"chemical_symbols\": [\"Al\"], \"concentration\": [1.0], \"mass\": null, \"original_name\": null, \"attached\": null, \"nattached\": null}], \"species_at_sites\": [\"Al\", \"Al\", \"Al\", \"Al\"], \"assemblies\": null, \"structure_features\": []}'}>, 'register_pickle_by_value': True, 'working_directory': <Str: uuid: 26e9dcb5-a50b-4f93-84ea-2f29d5e3e50b (pk: 14294) value: mini>}\n"
     ]
    },
    {
     "name": "stderr",
     "output_type": "stream",
     "text": [
      "03/21/2025 01:45:51 PM <3868876> aiida.orm.nodes.process.workflow.workchain.WorkChainNode: [REPORT] [14125|WorkGraphEngine|on_wait]: Process status: Waiting for child processes: 14334\n",
      "03/21/2025 01:46:24 PM <3868876> aiida.parser.PythonJobParser: [WARNING] Found extra results that are not included in the output: dict_keys(['energy', 'volume'])\n",
      "03/21/2025 01:46:30 PM <3868876> aiida.orm.nodes.process.workflow.workchain.WorkChainNode: [REPORT] [14125|WorkGraphEngine|continue_workgraph]: Continue workgraph.\n",
      "03/21/2025 01:46:32 PM <3868876> aiida.orm.nodes.process.workflow.workchain.WorkChainNode: [REPORT] [14125|WorkGraphEngine|continue_workgraph]: tasks ready to run: generate_structures3\n",
      "03/21/2025 01:46:32 PM <3868876> aiida.orm.nodes.process.workflow.workchain.WorkChainNode: [REPORT] [14125|WorkGraphEngine|run_tasks]: Run task: generate_structures3, type: PYTHONJOB\n"
     ]
    },
    {
     "name": "stdout",
     "output_type": "stream",
     "text": [
      "------------------------------------------------------------\n",
      "kwargs:  {'register_pickle_by_value': True, 'strain_lst': <List: uuid: 158061f4-2712-49a5-b55b-78eb679e18d8 (pk: 14299) value: [0.9, 0.95, 1.0, 1.05, 1.1]>, 'structure': <Str: uuid: 43c06506-2796-435d-aa95-86ff182f6a12 (pk: 14338) value: {\"immutable_id\": null, \"last_modified\": null, \"elements\": [\"Al\"], \"nelements\": 1, \"elements_ratios\": [1.0], \"chemical_formula_descriptive\": \"Al4\", \"chemical_formula_reduced\": \"Al\", \"chemical_formula_hill\": null, \"chemical_formula_anonymous\": \"A\", \"dimension_types\": [1, 1, 1], \"nperiodic_dimensions\": 3, \"lattice_vectors\": [[4.04563739129438, 0.0, 0.0], [0.0, 4.04563739129438, 0.0], [0.0, 0.0, 4.04563739129438]], \"space_group_symmetry_operations_xyz\": null, \"space_group_symbol_hall\": null, \"space_group_symbol_hermann_mauguin\": null, \"space_group_symbol_hermann_mauguin_extended\": null, \"space_group_it_number\": null, \"cartesian_site_positions\": [[0.0, 0.0, 0.0], [0.0, 2.0228186956471887, 2.0228186956471887], [2.0228186956471887, 0.0, 2.0228186956471887], [2.0228186956471887, 2.0228186956471887, 0.0]], \"nsites\": 4, \"species\": [{\"name\": \"Al\", \"chemical_symbols\": [\"Al\"], \"concentration\": [1.0], \"mass\": null, \"original_name\": null, \"attached\": null, \"nattached\": null}], \"species_at_sites\": [\"Al\", \"Al\", \"Al\", \"Al\"], \"assemblies\": null, \"structure_features\": []}>}\n"
     ]
    },
    {
     "name": "stderr",
     "output_type": "stream",
     "text": [
      "03/21/2025 01:46:37 PM <3868876> aiida.orm.nodes.process.workflow.workchain.WorkChainNode: [REPORT] [14125|WorkGraphEngine|on_wait]: Process status: Waiting for child processes: 14345\n",
      "03/21/2025 01:46:51 PM <3868876> aiida.orm.nodes.process.workflow.workchain.WorkChainNode: [REPORT] [14125|WorkGraphEngine|continue_workgraph]: Continue workgraph.\n",
      "03/21/2025 01:46:53 PM <3868876> aiida.orm.nodes.process.workflow.workchain.WorkChainNode: [REPORT] [14125|WorkGraphEngine|continue_workgraph]: tasks ready to run: get_dict21,get_dict24,get_dict26,get_dict28,get_dict30\n",
      "03/21/2025 01:46:53 PM <3868876> aiida.orm.nodes.process.workflow.workchain.WorkChainNode: [REPORT] [14125|WorkGraphEngine|run_tasks]: Run task: get_dict21, type: PYTHONJOB\n"
     ]
    },
    {
     "name": "stdout",
     "output_type": "stream",
     "text": [
      "------------------------------------------------------------\n",
      "kwargs:  {'calculation': <Str: uuid: a76a7aee-991c-4763-8755-185bfcdd3c49 (pk: 14301) value: scf>, 'kpts': <List: uuid: d5b08e06-be60-461c-85ef-47cf1c6067c7 (pk: 14296) value: [3, 3, 3]>, 'pseudopotentials': <PickledData: uuid: 2b1c886d-b10d-4e75-a8eb-c885d5dc4a46 (pk: 14295) : {'Al': 'Al.pbe-n-kjpaw_psl.1.0.0.UPF'}>, 'register_pickle_by_value': True, 'smearing': <Float: uuid: 511922ee-f01b-4f76-9e68-19ee2d8c3cbe (pk: 14298) value: 0.02>, 'structure': <Str: uuid: 41d213ed-d57c-447b-9fd9-b3f8c5a0afd2 (pk: 14349) value: {\"immutable_id\": null, \"last_modified\": null, \"elements\": [\"Al\"], \"nelements\": 1, \"elements_ratios\": [1.0], \"chemical_formula_descriptive\": \"Al4\", \"chemical_formula_reduced\": \"Al\", \"chemical_formula_hill\": null, \"chemical_formula_anonymous\": \"A\", \"dimension_types\": [1, 1, 1], \"nperiodic_dimensions\": 3, \"lattice_vectors\": [[3.906019955258336, 0.0, 0.0], [0.0, 3.906019955258336, 0.0], [0.0, 0.0, 3.906019955258336]], \"space_group_symmetry_operations_xyz\": null, \"space_group_symbol_hall\": null, \"space_group_symbol_hermann_mauguin\": null, \"space_group_symbol_hermann_mauguin_extended\": null, \"space_group_it_number\": null, \"cartesian_site_positions\": [[0.0, 0.0, 0.0], [0.0, 1.9530099776291667, 1.9530099776291667], [1.9530099776291667, 0.0, 1.9530099776291667], [1.9530099776291667, 1.9530099776291667, 0.0]], \"nsites\": 4, \"species\": [{\"name\": \"Al\", \"chemical_symbols\": [\"Al\"], \"concentration\": [1.0], \"mass\": null, \"original_name\": null, \"attached\": null, \"nattached\": null}], \"species_at_sites\": [\"Al\", \"Al\", \"Al\", \"Al\"], \"assemblies\": null, \"structure_features\": []}>}\n"
     ]
    },
    {
     "name": "stderr",
     "output_type": "stream",
     "text": [
      "03/21/2025 01:46:55 PM <3868876> aiida.orm.nodes.process.workflow.workchain.WorkChainNode: [REPORT] [14125|WorkGraphEngine|run_tasks]: Run task: get_dict24, type: PYTHONJOB\n"
     ]
    },
    {
     "name": "stdout",
     "output_type": "stream",
     "text": [
      "------------------------------------------------------------\n",
      "kwargs:  {'calculation': <Str: uuid: a76a7aee-991c-4763-8755-185bfcdd3c49 (pk: 14301) value: scf>, 'kpts': <List: uuid: d5b08e06-be60-461c-85ef-47cf1c6067c7 (pk: 14296) value: [3, 3, 3]>, 'pseudopotentials': <PickledData: uuid: 2b1c886d-b10d-4e75-a8eb-c885d5dc4a46 (pk: 14295) : {'Al': 'Al.pbe-n-kjpaw_psl.1.0.0.UPF'}>, 'register_pickle_by_value': True, 'smearing': <Float: uuid: 511922ee-f01b-4f76-9e68-19ee2d8c3cbe (pk: 14298) value: 0.02>, 'structure': <Str: uuid: f870e970-20b4-45bf-a625-52380721c54d (pk: 14350) value: {\"immutable_id\": null, \"last_modified\": null, \"elements\": [\"Al\"], \"nelements\": 1, \"elements_ratios\": [1.0], \"chemical_formula_descriptive\": \"Al4\", \"chemical_formula_reduced\": \"Al\", \"chemical_formula_hill\": null, \"chemical_formula_anonymous\": \"A\", \"dimension_types\": [1, 1, 1], \"nperiodic_dimensions\": 3, \"lattice_vectors\": [[3.977054016693022, 0.0, 0.0], [0.0, 3.977054016693022, 0.0], [0.0, 0.0, 3.977054016693022]], \"space_group_symmetry_operations_xyz\": null, \"space_group_symbol_hall\": null, \"space_group_symbol_hermann_mauguin\": null, \"space_group_symbol_hermann_mauguin_extended\": null, \"space_group_it_number\": null, \"cartesian_site_positions\": [[0.0, 0.0, 0.0], [0.0, 1.9885270083465096, 1.9885270083465096], [1.9885270083465096, 0.0, 1.9885270083465096], [1.9885270083465096, 1.9885270083465096, 0.0]], \"nsites\": 4, \"species\": [{\"name\": \"Al\", \"chemical_symbols\": [\"Al\"], \"concentration\": [1.0], \"mass\": null, \"original_name\": null, \"attached\": null, \"nattached\": null}], \"species_at_sites\": [\"Al\", \"Al\", \"Al\", \"Al\"], \"assemblies\": null, \"structure_features\": []}>}\n"
     ]
    },
    {
     "name": "stderr",
     "output_type": "stream",
     "text": [
      "03/21/2025 01:46:57 PM <3868876> aiida.orm.nodes.process.workflow.workchain.WorkChainNode: [REPORT] [14125|WorkGraphEngine|run_tasks]: Run task: get_dict26, type: PYTHONJOB\n"
     ]
    },
    {
     "name": "stdout",
     "output_type": "stream",
     "text": [
      "------------------------------------------------------------\n",
      "kwargs:  {'calculation': <Str: uuid: a76a7aee-991c-4763-8755-185bfcdd3c49 (pk: 14301) value: scf>, 'kpts': <List: uuid: d5b08e06-be60-461c-85ef-47cf1c6067c7 (pk: 14296) value: [3, 3, 3]>, 'pseudopotentials': <PickledData: uuid: 2b1c886d-b10d-4e75-a8eb-c885d5dc4a46 (pk: 14295) : {'Al': 'Al.pbe-n-kjpaw_psl.1.0.0.UPF'}>, 'register_pickle_by_value': True, 'smearing': <Float: uuid: 511922ee-f01b-4f76-9e68-19ee2d8c3cbe (pk: 14298) value: 0.02>, 'structure': <Str: uuid: d07a44a7-9ff9-4c32-8d2c-0216bc61616f (pk: 14351) value: {\"immutable_id\": null, \"last_modified\": null, \"elements\": [\"Al\"], \"nelements\": 1, \"elements_ratios\": [1.0], \"chemical_formula_descriptive\": \"Al4\", \"chemical_formula_reduced\": \"Al\", \"chemical_formula_hill\": null, \"chemical_formula_anonymous\": \"A\", \"dimension_types\": [1, 1, 1], \"nperiodic_dimensions\": 3, \"lattice_vectors\": [[4.04563739129438, 0.0, 0.0], [0.0, 4.04563739129438, 0.0], [0.0, 0.0, 4.04563739129438]], \"space_group_symmetry_operations_xyz\": null, \"space_group_symbol_hall\": null, \"space_group_symbol_hermann_mauguin\": null, \"space_group_symbol_hermann_mauguin_extended\": null, \"space_group_it_number\": null, \"cartesian_site_positions\": [[0.0, 0.0, 0.0], [0.0, 2.0228186956471887, 2.0228186956471887], [2.0228186956471887, 0.0, 2.0228186956471887], [2.0228186956471887, 2.0228186956471887, 0.0]], \"nsites\": 4, \"species\": [{\"name\": \"Al\", \"chemical_symbols\": [\"Al\"], \"concentration\": [1.0], \"mass\": null, \"original_name\": null, \"attached\": null, \"nattached\": null}], \"species_at_sites\": [\"Al\", \"Al\", \"Al\", \"Al\"], \"assemblies\": null, \"structure_features\": []}>}\n"
     ]
    },
    {
     "name": "stderr",
     "output_type": "stream",
     "text": [
      "03/21/2025 01:46:59 PM <3868876> aiida.orm.nodes.process.workflow.workchain.WorkChainNode: [REPORT] [14125|WorkGraphEngine|run_tasks]: Run task: get_dict28, type: PYTHONJOB\n"
     ]
    },
    {
     "name": "stdout",
     "output_type": "stream",
     "text": [
      "------------------------------------------------------------\n",
      "kwargs:  {'calculation': <Str: uuid: a76a7aee-991c-4763-8755-185bfcdd3c49 (pk: 14301) value: scf>, 'kpts': <List: uuid: d5b08e06-be60-461c-85ef-47cf1c6067c7 (pk: 14296) value: [3, 3, 3]>, 'pseudopotentials': <PickledData: uuid: 2b1c886d-b10d-4e75-a8eb-c885d5dc4a46 (pk: 14295) : {'Al': 'Al.pbe-n-kjpaw_psl.1.0.0.UPF'}>, 'register_pickle_by_value': True, 'smearing': <Float: uuid: 511922ee-f01b-4f76-9e68-19ee2d8c3cbe (pk: 14298) value: 0.02>, 'structure': <Str: uuid: 5c6ab1b5-e48d-48a0-bb9e-3812698edf91 (pk: 14352) value: {\"immutable_id\": null, \"last_modified\": null, \"elements\": [\"Al\"], \"nelements\": 1, \"elements_ratios\": [1.0], \"chemical_formula_descriptive\": \"Al4\", \"chemical_formula_reduced\": \"Al\", \"chemical_formula_hill\": null, \"chemical_formula_anonymous\": \"A\", \"dimension_types\": [1, 1, 1], \"nperiodic_dimensions\": 3, \"lattice_vectors\": [[4.111971105505556, 0.0, 0.0], [0.0, 4.111971105505556, 0.0], [0.0, 0.0, 4.111971105505556]], \"space_group_symmetry_operations_xyz\": null, \"space_group_symbol_hall\": null, \"space_group_symbol_hermann_mauguin\": null, \"space_group_symbol_hermann_mauguin_extended\": null, \"space_group_it_number\": null, \"cartesian_site_positions\": [[0.0, 0.0, 0.0], [0.0, 2.0559855527527766, 2.0559855527527766], [2.0559855527527766, 0.0, 2.0559855527527766], [2.0559855527527766, 2.0559855527527766, 0.0]], \"nsites\": 4, \"species\": [{\"name\": \"Al\", \"chemical_symbols\": [\"Al\"], \"concentration\": [1.0], \"mass\": null, \"original_name\": null, \"attached\": null, \"nattached\": null}], \"species_at_sites\": [\"Al\", \"Al\", \"Al\", \"Al\"], \"assemblies\": null, \"structure_features\": []}>}\n"
     ]
    },
    {
     "name": "stderr",
     "output_type": "stream",
     "text": [
      "03/21/2025 01:47:01 PM <3868876> aiida.orm.nodes.process.workflow.workchain.WorkChainNode: [REPORT] [14125|WorkGraphEngine|run_tasks]: Run task: get_dict30, type: PYTHONJOB\n"
     ]
    },
    {
     "name": "stdout",
     "output_type": "stream",
     "text": [
      "------------------------------------------------------------\n",
      "kwargs:  {'calculation': <Str: uuid: a76a7aee-991c-4763-8755-185bfcdd3c49 (pk: 14301) value: scf>, 'kpts': <List: uuid: d5b08e06-be60-461c-85ef-47cf1c6067c7 (pk: 14296) value: [3, 3, 3]>, 'pseudopotentials': <PickledData: uuid: 2b1c886d-b10d-4e75-a8eb-c885d5dc4a46 (pk: 14295) : {'Al': 'Al.pbe-n-kjpaw_psl.1.0.0.UPF'}>, 'register_pickle_by_value': True, 'smearing': <Float: uuid: 511922ee-f01b-4f76-9e68-19ee2d8c3cbe (pk: 14298) value: 0.02>, 'structure': <Str: uuid: db19ba0c-f68f-443e-a3f4-45d65639e9bf (pk: 14353) value: {\"immutable_id\": null, \"last_modified\": null, \"elements\": [\"Al\"], \"nelements\": 1, \"elements_ratios\": [1.0], \"chemical_formula_descriptive\": \"Al4\", \"chemical_formula_reduced\": \"Al\", \"chemical_formula_hill\": null, \"chemical_formula_anonymous\": \"A\", \"dimension_types\": [1, 1, 1], \"nperiodic_dimensions\": 3, \"lattice_vectors\": [[4.176231033379959, 0.0, 0.0], [0.0, 4.176231033379959, 0.0], [0.0, 0.0, 4.176231033379959]], \"space_group_symmetry_operations_xyz\": null, \"space_group_symbol_hall\": null, \"space_group_symbol_hermann_mauguin\": null, \"space_group_symbol_hermann_mauguin_extended\": null, \"space_group_it_number\": null, \"cartesian_site_positions\": [[0.0, 0.0, 0.0], [0.0, 2.088115516689978, 2.088115516689978], [2.088115516689978, 0.0, 2.088115516689978], [2.088115516689978, 2.088115516689978, 0.0]], \"nsites\": 4, \"species\": [{\"name\": \"Al\", \"chemical_symbols\": [\"Al\"], \"concentration\": [1.0], \"mass\": null, \"original_name\": null, \"attached\": null, \"nattached\": null}], \"species_at_sites\": [\"Al\", \"Al\", \"Al\", \"Al\"], \"assemblies\": null, \"structure_features\": []}>}\n"
     ]
    },
    {
     "name": "stderr",
     "output_type": "stream",
     "text": [
      "03/21/2025 01:47:06 PM <3868876> aiida.orm.nodes.process.workflow.workchain.WorkChainNode: [REPORT] [14125|WorkGraphEngine|on_wait]: Process status: Waiting for child processes: 14360, 14367, 14374, 14381, 14388\n",
      "03/21/2025 01:47:18 PM <3868876> aiida.orm.nodes.process.workflow.workchain.WorkChainNode: [REPORT] [14125|WorkGraphEngine|update_task_state]: Task: get_dict21 finished.\n",
      "03/21/2025 01:47:19 PM <3868876> aiida.orm.nodes.process.workflow.workchain.WorkChainNode: [REPORT] [14125|WorkGraphEngine|update_task_state]: Task: get_dict24 finished.\n",
      "03/21/2025 01:47:20 PM <3868876> aiida.orm.nodes.process.workflow.workchain.WorkChainNode: [REPORT] [14125|WorkGraphEngine|update_task_state]: Task: get_dict26 finished.\n",
      "03/21/2025 01:47:21 PM <3868876> aiida.orm.nodes.process.workflow.workchain.WorkChainNode: [REPORT] [14125|WorkGraphEngine|update_task_state]: Task: get_dict28 finished.\n",
      "03/21/2025 01:47:22 PM <3868876> aiida.orm.nodes.process.workflow.workchain.WorkChainNode: [REPORT] [14125|WorkGraphEngine|update_task_state]: Task: get_dict30 finished.\n",
      "03/21/2025 01:47:27 PM <3868876> aiida.orm.nodes.process.workflow.workchain.WorkChainNode: [REPORT] [14125|WorkGraphEngine|continue_workgraph]: Continue workgraph.\n",
      "03/21/2025 01:47:29 PM <3868876> aiida.orm.nodes.process.workflow.workchain.WorkChainNode: [REPORT] [14125|WorkGraphEngine|continue_workgraph]: tasks ready to run: calculate_qe4,calculate_qe5,calculate_qe6,calculate_qe7,calculate_qe8\n",
      "03/21/2025 01:47:29 PM <3868876> aiida.orm.nodes.process.workflow.workchain.WorkChainNode: [REPORT] [14125|WorkGraphEngine|run_tasks]: Run task: calculate_qe4, type: PYTHONJOB\n"
     ]
    },
    {
     "name": "stdout",
     "output_type": "stream",
     "text": [
      "------------------------------------------------------------\n",
      "kwargs:  {'input_dict': <PickledData: uuid: fc2eceab-eb75-453b-a08a-ec3e66d66855 (pk: 14404) : {'calculation': 'scf', 'kpts': [3, 3, 3], 'pseudopotentials': {'Al': 'Al.pbe-n-kjpaw_psl.1.0.0.UPF'}, 'smearing': 0.02, 'structure': '{\"immutable_id\": null, \"last_modified\": null, \"elements\": [\"Al\"], \"nelements\": 1, \"elements_ratios\": [1.0], \"chemical_formula_descriptive\": \"Al4\", \"chemical_formula_reduced\": \"Al\", \"chemical_formula_hill\": null, \"chemical_formula_anonymous\": \"A\", \"dimension_types\": [1, 1, 1], \"nperiodic_dimensions\": 3, \"lattice_vectors\": [[3.906019955258336, 0.0, 0.0], [0.0, 3.906019955258336, 0.0], [0.0, 0.0, 3.906019955258336]], \"space_group_symmetry_operations_xyz\": null, \"space_group_symbol_hall\": null, \"space_group_symbol_hermann_mauguin\": null, \"space_group_symbol_hermann_mauguin_extended\": null, \"space_group_it_number\": null, \"cartesian_site_positions\": [[0.0, 0.0, 0.0], [0.0, 1.9530099776291667, 1.9530099776291667], [1.9530099776291667, 0.0, 1.9530099776291667], [1.9530099776291667, 1.9530099776291667, 0.0]], \"nsites\": 4, \"species\": [{\"name\": \"Al\", \"chemical_symbols\": [\"Al\"], \"concentration\": [1.0], \"mass\": null, \"original_name\": null, \"attached\": null, \"nattached\": null}], \"species_at_sites\": [\"Al\", \"Al\", \"Al\", \"Al\"], \"assemblies\": null, \"structure_features\": []}'}>, 'register_pickle_by_value': True, 'working_directory': <Str: uuid: 65d12f2c-1bfd-4ecd-ad9d-b2a22baa493e (pk: 14300) value: strain_0>}\n"
     ]
    },
    {
     "name": "stderr",
     "output_type": "stream",
     "text": [
      "03/21/2025 01:47:31 PM <3868876> aiida.orm.nodes.process.workflow.workchain.WorkChainNode: [REPORT] [14125|WorkGraphEngine|run_tasks]: Run task: calculate_qe5, type: PYTHONJOB\n"
     ]
    },
    {
     "name": "stdout",
     "output_type": "stream",
     "text": [
      "------------------------------------------------------------\n",
      "kwargs:  {'input_dict': <PickledData: uuid: c758c33a-f54a-41f0-adb1-2d19437a1b19 (pk: 14405) : {'calculation': 'scf', 'kpts': [3, 3, 3], 'pseudopotentials': {'Al': 'Al.pbe-n-kjpaw_psl.1.0.0.UPF'}, 'smearing': 0.02, 'structure': '{\"immutable_id\": null, \"last_modified\": null, \"elements\": [\"Al\"], \"nelements\": 1, \"elements_ratios\": [1.0], \"chemical_formula_descriptive\": \"Al4\", \"chemical_formula_reduced\": \"Al\", \"chemical_formula_hill\": null, \"chemical_formula_anonymous\": \"A\", \"dimension_types\": [1, 1, 1], \"nperiodic_dimensions\": 3, \"lattice_vectors\": [[3.977054016693022, 0.0, 0.0], [0.0, 3.977054016693022, 0.0], [0.0, 0.0, 3.977054016693022]], \"space_group_symmetry_operations_xyz\": null, \"space_group_symbol_hall\": null, \"space_group_symbol_hermann_mauguin\": null, \"space_group_symbol_hermann_mauguin_extended\": null, \"space_group_it_number\": null, \"cartesian_site_positions\": [[0.0, 0.0, 0.0], [0.0, 1.9885270083465096, 1.9885270083465096], [1.9885270083465096, 0.0, 1.9885270083465096], [1.9885270083465096, 1.9885270083465096, 0.0]], \"nsites\": 4, \"species\": [{\"name\": \"Al\", \"chemical_symbols\": [\"Al\"], \"concentration\": [1.0], \"mass\": null, \"original_name\": null, \"attached\": null, \"nattached\": null}], \"species_at_sites\": [\"Al\", \"Al\", \"Al\", \"Al\"], \"assemblies\": null, \"structure_features\": []}'}>, 'register_pickle_by_value': True, 'working_directory': <Str: uuid: 085cfc43-aee0-4bd0-a30b-6e982fa7fb31 (pk: 14302) value: strain_1>}\n"
     ]
    },
    {
     "name": "stderr",
     "output_type": "stream",
     "text": [
      "03/21/2025 01:47:32 PM <3868876> aiida.orm.nodes.process.workflow.workchain.WorkChainNode: [REPORT] [14125|WorkGraphEngine|run_tasks]: Run task: calculate_qe6, type: PYTHONJOB\n"
     ]
    },
    {
     "name": "stdout",
     "output_type": "stream",
     "text": [
      "------------------------------------------------------------\n",
      "kwargs:  {'input_dict': <PickledData: uuid: 7686df6d-aea8-4677-8b4d-d303187760b0 (pk: 14406) : {'calculation': 'scf', 'kpts': [3, 3, 3], 'pseudopotentials': {'Al': 'Al.pbe-n-kjpaw_psl.1.0.0.UPF'}, 'smearing': 0.02, 'structure': '{\"immutable_id\": null, \"last_modified\": null, \"elements\": [\"Al\"], \"nelements\": 1, \"elements_ratios\": [1.0], \"chemical_formula_descriptive\": \"Al4\", \"chemical_formula_reduced\": \"Al\", \"chemical_formula_hill\": null, \"chemical_formula_anonymous\": \"A\", \"dimension_types\": [1, 1, 1], \"nperiodic_dimensions\": 3, \"lattice_vectors\": [[4.04563739129438, 0.0, 0.0], [0.0, 4.04563739129438, 0.0], [0.0, 0.0, 4.04563739129438]], \"space_group_symmetry_operations_xyz\": null, \"space_group_symbol_hall\": null, \"space_group_symbol_hermann_mauguin\": null, \"space_group_symbol_hermann_mauguin_extended\": null, \"space_group_it_number\": null, \"cartesian_site_positions\": [[0.0, 0.0, 0.0], [0.0, 2.0228186956471887, 2.0228186956471887], [2.0228186956471887, 0.0, 2.0228186956471887], [2.0228186956471887, 2.0228186956471887, 0.0]], \"nsites\": 4, \"species\": [{\"name\": \"Al\", \"chemical_symbols\": [\"Al\"], \"concentration\": [1.0], \"mass\": null, \"original_name\": null, \"attached\": null, \"nattached\": null}], \"species_at_sites\": [\"Al\", \"Al\", \"Al\", \"Al\"], \"assemblies\": null, \"structure_features\": []}'}>, 'register_pickle_by_value': True, 'working_directory': <Str: uuid: f31229cc-49bb-4d6d-80c6-574f3f66ac8a (pk: 14303) value: strain_2>}\n"
     ]
    },
    {
     "name": "stderr",
     "output_type": "stream",
     "text": [
      "03/21/2025 01:47:34 PM <3868876> aiida.orm.nodes.process.workflow.workchain.WorkChainNode: [REPORT] [14125|WorkGraphEngine|run_tasks]: Run task: calculate_qe7, type: PYTHONJOB\n"
     ]
    },
    {
     "name": "stdout",
     "output_type": "stream",
     "text": [
      "------------------------------------------------------------\n",
      "kwargs:  {'input_dict': <PickledData: uuid: cab0cb7d-73de-4b4d-bb2a-edfde6dd5665 (pk: 14407) : {'calculation': 'scf', 'kpts': [3, 3, 3], 'pseudopotentials': {'Al': 'Al.pbe-n-kjpaw_psl.1.0.0.UPF'}, 'smearing': 0.02, 'structure': '{\"immutable_id\": null, \"last_modified\": null, \"elements\": [\"Al\"], \"nelements\": 1, \"elements_ratios\": [1.0], \"chemical_formula_descriptive\": \"Al4\", \"chemical_formula_reduced\": \"Al\", \"chemical_formula_hill\": null, \"chemical_formula_anonymous\": \"A\", \"dimension_types\": [1, 1, 1], \"nperiodic_dimensions\": 3, \"lattice_vectors\": [[4.111971105505556, 0.0, 0.0], [0.0, 4.111971105505556, 0.0], [0.0, 0.0, 4.111971105505556]], \"space_group_symmetry_operations_xyz\": null, \"space_group_symbol_hall\": null, \"space_group_symbol_hermann_mauguin\": null, \"space_group_symbol_hermann_mauguin_extended\": null, \"space_group_it_number\": null, \"cartesian_site_positions\": [[0.0, 0.0, 0.0], [0.0, 2.0559855527527766, 2.0559855527527766], [2.0559855527527766, 0.0, 2.0559855527527766], [2.0559855527527766, 2.0559855527527766, 0.0]], \"nsites\": 4, \"species\": [{\"name\": \"Al\", \"chemical_symbols\": [\"Al\"], \"concentration\": [1.0], \"mass\": null, \"original_name\": null, \"attached\": null, \"nattached\": null}], \"species_at_sites\": [\"Al\", \"Al\", \"Al\", \"Al\"], \"assemblies\": null, \"structure_features\": []}'}>, 'register_pickle_by_value': True, 'working_directory': <Str: uuid: 6ed2160f-50a1-41f6-a45b-ce385d053798 (pk: 14304) value: strain_3>}\n"
     ]
    },
    {
     "name": "stderr",
     "output_type": "stream",
     "text": [
      "03/21/2025 01:47:36 PM <3868876> aiida.orm.nodes.process.workflow.workchain.WorkChainNode: [REPORT] [14125|WorkGraphEngine|run_tasks]: Run task: calculate_qe8, type: PYTHONJOB\n"
     ]
    },
    {
     "name": "stdout",
     "output_type": "stream",
     "text": [
      "------------------------------------------------------------\n",
      "kwargs:  {'input_dict': <PickledData: uuid: 7d3f2753-74f8-4a91-b3cb-f31d1b884a78 (pk: 14408) : {'calculation': 'scf', 'kpts': [3, 3, 3], 'pseudopotentials': {'Al': 'Al.pbe-n-kjpaw_psl.1.0.0.UPF'}, 'smearing': 0.02, 'structure': '{\"immutable_id\": null, \"last_modified\": null, \"elements\": [\"Al\"], \"nelements\": 1, \"elements_ratios\": [1.0], \"chemical_formula_descriptive\": \"Al4\", \"chemical_formula_reduced\": \"Al\", \"chemical_formula_hill\": null, \"chemical_formula_anonymous\": \"A\", \"dimension_types\": [1, 1, 1], \"nperiodic_dimensions\": 3, \"lattice_vectors\": [[4.176231033379959, 0.0, 0.0], [0.0, 4.176231033379959, 0.0], [0.0, 0.0, 4.176231033379959]], \"space_group_symmetry_operations_xyz\": null, \"space_group_symbol_hall\": null, \"space_group_symbol_hermann_mauguin\": null, \"space_group_symbol_hermann_mauguin_extended\": null, \"space_group_it_number\": null, \"cartesian_site_positions\": [[0.0, 0.0, 0.0], [0.0, 2.088115516689978, 2.088115516689978], [2.088115516689978, 0.0, 2.088115516689978], [2.088115516689978, 2.088115516689978, 0.0]], \"nsites\": 4, \"species\": [{\"name\": \"Al\", \"chemical_symbols\": [\"Al\"], \"concentration\": [1.0], \"mass\": null, \"original_name\": null, \"attached\": null, \"nattached\": null}], \"species_at_sites\": [\"Al\", \"Al\", \"Al\", \"Al\"], \"assemblies\": null, \"structure_features\": []}'}>, 'register_pickle_by_value': True, 'working_directory': <Str: uuid: 1709ab31-a608-4974-8fde-7fa2e2950d5f (pk: 14305) value: strain_4>}\n"
     ]
    },
    {
     "name": "stderr",
     "output_type": "stream",
     "text": [
      "03/21/2025 01:47:41 PM <3868876> aiida.orm.nodes.process.workflow.workchain.WorkChainNode: [REPORT] [14125|WorkGraphEngine|on_wait]: Process status: Waiting for child processes: 14415, 14422, 14429, 14436, 14443\n",
      "03/21/2025 01:48:56 PM <3868876> aiida.parser.PythonJobParser: [WARNING] Found extra results that are not included in the output: dict_keys(['structure'])\n",
      "03/21/2025 01:49:02 PM <3868876> aiida.orm.nodes.process.workflow.workchain.WorkChainNode: [REPORT] [14125|WorkGraphEngine|continue_workgraph]: Continue workgraph.\n",
      "03/21/2025 01:49:04 PM <3868876> aiida.orm.nodes.process.workflow.workchain.WorkChainNode: [REPORT] [14125|WorkGraphEngine|continue_workgraph]: tasks ready to run: \n",
      "03/21/2025 01:49:07 PM <3868876> aiida.orm.nodes.process.workflow.workchain.WorkChainNode: [REPORT] [14125|WorkGraphEngine|on_wait]: Process status: Waiting for child processes: 14415, 14429, 14436, 14443\n",
      "03/21/2025 01:49:16 PM <3868876> aiida.parser.PythonJobParser: [WARNING] Found extra results that are not included in the output: dict_keys(['structure'])\n",
      "03/21/2025 01:49:22 PM <3868876> aiida.orm.nodes.process.workflow.workchain.WorkChainNode: [REPORT] [14125|WorkGraphEngine|continue_workgraph]: Continue workgraph.\n",
      "03/21/2025 01:49:23 PM <3868876> aiida.orm.nodes.process.workflow.workchain.WorkChainNode: [REPORT] [14125|WorkGraphEngine|continue_workgraph]: tasks ready to run: \n",
      "03/21/2025 01:49:27 PM <3868876> aiida.orm.nodes.process.workflow.workchain.WorkChainNode: [REPORT] [14125|WorkGraphEngine|on_wait]: Process status: Waiting for child processes: 14429, 14436, 14443\n",
      "03/21/2025 01:49:33 PM <3868876> aiida.parser.PythonJobParser: [WARNING] Found extra results that are not included in the output: dict_keys(['structure'])\n",
      "03/21/2025 01:49:33 PM <3868876> aiida.parser.PythonJobParser: [WARNING] Found extra results that are not included in the output: dict_keys(['structure'])\n",
      "03/21/2025 01:49:34 PM <3868876> aiida.parser.PythonJobParser: [WARNING] Found extra results that are not included in the output: dict_keys(['structure'])\n",
      "03/21/2025 01:49:41 PM <3868876> aiida.orm.nodes.process.workflow.workchain.WorkChainNode: [REPORT] [14125|WorkGraphEngine|continue_workgraph]: Continue workgraph.\n",
      "03/21/2025 01:49:43 PM <3868876> aiida.orm.nodes.process.workflow.workchain.WorkChainNode: [REPORT] [14125|WorkGraphEngine|continue_workgraph]: tasks ready to run: get_list31,get_list32\n",
      "03/21/2025 01:49:43 PM <3868876> aiida.orm.nodes.process.workflow.workchain.WorkChainNode: [REPORT] [14125|WorkGraphEngine|run_tasks]: Run task: get_list31, type: PYTHONJOB\n"
     ]
    },
    {
     "name": "stdout",
     "output_type": "stream",
     "text": [
      "------------------------------------------------------------\n",
      "kwargs:  {'0': <PickledData: uuid: b28f9aa4-8bfd-4546-8ed9-e0b316d550a3 (pk: 14595) : 59.594114001531466>, '1': <PickledData: uuid: ebd8ed59-3a8a-4842-943c-571dfed18c94 (pk: 14592) : 62.90489811272744>, '2': <PickledData: uuid: 02aa4f4b-166a-4baf-9aa0-9eba7ae528dc (pk: 14600) : 66.21568222392365>, '3': <PickledData: uuid: 484d8cca-fac3-4593-918a-ac1ec92ed5f7 (pk: 14602) : 69.52646633512009>, '4': <PickledData: uuid: 7bfd6987-8d11-4629-bdb1-b799784633c8 (pk: 14604) : 72.83725044631608>, 'register_pickle_by_value': True}\n"
     ]
    },
    {
     "name": "stderr",
     "output_type": "stream",
     "text": [
      "03/21/2025 01:49:45 PM <3868876> aiida.orm.nodes.process.workflow.workchain.WorkChainNode: [REPORT] [14125|WorkGraphEngine|run_tasks]: Run task: get_list32, type: PYTHONJOB\n"
     ]
    },
    {
     "name": "stdout",
     "output_type": "stream",
     "text": [
      "------------------------------------------------------------\n",
      "kwargs:  {'0': <Float: uuid: 532883a8-17c8-4778-ac0e-e5a43ee8e0be (pk: 14594) value: -1074.8457448491>, '1': <Float: uuid: 07f16b79-5889-4caa-b827-6cbffd6e36e8 (pk: 14591) value: -1074.916148965>, '2': <Float: uuid: aad39ef0-ba7f-488e-b1a8-48d434067188 (pk: 14599) value: -1074.9365241649>, '3': <Float: uuid: f2675a8d-d45c-4b18-a6f4-c3fffdb58837 (pk: 14601) value: -1074.9192859118>, '4': <Float: uuid: f23498ac-9a5f-475c-b069-24cdf05c4c40 (pk: 14603) value: -1074.8737903054>, 'register_pickle_by_value': True}\n"
     ]
    },
    {
     "name": "stderr",
     "output_type": "stream",
     "text": [
      "03/21/2025 01:49:50 PM <3868876> aiida.orm.nodes.process.workflow.workchain.WorkChainNode: [REPORT] [14125|WorkGraphEngine|on_wait]: Process status: Waiting for child processes: 14611, 14618\n",
      "03/21/2025 01:50:05 PM <3868876> aiida.orm.nodes.process.workflow.workchain.WorkChainNode: [REPORT] [14125|WorkGraphEngine|continue_workgraph]: Continue workgraph.\n",
      "03/21/2025 01:50:06 PM <3868876> aiida.orm.nodes.process.workflow.workchain.WorkChainNode: [REPORT] [14125|WorkGraphEngine|continue_workgraph]: tasks ready to run: plot_energy_volume_curve9\n",
      "03/21/2025 01:50:06 PM <3868876> aiida.orm.nodes.process.workflow.workchain.WorkChainNode: [REPORT] [14125|WorkGraphEngine|run_tasks]: Run task: plot_energy_volume_curve9, type: PYTHONJOB\n"
     ]
    },
    {
     "name": "stdout",
     "output_type": "stream",
     "text": [
      "------------------------------------------------------------\n",
      "kwargs:  {'energy_lst': <List: uuid: c76ae177-91d5-4841-a5df-76593665559b (pk: 14626) value: [-1074.8457448491, -1074.916148965, -1074.9365241649, -1074.9192859118, -1074.8737903054]>, 'register_pickle_by_value': True, 'volume_lst': <List: uuid: 8eef7b59-ab68-4ab2-af47-bb8fe2fcef2e (pk: 14625) value: [59.594114001531, 62.904898112727, 66.215682223924, 69.52646633512, 72.837250446316]>}\n"
     ]
    },
    {
     "name": "stderr",
     "output_type": "stream",
     "text": [
      "03/21/2025 01:50:11 PM <3868876> aiida.orm.nodes.process.workflow.workchain.WorkChainNode: [REPORT] [14125|WorkGraphEngine|on_wait]: Process status: Waiting for child processes: 14633\n",
      "03/21/2025 01:50:25 PM <3868876> aiida.orm.nodes.process.workflow.workchain.WorkChainNode: [REPORT] [14125|WorkGraphEngine|continue_workgraph]: Continue workgraph.\n",
      "03/21/2025 01:50:26 PM <3868876> aiida.orm.nodes.process.workflow.workchain.WorkChainNode: [REPORT] [14125|WorkGraphEngine|continue_workgraph]: tasks ready to run: \n",
      "03/21/2025 01:50:30 PM <3868876> aiida.orm.nodes.process.workflow.workchain.WorkChainNode: [REPORT] [14125|WorkGraphEngine|finalize]: Finalize workgraph.\n"
     ]
    },
    {
     "data": {
      "text/plain": [
       "{'execution_count': <Int: uuid: c23f92c4-cc2e-4f60-b532-c6bca1ac3df4 (pk: 14638) value: 1>}"
      ]
     },
     "execution_count": 11,
     "metadata": {},
     "output_type": "execute_result"
    }
   ],
   "source": [
    "workgraph.run()\n"
   ]
  },
  {
   "cell_type": "code",
   "execution_count": 7,
   "metadata": {},
   "outputs": [
    {
     "ename": "NameError",
     "evalue": "name 'wg' is not defined",
     "output_type": "error",
     "traceback": [
      "\u001b[0;31m---------------------------------------------------------------------------\u001b[0m",
      "\u001b[0;31mNameError\u001b[0m                                 Traceback (most recent call last)",
      "Cell \u001b[0;32mIn[7], line 3\u001b[0m\n\u001b[1;32m      1\u001b[0m \u001b[38;5;28;01mfrom\u001b[39;00m \u001b[38;5;21;01mIPython\u001b[39;00m\u001b[38;5;21;01m.\u001b[39;00m\u001b[38;5;21;01mdisplay\u001b[39;00m \u001b[38;5;28;01mimport\u001b[39;00m Image, display\n\u001b[0;32m----> 3\u001b[0m plot_task \u001b[38;5;241m=\u001b[39m [t \u001b[38;5;28;01mfor\u001b[39;00m t \u001b[38;5;129;01min\u001b[39;00m \u001b[43mwg\u001b[49m\u001b[38;5;241m.\u001b[39mtasks \u001b[38;5;28;01mif\u001b[39;00m t\u001b[38;5;241m.\u001b[39mname\u001b[38;5;241m.\u001b[39mstartswith(\u001b[38;5;124m'\u001b[39m\u001b[38;5;124mplot_energy_volume_curve\u001b[39m\u001b[38;5;124m'\u001b[39m)][\u001b[38;5;241m0\u001b[39m]\n\u001b[1;32m      4\u001b[0m plot_file \u001b[38;5;241m=\u001b[39m \u001b[38;5;124mf\u001b[39m\u001b[38;5;124m\"\u001b[39m\u001b[38;5;132;01m{\u001b[39;00mplot_task\u001b[38;5;241m.\u001b[39mnode\u001b[38;5;241m.\u001b[39mget_remote_workdir()\u001b[38;5;132;01m}\u001b[39;00m\u001b[38;5;124m/evcurve.png\u001b[39m\u001b[38;5;124m\"\u001b[39m\n\u001b[1;32m      6\u001b[0m display(Image(filename\u001b[38;5;241m=\u001b[39m\u001b[38;5;28mstr\u001b[39m(plot_file)))\n",
      "\u001b[0;31mNameError\u001b[0m: name 'wg' is not defined"
     ]
    }
   ],
   "source": [
    "from IPython.display import Image, display\n",
    "\n",
    "plot_task = [t for t in wg.tasks if t.name.startswith('plot_energy_volume_curve')][0]\n",
    "plot_file = f\"{plot_task.node.get_remote_workdir()}/evcurve.png\"\n",
    "\n",
    "display(Image(filename=str(plot_file)))\n"
   ]
  }
 ],
 "metadata": {
  "kernelspec": {
   "display_name": "ADIS",
   "language": "python",
   "name": "python3"
  },
  "language_info": {
   "codemirror_mode": {
    "name": "ipython",
    "version": 3
   },
   "file_extension": ".py",
   "mimetype": "text/x-python",
   "name": "python",
   "nbconvert_exporter": "python",
   "pygments_lexer": "ipython3",
   "version": "3.10.12"
  }
 },
 "nbformat": 4,
 "nbformat_minor": 2
}
