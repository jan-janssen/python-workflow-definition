{
 "cells": [
  {
   "cell_type": "code",
   "execution_count": null,
   "id": "eab942d5-f3c5-47e9-8b3b-a7a5a8481aed",
   "metadata": {},
   "outputs": [],
   "source": [
    "from jobflow.managers.local import run_locally"
   ]
  },
  {
   "cell_type": "code",
   "execution_count": null,
   "id": "f6f83a43-4d91-4028-9661-a4700509be1b",
   "metadata": {},
   "outputs": [],
   "source": [
    "from python_workflow_definition.jobflow import load_workflow_json"
   ]
  },
  {
   "cell_type": "code",
   "execution_count": null,
   "id": "285ca46b-19e3-4870-9fd1-0c8ddbcf819c",
   "metadata": {},
   "outputs": [],
   "source": [
    "flow = load_workflow_json(file_name=\"workflow_qe.json\")"
   ]
  },
  {
   "cell_type": "code",
   "execution_count": null,
   "id": "663ac4b3-dee8-474f-a9bc-089a89bde011",
   "metadata": {},
   "outputs": [],
   "source": [
    "result = run_locally(flow)\n",
    "result"
   ]
  }
 ],
 "metadata": {
  "kernelspec": {
   "display_name": "Python 3 (ipykernel)",
   "language": "python",
   "name": "python3"
  },
  "language_info": {
   "codemirror_mode": {
    "name": "ipython",
    "version": 3
   },
   "file_extension": ".py",
   "mimetype": "text/x-python",
   "name": "python",
   "nbconvert_exporter": "python",
   "pygments_lexer": "ipython3",
   "version": "3.12.5"
  }
 },
 "nbformat": 4,
 "nbformat_minor": 5
}
