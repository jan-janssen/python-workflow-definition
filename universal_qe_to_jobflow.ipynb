{
 "cells": [
  {
   "cell_type": "code",
   "execution_count": 1,
   "id": "eab942d5-f3c5-47e9-8b3b-a7a5a8481aed",
   "metadata": {
    "trusted": true
   },
   "outputs": [
    {
     "name": "stderr",
     "output_type": "stream",
     "text": [
      "/home/geiger_j/.aiida_venvs/adis/lib/python3.10/site-packages/paramiko/pkey.py:82: CryptographyDeprecationWarning: TripleDES has been moved to cryptography.hazmat.decrepit.ciphers.algorithms.TripleDES and will be removed from this module in 48.0.0.\n",
      "  \"cipher\": algorithms.TripleDES,\n",
      "/home/geiger_j/.aiida_venvs/adis/lib/python3.10/site-packages/paramiko/transport.py:253: CryptographyDeprecationWarning: TripleDES has been moved to cryptography.hazmat.decrepit.ciphers.algorithms.TripleDES and will be removed from this module in 48.0.0.\n",
      "  \"class\": algorithms.TripleDES,\n"
     ]
    }
   ],
   "source": [
    "from jobflow.managers.local import run_locally"
   ]
  },
  {
   "cell_type": "code",
   "execution_count": 2,
   "id": "f6f83a43-4d91-4028-9661-a4700509be1b",
   "metadata": {
    "trusted": true
   },
   "outputs": [],
   "source": [
    "from python_workflow_definition.jobflow import load_workflow_json"
   ]
  },
  {
   "cell_type": "code",
   "execution_count": 3,
   "id": "285ca46b-19e3-4870-9fd1-0c8ddbcf819c",
   "metadata": {
    "trusted": true
   },
   "outputs": [],
   "source": [
    "flow = load_workflow_json(file_name=\"workflow_qe.json\")"
   ]
  },
  {
   "cell_type": "code",
   "execution_count": null,
   "id": "663ac4b3-dee8-474f-a9bc-089a89bde011",
   "metadata": {
    "trusted": true
   },
   "outputs": [
    {
     "name": "stdout",
     "output_type": "stream",
     "text": [
      "2025-03-21 12:30:25,947 INFO Started executing jobs locally\n",
      "2025-03-21 12:30:26,026 INFO Starting job - get_bulk_structure (6bb65a41-b132-42c6-b93d-c8ed79f05f62)\n",
      "2025-03-21 12:30:26,029 INFO Finished job - get_bulk_structure (6bb65a41-b132-42c6-b93d-c8ed79f05f62)\n",
      "2025-03-21 12:30:26,029 INFO Starting job - get_dict (4c567a17-2eff-4500-8d8c-ed0708750a77)\n",
      "2025-03-21 12:30:26,031 INFO Finished job - get_dict (4c567a17-2eff-4500-8d8c-ed0708750a77)\n",
      "2025-03-21 12:30:26,031 INFO Starting job - calculate_qe (0ee942c4-626d-42cf-92b0-01e5ca09b966)\n",
      "FROM ASE\n",
      "Atoms(symbols='Al4', pbc=True, cell=[4.05, 4.05, 4.05])\n",
      "['Al', 'Al', 'Al', 'Al']\n",
      "{'Al': 'Al.pbe-n-kjpaw_psl.1.0.0.UPF'}\n",
      "2025-03-21 12:30:52,792 INFO Finished job - calculate_qe (0ee942c4-626d-42cf-92b0-01e5ca09b966)\n",
      "2025-03-21 12:30:52,793 INFO Starting job - generate_structures (7cd66f47-948e-4f7d-9f07-c9985097c0ac)\n",
      "2025-03-21 12:30:52,798 INFO Finished job - generate_structures (7cd66f47-948e-4f7d-9f07-c9985097c0ac)\n",
      "2025-03-21 12:30:52,799 INFO Starting job - get_dict (74b426c6-5457-4fed-a648-7eee9039adf2)\n",
      "2025-03-21 12:30:52,800 INFO Finished job - get_dict (74b426c6-5457-4fed-a648-7eee9039adf2)\n",
      "2025-03-21 12:30:52,801 INFO Starting job - get_dict (9969e3e6-8042-43e9-ab75-56c6f4e3ad35)\n",
      "2025-03-21 12:30:52,802 INFO Finished job - get_dict (9969e3e6-8042-43e9-ab75-56c6f4e3ad35)\n",
      "2025-03-21 12:30:52,803 INFO Starting job - get_dict (5ab08440-1c2d-49a8-9be6-847dd376916d)\n",
      "2025-03-21 12:30:52,804 INFO Finished job - get_dict (5ab08440-1c2d-49a8-9be6-847dd376916d)\n",
      "2025-03-21 12:30:52,805 INFO Starting job - get_dict (ead5a37c-36e8-4e68-8961-b3e7af73f988)\n",
      "2025-03-21 12:30:52,806 INFO Finished job - get_dict (ead5a37c-36e8-4e68-8961-b3e7af73f988)\n",
      "2025-03-21 12:30:52,807 INFO Starting job - get_dict (cf4395c0-b1dd-4236-b666-68399d1d4d30)\n",
      "2025-03-21 12:30:52,808 INFO Finished job - get_dict (cf4395c0-b1dd-4236-b666-68399d1d4d30)\n",
      "2025-03-21 12:30:52,809 INFO Starting job - calculate_qe (a4eef2f9-35db-44d4-9603-b6689ca96e9f)\n",
      "FROM ASE\n",
      "Atoms(symbols='Al4', pbc=True, cell=[3.906019955258404, 3.906019955258404, 3.906019955258404])\n",
      "['Al', 'Al', 'Al', 'Al']\n",
      "{'Al': 'Al.pbe-n-kjpaw_psl.1.0.0.UPF'}\n"
     ]
    }
   ],
   "source": [
    "result = run_locally(flow)\n",
    "result"
   ]
  },
  {
   "cell_type": "code",
   "execution_count": null,
   "id": "e9dd07e9",
   "metadata": {},
   "outputs": [],
   "source": []
  }
 ],
 "metadata": {
  "kernelspec": {
   "display_name": "ADIS",
   "language": "python",
   "name": "python3"
  },
  "language_info": {
   "codemirror_mode": {
    "name": "ipython",
    "version": 3
   },
   "file_extension": ".py",
   "mimetype": "text/x-python",
   "name": "python",
   "nbconvert_exporter": "python",
   "pygments_lexer": "ipython3",
   "version": "3.10.12"
  }
 },
 "nbformat": 4,
 "nbformat_minor": 5
}
