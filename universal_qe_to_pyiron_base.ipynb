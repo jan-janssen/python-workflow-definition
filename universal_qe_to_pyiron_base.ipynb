{
 "cells": [
  {
   "cell_type": "code",
   "execution_count": null,
   "id": "4eb91f39-a8ea-4eb8-839f-076accfcf394",
   "metadata": {},
   "outputs": [],
   "source": [
    "from pyiron_base import Project"
   ]
  },
  {
   "cell_type": "code",
   "execution_count": null,
   "id": "8200fd07-13a3-49a8-892d-2a4d906fc778",
   "metadata": {},
   "outputs": [],
   "source": [
    "from python_workflow_definition.pyiron_base import load_workflow_json"
   ]
  },
  {
   "cell_type": "code",
   "execution_count": null,
   "id": "9907178d-8edd-478e-a6f7-f7ccd1c9441a",
   "metadata": {},
   "outputs": [],
   "source": [
    "pr = Project(\"test\")\n",
    "pr.remove_jobs(recursive=True, silently=True)"
   ]
  },
  {
   "cell_type": "code",
   "execution_count": null,
   "id": "0c393ada-0eb9-4627-9f3a-25afdd30545e",
   "metadata": {},
   "outputs": [],
   "source": [
    "delayed_object = load_workflow_json(project=pr, file_name=\"workflow_qe.json\")\n",
    "delayed_object.draw()"
   ]
  },
  {
   "cell_type": "code",
   "execution_count": null,
   "id": "006f309a-d82c-457d-a77a-8771a72dc6d3",
   "metadata": {},
   "outputs": [],
   "source": [
    "delayed_object.pull()"
   ]
  },
  {
   "cell_type": "code",
   "execution_count": null,
   "id": "12a6e779-766b-442a-a800-8e4e91bc95d3",
   "metadata": {},
   "outputs": [],
   "source": [
    "pr.job_table()"
   ]
  },
  {
   "cell_type": "code",
   "execution_count": null,
   "id": "e59d8cff-e204-4202-a204-692e4fb66997",
   "metadata": {},
   "outputs": [],
   "source": []
  }
 ],
 "metadata": {
  "kernelspec": {
   "display_name": "Python 3 (ipykernel)",
   "language": "python",
   "name": "python3"
  },
  "language_info": {
   "codemirror_mode": {
    "name": "ipython",
    "version": 3
   },
   "file_extension": ".py",
   "mimetype": "text/x-python",
   "name": "python",
   "nbconvert_exporter": "python",
   "pygments_lexer": "ipython3",
   "version": "3.12.5"
  }
 },
 "nbformat": 4,
 "nbformat_minor": 5
}
