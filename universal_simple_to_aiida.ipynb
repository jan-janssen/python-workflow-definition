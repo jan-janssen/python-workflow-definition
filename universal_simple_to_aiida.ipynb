{
 "cells": [
  {
   "cell_type": "code",
   "execution_count": 1,
   "metadata": {},
   "outputs": [],
   "source": [
    "from python_workflow_definition.aiida import load_workflow_json"
   ]
  },
  {
   "cell_type": "code",
   "execution_count": 2,
   "metadata": {},
   "outputs": [],
   "source": [
    "workgraph = load_workflow_json(filename='workflow_simple.json')"
   ]
  },
  {
   "cell_type": "code",
   "execution_count": 3,
   "metadata": {},
   "outputs": [
    {
     "data": {
      "application/vnd.jupyter.widget-view+json": {
       "model_id": "d1bb5edc191f4e3792474096cef03223",
       "version_major": 2,
       "version_minor": 1
      },
      "text/plain": [
       "NodeGraphWidget(settings={'minimap': True}, style={'width': '90%', 'height': '600px'}, value={'name': 'WorkGra…"
      ]
     },
     "execution_count": 3,
     "metadata": {},
     "output_type": "execute_result"
    }
   ],
   "source": [
    "\n",
    "# TODO: Create inputs rather than tasks out of data nodes\n",
    "workgraph"
   ]
  },
  {
   "cell_type": "code",
   "execution_count": 4,
   "metadata": {},
   "outputs": [
    {
     "name": "stderr",
     "output_type": "stream",
     "text": [
      "03/17/2025 03:50:42 PM <629366> aiida.orm.nodes.process.workflow.workchain.WorkChainNode: [REPORT] [9338|WorkGraphEngine|continue_workgraph]: Continue workgraph.\n",
      "03/17/2025 03:50:42 PM <629366> aiida.orm.nodes.process.workflow.workchain.WorkChainNode: [REPORT] [9338|WorkGraphEngine|continue_workgraph]: tasks ready to run: 2,3\n",
      "03/17/2025 03:50:42 PM <629366> aiida.orm.nodes.process.workflow.workchain.WorkChainNode: [REPORT] [9338|WorkGraphEngine|run_tasks]: Run task: 2, type: Normal\n",
      "03/17/2025 03:50:42 PM <629366> aiida.orm.nodes.process.workflow.workchain.WorkChainNode: [REPORT] [9338|WorkGraphEngine|update_normal_task_state]: Task: 2 finished.\n",
      "03/17/2025 03:50:42 PM <629366> aiida.orm.nodes.process.workflow.workchain.WorkChainNode: [REPORT] [9338|WorkGraphEngine|continue_workgraph]: Continue workgraph.\n",
      "03/17/2025 03:50:42 PM <629366> aiida.orm.nodes.process.workflow.workchain.WorkChainNode: [REPORT] [9338|WorkGraphEngine|continue_workgraph]: tasks ready to run: 3\n",
      "03/17/2025 03:50:42 PM <629366> aiida.orm.nodes.process.workflow.workchain.WorkChainNode: [REPORT] [9338|WorkGraphEngine|run_tasks]: Run task: 3, type: Normal\n",
      "03/17/2025 03:50:42 PM <629366> aiida.orm.nodes.process.workflow.workchain.WorkChainNode: [REPORT] [9338|WorkGraphEngine|update_normal_task_state]: Task: 3 finished.\n",
      "03/17/2025 03:50:42 PM <629366> aiida.orm.nodes.process.workflow.workchain.WorkChainNode: [REPORT] [9338|WorkGraphEngine|continue_workgraph]: Continue workgraph.\n",
      "03/17/2025 03:50:42 PM <629366> aiida.orm.nodes.process.workflow.workchain.WorkChainNode: [REPORT] [9338|WorkGraphEngine|continue_workgraph]: tasks ready to run: add_x_and_y\n"
     ]
    },
    {
     "name": "stdout",
     "output_type": "stream",
     "text": [
      "------------------------------------------------------------\n",
      "kwargs:  {'value': 1}\n",
      "------------------------------------------------------------\n",
      "kwargs:  {'value': 2}\n",
      "------------------------------------------------------------\n"
     ]
    },
    {
     "name": "stderr",
     "output_type": "stream",
     "text": [
      "03/17/2025 03:50:43 PM <629366> aiida.orm.nodes.process.workflow.workchain.WorkChainNode: [REPORT] [9338|WorkGraphEngine|run_tasks]: Run task: add_x_and_y, type: PYTHONJOB\n"
     ]
    },
    {
     "name": "stdout",
     "output_type": "stream",
     "text": [
      "kwargs:  {'register_pickle_by_value': True, 'x': 1, 'y': 2}\n"
     ]
    },
    {
     "name": "stderr",
     "output_type": "stream",
     "text": [
      "03/17/2025 03:50:43 PM <629366> aiida.orm.nodes.process.workflow.workchain.WorkChainNode: [REPORT] [9338|WorkGraphEngine|on_wait]: Process status: Waiting for child processes: 9347\n",
      "03/17/2025 03:50:45 PM <629366> aiida.orm.nodes.process.workflow.workchain.WorkChainNode: [REPORT] [9338|WorkGraphEngine|update_task_state]: Task: add_x_and_y finished.\n",
      "03/17/2025 03:50:46 PM <629366> aiida.orm.nodes.process.workflow.workchain.WorkChainNode: [REPORT] [9338|WorkGraphEngine|continue_workgraph]: Continue workgraph.\n",
      "03/17/2025 03:50:46 PM <629366> aiida.orm.nodes.process.workflow.workchain.WorkChainNode: [REPORT] [9338|WorkGraphEngine|continue_workgraph]: tasks ready to run: add_x_and_y_and_z\n",
      "03/17/2025 03:50:46 PM <629366> aiida.orm.nodes.process.workflow.workchain.WorkChainNode: [REPORT] [9338|WorkGraphEngine|run_tasks]: Run task: add_x_and_y_and_z, type: PYTHONJOB\n"
     ]
    },
    {
     "name": "stdout",
     "output_type": "stream",
     "text": [
      "------------------------------------------------------------\n",
      "kwargs:  {'register_pickle_by_value': True, 'x': <Int: uuid: 1a86cc29-c160-4ef1-8e18-d96f0a2b5030 (pk: 9351) value: 1>, 'y': <Int: uuid: e9ddf88b-6d3b-4c8e-8238-6dc3c80324f8 (pk: 9352) value: 2>, 'z': <Int: uuid: d95d6c8e-ad4a-462f-9919-3b86d631c6a2 (pk: 9353) value: 3>}\n"
     ]
    },
    {
     "name": "stderr",
     "output_type": "stream",
     "text": [
      "03/17/2025 03:50:46 PM <629366> aiida.orm.nodes.process.workflow.workchain.WorkChainNode: [REPORT] [9338|WorkGraphEngine|on_wait]: Process status: Waiting for child processes: 9360\n",
      "03/17/2025 03:50:48 PM <629366> aiida.orm.nodes.process.workflow.workchain.WorkChainNode: [REPORT] [9338|WorkGraphEngine|update_task_state]: Task: add_x_and_y_and_z finished.\n",
      "03/17/2025 03:50:49 PM <629366> aiida.orm.nodes.process.workflow.workchain.WorkChainNode: [REPORT] [9338|WorkGraphEngine|continue_workgraph]: Continue workgraph.\n",
      "03/17/2025 03:50:49 PM <629366> aiida.orm.nodes.process.workflow.workchain.WorkChainNode: [REPORT] [9338|WorkGraphEngine|continue_workgraph]: tasks ready to run: \n",
      "03/17/2025 03:50:49 PM <629366> aiida.orm.nodes.process.workflow.workchain.WorkChainNode: [REPORT] [9338|WorkGraphEngine|finalize]: Finalize workgraph.\n"
     ]
    },
    {
     "name": "stdout",
     "output_type": "stream",
     "text": [
      "group_outputs []\n",
      "group_outputs:  {}\n"
     ]
    },
    {
     "data": {
      "text/plain": [
       "{'execution_count': <Int: uuid: b3928e82-d1c8-4b84-9d76-d24b88fc48b9 (pk: 9365) value: 1>}"
      ]
     },
     "execution_count": 4,
     "metadata": {},
     "output_type": "execute_result"
    }
   ],
   "source": [
    "from aiida import load_profile\n",
    "load_profile()\n",
    "\n",
    "workgraph.run()"
   ]
  },
  {
   "cell_type": "code",
   "execution_count": null,
   "metadata": {},
   "outputs": [],
   "source": []
  }
 ],
 "metadata": {
  "kernelspec": {
   "display_name": "ADIS",
   "language": "python",
   "name": "python3"
  },
  "language_info": {
   "codemirror_mode": {
    "name": "ipython",
    "version": 3
   },
   "file_extension": ".py",
   "mimetype": "text/x-python",
   "name": "python",
   "nbconvert_exporter": "python",
   "pygments_lexer": "ipython3",
   "version": "3.10.12"
  }
 },
 "nbformat": 4,
 "nbformat_minor": 2
}
