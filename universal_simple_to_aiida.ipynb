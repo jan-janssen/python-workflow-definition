{
 "cells": [
  {
   "cell_type": "code",
   "execution_count": 1,
   "metadata": {},
   "outputs": [],
   "source": [
    "from python_workflow_definition.aiida import load_workflow_json"
   ]
  },
  {
   "cell_type": "code",
   "execution_count": 2,
   "metadata": {},
   "outputs": [],
   "source": [
    "workgraph = load_workflow_json(filename='workflow_simple.json')"
   ]
  },
  {
   "cell_type": "code",
   "execution_count": 3,
   "metadata": {},
   "outputs": [
    {
     "data": {
      "application/vnd.jupyter.widget-view+json": {
       "model_id": "09375dd84157413495ec5f8c07449a48",
       "version_major": 2,
       "version_minor": 1
      },
      "text/plain": [
       "NodeGraphWidget(settings={'minimap': True}, style={'width': '90%', 'height': '600px'}, value={'name': 'WorkGra…"
      ]
     },
     "execution_count": 3,
     "metadata": {},
     "output_type": "execute_result"
    }
   ],
   "source": [
    "\n",
    "# TODO: Create inputs rather than tasks out of data nodes\n",
    "workgraph"
   ]
  },
  {
   "cell_type": "code",
   "execution_count": 4,
   "metadata": {},
   "outputs": [
    {
     "name": "stdout",
     "output_type": "stream",
     "text": [
      "PROCESS: (<class 'aiida_workgraph.engine.workgraph.WorkGraphEngine'>, <class 'aiida.engine.processes.workchains.workchain.Protect'>)\n"
     ]
    },
    {
     "name": "stderr",
     "output_type": "stream",
     "text": [
      "03/14/2025 10:01:48 AM <2720405> aiida.orm.nodes.process.workflow.workchain.WorkChainNode: [REPORT] [6276|WorkGraphEngine|continue_workgraph]: Continue workgraph.\n",
      "03/14/2025 10:01:48 AM <2720405> aiida.orm.nodes.process.workflow.workchain.WorkChainNode: [REPORT] [6276|WorkGraphEngine|continue_workgraph]: tasks ready to run: 2,3\n",
      "03/14/2025 10:01:48 AM <2720405> aiida.orm.nodes.process.workflow.workchain.WorkChainNode: [REPORT] [6276|WorkGraphEngine|run_tasks]: Run task: 2, type: Normal\n",
      "03/14/2025 10:01:48 AM <2720405> aiida.orm.nodes.process.workflow.workchain.WorkChainNode: [REPORT] [6276|WorkGraphEngine|update_normal_task_state]: Task: 2 finished.\n",
      "03/14/2025 10:01:48 AM <2720405> aiida.orm.nodes.process.workflow.workchain.WorkChainNode: [REPORT] [6276|WorkGraphEngine|continue_workgraph]: Continue workgraph.\n",
      "03/14/2025 10:01:48 AM <2720405> aiida.orm.nodes.process.workflow.workchain.WorkChainNode: [REPORT] [6276|WorkGraphEngine|continue_workgraph]: tasks ready to run: 3\n",
      "03/14/2025 10:01:48 AM <2720405> aiida.orm.nodes.process.workflow.workchain.WorkChainNode: [REPORT] [6276|WorkGraphEngine|run_tasks]: Run task: 3, type: Normal\n",
      "03/14/2025 10:01:48 AM <2720405> aiida.orm.nodes.process.workflow.workchain.WorkChainNode: [REPORT] [6276|WorkGraphEngine|update_normal_task_state]: Task: 3 finished.\n",
      "03/14/2025 10:01:48 AM <2720405> aiida.orm.nodes.process.workflow.workchain.WorkChainNode: [REPORT] [6276|WorkGraphEngine|continue_workgraph]: Continue workgraph.\n",
      "03/14/2025 10:01:48 AM <2720405> aiida.orm.nodes.process.workflow.workchain.WorkChainNode: [REPORT] [6276|WorkGraphEngine|continue_workgraph]: tasks ready to run: add_x_and_y\n",
      "03/14/2025 10:01:48 AM <2720405> aiida.orm.nodes.process.workflow.workchain.WorkChainNode: [REPORT] [6276|WorkGraphEngine|run_tasks]: Run task: add_x_and_y, type: PYTHONJOB\n"
     ]
    },
    {
     "name": "stdout",
     "output_type": "stream",
     "text": [
      "------------------------------------------------------------\n",
      "kwargs:  {'value': '1'}\n",
      "------------------------------------------------------------\n",
      "kwargs:  {'value': '2'}\n",
      "------------------------------------------------------------\n",
      "kwargs:  {'register_pickle_by_value': True, 'x': '1', 'y': '2'}\n",
      "PROCESS: (<class 'aiida_pythonjob.calculations.pythonjob.PythonJob'>, <class 'plumpy.processes.ProcessStateMachineMeta'>)\n"
     ]
    },
    {
     "name": "stderr",
     "output_type": "stream",
     "text": [
      "03/14/2025 10:01:49 AM <2720405> aiida.orm.nodes.process.workflow.workchain.WorkChainNode: [REPORT] [6276|WorkGraphEngine|on_wait]: Process status: Waiting for child processes: 6285\n",
      "03/14/2025 10:01:52 AM <2720405> aiida.orm.nodes.process.workflow.workchain.WorkChainNode: [REPORT] [6276|WorkGraphEngine|update_task_state]: Task: add_x_and_y finished.\n",
      "03/14/2025 10:01:53 AM <2720405> aiida.orm.nodes.process.workflow.workchain.WorkChainNode: [REPORT] [6276|WorkGraphEngine|continue_workgraph]: Continue workgraph.\n",
      "03/14/2025 10:01:53 AM <2720405> aiida.orm.nodes.process.workflow.workchain.WorkChainNode: [REPORT] [6276|WorkGraphEngine|continue_workgraph]: tasks ready to run: add_x_and_y_and_z\n",
      "03/14/2025 10:01:53 AM <2720405> aiida.orm.nodes.process.workflow.workchain.WorkChainNode: [REPORT] [6276|WorkGraphEngine|run_tasks]: Run task: add_x_and_y_and_z, type: PYTHONJOB\n"
     ]
    },
    {
     "name": "stdout",
     "output_type": "stream",
     "text": [
      "------------------------------------------------------------\n",
      "kwargs:  {'register_pickle_by_value': True, 'x': <Str: uuid: f2fe3b5e-a209-4efa-9ba3-601723a3dc85 (pk: 6289) value: 1>, 'y': <Str: uuid: edcbc572-3d24-40b1-8cb1-6306d3b10f0d (pk: 6290) value: 2>, 'z': <Str: uuid: 66bbc8aa-9285-48d2-a88d-b5a939df46b7 (pk: 6291) value: 12>}\n",
      "PROCESS: (<class 'aiida_pythonjob.calculations.pythonjob.PythonJob'>, <class 'plumpy.processes.ProcessStateMachineMeta'>)\n"
     ]
    },
    {
     "name": "stderr",
     "output_type": "stream",
     "text": [
      "03/14/2025 10:01:53 AM <2720405> aiida.orm.nodes.process.workflow.workchain.WorkChainNode: [REPORT] [6276|WorkGraphEngine|on_wait]: Process status: Waiting for child processes: 6298\n",
      "03/14/2025 10:01:56 AM <2720405> aiida.orm.nodes.process.workflow.workchain.WorkChainNode: [REPORT] [6276|WorkGraphEngine|update_task_state]: Task: add_x_and_y_and_z finished.\n",
      "03/14/2025 10:01:57 AM <2720405> aiida.orm.nodes.process.workflow.workchain.WorkChainNode: [REPORT] [6276|WorkGraphEngine|continue_workgraph]: Continue workgraph.\n",
      "03/14/2025 10:01:57 AM <2720405> aiida.orm.nodes.process.workflow.workchain.WorkChainNode: [REPORT] [6276|WorkGraphEngine|continue_workgraph]: tasks ready to run: \n",
      "03/14/2025 10:01:57 AM <2720405> aiida.orm.nodes.process.workflow.workchain.WorkChainNode: [REPORT] [6276|WorkGraphEngine|finalize]: Finalize workgraph.\n"
     ]
    },
    {
     "name": "stdout",
     "output_type": "stream",
     "text": [
      "group_outputs []\n",
      "group_outputs:  {}\n"
     ]
    },
    {
     "data": {
      "text/plain": [
       "{'execution_count': <Int: uuid: 525e250b-6175-45f8-8657-d66d60c68860 (pk: 6303) value: 1>}"
      ]
     },
     "execution_count": 4,
     "metadata": {},
     "output_type": "execute_result"
    }
   ],
   "source": [
    "from aiida import load_profile\n",
    "load_profile()\n",
    "\n",
    "workgraph.run()"
   ]
  }
 ],
 "metadata": {
  "kernelspec": {
   "display_name": "ADIS",
   "language": "python",
   "name": "python3"
  },
  "language_info": {
   "codemirror_mode": {
    "name": "ipython",
    "version": 3
   },
   "file_extension": ".py",
   "mimetype": "text/x-python",
   "name": "python",
   "nbconvert_exporter": "python",
   "pygments_lexer": "ipython3",
   "version": "3.10.12"
  }
 },
 "nbformat": 4,
 "nbformat_minor": 2
}
